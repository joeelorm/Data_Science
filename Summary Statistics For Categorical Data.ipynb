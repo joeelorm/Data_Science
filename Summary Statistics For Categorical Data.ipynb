{
 "cells": [
  {
   "cell_type": "markdown",
   "metadata": {},
   "source": [
    "#### Introduction to Categorical Data\n",
    "When exploring data, we’re often interested in summarizing a large amount of information with a single number or visualization.\n",
    "\n",
    "Depending on what we’re trying to understand from our data, we may need to rely on different statistics. For quantitative data, we can summarize central tendency using mean, median or mode and we can summarize spread using standard deviation, variance, or percentiles. However, when working with categorical data, we may not be able to use all the same summary statistics.\n",
    "\n",
    "For example, here are the first five rows and some selected columns of a dataset from the 1994 U.S. census:"
   ]
  },
  {
   "cell_type": "code",
   "execution_count": 1,
   "metadata": {},
   "outputs": [],
   "source": [
    "import pandas as pd\n",
    "import numpy as np"
   ]
  },
  {
   "cell_type": "code",
   "execution_count": 2,
   "metadata": {},
   "outputs": [
    {
     "name": "stdout",
     "output_type": "stream",
     "text": [
      "   age     education marital_status   race\n",
      "0   90       HS-grad        Widowed  White\n",
      "1   82       HS-grad        Widowed  White\n",
      "2   66  Some-college        Widowed  Black\n",
      "3   54       7th-8th       Divorced  White\n",
      "4   41  Some-college      Separated  White\n"
     ]
    }
   ],
   "source": [
    "#Manually Creating the dataframe used in the example\n",
    "ages = [90, 82, 66, 54, 41]\n",
    "educations = ['HS-grad', 'HS-grad', 'Some-college', '7th-8th', 'Some-college']\n",
    "marital_statuses = ['Widowed', 'Widowed', 'Widowed', 'Divorced', 'Separated']\n",
    "races = ['White', 'White', 'Black', 'White', 'White']\n",
    "\n",
    "\n",
    "data = {'age': ages, \n",
    "        'education': educations, \n",
    "        'marital_status': marital_statuses, \n",
    "        'race': races }\n",
    "\n",
    "data_df = pd.DataFrame(data)\n",
    "\n",
    "print(data_df)"
   ]
  },
  {
   "cell_type": "markdown",
   "metadata": {},
   "source": [
    "Age is a quantitative variable, so we can calculate the average (or mean) age. However, for a variable like marital.status, we can’t calculate something like \"average marital status\" because the possible values of marital status are categories rather than numbers (e.g. \"Married\", \"Widowed\", \"Seperated\", etc.). "
   ]
  },
  {
   "cell_type": "code",
   "execution_count": 3,
   "metadata": {},
   "outputs": [
    {
     "name": "stdout",
     "output_type": "stream",
     "text": [
      "   tree_id  trunk_diam status health   spc_common       neighborhood\n",
      "0   199250           8  Alive   Good   crab apple     Lincoln Square\n",
      "1   136891          17  Alive   Good  honeylocust  East Harlem North\n",
      "2   200218           3  Alive   Good       ginkgo          Chinatown\n"
     ]
    }
   ],
   "source": [
    "nyc_trees = pd.read_csv('../Datasets/nyc_tree_census.csv')\n",
    "print(nyc_trees.head(3))"
   ]
  },
  {
   "cell_type": "code",
   "execution_count": 4,
   "metadata": {},
   "outputs": [
    {
     "name": "stdout",
     "output_type": "stream",
     "text": [
      "<class 'pandas.core.frame.DataFrame'>\n",
      "RangeIndex: 50000 entries, 0 to 49999\n",
      "Data columns (total 6 columns):\n",
      " #   Column        Non-Null Count  Dtype \n",
      "---  ------        --------------  ----- \n",
      " 0   tree_id       50000 non-null  int64 \n",
      " 1   trunk_diam    50000 non-null  int64 \n",
      " 2   status        50000 non-null  object\n",
      " 3   health        47695 non-null  object\n",
      " 4   spc_common    47695 non-null  object\n",
      " 5   neighborhood  50000 non-null  object\n",
      "dtypes: int64(2), object(4)\n",
      "memory usage: 2.3+ MB\n"
     ]
    }
   ],
   "source": [
    "nyc_trees.info()"
   ]
  },
  {
   "cell_type": "code",
   "execution_count": null,
   "metadata": {},
   "outputs": [],
   "source": []
  },
  {
   "cell_type": "markdown",
   "metadata": {},
   "source": [
    "#### Nominal Categories\n",
    "Depending on the data, some of the summary statistics we use for quantitative data can still be meaningful for categorical data. Let’s first consider a nominal categorical variable. A nominal categorical variable is a categorical variable with no intrinsic ordering to the categories. Examples from the census dataset introduced in the previous exercise include `marital.status` and `race`.\n",
    "\n",
    "Because these variables’ categories have no ordering or numeric equivalents, it’s impossible to calculate a mean or median. It would also be impossible to describe spread with statistics like variance, standard deviation, a range, IQR, or percentiles, because these statistics all rely on being able to order the data in some way. However, it is still possible to calculate the mode, the most common value in the dataset.\n",
    "\n",
    "We can do this in Python using the `.value_counts()` function. The `.value_counts()` function calculates the count of each value in a column and returns the result as a series. By default, `.value_counts()` orders categories in descending order by frequency, thus the top row in the output will be the mode.\n",
    "\n"
   ]
  },
  {
   "cell_type": "code",
   "execution_count": 5,
   "metadata": {},
   "outputs": [
    {
     "name": "stdout",
     "output_type": "stream",
     "text": [
      "Annadale-Huguenot-Prince's Bay-Eltingville    950\n",
      "Great Kills                                   761\n",
      "East New York                                 702\n",
      "Bayside-Bayside Hills                         665\n",
      "Rossville-Woodrow                             633\n",
      "                                             ... \n",
      "72                                              1\n",
      "MN50                                            1\n",
      "40                                              1\n",
      "69                                              1\n",
      "65                                              1\n",
      "Name: neighborhood, Length: 442, dtype: int64 \n",
      "\n",
      "Greenest neighborhood is Annadale-Huguenot-Prince's Bay-Eltingville\n"
     ]
    }
   ],
   "source": [
    "# Get tree counts by neighborhood\n",
    "tree_counts = nyc_trees['neighborhood'].value_counts()\n",
    "print(tree_counts, '\\n')\n",
    "\n",
    "# Get neighborhoods with most trees\n",
    "greenest_neighborhood = tree_counts.index[0]\n",
    "print('Greenest neighborhood is {}'.format(greenest_neighborhood))"
   ]
  },
  {
   "cell_type": "code",
   "execution_count": 6,
   "metadata": {},
   "outputs": [
    {
     "name": "stdout",
     "output_type": "stream",
     "text": [
      "['Good' 'Poor' 'Fair' nan]\n"
     ]
    }
   ],
   "source": [
    "#Finding the unique health statuses of the trees\n",
    "tree_health_statuses = nyc_trees['health'].unique()\n",
    "print(tree_health_statuses)"
   ]
  },
  {
   "cell_type": "code",
   "execution_count": 7,
   "metadata": {},
   "outputs": [],
   "source": [
    "#Converting the health statuses to categories and ordering like poor < fair < good\n",
    "health_categories = ['Poor', 'Fair', 'Good']\n",
    "nyc_trees['health'] = pd.Categorical(nyc_trees['health'], health_categories, ordered = True)"
   ]
  },
  {
   "cell_type": "code",
   "execution_count": 8,
   "metadata": {},
   "outputs": [
    {
     "name": "stdout",
     "output_type": "stream",
     "text": [
      "Good\n"
     ]
    }
   ],
   "source": [
    "#Finding the median health status\n",
    "median_index = np.median(nyc_trees['health'].cat.codes)\n",
    "median_health_status = health_categories[int(median_index)]\n",
    "print(median_health_status)"
   ]
  },
  {
   "cell_type": "code",
   "execution_count": 9,
   "metadata": {},
   "outputs": [],
   "source": [
    "nyc_trees2 = pd.read_csv('../Datasets/nyc_tree_census2.csv')"
   ]
  },
  {
   "cell_type": "markdown",
   "metadata": {},
   "source": [
    "This dataset contains two variables related to trunk size. The first variable, trunk_diam contains the diameter of the trunk (in inches) for each tree. The variable tree_diam_category, on the other hand, categorizes each tree based on the size of the trunk. The categories are: 'Small (0-3in)', 'Medium (3-10in)', 'Medium-Large (10-18in)', 'Large (18-24in)','Very large (>24in)'. You’ll notice that these categories are not evenly spaced with respect to diameter."
   ]
  },
  {
   "cell_type": "code",
   "execution_count": 10,
   "metadata": {},
   "outputs": [],
   "source": [
    "nyc_trees2.tree_diam_category = pd.Categorical(nyc_trees2.tree_diam_category, ['Small (0-3in)', \n",
    "                                                                             'Medium (3-10in)', \n",
    "                                                                             'Medium-Large (10-18in)', \n",
    "                                                                             'Large (18-24in)',\n",
    "                                                                             'Very large (>24in)'], ordered=True)\n"
   ]
  },
  {
   "cell_type": "code",
   "execution_count": 11,
   "metadata": {},
   "outputs": [
    {
     "name": "stdout",
     "output_type": "stream",
     "text": [
      "11.27048\n",
      "1.97282\n"
     ]
    }
   ],
   "source": [
    "# Get Mean Diam of diameter variable, `trunk_diam`\n",
    "mean_diam = np.mean(nyc_trees2['trunk_diam'])\n",
    "print(mean_diam)\n",
    "\n",
    "# Get Mean Category of `tree_diam_category`\n",
    "mean_diam_cat = np.mean(nyc_trees2['tree_diam_category'].cat.codes)\n",
    "print(mean_diam_cat)"
   ]
  },
  {
   "cell_type": "code",
   "execution_count": 12,
   "metadata": {},
   "outputs": [],
   "source": [
    "size_labels_ordered = ['Small (0-3in)', 'Medium (3-10in)', \n",
    "                       'Medium-Large (10-18in)', 'Large (18-24in)','Very large (>24in)']\n",
    "\n",
    "nyc_trees2.tree_diam_category = pd.Categorical(nyc_trees2.tree_diam_category, size_labels_ordered, ordered=True)\n"
   ]
  },
  {
   "cell_type": "code",
   "execution_count": 13,
   "metadata": {},
   "outputs": [
    {
     "name": "stdout",
     "output_type": "stream",
     "text": [
      "Medium (3-10in)\n"
     ]
    }
   ],
   "source": [
    "# Calculate 25th Percentile Category\n",
    "p25_ind = np.percentile(nyc_trees2['tree_diam_category'].cat.codes, 25)\n",
    "p25_tree_diam_category = size_labels_ordered[int(p25_ind)]\n",
    "print(p25_tree_diam_category)"
   ]
  },
  {
   "cell_type": "code",
   "execution_count": 14,
   "metadata": {},
   "outputs": [
    {
     "name": "stdout",
     "output_type": "stream",
     "text": [
      "Large (18-24in)\n"
     ]
    }
   ],
   "source": [
    "# Calculate 75th Percentile Category\n",
    "\n",
    "p75_ind = np.percentile(nyc_trees2['tree_diam_category'].cat.codes, 75)\n",
    "p75_tree_diam_category = size_labels_ordered[int(p75_ind)]\n",
    "print(p75_tree_diam_category)"
   ]
  },
  {
   "cell_type": "code",
   "execution_count": 16,
   "metadata": {},
   "outputs": [
    {
     "name": "stdout",
     "output_type": "stream",
     "text": [
      "Alive    0.9539\n",
      "Stump    0.0267\n",
      "Dead     0.0194\n",
      "Name: status, dtype: float64\n"
     ]
    }
   ],
   "source": [
    "#returning proportions of tree statuses\n",
    "tree_status_proportions = nyc_trees2['status'].value_counts(normalize = True)\n",
    "print(tree_status_proportions)"
   ]
  },
  {
   "cell_type": "code",
   "execution_count": null,
   "metadata": {},
   "outputs": [],
   "source": []
  }
 ],
 "metadata": {
  "kernelspec": {
   "display_name": "Python 3",
   "language": "python",
   "name": "python3"
  },
  "language_info": {
   "codemirror_mode": {
    "name": "ipython",
    "version": 3
   },
   "file_extension": ".py",
   "mimetype": "text/x-python",
   "name": "python",
   "nbconvert_exporter": "python",
   "pygments_lexer": "ipython3",
   "version": "3.8.5"
  }
 },
 "nbformat": 4,
 "nbformat_minor": 4
}
