{
 "cells": [
  {
   "cell_type": "markdown",
   "metadata": {},
   "source": [
    "### Chocolate Scraping With Beautiful Soup"
   ]
  },
  {
   "cell_type": "code",
   "execution_count": 1,
   "metadata": {},
   "outputs": [
    {
     "data": {
      "image/png": "[encoded data removed]",
      "text/plain": [
       "<Figure size 432x288 with 1 Axes>"
      ]
     },
     "metadata": {
      "needs_background": "light"
     },
     "output_type": "display_data"
    }
   ],
   "source": [
    "#Importing libraries\n",
    "from bs4 import BeautifulSoup\n",
    "import requests\n",
    "import pandas as pd\n",
    "import matplotlib.pyplot as plt\n",
    "import numpy as np\n",
    "\n",
    "webpage = requests.get('https://content.codecademy.com/courses/beautifulsoup/cacao/index.html')\n",
    "\n",
    "soup = BeautifulSoup(webpage.text, 'html.parser')\n",
    "\n",
    "ratings = []\n",
    "\n",
    "for rating in soup.find_all(attrs = {'class' : 'Rating'}):\n",
    "  if rating.text != 'Rating':\n",
    "    ratings.append(float(rating.text))\n",
    "#print(ratings)\n",
    "\n",
    "plt.hist(ratings)\n",
    "plt.show()"
   ]
  },
  {
   "cell_type": "code",
   "execution_count": 2,
   "metadata": {},
   "outputs": [
    {
     "name": "stdout",
     "output_type": "stream",
     "text": [
      "A. Morin\n"
     ]
    }
   ],
   "source": [
    "company_names = []\n",
    "for name in soup.find_all(attrs = {'class':'Company'}):\n",
    "  company_names.append(name.text)\n",
    "\n",
    "del company_names[0]\n",
    "\n",
    "print(company_names[10])"
   ]
  },
  {
   "cell_type": "code",
   "execution_count": 3,
   "metadata": {},
   "outputs": [
    {
     "name": "stdout",
     "output_type": "stream",
     "text": [
      "  Company Name  Rating\n",
      "0     A. Morin    3.75\n",
      "1     A. Morin    2.75\n",
      "2     A. Morin    3.00\n",
      "3     A. Morin    3.50\n",
      "4     A. Morin    3.50\n"
     ]
    }
   ],
   "source": [
    "#Making DataFrame with Scraped Data\n",
    "data = {'Company Name' : company_names, 'Rating' : ratings}\n",
    "chocolate_df = pd.DataFrame.from_dict(data)\n",
    "\n",
    "print(chocolate_df.head())"
   ]
  },
  {
   "cell_type": "code",
   "execution_count": 4,
   "metadata": {},
   "outputs": [
    {
     "name": "stdout",
     "output_type": "stream",
     "text": [
      "Company Name\n",
      "Tobago Estate (Pralus)                  4.000000\n",
      "Heirloom Cacao Preservation (Zokoko)    3.875000\n",
      "Ocelot                                  3.875000\n",
      "Amedei                                  3.846154\n",
      "Matale                                  3.812500\n",
      "Patric                                  3.791667\n",
      "Idilio (Felchlin)                       3.775000\n",
      "Acalli                                  3.750000\n",
      "Chocola'te                              3.750000\n",
      "Christopher Morel (Felchlin)            3.750000\n",
      "Name: Rating, dtype: float64\n"
     ]
    }
   ],
   "source": [
    "#Grouping By Company Name and finding the mean rating\n",
    "mean_vals = chocolate_df.groupby('Company Name')['Rating'].mean()\n",
    "ten_best = mean_vals.nlargest(10)\n",
    "print(ten_best)"
   ]
  },
  {
   "cell_type": "code",
   "execution_count": 5,
   "metadata": {},
   "outputs": [],
   "source": [
    "\n",
    "cocoa_percent = []\n",
    "for percent in soup.find_all(attrs = {'class':'CocoaPercent'}):\n",
    "  cocoa_percent.append(percent.text.strip('%'))\n",
    "\n",
    "del cocoa_percent[0]\n",
    "cocoa_perc_list = []\n",
    "for percent in cocoa_percent:\n",
    "  percent = float(percent)\n",
    "  cocoa_perc_list.append(percent)\n",
    "#print(cocoa_perc_list)\n",
    "\n",
    "chocolate_df['CocoaPercentage'] = cocoa_perc_list"
   ]
  },
  {
   "cell_type": "code",
   "execution_count": 6,
   "metadata": {},
   "outputs": [
    {
     "data": {
      "text/html": [
       "<div>\n",
       "<style scoped>\n",
       "    .dataframe tbody tr th:only-of-type {\n",
       "        vertical-align: middle;\n",
       "    }\n",
       "\n",
       "    .dataframe tbody tr th {\n",
       "        vertical-align: top;\n",
       "    }\n",
       "\n",
       "    .dataframe thead th {\n",
       "        text-align: right;\n",
       "    }\n",
       "</style>\n",
       "<table border=\"1\" class=\"dataframe\">\n",
       "  <thead>\n",
       "    <tr style=\"text-align: right;\">\n",
       "      <th></th>\n",
       "      <th>Company Name</th>\n",
       "      <th>Rating</th>\n",
       "      <th>CocoaPercentage</th>\n",
       "    </tr>\n",
       "  </thead>\n",
       "  <tbody>\n",
       "    <tr>\n",
       "      <th>0</th>\n",
       "      <td>A. Morin</td>\n",
       "      <td>3.75</td>\n",
       "      <td>63.0</td>\n",
       "    </tr>\n",
       "    <tr>\n",
       "      <th>1</th>\n",
       "      <td>A. Morin</td>\n",
       "      <td>2.75</td>\n",
       "      <td>70.0</td>\n",
       "    </tr>\n",
       "    <tr>\n",
       "      <th>2</th>\n",
       "      <td>A. Morin</td>\n",
       "      <td>3.00</td>\n",
       "      <td>70.0</td>\n",
       "    </tr>\n",
       "    <tr>\n",
       "      <th>3</th>\n",
       "      <td>A. Morin</td>\n",
       "      <td>3.50</td>\n",
       "      <td>70.0</td>\n",
       "    </tr>\n",
       "    <tr>\n",
       "      <th>4</th>\n",
       "      <td>A. Morin</td>\n",
       "      <td>3.50</td>\n",
       "      <td>70.0</td>\n",
       "    </tr>\n",
       "    <tr>\n",
       "      <th>...</th>\n",
       "      <td>...</td>\n",
       "      <td>...</td>\n",
       "      <td>...</td>\n",
       "    </tr>\n",
       "    <tr>\n",
       "      <th>1790</th>\n",
       "      <td>Zotter</td>\n",
       "      <td>3.75</td>\n",
       "      <td>70.0</td>\n",
       "    </tr>\n",
       "    <tr>\n",
       "      <th>1791</th>\n",
       "      <td>Zotter</td>\n",
       "      <td>3.00</td>\n",
       "      <td>65.0</td>\n",
       "    </tr>\n",
       "    <tr>\n",
       "      <th>1792</th>\n",
       "      <td>Zotter</td>\n",
       "      <td>3.50</td>\n",
       "      <td>65.0</td>\n",
       "    </tr>\n",
       "    <tr>\n",
       "      <th>1793</th>\n",
       "      <td>Zotter</td>\n",
       "      <td>3.25</td>\n",
       "      <td>62.0</td>\n",
       "    </tr>\n",
       "    <tr>\n",
       "      <th>1794</th>\n",
       "      <td>Zotter</td>\n",
       "      <td>3.00</td>\n",
       "      <td>65.0</td>\n",
       "    </tr>\n",
       "  </tbody>\n",
       "</table>\n",
       "<p>1795 rows × 3 columns</p>\n",
       "</div>"
      ],
      "text/plain": [
       "     Company Name  Rating  CocoaPercentage\n",
       "0        A. Morin    3.75             63.0\n",
       "1        A. Morin    2.75             70.0\n",
       "2        A. Morin    3.00             70.0\n",
       "3        A. Morin    3.50             70.0\n",
       "4        A. Morin    3.50             70.0\n",
       "...           ...     ...              ...\n",
       "1790       Zotter    3.75             70.0\n",
       "1791       Zotter    3.00             65.0\n",
       "1792       Zotter    3.50             65.0\n",
       "1793       Zotter    3.25             62.0\n",
       "1794       Zotter    3.00             65.0\n",
       "\n",
       "[1795 rows x 3 columns]"
      ]
     },
     "execution_count": 6,
     "metadata": {},
     "output_type": "execute_result"
    }
   ],
   "source": [
    "chocolate_df"
   ]
  },
  {
   "cell_type": "code",
   "execution_count": 7,
   "metadata": {},
   "outputs": [
    {
     "data": {
      "image/png": "[encoded data removed]",
      "text/plain": [
       "<Figure size 432x288 with 1 Axes>"
      ]
     },
     "metadata": {
      "needs_background": "light"
     },
     "output_type": "display_data"
    }
   ],
   "source": [
    "plt.scatter(chocolate_df.CocoaPercentage, chocolate_df.Rating)\n",
    "z = np.polyfit(chocolate_df.CocoaPercentage, chocolate_df.Rating, 1)\n",
    "line_function = np.poly1d(z)\n",
    "plt.plot(chocolate_df.CocoaPercentage, line_function(chocolate_df.CocoaPercentage), \"r--\")\n",
    "plt.show()"
   ]
  },
  {
   "cell_type": "code",
   "execution_count": null,
   "metadata": {},
   "outputs": [],
   "source": []
  },
  {
   "cell_type": "code",
   "execution_count": null,
   "metadata": {},
   "outputs": [],
   "source": []
  }
 ],
 "metadata": {
  "kernelspec": {
   "display_name": "Python 3",
   "language": "python",
   "name": "python3"
  },
  "language_info": {
   "codemirror_mode": {
    "name": "ipython",
    "version": 3
   },
   "file_extension": ".py",
   "mimetype": "text/x-python",
   "name": "python",
   "nbconvert_exporter": "python",
   "pygments_lexer": "ipython3",
   "version": "3.8.5"
  }
 },
 "nbformat": 4,
 "nbformat_minor": 4
}
