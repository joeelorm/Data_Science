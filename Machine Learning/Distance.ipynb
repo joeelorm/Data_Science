{
 "cells": [
  {
   "cell_type": "code",
   "execution_count": 5,
   "metadata": {},
   "outputs": [
    {
     "name": "stdout",
     "output_type": "stream",
     "text": [
      "1\n",
      "2\n"
     ]
    }
   ],
   "source": [
    "def euclidean_distance(pt1, pt2):\n",
    "    '''Function to calculate euclidean distance'''\n",
    "    distance = 0\n",
    "    for i in range(len(pt1)):\n",
    "        distance += (pt1[i] - pt2[i]) ** 2\n",
    "    return distance ** 0.5\n",
    "\n",
    "\n",
    "def manhattan_distance(pt1, pt2):\n",
    "    '''Function to calculate manhattan distance'''\n",
    "    distance = 0\n",
    "    for i in range(len(pt1)):\n",
    "        distance += abs(pt1[i] - pt2[i])\n",
    "    return distance\n",
    "\n",
    "\n",
    "def hamming_distance(pt1, pt2):\n",
    "    '''Function to calculate hamming distance'''\n",
    "    distance = 0\n",
    "    for i in range(len(pt1)):\n",
    "        if pt1[i] != pt2[i]:\n",
    "             distance += 1\n",
    "    return distance\n",
    "\n",
    "print(hamming_distance([1, 2], [1, 100]))\n",
    "print(hamming_distance([5, 4, 9], [1, 7, 9]))"
   ]
  },
  {
   "cell_type": "code",
   "execution_count": null,
   "metadata": {},
   "outputs": [],
   "source": []
  }
 ],
 "metadata": {
  "kernelspec": {
   "display_name": "Python 3",
   "language": "python",
   "name": "python3"
  },
  "language_info": {
   "codemirror_mode": {
    "name": "ipython",
    "version": 3
   },
   "file_extension": ".py",
   "mimetype": "text/x-python",
   "name": "python",
   "nbconvert_exporter": "python",
   "pygments_lexer": "ipython3",
   "version": "3.8.5"
  }
 },
 "nbformat": 4,
 "nbformat_minor": 4
}
