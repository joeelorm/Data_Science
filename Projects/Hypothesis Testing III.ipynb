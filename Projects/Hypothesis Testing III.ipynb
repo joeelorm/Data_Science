{
 "cells": [
  {
   "cell_type": "markdown",
   "metadata": {},
   "source": [
    "### Familiar: A Study In Data Analysis\n",
    "Welcome to Familiar, a startup in the new market of blood transfusion! You’ve joined the team because you appreciate the flexible hours and extremely intelligent team, but the overeager doorman welcoming you into the office is a nice way to start your workday (well, work-evening).\n",
    "\n",
    "Familiar has fallen into some tough times lately, so you’re hoping to help them make some insights about their product and help move the needle (so to speak)."
   ]
  },
  {
   "cell_type": "markdown",
   "metadata": {},
   "source": [
    "The Familiar team has provided us with some data on lifespans for subscribers to two different packages, the Vein Pack and the Artery Pack! This data has been loaded for you as a dataframe named lifespans."
   ]
  },
  {
   "cell_type": "code",
   "execution_count": 1,
   "metadata": {},
   "outputs": [],
   "source": [
    "import numpy as np\n",
    "import pandas as pd"
   ]
  },
  {
   "cell_type": "code",
   "execution_count": 2,
   "metadata": {},
   "outputs": [],
   "source": [
    "# Load datasets\n",
    "lifespans = pd.read_csv('/Users/elorm/Documents/Repos/Datasets/familiar_lifespan.csv')\n",
    "iron = pd.read_csv('/Users/elorm/Documents/Repos/Datasets/familiar_iron.csv')"
   ]
  },
  {
   "cell_type": "code",
   "execution_count": 5,
   "metadata": {},
   "outputs": [
    {
     "name": "stdout",
     "output_type": "stream",
     "text": [
      "     pack   lifespan\n",
      "0    vein  76.255090\n",
      "1  artery  76.404504\n",
      "2  artery  75.952442\n",
      "3  artery  76.923082\n",
      "4  artery  73.771212\n",
      "\n",
      "     pack    iron\n",
      "0    vein     low\n",
      "1  artery  normal\n",
      "2  artery  normal\n",
      "3  artery  normal\n",
      "4  artery    high\n"
     ]
    }
   ],
   "source": [
    "#Inspecting the first few rows of the dataframes\n",
    "print(lifespans.head())\n",
    "print('')\n",
    "print(iron.head())"
   ]
  },
  {
   "cell_type": "markdown",
   "metadata": {},
   "source": [
    "The first thing we want to know is whether Familiar’s most basic package, the Vein Pack, actually has a significant impact on the subscribers. It would be a marketing goldmine if we can show that subscribers to the Vein Pack live longer than other people."
   ]
  },
  {
   "cell_type": "code",
   "execution_count": 6,
   "metadata": {},
   "outputs": [
    {
     "name": "stdout",
     "output_type": "stream",
     "text": [
      "0     76.255090\n",
      "7     74.502021\n",
      "8     76.937674\n",
      "9     74.838006\n",
      "11    77.484756\n",
      "12    79.969158\n",
      "13    77.047370\n",
      "15    72.874752\n",
      "18    77.492341\n",
      "19    77.583983\n",
      "21    75.993359\n",
      "23    74.798150\n",
      "24    73.343702\n",
      "26    78.326720\n",
      "27    76.341550\n",
      "30    77.488889\n",
      "33    72.142566\n",
      "34    76.532101\n",
      "37    75.993032\n",
      "38    77.435045\n",
      "Name: lifespan, dtype: float64\n"
     ]
    }
   ],
   "source": [
    "# Extract the life spans of subscribers to the 'vein' pack and save the data into a variable called vein_pack_lifespans.\n",
    "vein_pack_lifespans = lifespans[lifespans['pack'] == 'vein']['lifespan']\n",
    "print(vein_pack_lifespans)"
   ]
  },
  {
   "cell_type": "code",
   "execution_count": 7,
   "metadata": {},
   "outputs": [
    {
     "name": "stdout",
     "output_type": "stream",
     "text": [
      "76.16901335636044\n"
     ]
    }
   ],
   "source": [
    "#Calculating the average lifespan of the vein pack subscribers\n",
    "print(np.mean(vein_pack_lifespans))"
   ]
  },
  {
   "cell_type": "markdown",
   "metadata": {},
   "source": [
    "We’d like to find out if the average lifespan of a Vein Pack subscriber is significantly different from the average life expectancy of 73 years.\n",
    "\n",
    "Import the statistical test from scipy.stats that we would use to test the following null and alternative hypotheses:\n",
    "\n",
    "- Null: The average lifespan of a Vein Pack subscriber is 73 years.\n",
    "- Alternative: The average lifespan of a Vein Pack subscriber is NOT 73 years."
   ]
  },
  {
   "cell_type": "markdown",
   "metadata": {},
   "source": [
    "We have a single sample of lifespans and we want to compare the mean of this sample to a hypothetical population value of 73 years. So a one sample t-test is appropriate here."
   ]
  },
  {
   "cell_type": "code",
   "execution_count": 8,
   "metadata": {},
   "outputs": [
    {
     "name": "stdout",
     "output_type": "stream",
     "text": [
      "5.972157921433082e-07\n"
     ]
    }
   ],
   "source": [
    "# Run one-sample t-test\n",
    "from scipy.stats import ttest_1samp\n",
    "tstat, pval = ttest_1samp(vein_pack_lifespans, 73)\n",
    "print(pval)"
   ]
  },
  {
   "cell_type": "markdown",
   "metadata": {},
   "source": [
    "The pval is much smaller than 0.05, so we conclude that the average lifespan of Vein Pack subscribers IS significantly different from 73 years."
   ]
  },
  {
   "cell_type": "markdown",
   "metadata": {},
   "source": [
    "#### Upselling Familiar: Pumping Life Into The Company\n",
    "In order to differentiate Familiar’s different product lines, we’d like to compare this lifespan data between our different packages. Our next step up from the Vein Pack is the Artery Pack."
   ]
  },
  {
   "cell_type": "code",
   "execution_count": 9,
   "metadata": {},
   "outputs": [
    {
     "name": "stdout",
     "output_type": "stream",
     "text": [
      "1     76.404504\n",
      "2     75.952442\n",
      "3     76.923082\n",
      "4     73.771212\n",
      "5     74.117420\n",
      "6     74.963119\n",
      "10    73.319543\n",
      "14    75.857401\n",
      "16    76.335370\n",
      "17    73.079249\n",
      "20    76.152654\n",
      "22    77.023545\n",
      "25    74.639757\n",
      "28    78.385477\n",
      "29    68.314898\n",
      "31    77.386507\n",
      "32    73.044766\n",
      "35    74.544983\n",
      "36    73.355103\n",
      "39    73.902213\n",
      "Name: lifespan, dtype: float64\n"
     ]
    }
   ],
   "source": [
    "# Extract the life spans of subscribers to the 'artery' pack and save the data into a variable called artery_pack_lifespans\n",
    "artery_pack_lifespans = lifespans[lifespans['pack'] == 'artery']['lifespan']\n",
    "print(artery_pack_lifespans)"
   ]
  },
  {
   "cell_type": "code",
   "execution_count": 10,
   "metadata": {},
   "outputs": [
    {
     "name": "stdout",
     "output_type": "stream",
     "text": [
      "74.8736622351704\n"
     ]
    }
   ],
   "source": [
    "print(np.mean(artery_pack_lifespans))"
   ]
  },
  {
   "cell_type": "code",
   "execution_count": null,
   "metadata": {},
   "outputs": [],
   "source": []
  }
 ],
 "metadata": {
  "kernelspec": {
   "display_name": "Python 3",
   "language": "python",
   "name": "python3"
  },
  "language_info": {
   "codemirror_mode": {
    "name": "ipython",
    "version": 3
   },
   "file_extension": ".py",
   "mimetype": "text/x-python",
   "name": "python",
   "nbconvert_exporter": "python",
   "pygments_lexer": "ipython3",
   "version": "3.8.5"
  }
 },
 "nbformat": 4,
 "nbformat_minor": 4
}
