{
 "cells": [
  {
   "cell_type": "markdown",
   "metadata": {},
   "source": [
    "#### Startup Transformation\n",
    "In this project, you’ll work as a data analyst for a tech startup that is looking to improve its operations after a global pandemic has taken the world by storm.\n",
    "\n",
    "You will apply data transformation techniques to make better sense of the company’s data and help answer important questions such as:\n",
    "\n",
    "Is the company in good financial health?\n",
    "Does the company need to let go of any employees?\n",
    "Should the company allow employees to work from home permanently?"
   ]
  },
  {
   "cell_type": "code",
   "execution_count": 1,
   "metadata": {},
   "outputs": [],
   "source": [
    "from sklearn import preprocessing\n",
    "import matplotlib.pyplot as plt\n",
    "import pandas as pd\n",
    "import seaborn as sns\n",
    "import numpy as np"
   ]
  },
  {
   "cell_type": "code",
   "execution_count": 2,
   "metadata": {},
   "outputs": [
    {
     "name": "stdout",
     "output_type": "stream",
     "text": [
      "   Month  Revenue  Expenses\n",
      "0      1  1420000    510000\n",
      "1      2  1200000    532000\n",
      "2      3  1050000    551000\n"
     ]
    }
   ],
   "source": [
    "# load in financial data\n",
    "financial_data = pd.read_csv('/Users/elorm/Documents/Repos/Datasets/financial_data.csv')\n",
    "\n",
    "# code goes here\n",
    "print(financial_data.head(3))"
   ]
  },
  {
   "cell_type": "code",
   "execution_count": 3,
   "metadata": {},
   "outputs": [
    {
     "name": "stdout",
     "output_type": "stream",
     "text": [
      "<class 'pandas.core.frame.DataFrame'>\n",
      "RangeIndex: 6 entries, 0 to 5\n",
      "Data columns (total 3 columns):\n",
      " #   Column    Non-Null Count  Dtype\n",
      "---  ------    --------------  -----\n",
      " 0   Month     6 non-null      int64\n",
      " 1   Revenue   6 non-null      int64\n",
      " 2   Expenses  6 non-null      int64\n",
      "dtypes: int64(3)\n",
      "memory usage: 272.0 bytes\n"
     ]
    }
   ],
   "source": [
    "financial_data.info()"
   ]
  },
  {
   "cell_type": "code",
   "execution_count": 4,
   "metadata": {},
   "outputs": [],
   "source": [
    "# Storing each column in three separate variables\n",
    "month = financial_data['Month']\n",
    "revenue = financial_data['Revenue']\n",
    "expenses = financial_data['Expenses']"
   ]
  },
  {
   "cell_type": "code",
   "execution_count": 5,
   "metadata": {},
   "outputs": [
    {
     "data": {
      "image/png": "[encoded data removed]",
      "text/plain": [
       "<Figure size 432x288 with 1 Axes>"
      ]
     },
     "metadata": {
      "needs_background": "light"
     },
     "output_type": "display_data"
    }
   ],
   "source": [
    "#plot of revenue over the past six months\n",
    "plt.plot(month, revenue)\n",
    "plt.xlabel('Month')\n",
    "plt.ylabel('Amount ($)')\n",
    "plt.title('Revenue')\n",
    "plt.show()"
   ]
  },
  {
   "cell_type": "code",
   "execution_count": null,
   "metadata": {},
   "outputs": [],
   "source": []
  }
 ],
 "metadata": {
  "kernelspec": {
   "display_name": "Python 3",
   "language": "python",
   "name": "python3"
  },
  "language_info": {
   "codemirror_mode": {
    "name": "ipython",
    "version": 3
   },
   "file_extension": ".py",
   "mimetype": "text/x-python",
   "name": "python",
   "nbconvert_exporter": "python",
   "pygments_lexer": "ipython3",
   "version": "3.8.5"
  }
 },
 "nbformat": 4,
 "nbformat_minor": 4
}
