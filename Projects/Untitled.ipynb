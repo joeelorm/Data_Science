{
 "cells": [
  {
   "cell_type": "code",
   "execution_count": 1,
   "metadata": {},
   "outputs": [],
   "source": [
    "import numpy as np\n",
    "import pandas as pd\n",
    "from scipy.stats import pearsonr, chi2_contingency\n",
    "import matplotlib.pyplot as plt\n",
    "import seaborn as sns"
   ]
  },
  {
   "cell_type": "code",
   "execution_count": 2,
   "metadata": {},
   "outputs": [],
   "source": [
    "nba = pd.read_csv('/Users/elorm/Documents/Repos/Datasets/nba_games.csv')"
   ]
  },
  {
   "cell_type": "code",
   "execution_count": 3,
   "metadata": {},
   "outputs": [],
   "source": [
    "# Subset Data to 2010 Season, 2014 Season\n",
    "nba_2010 = nba[nba.year_id == 2010]\n",
    "nba_2014 = nba[nba.year_id == 2014]"
   ]
  },
  {
   "cell_type": "code",
   "execution_count": 4,
   "metadata": {},
   "outputs": [
    {
     "name": "stdout",
     "output_type": "stream",
     "text": [
      "            game_id  year_id  fran_id      opp_fran game_location  \\\n",
      "21717  200910270CLE     2010  Celtics     Cavaliers             A   \n",
      "21718  200910280BOS     2010  Celtics       Hornets             H   \n",
      "21719  200910280MIA     2010   Knicks          Heat             A   \n",
      "21720  200910280MIN     2010     Nets  Timberwolves             A   \n",
      "21721  200910280OKC     2010  Thunder         Kings             H   \n",
      "\n",
      "       is_playoffs  pts  opp_pts game_result  forecast  point_diff  \n",
      "21717            0   95       89           W  0.277472           6  \n",
      "21718            0   92       59           W  0.814619          33  \n",
      "21719            0   93      115           L  0.258755         -22  \n",
      "21720            0   93       95           L  0.475155          -2  \n",
      "21721            0  102       89           W  0.716764          13  \n",
      "\n",
      "            game_id  year_id  fran_id   opp_fran game_location  is_playoffs  \\\n",
      "23468  201310300CLE     2014     Nets  Cavaliers             A            0   \n",
      "23469  201310300NYK     2014   Knicks      Bucks             H            0   \n",
      "23470  201310300SAS     2014    Spurs  Grizzlies             H            0   \n",
      "23471  201310300TOR     2014  Celtics    Raptors             A            0   \n",
      "23472  201310300UTA     2014  Thunder       Jazz             A            0   \n",
      "\n",
      "       pts  opp_pts game_result  forecast  point_diff  \n",
      "23468   94       98           L  0.611981          -4  \n",
      "23469   90       83           W  0.793150           7  \n",
      "23470  101       94           W  0.692980           7  \n",
      "23471   87       93           L  0.361233          -6  \n",
      "23472  101       98           W  0.526056           3  \n"
     ]
    }
   ],
   "source": [
    "print(nba_2010.head())\n",
    "print('')\n",
    "print(nba_2014.head())"
   ]
  },
  {
   "cell_type": "markdown",
   "metadata": {},
   "source": [
    "Suppose you want to compare the knicks to the nets with respect to points earned per game. Using the pts column from the nba_2010 DataFrame, create two series named knicks_pts (fran_id = \"Knicks\") and nets_pts(fran_id = \"Nets\") that represent the points each team has scored in their games."
   ]
  },
  {
   "cell_type": "code",
   "execution_count": 5,
   "metadata": {},
   "outputs": [],
   "source": [
    "#Points earned by Knicks in 2010\n",
    "knicks_pnts = nba_2010[nba_2010['fran_id'] == 'Knicks']['pts']\n",
    "#Points earned by Nets 2010\n",
    "nets_pnts = nba_2010[nba_2010['fran_id'] == 'Nets']['pts']"
   ]
  },
  {
   "cell_type": "code",
   "execution_count": 6,
   "metadata": {},
   "outputs": [
    {
     "name": "stdout",
     "output_type": "stream",
     "text": [
      "Average point obtained by knicks: 102.10975609756098\n",
      "Average points obtained by nets: 92.3780487804878\n",
      "Difference in means: -9.731707317073173\n"
     ]
    }
   ],
   "source": [
    "#Calculating mean difference\n",
    "knicks_pnts_mean = np.mean(knicks_pnts)\n",
    "print('Average point obtained by knicks:', knicks_pnts_mean)\n",
    "nets_pnts_mean = np.mean(nets_pnts)\n",
    "print('Average points obtained by nets:', nets_pnts_mean)\n",
    "\n",
    "diff_means_2010 = nets_pnts_mean - knicks_pnts_mean\n",
    "print('Difference in means:', diff_means_2010)"
   ]
  },
  {
   "cell_type": "markdown",
   "metadata": {},
   "source": [
    "The difference in means suggests the two variables may be associated."
   ]
  },
  {
   "cell_type": "code",
   "execution_count": 7,
   "metadata": {},
   "outputs": [
    {
     "data": {
      "image/png": "[encoded data removed]",
      "text/plain": [
       "<Figure size 432x288 with 1 Axes>"
      ]
     },
     "metadata": {
      "needs_background": "light"
     },
     "output_type": "display_data"
    }
   ],
   "source": [
    "plt.hist(knicks_pnts, color = 'red', alpha = 0.8, density = True, label = 'Knicks Points', edgecolor = 'black')\n",
    "plt.hist(nets_pnts, color = 'blue', alpha = 0.8, density = True, label = 'Nets Points', edgecolor = 'black')\n",
    "plt.legend()\n",
    "plt.show()"
   ]
  },
  {
   "cell_type": "code",
   "execution_count": null,
   "metadata": {},
   "outputs": [],
   "source": []
  },
  {
   "cell_type": "code",
   "execution_count": 8,
   "metadata": {},
   "outputs": [],
   "source": [
    "#Points earned by Knicks in 2014\n",
    "knicks_pnts_2014 = nba_2014[nba_2014['fran_id'] == 'Knicks']['pts']\n",
    "#Points earned by Nets 2014\n",
    "nets_pnts_2014 = nba_2014[nba_2014['fran_id'] == 'Nets']['pts']"
   ]
  },
  {
   "cell_type": "code",
   "execution_count": 9,
   "metadata": {},
   "outputs": [
    {
     "name": "stdout",
     "output_type": "stream",
     "text": [
      "Average point obtained by knicks: 98.58536585365853\n",
      "Average points obtained by nets: 98.13829787234043\n",
      "Difference in means: -0.44706798131809933\n"
     ]
    }
   ],
   "source": [
    "#Calculating mean difference\n",
    "knicks_pnts_mean = np.mean(knicks_pnts_2014)\n",
    "print('Average point obtained by knicks:', knicks_pnts_mean)\n",
    "nets_pnts_mean = np.mean(nets_pnts_2014)\n",
    "print('Average points obtained by nets:', nets_pnts_mean)\n",
    "\n",
    "diff_means_2014 = nets_pnts_mean - knicks_pnts_mean\n",
    "print('Difference in means:', diff_means_2014)"
   ]
  },
  {
   "cell_type": "code",
   "execution_count": null,
   "metadata": {},
   "outputs": [],
   "source": []
  }
 ],
 "metadata": {
  "kernelspec": {
   "display_name": "Python 3",
   "language": "python",
   "name": "python3"
  },
  "language_info": {
   "codemirror_mode": {
    "name": "ipython",
    "version": 3
   },
   "file_extension": ".py",
   "mimetype": "text/x-python",
   "name": "python",
   "nbconvert_exporter": "python",
   "pygments_lexer": "ipython3",
   "version": "3.8.5"
  }
 },
 "nbformat": 4,
 "nbformat_minor": 4
}
