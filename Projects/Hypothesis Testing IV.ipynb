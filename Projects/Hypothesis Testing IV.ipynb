{
 "cells": [
  {
   "cell_type": "markdown",
   "metadata": {},
   "source": [
    "### FetchMaker\n",
    "Congratulations! You’ve just started working at the hottest new tech startup, FetchMaker. FetchMaker’s mission is to match up prospective dog owners with their perfect pet. FetchMaker has been collecting data on their adoptable dogs, and it’s your job to analyze some of that data."
   ]
  },
  {
   "cell_type": "markdown",
   "metadata": {},
   "source": [
    "FetchMaker has provided us with data for a sample of dogs from their app, including the following attributes:\n",
    "\n",
    "- weight, an integer representing how heavy a dog is in pounds\n",
    "- tail_length, a float representing tail length in inches\n",
    "- age, in years\n",
    "- color, a String such as \"brown\" or \"grey\"\n",
    "- is_rescue, a boolean 0 or 1\n",
    "\n",
    "The data has been saved pandas DataFrame named dogs."
   ]
  },
  {
   "cell_type": "code",
   "execution_count": 1,
   "metadata": {},
   "outputs": [],
   "source": [
    "import numpy as np\n",
    "import pandas as pd"
   ]
  },
  {
   "cell_type": "code",
   "execution_count": 2,
   "metadata": {},
   "outputs": [
    {
     "data": {
      "text/html": [
       "<div>\n",
       "<style scoped>\n",
       "    .dataframe tbody tr th:only-of-type {\n",
       "        vertical-align: middle;\n",
       "    }\n",
       "\n",
       "    .dataframe tbody tr th {\n",
       "        vertical-align: top;\n",
       "    }\n",
       "\n",
       "    .dataframe thead th {\n",
       "        text-align: right;\n",
       "    }\n",
       "</style>\n",
       "<table border=\"1\" class=\"dataframe\">\n",
       "  <thead>\n",
       "    <tr style=\"text-align: right;\">\n",
       "      <th></th>\n",
       "      <th>is_rescue</th>\n",
       "      <th>weight</th>\n",
       "      <th>tail_length</th>\n",
       "      <th>age</th>\n",
       "      <th>color</th>\n",
       "      <th>likes_children</th>\n",
       "      <th>is_hypoallergenic</th>\n",
       "      <th>name</th>\n",
       "      <th>breed</th>\n",
       "    </tr>\n",
       "  </thead>\n",
       "  <tbody>\n",
       "    <tr>\n",
       "      <th>0</th>\n",
       "      <td>0</td>\n",
       "      <td>6</td>\n",
       "      <td>2.25</td>\n",
       "      <td>2</td>\n",
       "      <td>black</td>\n",
       "      <td>1</td>\n",
       "      <td>0</td>\n",
       "      <td>Huey</td>\n",
       "      <td>chihuahua</td>\n",
       "    </tr>\n",
       "    <tr>\n",
       "      <th>1</th>\n",
       "      <td>0</td>\n",
       "      <td>4</td>\n",
       "      <td>5.36</td>\n",
       "      <td>4</td>\n",
       "      <td>black</td>\n",
       "      <td>0</td>\n",
       "      <td>0</td>\n",
       "      <td>Cherish</td>\n",
       "      <td>chihuahua</td>\n",
       "    </tr>\n",
       "    <tr>\n",
       "      <th>2</th>\n",
       "      <td>0</td>\n",
       "      <td>7</td>\n",
       "      <td>3.63</td>\n",
       "      <td>3</td>\n",
       "      <td>black</td>\n",
       "      <td>0</td>\n",
       "      <td>1</td>\n",
       "      <td>Becka</td>\n",
       "      <td>chihuahua</td>\n",
       "    </tr>\n",
       "    <tr>\n",
       "      <th>3</th>\n",
       "      <td>0</td>\n",
       "      <td>5</td>\n",
       "      <td>0.19</td>\n",
       "      <td>2</td>\n",
       "      <td>black</td>\n",
       "      <td>0</td>\n",
       "      <td>0</td>\n",
       "      <td>Addie</td>\n",
       "      <td>chihuahua</td>\n",
       "    </tr>\n",
       "    <tr>\n",
       "      <th>4</th>\n",
       "      <td>0</td>\n",
       "      <td>5</td>\n",
       "      <td>0.37</td>\n",
       "      <td>1</td>\n",
       "      <td>black</td>\n",
       "      <td>1</td>\n",
       "      <td>1</td>\n",
       "      <td>Beverlee</td>\n",
       "      <td>chihuahua</td>\n",
       "    </tr>\n",
       "  </tbody>\n",
       "</table>\n",
       "</div>"
      ],
      "text/plain": [
       "   is_rescue  weight  tail_length  age  color  likes_children  \\\n",
       "0          0       6         2.25    2  black               1   \n",
       "1          0       4         5.36    4  black               0   \n",
       "2          0       7         3.63    3  black               0   \n",
       "3          0       5         0.19    2  black               0   \n",
       "4          0       5         0.37    1  black               1   \n",
       "\n",
       "   is_hypoallergenic      name      breed  \n",
       "0                  0      Huey  chihuahua  \n",
       "1                  0   Cherish  chihuahua  \n",
       "2                  1     Becka  chihuahua  \n",
       "3                  0     Addie  chihuahua  \n",
       "4                  1  Beverlee  chihuahua  "
      ]
     },
     "execution_count": 2,
     "metadata": {},
     "output_type": "execute_result"
    }
   ],
   "source": [
    "dogs = pd.read_csv('/Users/elorm/Documents/Repos/Datasets/dog_data.csv')\n",
    "dogs.head()"
   ]
  },
  {
   "cell_type": "markdown",
   "metadata": {},
   "source": [
    "FetchMaker estimates (based on historical data for all dogs) that 8% of dogs in their system are rescues.\n",
    "\n",
    "They would like to know if whippets are significantly more or less likely than other dogs to be a rescue."
   ]
  },
  {
   "cell_type": "code",
   "execution_count": 3,
   "metadata": {},
   "outputs": [
    {
     "data": {
      "text/plain": [
       "8"
      ]
     },
     "execution_count": 3,
     "metadata": {},
     "output_type": "execute_result"
    }
   ],
   "source": [
    "dogs.breed.nunique()"
   ]
  },
  {
   "cell_type": "code",
   "execution_count": 4,
   "metadata": {},
   "outputs": [
    {
     "data": {
      "text/plain": [
       "array(['chihuahua', 'greyhound', 'pitbull', 'poodle', 'rottweiler',\n",
       "       'shihtzu', 'terrier', 'whippet'], dtype=object)"
      ]
     },
     "execution_count": 4,
     "metadata": {},
     "output_type": "execute_result"
    }
   ],
   "source": [
    "dogs.breed.unique()"
   ]
  },
  {
   "cell_type": "code",
   "execution_count": 5,
   "metadata": {},
   "outputs": [],
   "source": [
    "# Subset to just whippets, terriers, and pitbulls\n",
    "dogs_wtp = dogs[dogs.breed.isin(['whippet', 'terrier', 'pitbull'])]\n",
    "\n",
    "# Subset to just poodles and shihtzus\n",
    "dogs_ps = dogs[dogs.breed.isin(['poodle', 'shihtzu'])]"
   ]
  },
  {
   "cell_type": "code",
   "execution_count": 6,
   "metadata": {},
   "outputs": [],
   "source": [
    "whippet_rescue = dogs.is_rescue[dogs.breed == 'whippet']"
   ]
  },
  {
   "cell_type": "markdown",
   "metadata": {},
   "source": [
    "How many whippets are rescues (remember that the value of is_rescue is 1 for rescues and 0 otherwise)? "
   ]
  },
  {
   "cell_type": "code",
   "execution_count": 7,
   "metadata": {},
   "outputs": [
    {
     "name": "stdout",
     "output_type": "stream",
     "text": [
      "6\n",
      "6\n"
     ]
    }
   ],
   "source": [
    "num_whippet_rescues = np.sum(whippet_rescue == 1)\n",
    "print(num_whippet_rescues)\n",
    "\n",
    "#OR\n",
    "\n",
    "num_whippet_rescues = np.count_nonzero(whippet_rescue)\n",
    "print(num_whippet_rescues)"
   ]
  },
  {
   "cell_type": "code",
   "execution_count": 8,
   "metadata": {},
   "outputs": [
    {
     "name": "stdout",
     "output_type": "stream",
     "text": [
      "100\n"
     ]
    }
   ],
   "source": [
    "#How many whippets are in this sample of data in total?\n",
    "num_whippets = len(whippet_rescue)\n",
    "print(num_whippets)"
   ]
  },
  {
   "cell_type": "markdown",
   "metadata": {},
   "source": [
    "Use a hypothesis test to test the following null and alternative hypotheses:\n",
    "\n",
    "- Null: 8% of whippets are rescues\n",
    "- Alternative: more or less than 8% of whippets are rescues\n",
    "\n",
    "Save the p-value from this test as pval and print it out. Using a significance threshold of 0.05, Is the proportion of whippets who are rescues significantly different from 8%?"
   ]
  },
  {
   "cell_type": "markdown",
   "metadata": {},
   "source": [
    "For this test, we are focused on a single binary categorical variable, which indicates whether or not each whippet is a rescue. We want to compare the number of rescues in our sample to a hypothetical population-level proportion of 0.08. Therefore, we should use a binomial test.\n",
    "\n",
    "First, we need to import the binom_test() function:"
   ]
  },
  {
   "cell_type": "code",
   "execution_count": 9,
   "metadata": {},
   "outputs": [],
   "source": [
    "from scipy.stats import binom_test"
   ]
  },
  {
   "cell_type": "code",
   "execution_count": 10,
   "metadata": {},
   "outputs": [
    {
     "name": "stdout",
     "output_type": "stream",
     "text": [
      "0.5811780106238098\n"
     ]
    }
   ],
   "source": [
    "# Run a binomial test \n",
    "from scipy.stats import binom_test\n",
    "pval = binom_test(num_whippet_rescues, num_whippets, .08)\n",
    "print(pval)"
   ]
  },
  {
   "cell_type": "markdown",
   "metadata": {},
   "source": [
    "Three of FetchMaker’s most popular mid-sized dog breeds are 'whippet's, 'terrier's, and 'pitbull's. Is there a significant difference in the average weights of these three dog breeds?"
   ]
  },
  {
   "cell_type": "code",
   "execution_count": 11,
   "metadata": {},
   "outputs": [],
   "source": [
    "#Weights of the whippets\n",
    "wt_whippets = dogs[dogs['breed'] == 'whippet']['weight']\n",
    "\n",
    "#Weights of the terriers\n",
    "wt_terriers = dogs[dogs['breed'] == 'terrier']['weight']\n",
    "\n",
    "#Weights of the pitbull\n",
    "wt_pitbulls = dogs[dogs['breed'] == 'pitbull']['weight']"
   ]
  },
  {
   "cell_type": "markdown",
   "metadata": {},
   "source": [
    "Run a single hypothesis test to address the following null and alternative hypotheses:\n",
    "\n",
    "- Null: whippets, terriers, and pitbulls all weigh the same amount on average\n",
    "- Alternative: whippets, terriers, and pitbulls do not all weigh the same amount on average (at least one pair of breeds has differing average weights)"
   ]
  },
  {
   "cell_type": "markdown",
   "metadata": {},
   "source": [
    "This test addresses an association between two variables: a non-binary categorical variable (breed, with three possible options) and a quantitative variable (weight). It is not a good idea to run three separate two-sample t-tests here, because running multiple t-tests increases our chances of a type I error, or a false positive. In order to run a single hypothesis test with three categories, we should use an ANOVA.\n",
    "\n",
    "To do this, we first need to import the f_oneway() function:"
   ]
  },
  {
   "cell_type": "code",
   "execution_count": 12,
   "metadata": {},
   "outputs": [
    {
     "name": "stdout",
     "output_type": "stream",
     "text": [
      "3.276415588274815e-17\n"
     ]
    }
   ],
   "source": [
    "# Run an ANOVA \n",
    "from scipy.stats import f_oneway\n",
    "Fstat, pval = f_oneway(wt_whippets, wt_terriers, wt_pitbulls)\n",
    "print(pval)"
   ]
  },
  {
   "cell_type": "code",
   "execution_count": 14,
   "metadata": {},
   "outputs": [
    {
     "data": {
      "text/plain": [
       "700    12\n",
       "701    46\n",
       "702    13\n",
       "703    52\n",
       "704    53\n",
       "       ..\n",
       "795    24\n",
       "796    42\n",
       "797    58\n",
       "798    62\n",
       "799    27\n",
       "Name: weight, Length: 100, dtype: int64"
      ]
     },
     "execution_count": 14,
     "metadata": {},
     "output_type": "execute_result"
    }
   ],
   "source": []
  },
  {
   "cell_type": "code",
   "execution_count": null,
   "metadata": {},
   "outputs": [],
   "source": []
  }
 ],
 "metadata": {
  "kernelspec": {
   "display_name": "Python 3",
   "language": "python",
   "name": "python3"
  },
  "language_info": {
   "codemirror_mode": {
    "name": "ipython",
    "version": 3
   },
   "file_extension": ".py",
   "mimetype": "text/x-python",
   "name": "python",
   "nbconvert_exporter": "python",
   "pygments_lexer": "ipython3",
   "version": "3.8.5"
  }
 },
 "nbformat": 4,
 "nbformat_minor": 4
}
