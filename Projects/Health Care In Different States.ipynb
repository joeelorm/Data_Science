{
 "cells": [
  {
   "cell_type": "markdown",
   "metadata": {},
   "source": [
    "In this project, we will use boxplots to investigate the way hospitals in different states across the United States charge their patients for medical procedures."
   ]
  },
  {
   "cell_type": "code",
   "execution_count": 1,
   "metadata": {},
   "outputs": [],
   "source": [
    "import pandas as pd\n",
    "from matplotlib import pyplot as plt"
   ]
  },
  {
   "cell_type": "code",
   "execution_count": 8,
   "metadata": {},
   "outputs": [
    {
     "name": "stdout",
     "output_type": "stream",
     "text": [
      "                             DRG Definition  Provider Id  \\\n",
      "0  039 - EXTRACRANIAL PROCEDURES W/O CC/MCC        10001   \n",
      "1  039 - EXTRACRANIAL PROCEDURES W/O CC/MCC        10005   \n",
      "2  039 - EXTRACRANIAL PROCEDURES W/O CC/MCC        10006   \n",
      "\n",
      "                      Provider Name     Provider Street Address Provider City  \\\n",
      "0  SOUTHEAST ALABAMA MEDICAL CENTER      1108 ROSS CLARK CIRCLE        DOTHAN   \n",
      "1     MARSHALL MEDICAL CENTER SOUTH  2505 U S HIGHWAY 431 NORTH          BOAZ   \n",
      "2    ELIZA COFFEE MEMORIAL HOSPITAL          205 MARENGO STREET      FLORENCE   \n",
      "\n",
      "  Provider State  Provider Zip Code Hospital Referral Region Description  \\\n",
      "0             AL              36301                          AL - Dothan   \n",
      "1             AL              35957                      AL - Birmingham   \n",
      "2             AL              35631                      AL - Birmingham   \n",
      "\n",
      "    Total Discharges    Average Covered Charges    Average Total Payments   \\\n",
      "0                  91                   32963.07                   5777.24   \n",
      "1                  14                   15131.85                   5787.57   \n",
      "2                  24                   37560.37                   5434.95   \n",
      "\n",
      "   Average Medicare Payments  \n",
      "0                    4763.73  \n",
      "1                    4976.71  \n",
      "2                    4453.79  \n"
     ]
    }
   ],
   "source": [
    "healthcare = pd.read_csv('/Users/elorm/Documents/Repos/Datasets/healthcare.csv')\n",
    "print(healthcare.head(3))"
   ]
  },
  {
   "cell_type": "markdown",
   "metadata": {},
   "source": []
  },
  {
   "cell_type": "markdown",
   "metadata": {},
   "source": [
    "We’re going to focus on only the ways in which hospitals charge patients for chest pain. But you could do this for any of the diagnoses in our dataset. "
   ]
  },
  {
   "cell_type": "code",
   "execution_count": 9,
   "metadata": {},
   "outputs": [
    {
     "name": "stdout",
     "output_type": "stream",
     "text": [
      "['039 - EXTRACRANIAL PROCEDURES W/O CC/MCC'\n",
      " '057 - DEGENERATIVE NERVOUS SYSTEM DISORDERS W/O MCC'\n",
      " '069 - TRANSIENT ISCHEMIA'\n",
      " '064 - INTRACRANIAL HEMORRHAGE OR CEREBRAL INFARCTION W MCC'\n",
      " '065 - INTRACRANIAL HEMORRHAGE OR CEREBRAL INFARCTION W CC'\n",
      " '066 - INTRACRANIAL HEMORRHAGE OR CEREBRAL INFARCTION W/O CC/MCC'\n",
      " '074 - CRANIAL & PERIPHERAL NERVE DISORDERS W/O MCC'\n",
      " '101 - SEIZURES W/O MCC' '149 - DYSEQUILIBRIUM'\n",
      " '176 - PULMONARY EMBOLISM W/O MCC'\n",
      " '177 - RESPIRATORY INFECTIONS & INFLAMMATIONS W MCC'\n",
      " '189 - PULMONARY EDEMA & RESPIRATORY FAILURE'\n",
      " '178 - RESPIRATORY INFECTIONS & INFLAMMATIONS W CC'\n",
      " '190 - CHRONIC OBSTRUCTIVE PULMONARY DISEASE W MCC'\n",
      " '191 - CHRONIC OBSTRUCTIVE PULMONARY DISEASE W CC'\n",
      " '193 - SIMPLE PNEUMONIA & PLEURISY W MCC'\n",
      " '194 - SIMPLE PNEUMONIA & PLEURISY W CC'\n",
      " '192 - CHRONIC OBSTRUCTIVE PULMONARY DISEASE W/O CC/MCC'\n",
      " '195 - SIMPLE PNEUMONIA & PLEURISY W/O CC/MCC'\n",
      " '202 - BRONCHITIS & ASTHMA W CC/MCC'\n",
      " '203 - BRONCHITIS & ASTHMA W/O CC/MCC'\n",
      " '207 - RESPIRATORY SYSTEM DIAGNOSIS W VENTILATOR SUPPORT 96+ HOURS'\n",
      " '238 - MAJOR CARDIOVASC PROCEDURES W/O MCC'\n",
      " '252 - OTHER VASCULAR PROCEDURES W MCC'\n",
      " '253 - OTHER VASCULAR PROCEDURES W CC'\n",
      " '208 - RESPIRATORY SYSTEM DIAGNOSIS W VENTILATOR SUPPORT <96 HOURS'\n",
      " '254 - OTHER VASCULAR PROCEDURES W/O CC/MCC'\n",
      " '291 - HEART FAILURE & SHOCK W MCC'\n",
      " '243 - PERMANENT CARDIAC PACEMAKER IMPLANT W CC'\n",
      " '244 - PERMANENT CARDIAC PACEMAKER IMPLANT W/O CC/MCC'\n",
      " '246 - PERC CARDIOVASC PROC W DRUG-ELUTING STENT W MCC OR 4+ VESSELS/STENTS'\n",
      " '247 - PERC CARDIOVASC PROC W DRUG-ELUTING STENT W/O MCC'\n",
      " '249 - PERC CARDIOVASC PROC W NON-DRUG-ELUTING STENT W/O MCC'\n",
      " '251 - PERC CARDIOVASC PROC W/O CORONARY ARTERY STENT W/O MCC'\n",
      " '280 - ACUTE MYOCARDIAL INFARCTION, DISCHARGED ALIVE W MCC'\n",
      " '292 - HEART FAILURE & SHOCK W CC'\n",
      " '281 - ACUTE MYOCARDIAL INFARCTION, DISCHARGED ALIVE W CC'\n",
      " '282 - ACUTE MYOCARDIAL INFARCTION, DISCHARGED ALIVE W/O CC/MCC'\n",
      " '286 - CIRCULATORY DISORDERS EXCEPT AMI, W CARD CATH W MCC'\n",
      " '287 - CIRCULATORY DISORDERS EXCEPT AMI, W CARD CATH W/O MCC'\n",
      " '293 - HEART FAILURE & SHOCK W/O CC/MCC'\n",
      " '300 - PERIPHERAL VASCULAR DISORDERS W CC'\n",
      " '301 - PERIPHERAL VASCULAR DISORDERS W/O CC/MCC'\n",
      " '303 - ATHEROSCLEROSIS W/O MCC' '305 - HYPERTENSION W/O MCC'\n",
      " '308 - CARDIAC ARRHYTHMIA & CONDUCTION DISORDERS W MCC'\n",
      " '312 - SYNCOPE & COLLAPSE'\n",
      " '309 - CARDIAC ARRHYTHMIA & CONDUCTION DISORDERS W CC'\n",
      " '310 - CARDIAC ARRHYTHMIA & CONDUCTION DISORDERS W/O CC/MCC'\n",
      " '313 - CHEST PAIN' '314 - OTHER CIRCULATORY SYSTEM DIAGNOSES W MCC'\n",
      " '315 - OTHER CIRCULATORY SYSTEM DIAGNOSES W CC'\n",
      " '330 - MAJOR SMALL & LARGE BOWEL PROCEDURES W CC'\n",
      " '377 - G.I. HEMORRHAGE W MCC'\n",
      " '329 - MAJOR SMALL & LARGE BOWEL PROCEDURES W MCC'\n",
      " '372 - MAJOR GASTROINTESTINAL DISORDERS & PERITONEAL INFECTIONS W CC'\n",
      " '378 - G.I. HEMORRHAGE W CC' '379 - G.I. HEMORRHAGE W/O CC/MCC'\n",
      " '389 - G.I. OBSTRUCTION W CC' '390 - G.I. OBSTRUCTION W/O CC/MCC'\n",
      " '391 - ESOPHAGITIS, GASTROENT & MISC DIGEST DISORDERS W MCC'\n",
      " '394 - OTHER DIGESTIVE SYSTEM DIAGNOSES W CC'\n",
      " '439 - DISORDERS OF PANCREAS EXCEPT MALIGNANCY W CC'\n",
      " '392 - ESOPHAGITIS, GASTROENT & MISC DIGEST DISORDERS W/O MCC'\n",
      " '460 - SPINAL FUSION EXCEPT CERVICAL W/O MCC'\n",
      " '473 - CERVICAL SPINAL FUSION W/O CC/MCC'\n",
      " '418 - LAPAROSCOPIC CHOLECYSTECTOMY W/O C.D.E. W CC'\n",
      " '419 - LAPAROSCOPIC CHOLECYSTECTOMY W/O C.D.E. W/O CC/MCC'\n",
      " '469 - MAJOR JOINT REPLACEMENT OR REATTACHMENT OF LOWER EXTREMITY W MCC'\n",
      " '470 - MAJOR JOINT REPLACEMENT OR REATTACHMENT OF LOWER EXTREMITY W/O MCC'\n",
      " '480 - HIP & FEMUR PROCEDURES EXCEPT MAJOR JOINT W MCC'\n",
      " '481 - HIP & FEMUR PROCEDURES EXCEPT MAJOR JOINT W CC'\n",
      " '536 - FRACTURES OF HIP & PELVIS W/O MCC'\n",
      " '482 - HIP & FEMUR PROCEDURES EXCEPT MAJOR JOINT W/O CC/MCC'\n",
      " '552 - MEDICAL BACK PROBLEMS W/O MCC'\n",
      " '491 - BACK & NECK PROC EXC SPINAL FUSION W/O CC/MCC'\n",
      " '563 - FX, SPRN, STRN & DISL EXCEPT FEMUR, HIP, PELVIS & THIGH W/O MCC'\n",
      " '602 - CELLULITIS W MCC' '603 - CELLULITIS W/O MCC' '638 - DIABETES W CC'\n",
      " '640 - MISC DISORDERS OF NUTRITION,METABOLISM,FLUIDS/ELECTROLYTES W MCC'\n",
      " '682 - RENAL FAILURE W MCC'\n",
      " '641 - MISC DISORDERS OF NUTRITION,METABOLISM,FLUIDS/ELECTROLYTES W/O MCC'\n",
      " '683 - RENAL FAILURE W CC' '684 - RENAL FAILURE W/O CC/MCC'\n",
      " '689 - KIDNEY & URINARY TRACT INFECTIONS W MCC'\n",
      " '690 - KIDNEY & URINARY TRACT INFECTIONS W/O MCC'\n",
      " '811 - RED BLOOD CELL DISORDERS W MCC'\n",
      " '698 - OTHER KIDNEY & URINARY TRACT DIAGNOSES W MCC'\n",
      " '699 - OTHER KIDNEY & URINARY TRACT DIAGNOSES W CC'\n",
      " '812 - RED BLOOD CELL DISORDERS W/O MCC'\n",
      " '853 - INFECTIOUS & PARASITIC DISEASES W O.R. PROCEDURE W MCC'\n",
      " '885 - PSYCHOSES' '870 - SEPTICEMIA OR SEVERE SEPSIS W MV 96+ HOURS'\n",
      " '871 - SEPTICEMIA OR SEVERE SEPSIS W/O MV 96+ HOURS W MCC'\n",
      " '872 - SEPTICEMIA OR SEVERE SEPSIS W/O MV 96+ HOURS W/O MCC'\n",
      " '897 - ALCOHOL/DRUG ABUSE OR DEPENDENCE W/O REHABILITATION THERAPY W/O MCC'\n",
      " '948 - SIGNS & SYMPTOMS W/O MCC'\n",
      " '917 - POISONING & TOXIC EFFECTS OF DRUGS W MCC'\n",
      " '918 - POISONING & TOXIC EFFECTS OF DRUGS W/O MCC']\n"
     ]
    }
   ],
   "source": [
    "print(healthcare['DRG Definition'].unique())"
   ]
  },
  {
   "cell_type": "code",
   "execution_count": 11,
   "metadata": {},
   "outputs": [],
   "source": [
    "chest_pain = healthcare[healthcare['DRG Definition'] == '313 - CHEST PAIN']"
   ]
  },
  {
   "cell_type": "code",
   "execution_count": 15,
   "metadata": {},
   "outputs": [
    {
     "name": "stdout",
     "output_type": "stream",
     "text": [
      "         DRG Definition  Provider Id                     Provider Name  \\\n",
      "82205  313 - CHEST PAIN        10001  SOUTHEAST ALABAMA MEDICAL CENTER   \n",
      "82206  313 - CHEST PAIN        10006    ELIZA COFFEE MEMORIAL HOSPITAL   \n",
      "82207  313 - CHEST PAIN        10007          MIZELL MEMORIAL HOSPITAL   \n",
      "\n",
      "      Provider Street Address Provider City Provider State  Provider Zip Code  \\\n",
      "82205  1108 ROSS CLARK CIRCLE        DOTHAN             AL              36301   \n",
      "82206      205 MARENGO STREET      FLORENCE             AL              35631   \n",
      "82207           702 N MAIN ST           OPP             AL              36467   \n",
      "\n",
      "      Hospital Referral Region Description   Total Discharges   \\\n",
      "82205                          AL - Dothan                  36   \n",
      "82206                      AL - Birmingham                  13   \n",
      "82207                          AL - Dothan                  34   \n",
      "\n",
      "        Average Covered Charges    Average Total Payments   \\\n",
      "82205                   19540.55                   3428.58   \n",
      "82206                   20241.84                   3849.76   \n",
      "82207                    6417.20                   2808.08   \n",
      "\n",
      "       Average Medicare Payments  \n",
      "82205                    2093.38  \n",
      "82206                    1704.53  \n",
      "82207                    1872.38  \n"
     ]
    }
   ],
   "source": [
    "#Chest pain diagnosis in Alabama\n",
    "alabama_chest_pain = chest_pain[chest_pain['Provider State'] == 'AL']\n",
    "print(alabama_chest_pain.head(3))"
   ]
  },
  {
   "cell_type": "markdown",
   "metadata": {},
   "source": [
    "We now have all of the hospitals in Alabama that have a diagnosed chest pain. We now want to find the average cost of those diagnoses. These value is stored in the column ' Average Covered Charges '"
   ]
  },
  {
   "cell_type": "code",
   "execution_count": null,
   "metadata": {},
   "outputs": [],
   "source": []
  }
 ],
 "metadata": {
  "kernelspec": {
   "display_name": "Python 3",
   "language": "python",
   "name": "python3"
  },
  "language_info": {
   "codemirror_mode": {
    "name": "ipython",
    "version": 3
   },
   "file_extension": ".py",
   "mimetype": "text/x-python",
   "name": "python",
   "nbconvert_exporter": "python",
   "pygments_lexer": "ipython3",
   "version": "3.8.5"
  }
 },
 "nbformat": 4,
 "nbformat_minor": 4
}
