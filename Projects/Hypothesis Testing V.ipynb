{
 "cells": [
  {
   "cell_type": "markdown",
   "metadata": {},
   "source": [
    "#### Analyzing Farmburg's A/B Test\n",
    "Brian is a Product Manager at FarmBurg, a company that makes a farming simulation social network game. In the FarmBurg game, you can plow, plant, and harvest different crops. ​Brian has been conducting an A/B Test with three different variants, and he wants you to help him analyze the results. Using the Python modules pandas and SciPy, you will help him make some important business decisions!"
   ]
  },
  {
   "cell_type": "markdown",
   "metadata": {},
   "source": [
    "Brian ran an A/B test with three different groups: A, B, and C. He has provided us with a CSV file of his results named clicks.csv. It has the following columns:\n",
    "\n",
    "- user_id: a unique id for each visitor to the FarmBurg site\n",
    "- group: either 'A', 'B', or 'C' depending on which group the visitor was assigned to\n",
    "- is_purchase: either 'Yes' if the visitor made a purchase or 'No' if they did not."
   ]
  },
  {
   "cell_type": "code",
   "execution_count": 1,
   "metadata": {},
   "outputs": [],
   "source": [
    "#Importing libraries\n",
    "import pandas as pd\n",
    "import numpy as np"
   ]
  },
  {
   "cell_type": "code",
   "execution_count": 3,
   "metadata": {},
   "outputs": [
    {
     "name": "stdout",
     "output_type": "stream",
     "text": [
      "    user_id group is_purchase\n",
      "0  8e27bf9a     A          No\n",
      "1  eb89e6f0     A          No\n",
      "2  7119106a     A          No\n",
      "3  e53781ff     A          No\n",
      "4  02d48cf1     A         Yes\n"
     ]
    }
   ],
   "source": [
    "# Read in the `clicks.csv` file as `abdata`\n",
    "abdata = pd.read_csv('/Users/elorm/Documents/Repos/Datasets/clicks.csv')\n",
    "print(abdata.head())"
   ]
  },
  {
   "cell_type": "markdown",
   "metadata": {},
   "source": [
    "Note that we have two categorical variables: group and is_purchase. We are interested in whether visitors are more likely to make a purchase if they are in any one group compared to the others. Because we want to know if there is an association between two categorical variables, we’ll start by using a Chi-Square test to address our question."
   ]
  },
  {
   "cell_type": "code",
   "execution_count": 4,
   "metadata": {},
   "outputs": [
    {
     "name": "stdout",
     "output_type": "stream",
     "text": [
      "is_purchase    No  Yes\n",
      "group                 \n",
      "A            1350  316\n",
      "B            1483  183\n",
      "C            1583   83\n"
     ]
    }
   ],
   "source": [
    "Xtab = pd.crosstab(abdata.group, abdata.is_purchase)\n",
    "print(Xtab)"
   ]
  },
  {
   "cell_type": "markdown",
   "metadata": {},
   "source": [
    "The p-value should be 2.4126213546684264e-35, which means it’s very close to zero (approximately 0.0000000000000000000000000000000000241). Therefore, the p-value is less than 0.05 and we can conclude that there is a significant difference in the purchase rate for groups A, B, and C."
   ]
  },
  {
   "cell_type": "markdown",
   "metadata": {},
   "source": [
    "Our day is a little less busy than expected, so we decide to ask Brian about his test.\n",
    "\n",
    "Us: Hey Brian! What was that test you were running anyway?\n",
    "\n",
    "Brian: We are trying to get users to purchase a small FarmBurg upgrade package. It’s called a microtransaction. We’re not sure how much to charge for it, so we tested three different price points: `$0.99` (group 'A'), `$1.99` (group 'B'), and `$4.99` (group 'C'). It looks like significantly more people bought the upgrade package for `$0.99`, so I guess that’s what we’ll charge.\n",
    "\n",
    "Us: Oh no! We should have asked you this before we did that Chi-Square test. That wasn’t the right test at all. It’s true that more people wanted to purchase the upgrade at `$0.99`; you probably expected that. What we really want to know is whether each price point allows us to make enough money that we can exceed some target goal. Brian, how much do you think it cost to build this feature?\n",
    "\n",
    "Brian: Hmm. I guess that we need to generate a minimum of `$1000` in revenue per week in order to justify this project.\n",
    "\n",
    "Us: We have some work to do!\n",
    "\n",
    "In order to justify this feature, we will need to calculate the necessary purchase rate for each price point. Let’s start by calculating the number of visitors to the site this week.\n",
    "\n",
    "It turns out that Brian ran his original test over the course of a week, so the number of visitors in abdata is equal to the number of visitors in a typical week. Calculate the number of visitors in the data and save the value in a variable named num_visits. Make sure to print the value."
   ]
  },
  {
   "cell_type": "code",
   "execution_count": null,
   "metadata": {},
   "outputs": [],
   "source": []
  },
  {
   "cell_type": "markdown",
   "metadata": {},
   "source": [
    "Now that we know how many visitors we generally get each week (num_visits), we need to calculate the number of visitors who would need to purchase the upgrade package at each price point `($0.99, $1.99, $4.99)` in order to generate Brian’s minimum revenue target of `$1,000` per week.\n",
    "\n",
    "To start, calculate the number of sales that would be needed to reach $1,000 dollars of revenue at a price point of `$0.99`. "
   ]
  },
  {
   "cell_type": "code",
   "execution_count": 5,
   "metadata": {},
   "outputs": [
    {
     "name": "stdout",
     "output_type": "stream",
     "text": [
      "4998\n"
     ]
    }
   ],
   "source": [
    "num_visits = len(abdata)\n",
    "print(num_visits)"
   ]
  },
  {
   "cell_type": "code",
   "execution_count": null,
   "metadata": {},
   "outputs": [],
   "source": []
  }
 ],
 "metadata": {
  "kernelspec": {
   "display_name": "Python 3",
   "language": "python",
   "name": "python3"
  },
  "language_info": {
   "codemirror_mode": {
    "name": "ipython",
    "version": 3
   },
   "file_extension": ".py",
   "mimetype": "text/x-python",
   "name": "python",
   "nbconvert_exporter": "python",
   "pygments_lexer": "ipython3",
   "version": "3.8.5"
  }
 },
 "nbformat": 4,
 "nbformat_minor": 4
}
