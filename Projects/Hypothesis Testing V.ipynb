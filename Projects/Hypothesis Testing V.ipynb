{
 "cells": [
  {
   "cell_type": "markdown",
   "metadata": {},
   "source": [
    "#### Analyzing Farmburg's A/B Test\n",
    "Brian is a Product Manager at FarmBurg, a company that makes a farming simulation social network game. In the FarmBurg game, you can plow, plant, and harvest different crops. ​Brian has been conducting an A/B Test with three different variants, and he wants you to help him analyze the results. Using the Python modules pandas and SciPy, you will help him make some important business decisions!"
   ]
  },
  {
   "cell_type": "markdown",
   "metadata": {},
   "source": [
    "Brian ran an A/B test with three different groups: A, B, and C. He has provided us with a CSV file of his results named clicks.csv. It has the following columns:\n",
    "\n",
    "- user_id: a unique id for each visitor to the FarmBurg site\n",
    "- group: either 'A', 'B', or 'C' depending on which group the visitor was assigned to\n",
    "- is_purchase: either 'Yes' if the visitor made a purchase or 'No' if they did not."
   ]
  },
  {
   "cell_type": "code",
   "execution_count": 1,
   "metadata": {},
   "outputs": [],
   "source": [
    "#Importing libraries\n",
    "import pandas as pd\n",
    "import numpy as np"
   ]
  },
  {
   "cell_type": "code",
   "execution_count": 3,
   "metadata": {},
   "outputs": [
    {
     "name": "stdout",
     "output_type": "stream",
     "text": [
      "    user_id group is_purchase\n",
      "0  8e27bf9a     A          No\n",
      "1  eb89e6f0     A          No\n",
      "2  7119106a     A          No\n",
      "3  e53781ff     A          No\n",
      "4  02d48cf1     A         Yes\n"
     ]
    }
   ],
   "source": [
    "# Read in the `clicks.csv` file as `abdata`\n",
    "abdata = pd.read_csv('/Users/elorm/Documents/Repos/Datasets/clicks.csv')\n",
    "print(abdata.head())"
   ]
  },
  {
   "cell_type": "markdown",
   "metadata": {},
   "source": [
    "Note that we have two categorical variables: group and is_purchase. We are interested in whether visitors are more likely to make a purchase if they are in any one group compared to the others. Because we want to know if there is an association between two categorical variables, we’ll start by using a Chi-Square test to address our question."
   ]
  },
  {
   "cell_type": "code",
   "execution_count": 4,
   "metadata": {},
   "outputs": [
    {
     "name": "stdout",
     "output_type": "stream",
     "text": [
      "is_purchase    No  Yes\n",
      "group                 \n",
      "A            1350  316\n",
      "B            1483  183\n",
      "C            1583   83\n"
     ]
    }
   ],
   "source": [
    "Xtab = pd.crosstab(abdata.group, abdata.is_purchase)\n",
    "print(Xtab)"
   ]
  },
  {
   "cell_type": "markdown",
   "metadata": {},
   "source": [
    "The p-value should be 2.4126213546684264e-35, which means it’s very close to zero (approximately 0.0000000000000000000000000000000000241). Therefore, the p-value is less than 0.05 and we can conclude that there is a significant difference in the purchase rate for groups A, B, and C."
   ]
  },
  {
   "cell_type": "markdown",
   "metadata": {},
   "source": [
    "Our day is a little less busy than expected, so we decide to ask Brian about his test.\n",
    "\n",
    "Us: Hey Brian! What was that test you were running anyway?\n",
    "\n",
    "Brian: We are trying to get users to purchase a small FarmBurg upgrade package. It’s called a microtransaction. We’re not sure how much to charge for it, so we tested three different price points: `$0.99` (group 'A'), `$1.99` (group 'B'), and `$4.99` (group 'C'). It looks like significantly more people bought the upgrade package for `$0.99`, so I guess that’s what we’ll charge.\n",
    "\n",
    "Us: Oh no! We should have asked you this before we did that Chi-Square test. That wasn’t the right test at all. It’s true that more people wanted to purchase the upgrade at `$0.99`; you probably expected that. What we really want to know is whether each price point allows us to make enough money that we can exceed some target goal. Brian, how much do you think it cost to build this feature?\n",
    "\n",
    "Brian: Hmm. I guess that we need to generate a minimum of `$1000` in revenue per week in order to justify this project.\n",
    "\n",
    "Us: We have some work to do!\n",
    "\n",
    "In order to justify this feature, we will need to calculate the necessary purchase rate for each price point. Let’s start by calculating the number of visitors to the site this week.\n",
    "\n",
    "It turns out that Brian ran his original test over the course of a week, so the number of visitors in abdata is equal to the number of visitors in a typical week. Calculate the number of visitors in the data and save the value in a variable named num_visits. Make sure to print the value."
   ]
  },
  {
   "cell_type": "code",
   "execution_count": null,
   "metadata": {},
   "outputs": [],
   "source": []
  },
  {
   "cell_type": "markdown",
   "metadata": {},
   "source": [
    "Now that we know how many visitors we generally get each week (num_visits), we need to calculate the number of visitors who would need to purchase the upgrade package at each price point `($0.99, $1.99, $4.99)` in order to generate Brian’s minimum revenue target of `$1,000` per week.\n",
    "\n",
    "To start, calculate the number of sales that would be needed to reach $1,000 dollars of revenue at a price point of `$0.99`. "
   ]
  },
  {
   "cell_type": "code",
   "execution_count": 5,
   "metadata": {},
   "outputs": [
    {
     "name": "stdout",
     "output_type": "stream",
     "text": [
      "4998\n"
     ]
    }
   ],
   "source": [
    "num_visits = len(abdata)\n",
    "print(num_visits)"
   ]
  },
  {
   "cell_type": "code",
   "execution_count": 7,
   "metadata": {},
   "outputs": [
    {
     "name": "stdout",
     "output_type": "stream",
     "text": [
      "1010.1010101010102\n"
     ]
    }
   ],
   "source": [
    "num_sales_needed_099 = 1000/0.99\n",
    "print(num_sales_needed_099)"
   ]
  },
  {
   "cell_type": "markdown",
   "metadata": {},
   "source": [
    "Now that we know how many sales we need at a $0.99 price point, calculate the proportion of weekly visitors who would need to make a purchase in order to meet that goal. Remember that the number of weekly visitors is saved as num_visits."
   ]
  },
  {
   "cell_type": "code",
   "execution_count": null,
   "metadata": {},
   "outputs": [],
   "source": []
  },
  {
   "cell_type": "code",
   "execution_count": 8,
   "metadata": {},
   "outputs": [
    {
     "name": "stdout",
     "output_type": "stream",
     "text": [
      "0.20210104243717691\n"
     ]
    }
   ],
   "source": [
    "p_sales_needed_099 = num_sales_needed_099/num_visits\n",
    "print(p_sales_needed_099)"
   ]
  },
  {
   "cell_type": "code",
   "execution_count": 9,
   "metadata": {},
   "outputs": [
    {
     "name": "stdout",
     "output_type": "stream",
     "text": [
      "502.51256281407035\n",
      "0.10054272965467594\n"
     ]
    }
   ],
   "source": [
    "#Number of sales needed for 1.99 price point\n",
    "num_of_sales_needed_199 = 1000/1.99\n",
    "print(num_of_sales_needed_199)\n",
    "#Proportion of weekly visitors to make the number of sales\n",
    "p_sales_needed_199 = num_of_sales_needed_199/num_visits\n",
    "print(p_sales_needed_199)"
   ]
  },
  {
   "cell_type": "code",
   "execution_count": 10,
   "metadata": {},
   "outputs": [
    {
     "name": "stdout",
     "output_type": "stream",
     "text": [
      "200.40080160320642\n",
      "0.040096198800161346\n"
     ]
    }
   ],
   "source": [
    "#Number of sales needed for 4.99 price point\n",
    "num_of_sales_needed_499 = 1000/4.99\n",
    "print(num_of_sales_needed_499)\n",
    "#Proportion of weekly visitors to make the number of sales\n",
    "p_sales_needed_499 = num_of_sales_needed_499/num_visits\n",
    "print(p_sales_needed_499)"
   ]
  },
  {
   "cell_type": "code",
   "execution_count": null,
   "metadata": {},
   "outputs": [],
   "source": []
  },
  {
   "cell_type": "raw",
   "metadata": {},
   "source": [
    "Now let’s return to Brian’s question. To start, we want to know if the percent of Group A (the $0.99 price point) that purchased an upgrade package is significantly greater than p_sales_needed_099 (the percent of visitors who need to buy an upgrade package at $0.99 in order to make our minimum revenue target of $1,000).\n",
    "\n",
    "To answer this question, we want to focus on just the visitors in group A. Then, we want to compare the number of purchases in that group to p_sales_needed_099.\n",
    "\n",
    "Since we have a single sample of categorical data and want to compare it to a hypothetical population value, a binomial test is appropriate. In order to run a binomial test for group A, we need to know two pieces of information:\n",
    "\n",
    "The number of visitors in group A (the number of visitors who were offered the $0.99 price point)\n",
    "The number of visitors in Group A who made a purchase\n",
    "Calculate these two numbers and save them as samp_size_099 and sales_099, respectively. Note that you can use the contingency table that you printed earlier to get these numbers OR you can use Python syntax."
   ]
  },
  {
   "cell_type": "code",
   "execution_count": 12,
   "metadata": {},
   "outputs": [
    {
     "name": "stdout",
     "output_type": "stream",
     "text": [
      "1666\n"
     ]
    }
   ],
   "source": [
    "group_a = abdata[abdata['group'] == 'A']\n",
    "samp_size_099 = len(group_a)\n",
    "print(samp_size_099)"
   ]
  },
  {
   "cell_type": "code",
   "execution_count": 16,
   "metadata": {},
   "outputs": [
    {
     "name": "stdout",
     "output_type": "stream",
     "text": [
      "316\n"
     ]
    }
   ],
   "source": [
    "sales_099 = len(group_a[group_a['is_purchase'] == 'Yes'])\n",
    "print(sales_099)"
   ]
  },
  {
   "cell_type": "code",
   "execution_count": null,
   "metadata": {},
   "outputs": [],
   "source": []
  },
  {
   "cell_type": "markdown",
   "metadata": {},
   "source": [
    "Calculate the sample size and number of purchases in group B (the `$1.99` price point) and save them as samp_size_199 and sales_199, respectively. Then do the same for group C (the `$4.99` price point) and save them as samp_size_499 and sales_499, respectively."
   ]
  },
  {
   "cell_type": "code",
   "execution_count": 17,
   "metadata": {},
   "outputs": [
    {
     "name": "stdout",
     "output_type": "stream",
     "text": [
      "1666\n",
      "183\n"
     ]
    }
   ],
   "source": [
    "#Group B\n",
    "group_b = abdata[abdata['group'] == 'B']\n",
    "samp_size_199 = len(group_b)\n",
    "print(samp_size_199)\n",
    "sales_199 = len(group_b[group_b['is_purchase'] == 'Yes'])\n",
    "print(sales_199)"
   ]
  },
  {
   "cell_type": "code",
   "execution_count": 18,
   "metadata": {},
   "outputs": [
    {
     "name": "stdout",
     "output_type": "stream",
     "text": [
      "1666\n",
      "83\n"
     ]
    }
   ],
   "source": [
    "#group C\n",
    "#Group C\n",
    "group_c = abdata[abdata['group'] == 'C']\n",
    "samp_size_499 = len(group_c)\n",
    "print(samp_size_499)\n",
    "sales_499 = len(group_c[group_c['is_purchase'] == 'Yes'])\n",
    "print(sales_499)"
   ]
  },
  {
   "cell_type": "markdown",
   "metadata": {},
   "source": [
    "For Group A (`$0.99` price point), perform a binomial test using binom_test() to see if the observed purchase rate is significantly greater than p_sales_needed_099. Remember that there are four inputs to binom_test():\n",
    "\n",
    "- x will be the number of purchases for Group A\n",
    "- n will be the total number of visitors assigned group A\n",
    "- p will be the target percent of purchases for the `$0.99` price point\n",
    "alternative will indicate the alternative hypothesis for this test; in this case, we want to know if the observed purchase rate is significantly 'greater' than the purchase rate that results in the minimum revenue target.\n",
    "Save the results to pvalueA, and print its value. Note that you’ll first need to import the binom_test() function from scipy.stats using the following line of code:"
   ]
  },
  {
   "cell_type": "code",
   "execution_count": 19,
   "metadata": {},
   "outputs": [
    {
     "name": "stdout",
     "output_type": "stream",
     "text": [
      "0.9028081076188985\n",
      "0.11184562623739903\n",
      "0.027944826659907135\n",
      "4.99\n"
     ]
    }
   ],
   "source": [
    "# Import the binom_test module\n",
    "from scipy.stats import binom_test\n",
    "\n",
    "# Calculate the p-value for Group A\n",
    "pvalueA = binom_test(sales_099, n=samp_size_099, p=p_sales_needed_099, alternative='greater')\n",
    "\n",
    "# Print the p-value for Group A\n",
    "print(pvalueA)\n",
    "\n",
    "# Calculate the p-value for Group B\n",
    "pvalueB = binom_test(sales_199, n=samp_size_199, p=p_sales_needed_199, alternative='greater')\n",
    "\n",
    "# Print the p-value for Group B\n",
    "print(pvalueB)\n",
    "\n",
    "# Calculate the p-value for Group C\n",
    "pvalueC = binom_test(sales_499, n=samp_size_499, p=p_sales_needed_499, alternative='greater')\n",
    "\n",
    "# Print the p-value for Group C\n",
    "print(pvalueC)\n",
    "\n",
    "# Set the correct value for the final answer variable\n",
    "final_answer = '4.99'\n",
    "\n",
    "# Print the chosen price group\n",
    "print(final_answer)"
   ]
  },
  {
   "cell_type": "markdown",
   "metadata": {},
   "source": [
    "pvalueC is the only p-value below the threshold of 0.05. Therefore, the C group is the only group where we would conclude that the purchase rate is significantly higher than the target needed to reach `$1000` revenue per week. Therefore, Brian should charge `$4.99` for the upgrade."
   ]
  },
  {
   "cell_type": "code",
   "execution_count": null,
   "metadata": {},
   "outputs": [],
   "source": []
  }
 ],
 "metadata": {
  "kernelspec": {
   "display_name": "Python 3",
   "language": "python",
   "name": "python3"
  },
  "language_info": {
   "codemirror_mode": {
    "name": "ipython",
    "version": 3
   },
   "file_extension": ".py",
   "mimetype": "text/x-python",
   "name": "python",
   "nbconvert_exporter": "python",
   "pygments_lexer": "ipython3",
   "version": "3.8.5"
  }
 },
 "nbformat": 4,
 "nbformat_minor": 4
}
