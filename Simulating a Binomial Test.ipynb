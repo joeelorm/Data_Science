{
 "cells": [
  {
   "cell_type": "markdown",
   "metadata": {},
   "source": [
    "Binomial tests are useful for comparing the frequency of some outcome in a sample to the expected probability of that outcome. For example, if we expect 90% of ticketed passengers to show up for their flight but only 80 of 100 ticketed passengers actually show up, we could use a binomial test to understand whether 80 is significantly different from 90.\n",
    "\n",
    "Binomial tests are similar to one-sample t-tests in that they test a sample statistic against some population-level expectation. The difference is that:\n",
    "\n",
    "- binomial tests are used for binary categorical data to compare a sample frequency to an expected population-level probability\n",
    "\n",
    "- one-sample t-tests are used for quantitative data to compare a sample mean to an expected population mean."
   ]
  },
  {
   "cell_type": "code",
   "execution_count": 1,
   "metadata": {},
   "outputs": [],
   "source": [
    "import numpy as np\n",
    "import pandas as pd\n",
    "import matplotlib.pyplot as plt\n",
    "from scipy.stats import binom_test"
   ]
  },
  {
   "cell_type": "markdown",
   "metadata": {},
   "source": [
    "We will walk through the process of using a binomial test to analyze data from a hypothetical online company, Live-it-LIVE.com — a website that sells all the necessary props and costumes to recreate iconic movie scenes at home!"
   ]
  },
  {
   "cell_type": "code",
   "execution_count": 2,
   "metadata": {},
   "outputs": [
    {
     "name": "stdout",
     "output_type": "stream",
     "text": [
      "               timestamp purchase                       item\n",
      "0    2020-01-17 17:23:06        y  cue cards - love actually\n",
      "1    2020-01-25 17:09:39        n                        NaN\n",
      "2    2020-01-25 05:22:01        n                        NaN\n",
      "3    2020-01-18 04:33:40        y      t-rex - jurassic park\n",
      "4    2020-01-24 17:24:52        n                        NaN\n",
      "..                   ...      ...                        ...\n",
      "495  2020-01-16 08:40:02        n                        NaN\n",
      "496  2020-01-09 21:11:19        n                        NaN\n",
      "497  2020-01-31 08:54:51        n                        NaN\n",
      "498  2020-01-21 19:35:03        n                        NaN\n",
      "499  2020-01-31 09:48:43        n                        NaN\n",
      "\n",
      "[500 rows x 3 columns]\n"
     ]
    }
   ],
   "source": [
    "monthly_report = pd.read_csv('../Datasets/monthly_report.csv')\n",
    "print(monthly_report)"
   ]
  },
  {
   "cell_type": "markdown",
   "metadata": {},
   "source": [
    "Note that the purchase column tells us whether a purchase was made; if so, the item that was purchased is listed in the item column. "
   ]
  },
  {
   "cell_type": "markdown",
   "metadata": {},
   "source": [
    "#### Summarizing the Sample\n",
    "The marketing department at Live-it-LIVE reports that, during this time of year, about 10% of visitors to Live-it-LIVE.com make a purchase.\n",
    "\n",
    "The monthly report shows every visitor to the site and whether or not they made a purchase. The checkout page had a small bug this month, so the business department wants to know whether the purchase rate dipped below expectation. They’ve asked us to investigate this question.\n",
    "\n",
    "In order to run a hypothesis test to address this, we’ll first need to know two things from the data:\n",
    "\n",
    "The number of people who visited the website\n",
    "The number of people who made a purchase on the website\n",
    "Assuming each row of our dataset represents a unique site visitor, we can calculate the number of people who visited the website by finding the number of rows in the data frame. We can then find the number who made a purchase by using a conditional statement to add up the total number of rows where a purchase was made.\n",
    "\n",
    "For example, suppose that the dataset candy contains a column named chocolate with 'yes' recorded for every candy that has chocolate in it and 'no' otherwise. The following code calculates the sample size (the number of candies) and the number of those candies that contain chocolate:\n",
    "\n",
    "sample size (number of rows): \n",
    "`samp_size = len(candy)`\n",
    " \n",
    "number with chocolate: \n",
    "`total_with_chocolate = np.sum(candy.chocolate == 'yes')`"
   ]
  },
  {
   "cell_type": "code",
   "execution_count": 3,
   "metadata": {},
   "outputs": [
    {
     "name": "stdout",
     "output_type": "stream",
     "text": [
      "500\n"
     ]
    }
   ],
   "source": [
    "#calculate and print sample_size:\n",
    "sample_size = len(monthly_report)\n",
    "print(sample_size)"
   ]
  },
  {
   "cell_type": "code",
   "execution_count": 4,
   "metadata": {},
   "outputs": [
    {
     "name": "stdout",
     "output_type": "stream",
     "text": [
      "41\n"
     ]
    }
   ],
   "source": [
    "#calculate and print num_purchased:\n",
    "num_purchased = np.sum(monthly_report['purchase'] == 'y')\n",
    "print(num_purchased)"
   ]
  },
  {
   "cell_type": "markdown",
   "metadata": {},
   "source": [
    "#### Simulating Randomness\n",
    "In the cell above, we calculated that there were 500 site visitors to live-it-LIVE.com this month and 41 of them made a purchase. In comparison, if each of the 500 visitors had a 10% chance of making a purchase, we would expect around 50 of those visitors to buy something. Is 41 different enough from 50 that we should question whether this months’ site visitors really had a 10% chance of making a purchase?\n",
    "\n",
    "To conceptualize why our expectation (50) and observation (41) might not be equal — EVEN IF there was no dip in the purchase probability — let’s turn to a common probability example: flipping a fair coin. We can simulate a coin flip in Python using the numpy.random.choice() function:"
   ]
  },
  {
   "cell_type": "code",
   "execution_count": 5,
   "metadata": {},
   "outputs": [
    {
     "name": "stdout",
     "output_type": "stream",
     "text": [
      "['heads']\n"
     ]
    }
   ],
   "source": [
    "#An example\n",
    "flip = np.random.choice(['heads', 'tails'], size=1, p=[0.5, 0.5])\n",
    "print(flip) "
   ]
  },
  {
   "cell_type": "markdown",
   "metadata": {},
   "source": [
    "If we run this code (or flip a real coin) a few times, we’ll find that — just like we can’t know ahead of time whether any single visitor to Live-it-LIVE.com will make a purchase — we can’t predict the outcome of any individual coin flip.\n",
    "\n",
    "If we flip a fair coin 10 times in a row, we expect about 5 of those coins to come up heads (50%). We can simulate this in python by changing the size parameter of numpy.random.choice():"
   ]
  },
  {
   "cell_type": "code",
   "execution_count": 6,
   "metadata": {},
   "outputs": [
    {
     "name": "stdout",
     "output_type": "stream",
     "text": [
      "['tails' 'tails' 'heads' 'heads' 'tails' 'heads' 'heads' 'heads' 'heads'\n",
      " 'heads']\n"
     ]
    }
   ],
   "source": [
    "flip = np.random.choice(['heads', 'tails'], size=10, p=[0.5, 0.5])\n",
    "print(flip)"
   ]
  },
  {
   "cell_type": "code",
   "execution_count": 7,
   "metadata": {},
   "outputs": [
    {
     "name": "stdout",
     "output_type": "stream",
     "text": [
      "['n']\n"
     ]
    }
   ],
   "source": [
    "#simulate one visitor:\n",
    "one_visitor = np.random.choice(['n', 'y'], p = [0.9 , 0.1], size = 1)\n",
    "print(one_visitor)"
   ]
  },
  {
   "cell_type": "code",
   "execution_count": 8,
   "metadata": {},
   "outputs": [
    {
     "name": "stdout",
     "output_type": "stream",
     "text": [
      "['n' 'n' 'n' 'n' 'n' 'n' 'n' 'n' 'n' 'n' 'n' 'n' 'n' 'n' 'y' 'n' 'n' 'n'\n",
      " 'n' 'n' 'n' 'n' 'n' 'n' 'n' 'n' 'n' 'n' 'n' 'n' 'n' 'n' 'n' 'y' 'n' 'n'\n",
      " 'n' 'n' 'n' 'n' 'n' 'n' 'n' 'y' 'n' 'n' 'y' 'n' 'n' 'n' 'n' 'n' 'n' 'n'\n",
      " 'n' 'n' 'n' 'n' 'n' 'n' 'n' 'n' 'n' 'n' 'n' 'n' 'n' 'y' 'n' 'n' 'n' 'n'\n",
      " 'n' 'n' 'n' 'y' 'n' 'n' 'n' 'n' 'n' 'n' 'n' 'n' 'n' 'n' 'n' 'y' 'n' 'n'\n",
      " 'n' 'n' 'n' 'n' 'n' 'n' 'n' 'y' 'n' 'n' 'y' 'n' 'n' 'n' 'n' 'n' 'n' 'n'\n",
      " 'n' 'n' 'n' 'n' 'n' 'y' 'y' 'n' 'n' 'y' 'n' 'y' 'y' 'n' 'n' 'y' 'n' 'y'\n",
      " 'n' 'n' 'n' 'n' 'n' 'n' 'n' 'n' 'n' 'n' 'n' 'y' 'n' 'n' 'n' 'y' 'n' 'n'\n",
      " 'n' 'n' 'n' 'n' 'n' 'y' 'y' 'n' 'n' 'n' 'y' 'n' 'n' 'n' 'n' 'n' 'n' 'n'\n",
      " 'n' 'n' 'y' 'n' 'n' 'n' 'n' 'n' 'n' 'n' 'n' 'n' 'n' 'n' 'n' 'y' 'n' 'n'\n",
      " 'n' 'y' 'n' 'y' 'n' 'n' 'y' 'n' 'y' 'n' 'n' 'n' 'n' 'n' 'n' 'n' 'n' 'y'\n",
      " 'n' 'n' 'y' 'n' 'n' 'y' 'n' 'n' 'n' 'n' 'n' 'n' 'n' 'n' 'n' 'n' 'n' 'n'\n",
      " 'n' 'y' 'n' 'n' 'n' 'n' 'y' 'n' 'n' 'n' 'n' 'n' 'n' 'n' 'n' 'n' 'n' 'n'\n",
      " 'n' 'y' 'n' 'n' 'n' 'n' 'n' 'n' 'n' 'n' 'n' 'n' 'n' 'n' 'y' 'y' 'n' 'y'\n",
      " 'y' 'n' 'n' 'n' 'n' 'n' 'n' 'n' 'n' 'n' 'n' 'n' 'n' 'y' 'n' 'n' 'n' 'n'\n",
      " 'n' 'n' 'n' 'n' 'n' 'n' 'n' 'n' 'n' 'n' 'n' 'n' 'n' 'n' 'n' 'n' 'n' 'n'\n",
      " 'n' 'n' 'n' 'n' 'n' 'n' 'n' 'n' 'n' 'n' 'n' 'n' 'n' 'y' 'n' 'n' 'n' 'n'\n",
      " 'n' 'n' 'n' 'n' 'n' 'n' 'n' 'y' 'n' 'n' 'n' 'n' 'n' 'n' 'n' 'n' 'n' 'n'\n",
      " 'n' 'n' 'n' 'n' 'n' 'n' 'n' 'n' 'n' 'n' 'n' 'n' 'n' 'y' 'n' 'n' 'n' 'y'\n",
      " 'n' 'n' 'n' 'n' 'n' 'n' 'n' 'n' 'n' 'n' 'n' 'n' 'n' 'n' 'n' 'y' 'n' 'n'\n",
      " 'n' 'n' 'n' 'n' 'n' 'n' 'n' 'n' 'n' 'n' 'n' 'n' 'n' 'n' 'y' 'n' 'n' 'n'\n",
      " 'n' 'n' 'n' 'n' 'n' 'n' 'n' 'n' 'n' 'n' 'n' 'n' 'n' 'y' 'n' 'n' 'n' 'n'\n",
      " 'n' 'n' 'n' 'n' 'n' 'n' 'n' 'y' 'n' 'n' 'n' 'n' 'n' 'n' 'n' 'n' 'n' 'n'\n",
      " 'y' 'n' 'n' 'n' 'n' 'n' 'n' 'n' 'n' 'n' 'n' 'n' 'n' 'y' 'n' 'n' 'n' 'n'\n",
      " 'n' 'n' 'n' 'n' 'n' 'n' 'n' 'n' 'n' 'n' 'n' 'n' 'n' 'n' 'n' 'n' 'n' 'n'\n",
      " 'n' 'n' 'n' 'n' 'y' 'n' 'n' 'n' 'n' 'n' 'n' 'n' 'n' 'y' 'n' 'n' 'n' 'n'\n",
      " 'y' 'n' 'n' 'y' 'n' 'n' 'n' 'n' 'n' 'n' 'y' 'n' 'n' 'n' 'n' 'n' 'y' 'n'\n",
      " 'n' 'n' 'y' 'n' 'y' 'n' 'n' 'n' 'n' 'n' 'n' 'n' 'n' 'y']\n"
     ]
    }
   ],
   "source": [
    "#simulate 500 visitors:\n",
    "simulated_monthly_visitors = np.random.choice(['n', 'y'], p = [0.9, 0.1], size = 500)\n",
    "print(simulated_monthly_visitors)"
   ]
  },
  {
   "cell_type": "markdown",
   "metadata": {},
   "source": [
    "#### Simulating the Null Distribution I\n",
    "The first step in running a hypothesis test is to form a null hypothesis. For the question of whether the purchase rate at Live-it-LIVE.com was different from 10% this month, the null hypothesis describes a world in which the true probability of a visitor making a purchase was exactly 10%, but by random chance, we observed that only 41 visitors (8.2%) made a purchase.\n",
    "\n",
    "Let’s return to the coin flip example from the previous exercise. We can simulate 10 coin flips and print out the number of those flips that came up heads using the following code:"
   ]
  },
  {
   "cell_type": "code",
   "execution_count": 9,
   "metadata": {},
   "outputs": [
    {
     "name": "stdout",
     "output_type": "stream",
     "text": [
      "4\n"
     ]
    }
   ],
   "source": [
    "flips = np.random.choice(['heads', 'tails'], size=10, p=[0.5, 0.5])\n",
    "num_heads = np.sum(flips == 'heads')\n",
    "print(num_heads)"
   ]
  },
  {
   "cell_type": "markdown",
   "metadata": {},
   "source": [
    "If we run this code a few times, we’ll likely see different results each time. This will give us get a sense for the range in the number of heads that could occur by random chance, even if the coin is fair. We’re more likely to see numbers like four, five, or six, but maybe we’ll see something more extreme every once in a while — ten heads in a row, or even zero!"
   ]
  },
  {
   "cell_type": "code",
   "execution_count": 10,
   "metadata": {},
   "outputs": [
    {
     "name": "stdout",
     "output_type": "stream",
     "text": [
      "48\n"
     ]
    }
   ],
   "source": [
    "#simulate 500 visitors:\n",
    "simulated_monthly_visitors = np.random.choice(['y', 'n'], size=500, p=[0.1, 0.9])\n",
    "\n",
    "#calculate the number of simulated visitors who made a purchase:\n",
    "num_purchased = np.sum(simulated_monthly_visitors == 'y')\n",
    "print(num_purchased)"
   ]
  },
  {
   "cell_type": "markdown",
   "metadata": {},
   "source": [
    "#### Simulating the Null Distribution II\n",
    "In the last cell, we simulated a random sample of 500 visitors, where each visitor had a 10% chance of making a purchase. When we pressed “Run” a few times, we saw that the number of purchases varied from sample to sample, but was around 50.\n",
    "\n",
    "Similarly, we simulated a single random sample of 10 coin flips, where each flip had a 50% chance of coming up heads. We saw that the number of simulated heads was not necessarily 5, but somewhere around 5.\n",
    "\n",
    "By running the same simulated experiment many times, we can get a sense for how much a particular outcome (like the number of purchases, or heads) varies by random chance. Consider the following code:"
   ]
  },
  {
   "cell_type": "code",
   "execution_count": 11,
   "metadata": {},
   "outputs": [],
   "source": [
    "outcomes = []\n",
    "for i in range(10000): \n",
    "    flips = np.random.choice(['heads', 'tails'], size=10, p=[0.5, 0.5])\n",
    "    num_heads = np.sum(flips == 'heads')\n",
    "    outcomes.append(num_heads)\n",
    "#print(outcomes)"
   ]
  },
  {
   "cell_type": "markdown",
   "metadata": {},
   "source": [
    "In this code chunk, we’ve done the following:\n",
    "\n",
    "- initialized an empty list named outcomes to store the number of ‘heads’ from simulated samples of coin flips\n",
    "- set up a for-loop to repeat the steps below 10000 times:\n",
    "\n",
    "  -flip a fair coin 10 times\n",
    "  \n",
    "  -calculate the number of those 10 flips that came up heads\n",
    "  \n",
    "  -append that number onto outcomes\n",
    "  \n",
    "Note that 10000 is an arbitrarily chosen large number — it’s big enough that it will yield almost all possible outcomes of our experiment, and small enough that the simulation still runs quickly. From inspecting the output, we can see that the number of ‘heads’ varied between 0 and 10:"
   ]
  },
  {
   "cell_type": "code",
   "execution_count": 12,
   "metadata": {},
   "outputs": [
    {
     "name": "stdout",
     "output_type": "stream",
     "text": [
      "0\n",
      "10\n"
     ]
    }
   ],
   "source": [
    "min_heads = np.min(outcomes) \n",
    "print(min_heads) \n",
    " \n",
    "max_heads = np.max(outcomes)\n",
    "print(max_heads) "
   ]
  },
  {
   "cell_type": "markdown",
   "metadata": {},
   "source": [
    "Thus, if we flip a fair coin 10 times, we could observe anywhere between 0 and 10 heads by random chance."
   ]
  },
  {
   "cell_type": "code",
   "execution_count": 13,
   "metadata": {},
   "outputs": [
    {
     "name": "stdout",
     "output_type": "stream",
     "text": [
      "20\n",
      "80\n"
     ]
    }
   ],
   "source": [
    "null_outcomes = []\n",
    "\n",
    "#start for loop here:\n",
    "for i in range(10000):\n",
    "  simulated_monthly_visitors = np.random.choice(['y', 'n'], size=500, p=[0.1, 0.9])\n",
    "  num_purchased = np.sum(simulated_monthly_visitors == 'y')\n",
    "  null_outcomes.append(num_purchased)\n",
    "\n",
    "\n",
    "#calculate the minimum and maximum values in null_outcomes here:\n",
    "null_min = np.min(null_outcomes)\n",
    "null_max = np.max(null_outcomes)\n",
    "print(null_min)\n",
    "print(null_max)\n"
   ]
  },
  {
   "cell_type": "code",
   "execution_count": null,
   "metadata": {},
   "outputs": [],
   "source": []
  },
  {
   "cell_type": "markdown",
   "metadata": {},
   "source": [
    "#### Inspecting the Null Distribution\n",
    "In the previous cell, we simulated 10000 different samples of 500 visitors, where each visitor had a 10% chance of making a purchase, and calculated the number of purchases per sample. Upon further inspection, we saw that those numbers ranged from around 25 to 75. This is useful information, but we can learn even more from inspecting the full distribution.\n",
    "\n",
    "For example, recall our 10000 coin flip experiments: for each experiment, we flipped a fair coin 10 times and recorded the number of heads in a list named outcomes. We can plot a histogram of outcomes using matplotlib.pyplot.hist(). We can also add a vertical line at any x-value using matplotlib.pyplot.axvline():"
   ]
  },
  {
   "cell_type": "code",
   "execution_count": 14,
   "metadata": {},
   "outputs": [
    {
     "data": {
      "image/png": "[encoded data removed]",
      "text/plain": [
       "<Figure size 432x288 with 1 Axes>"
      ]
     },
     "metadata": {
      "needs_background": "light"
     },
     "output_type": "display_data"
    }
   ],
   "source": [
    "plt.hist(outcomes, edgecolor = 'black')\n",
    "plt.axvline(2, color = 'r')\n",
    "plt.show()"
   ]
  },
  {
   "cell_type": "markdown",
   "metadata": {},
   "source": [
    "This histogram shows us that, over 10000 experiments, we observed as few as 0 and as many as 10 heads out of 10 flips. However, we were most likely to observe around 4-6 heads. It would be unlikely to observe only 2 heads (where the vertical red line is)"
   ]
  },
  {
   "cell_type": "code",
   "execution_count": 15,
   "metadata": {},
   "outputs": [
    {
     "data": {
      "image/png": "[encoded data removed]",
      "text/plain": [
       "<Figure size 432x288 with 1 Axes>"
      ]
     },
     "metadata": {
      "needs_background": "light"
     },
     "output_type": "display_data"
    }
   ],
   "source": [
    "#plotting the histogram of the null outcomes:\n",
    "plt.hist(null_outcomes, edgecolor = 'black')\n",
    "\n",
    "plt.axvline(41, color = 'red')\n",
    "plt.show()"
   ]
  },
  {
   "cell_type": "markdown",
   "metadata": {},
   "source": [
    "41 purchases is somewhat likely to occur based on this null distribution. It’s not in the middle of the distribution, where there’s the most density, but it’s also not way out in the tails (which would mean it is very unlikely)."
   ]
  },
  {
   "cell_type": "markdown",
   "metadata": {},
   "source": [
    "#### Confidence Intervals\n",
    "So far, we’ve inspected the null distribution and calculated the minimum and maximum values. While the number of purchases in each simulated sample ranged roughly from 25 to 75 by random chance, upon further inspection of the distribution, we saw that those extreme values happened very rarely.\n",
    "\n",
    "By reporting an interval covering 95% of the values instead of the full range, we can say something like: “we are 95% confident that, if each visitor has a 10% chance of making a purchase, a random sample of 500 visitors will make between 37 and 63 purchases.” We can use the np.percentile() function to calculate this 95% interval as follows:"
   ]
  },
  {
   "cell_type": "code",
   "execution_count": 16,
   "metadata": {},
   "outputs": [
    {
     "data": {
      "text/plain": [
       "array([37., 63.])"
      ]
     },
     "execution_count": 16,
     "metadata": {},
     "output_type": "execute_result"
    }
   ],
   "source": [
    "np.percentile(null_outcomes, [2.5,97.5])"
   ]
  },
  {
   "cell_type": "markdown",
   "metadata": {},
   "source": [
    "We calculated the 2.5th and 97.5th percentiles so that exactly 5% of the data falls outside those percentiles (2.5% above the 97.5th percentile, and 2.5% below the 2.5th percentile). This leaves us with a range covering 95% of the data.\n",
    "\n",
    "If our observed statistic falls outside this interval, then we can conclude it is unlikely that the null hypothesis is true. In this example, because 41 falls within the 95% interval (37 - 63), it is still reasonably likely that we observed a lower purchase rate by random chance, even though the null hypothesis was true."
   ]
  },
  {
   "cell_type": "code",
   "execution_count": 17,
   "metadata": {},
   "outputs": [
    {
     "name": "stdout",
     "output_type": "stream",
     "text": [
      "[39. 61.]\n"
     ]
    }
   ],
   "source": [
    "#calculate the 90% interval here:\n",
    "null_90CI = np.percentile(null_outcomes, [5, 95])\n",
    "print(null_90CI)"
   ]
  },
  {
   "cell_type": "code",
   "execution_count": null,
   "metadata": {},
   "outputs": [],
   "source": []
  },
  {
   "cell_type": "markdown",
   "metadata": {},
   "source": [
    "#### Calculating a One-Sided P-Value\n",
    "P-value calculations and interpretations depend on the alternative hypothesis of a test, a description of the difference from expectation that we are interested in.\n",
    "\n",
    "For example, let’s return to the 10-coin-flip example from earlier. Suppose that we flipped a coin 10 times and observed only 2 heads. We might run a hypothesis test with the following null and alternative hypotheses:\n",
    "\n",
    "- Null: the probability of heads is 0.5\n",
    "- Alternative: the probability of heads is less than 0.5\n",
    "\n",
    "This hypothesis test asks the question: IF the probability of heads is 0.5, what’s the probability of observing 2 or fewer heads among a single sample of 10 coin flips?\n",
    "\n",
    "Earlier, we used a for-loop to repeatedly (10000 times!) flip a fair coin 10 times, and store the number of heads (for each set of 10 flips) in a list named outcomes. The probability of observing 2 or fewer heads among 10 coin flips is approximately equal to the proportion of those 10000 experiments where we observed 0, 1, or 2 heads:"
   ]
  },
  {
   "cell_type": "code",
   "execution_count": 18,
   "metadata": {},
   "outputs": [
    {
     "name": "stdout",
     "output_type": "stream",
     "text": [
      "0.0512\n"
     ]
    }
   ],
   "source": [
    "outcomes = np.array(outcomes)\n",
    "p_value = np.sum(outcomes <= 2)/len(outcomes) \n",
    "print(p_value)"
   ]
  },
  {
   "cell_type": "markdown",
   "metadata": {},
   "source": [
    "We estimated that the probability of observing 2 or fewer heads is about 0.059 (5.9%). This probability (0.059) is referred to as a one-sided p-value."
   ]
  },
  {
   "cell_type": "code",
   "execution_count": 19,
   "metadata": {},
   "outputs": [
    {
     "name": "stdout",
     "output_type": "stream",
     "text": [
      "0.0985\n"
     ]
    }
   ],
   "source": [
    "#calculate the p-value here:\n",
    "null_outcomes = np.array(null_outcomes)\n",
    "p_value = np.sum(null_outcomes <= 41)/len(null_outcomes)\n",
    "print(p_value)"
   ]
  },
  {
   "cell_type": "code",
   "execution_count": null,
   "metadata": {},
   "outputs": [],
   "source": []
  },
  {
   "cell_type": "markdown",
   "metadata": {},
   "source": [
    "#### Calculating a Two-Sided P-Value\n",
    "In the previous cell, we calculated a one-sided p-value. In this exercise, we’ll estimate a p-value for a 2-sided test, which is the default setting for many functions in Python (and other languages, like R!).\n",
    "\n",
    "In our 10-coin-flip experiment, remember that we observed 2 heads, which is 3 less than the expected value of 5 (50% of 10) if the null hypothesis is true. The two sided test focuses on the number of heads being three different from expectation, rather than just less than. The hypothesis test now asks the following question:\n",
    "\n",
    "Suppose that the true probability of heads is 50%. What is the probability of observing either two or fewer heads OR eight or more heads? (Note that two and eight are both three away from five). \n",
    "\n",
    "This proportion can be calculated in Python as follows. Note that the `|` symbol is similar to `'or'`, but works for comparing multiple values at once."
   ]
  },
  {
   "cell_type": "code",
   "execution_count": 20,
   "metadata": {},
   "outputs": [
    {
     "name": "stdout",
     "output_type": "stream",
     "text": [
      "0.1066\n"
     ]
    }
   ],
   "source": [
    "outcomes = np.array(outcomes)\n",
    "p_value = np.sum((outcomes <= 2) | (outcomes >= 8))/len(outcomes)\n",
    "print(p_value)"
   ]
  },
  {
   "cell_type": "markdown",
   "metadata": {},
   "source": [
    "Use null_outcomes to calculate the p-value for a two-sided test (alternative hypothesis is that the purchase probability was DIFFERENT FROM 10%). Remember that, if the purchase rate is 10%, we expect 50 of the 500 visitors to make a purchase.\n",
    "\n",
    "In other words, calculate the proportion of values in null_outcomes that are less than or equal to 41 (the number of purchases we observed in our sample, which is 9 fewer than 50) OR greater than or equal to 59 (which is 9 purchases more than 50). Save this number as a variable named p_value and print it out."
   ]
  },
  {
   "cell_type": "code",
   "execution_count": 21,
   "metadata": {},
   "outputs": [
    {
     "name": "stdout",
     "output_type": "stream",
     "text": [
      "0.2006\n"
     ]
    }
   ],
   "source": [
    "#calculate the p-value here:\n",
    "null_outcomes = np.array(null_outcomes)\n",
    "p_value = np.sum((null_outcomes <= 41) | (null_outcomes >= 59))/len(null_outcomes)\n",
    "print(p_value)"
   ]
  },
  {
   "cell_type": "code",
   "execution_count": null,
   "metadata": {},
   "outputs": [],
   "source": []
  },
  {
   "cell_type": "markdown",
   "metadata": {},
   "source": [
    "#### Writing a Binomial Test Function\n",
    "So far, we’ve conducted a simulated binomial hypothesis test for Live-it-LIVE.com. In this exercise, we’ll use our code from the previous exercises to write our own binomial test function. Our function will use simulation, so it will estimate (albeit fairly accurately) the same p-values we would get using much more complex mathematical equations.\n",
    "\n",
    "A function has been outlined for you in script.py which contains the code that we used for Live_it_LIVE inside a function named simulation_binomial_test(). Your goal in the next few exercises will be to edit this function so that it takes in any values for the following:\n",
    "\n",
    "- The observed sample statistic (eg., 41 purchases)\n",
    "- The sample size (eg., 500 visitors)\n",
    "- The null probability of success (eg., 0.10 probability of a purchase)\n",
    "\n",
    "The function should return a p-value for a one-sided test where the alternative hypothesis is that the true probability of success is LESS THAN the null."
   ]
  },
  {
   "cell_type": "code",
   "execution_count": 22,
   "metadata": {},
   "outputs": [],
   "source": [
    "def simulation_binomial_test(observed_successes, n, p):\n",
    "  #initialize null_outcomes\n",
    "  null_outcomes = []\n",
    "  \n",
    "  #generate the simulated null distribution\n",
    "  for i in range(10000):\n",
    "    simulated_monthly_visitors = np.random.choice(['y', 'n'], size=500, p=[p, 1-p])\n",
    "    num_purchased = np.sum(simulated_monthly_visitors == 'y')\n",
    "    null_outcomes.append(num_purchased)\n",
    "\n",
    "  #calculate a 1-sided p-value\n",
    "  null_outcomes = np.array(null_outcomes)\n",
    "  p_value = np.sum(null_outcomes <= observed_successes)/n \n",
    "  \n",
    "  #return the p-value\n",
    "  return p_value"
   ]
  },
  {
   "cell_type": "code",
   "execution_count": 23,
   "metadata": {},
   "outputs": [
    {
     "name": "stdout",
     "output_type": "stream",
     "text": [
      "simulation p-value:  5.13\n"
     ]
    }
   ],
   "source": [
    "p_value1 = simulation_binomial_test(45, 500, .1)\n",
    "print(\"simulation p-value: \", p_value1)"
   ]
  },
  {
   "cell_type": "code",
   "execution_count": 24,
   "metadata": {},
   "outputs": [
    {
     "name": "stdout",
     "output_type": "stream",
     "text": [
      "binom_test p-value:  0.25468926056232155\n"
     ]
    }
   ],
   "source": [
    "p_value2 = binom_test(45, 500, .1, alternative = 'less')\n",
    "print(\"binom_test p-value: \", p_value2)"
   ]
  },
  {
   "cell_type": "code",
   "execution_count": null,
   "metadata": {},
   "outputs": [],
   "source": []
  },
  {
   "cell_type": "markdown",
   "metadata": {},
   "source": [
    "#### Binomial Testing with SciPy\n",
    "More formally, the binomial distribution describes the number of expected “successes” in an experiment with some number of “trials”. In the example you just worked through, the experiment consisted of 500 people visiting Live-it-LIVE.com. For each of those trials (visitors), we expected a 10% chance of a purchase (success), but observed only 41 successes (less than 10%).\n",
    "\n",
    "SciPy has a function called binom_test(), which performs a binomial test for you. The default alternative hypothesis for the binom_test() function is two-sided, but this can be changed using the alternative parameter (eg., alternative = 'less' will run a one-sided lower tail test).\n",
    "\n",
    "binom_test() requires three inputs, the number of observed successes, the number of total trials, and an expected probability of success. For example, with 10 flips of a fair coin (trials), the expected probability of heads is 0.5. Let’s imagine we get 2 heads (observed successes) in 10 flips. Is the coin weighted? The function call for this binomial test would look like:"
   ]
  },
  {
   "cell_type": "code",
   "execution_count": 25,
   "metadata": {},
   "outputs": [
    {
     "name": "stdout",
     "output_type": "stream",
     "text": [
      "0.10937500000000003\n"
     ]
    }
   ],
   "source": [
    "p_value = binom_test(2, n=10, p=0.5)\n",
    "print(p_value)"
   ]
  },
  {
   "cell_type": "markdown",
   "metadata": {},
   "source": [
    "This tells us that IF the true probability of heads is 0.5, the probability of observing 2 or fewer heads OR 8 or more heads is 0.109 (10.9%)."
   ]
  },
  {
   "cell_type": "code",
   "execution_count": 26,
   "metadata": {},
   "outputs": [
    {
     "name": "stdout",
     "output_type": "stream",
     "text": [
      "0.20456397700678308\n",
      "0.1001135269756488\n"
     ]
    }
   ],
   "source": [
    "# calculate p_value_2sided here:\n",
    "p_value_2sided = binom_test(41, n = 500, p = 0.10)\n",
    "print(p_value_2sided)\n",
    "# calculate p_value_1sided here:\n",
    "p_value_1sided = binom_test(41, n = 500, p = 0.10, alternative = 'less')\n",
    "print(p_value_1sided)"
   ]
  },
  {
   "cell_type": "markdown",
   "metadata": {},
   "source": [
    "To summarize, here are some of the things you’ve learned about hypothesis tests in general:\n",
    "\n",
    "- All hypothesis tests start with a null and alternative hypothesis\n",
    "\n",
    "- Outcomes of a hypothesis test that might be reported include:\n",
    "\n",
    "  -confidence intervals\n",
    "  \n",
    "  -p-values\n",
    "  \n",
    "  \n",
    "- A hypothesis test can be simulated by:\n",
    "\n",
    "  -taking repeated random samples where the null hypothesis is assumed to be true\n",
    "  \n",
    "  -using those simulated samples to generate a null distribution\n",
    "  \n",
    "  -comparing an observed sample statistic to that null distribution"
   ]
  },
  {
   "cell_type": "code",
   "execution_count": 27,
   "metadata": {},
   "outputs": [
    {
     "name": "stdout",
     "output_type": "stream",
     "text": [
      "lower tail one-sided test:\n",
      "simulation p-value:  0.2576\n",
      "binom_test p-value:  0.25468926056232155\n",
      "upper tail one-sided test:\n",
      "simulation p-value:  0.3594\n",
      "binom_test p-value:  0.3483811994999115\n",
      "two-sided test:\n",
      "simulation p-value:  0.2625\n",
      "binom_test p-value:  0.26313834687316334\n"
     ]
    }
   ],
   "source": [
    "def simulation_binomial_test(observed_successes, n, p, alternative_hypothesis):\n",
    "  #initialize null_outcomes\n",
    "  null_outcomes = []\n",
    "  \n",
    "  #generate the simulated null distribution\n",
    "  for i in range(10000):\n",
    "    simulated_monthly_visitors = np.random.choice(['y', 'n'], size=n, p=[p, 1-p])\n",
    "    num_purchased = np.sum(simulated_monthly_visitors == 'y')\n",
    "    null_outcomes.append(num_purchased)\n",
    "\n",
    "  null_outcomes = np.array(null_outcomes)\n",
    "\n",
    "  if alternative_hypothesis == 'less':\n",
    "    p_value = np.sum(null_outcomes <= observed_successes)/len(null_outcomes) \n",
    "  elif alternative_hypothesis == 'greater':\n",
    "    p_value = np.sum(null_outcomes >= observed_successes)/len(null_outcomes)\n",
    "  else:\n",
    "    difference = np.abs(p*n - observed_successes)\n",
    "    upper = p*n + difference\n",
    "    lower = p*n - difference\n",
    "    p_value = np.sum((null_outcomes >= upper) | (null_outcomes <= lower))/len(null_outcomes)\n",
    "  \n",
    "  #return the p-value\n",
    "  return p_value\n",
    "\n",
    "#Test your function:\n",
    "print('lower tail one-sided test:')\n",
    "p_value1 = simulation_binomial_test(45, 500, .1, alternative_hypothesis = 'less')\n",
    "print(\"simulation p-value: \", p_value1)\n",
    "\n",
    "p_value2 = binom_test(45, 500, .1, alternative = 'less')\n",
    "print(\"binom_test p-value: \", p_value2)\n",
    "\n",
    "print('upper tail one-sided test:')\n",
    "p_value1 = simulation_binomial_test(53, 500, .1, alternative_hypothesis = 'greater')\n",
    "print(\"simulation p-value: \", p_value1)\n",
    "\n",
    "p_value2 = binom_test(53, 500, .1, alternative = 'greater')\n",
    "print(\"binom_test p-value: \", p_value2)\n",
    "\n",
    "print('two-sided test:')\n",
    "p_value1 = simulation_binomial_test(42, 500, .1, alternative_hypothesis = 'not_equal')\n",
    "print(\"simulation p-value: \", p_value1)\n",
    "\n",
    "p_value2 = binom_test(42, 500, .1)\n",
    "print(\"binom_test p-value: \", p_value2)"
   ]
  },
  {
   "cell_type": "code",
   "execution_count": null,
   "metadata": {},
   "outputs": [],
   "source": []
  },
  {
   "cell_type": "code",
   "execution_count": null,
   "metadata": {},
   "outputs": [],
   "source": []
  },
  {
   "cell_type": "code",
   "execution_count": null,
   "metadata": {},
   "outputs": [],
   "source": []
  },
  {
   "cell_type": "markdown",
   "metadata": {},
   "source": [
    "#### Introduction to Significance Thresholds\n",
    "Sometimes, when we run a hypothesis test, we simply report a p-value or a confidence interval and give an interpretation (eg., the p-value was 0.05, which means that there is a 5% chance of observing two or fewer heads in 10 coin flips).\n",
    "\n",
    "In other situations, we want to use our p-value to make a decision or answer a yes/no question. For example, suppose that we’re developing a new quiz question at Codecademy and want learners to have a 70% chance of getting the question right (higher would mean the question is too easy, lower would mean the question is too hard). We show our quiz question to a sample of 100 learners and 60 of them get it right. Is this significantly different from our target of 70%? If so, we want to remove the question and try to rewrite it.\n",
    "\n",
    "In order to turn a p-value, which is a probability, into a yes or no answer, data scientists often use a pre-set significance threshold. The significance threshold can be any number between 0 and 1, but a common choice is 0.05. P-values that are less than this threshold are considered “significant”, while larger p-values are considered “not significant”."
   ]
  },
  {
   "cell_type": "markdown",
   "metadata": {},
   "source": [
    "#### Interpreting a P-Value based on a Significance Threshold\n",
    "Let’s return to the quiz question example from the previous exercise — we want to remove our quiz question from our website if the probability of a correct response is different from 70%. Suppose we collected data from 100 learners and ran a binomial hypothesis test with the following null and alternative hypotheses:\n",
    "\n",
    "- Null: The probability that a learner gets the question correct is 70%.\n",
    "- Alternative: The probability that a learner gets the question correct is not 70%.\n",
    "\n",
    "Assuming that we set a significance threshold of 0.05 for this test:\n",
    "\n",
    "- If the p-value is less than 0.05, the p-value is significant. We will “reject the null hypothesis” and conclude that the probability of a correct answer is significantly different from 70%. This would lead us to re-rewrite the question.\n",
    "\n",
    "- If the p-value is greater than 0.05, the p-value is not significant. We will not be able to reject the null hypothesis, and will conclude that the probability of a correct answer is not significantly different from 70%. This would lead us to leave the question on the site.\n"
   ]
  },
  {
   "cell_type": "markdown",
   "metadata": {},
   "source": [
    "#### Error Types\n",
    "Whenever we run a hypothesis test using a significance threshold, we expose ourselves to making two different kinds of mistakes: type I errors (false positives) and type II errors (false negatives):\n",
    "\n",
    "<img src = 'pic.png'>\n",
    "\n",
    "Consider the quiz question hypothesis test described in the previous exercises:\n",
    "\n",
    "- Null: The probability that a learner answers a question correctly is 70%.\n",
    "- Alternative: The probability that a learner answers a question correctly is not 70%.\n",
    "\n",
    "Suppose, for a moment, that the true probability of a learner answering the question correctly is 70% (if we showed the question to ALL learners, exactly 70% would answer it correctly). This puts us in the first column of the table above (the null hypothesis “is true”). If we run a test and calculate a significant p-value, we will make type I error (also called a false positive because the p-value is falsely significant), leading us to remove the question when we don’t need to.\n",
    "\n",
    "On the other hand, if the true probability of getting the question correct is not 70%, the null hypothesis “is false” (the right-most column of our table). If we run a test and calculate a non-significant p-value, we make a type II error, leading us to leave the question on our site when we should have taken it down."
   ]
  },
  {
   "cell_type": "markdown",
   "metadata": {},
   "source": [
    "Suppose that the average score on a standardized test is 50 points. A researcher wants to know whether students who take this test in an ergonomically designed chair score significantly differently from the general population of test-takers. The researcher randomly assigns 100 students to take the test in an ergonomic chair. Then, the researcher runs a hypothesis test with a significance threshold of 0.05 and the following null and alternative hypotheses:\n",
    "\n",
    "- Null: The mean score for students who take the test in an ergonomic chair is 50 points.\n",
    "- Alternative: The mean score for students who take the test in an ergonomic chair is not 50 points.\n",
    "\n",
    "Suppose that the truth (which the researcher doesn’t know) is: if every student took the test in an ergonomic chair, the average score for all test-takers would be 52 points.\n",
    "\n",
    "Based on their sample of only 100 students, the researcher calculates a p-value of 0.07. In script.py, change the value of outcome to:\n",
    "\n",
    "'correct' if the researcher will come to the correct conclusion based on this test\n",
    "'type one' if the researcher will make a type I error based on this test\n",
    "'type two' if the researcher will make a type II error based on this test"
   ]
  },
  {
   "cell_type": "code",
   "execution_count": 28,
   "metadata": {},
   "outputs": [
    {
     "name": "stdout",
     "output_type": "stream",
     "text": [
      "0.662\n"
     ]
    }
   ],
   "source": [
    "# Initialize num_errors\n",
    "false_positives = 0\n",
    "# Set significance threshold value\n",
    "sig_threshold = 0.05\n",
    "\n",
    "# Run binomial tests & record errors\n",
    "for i in range(1000):\n",
    "    sim_sample = np.random.choice(['correct', 'incorrect'], size=100, p=[0.8, 0.2])\n",
    "    num_correct = np.sum(sim_sample == 'correct')\n",
    "    p_val = binom_test(num_correct, 100, .7)\n",
    "    if p_val < sig_threshold:\n",
    "        false_positives += 1\n",
    "\n",
    "# Print proportion of type I errors \n",
    "print(false_positives/1000)"
   ]
  },
  {
   "cell_type": "code",
   "execution_count": null,
   "metadata": {},
   "outputs": [],
   "source": []
  }
 ],
 "metadata": {
  "kernelspec": {
   "display_name": "Python 3",
   "language": "python",
   "name": "python3"
  },
  "language_info": {
   "codemirror_mode": {
    "name": "ipython",
    "version": 3
   },
   "file_extension": ".py",
   "mimetype": "text/x-python",
   "name": "python",
   "nbconvert_exporter": "python",
   "pygments_lexer": "ipython3",
   "version": "3.8.5"
  }
 },
 "nbformat": 4,
 "nbformat_minor": 4
}
