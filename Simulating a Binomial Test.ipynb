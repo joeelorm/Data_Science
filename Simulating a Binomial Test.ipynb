{
 "cells": [
  {
   "cell_type": "markdown",
   "metadata": {},
   "source": [
    "Binomial tests are useful for comparing the frequency of some outcome in a sample to the expected probability of that outcome. For example, if we expect 90% of ticketed passengers to show up for their flight but only 80 of 100 ticketed passengers actually show up, we could use a binomial test to understand whether 80 is significantly different from 90.\n",
    "\n",
    "Binomial tests are similar to one-sample t-tests in that they test a sample statistic against some population-level expectation. The difference is that:\n",
    "\n",
    "- binomial tests are used for binary categorical data to compare a sample frequency to an expected population-level probability\n",
    "\n",
    "- one-sample t-tests are used for quantitative data to compare a sample mean to an expected population mean."
   ]
  },
  {
   "cell_type": "code",
   "execution_count": 1,
   "metadata": {},
   "outputs": [],
   "source": [
    "import numpy as np\n",
    "import pandas as pd"
   ]
  },
  {
   "cell_type": "markdown",
   "metadata": {},
   "source": [
    "We will walk through the process of using a binomial test to analyze data from a hypothetical online company, Live-it-LIVE.com — a website that sells all the necessary props and costumes to recreate iconic movie scenes at home!"
   ]
  },
  {
   "cell_type": "code",
   "execution_count": 2,
   "metadata": {},
   "outputs": [
    {
     "name": "stdout",
     "output_type": "stream",
     "text": [
      "               timestamp purchase                       item\n",
      "0    2020-01-17 17:23:06        y  cue cards - love actually\n",
      "1    2020-01-25 17:09:39        n                        NaN\n",
      "2    2020-01-25 05:22:01        n                        NaN\n",
      "3    2020-01-18 04:33:40        y      t-rex - jurassic park\n",
      "4    2020-01-24 17:24:52        n                        NaN\n",
      "..                   ...      ...                        ...\n",
      "495  2020-01-16 08:40:02        n                        NaN\n",
      "496  2020-01-09 21:11:19        n                        NaN\n",
      "497  2020-01-31 08:54:51        n                        NaN\n",
      "498  2020-01-21 19:35:03        n                        NaN\n",
      "499  2020-01-31 09:48:43        n                        NaN\n",
      "\n",
      "[500 rows x 3 columns]\n"
     ]
    }
   ],
   "source": [
    "monthly_report = pd.read_csv('../Datasets/monthly_report.csv')\n",
    "print(monthly_report)"
   ]
  },
  {
   "cell_type": "markdown",
   "metadata": {},
   "source": [
    "Note that the purchase column tells us whether a purchase was made; if so, the item that was purchased is listed in the item column. "
   ]
  },
  {
   "cell_type": "markdown",
   "metadata": {},
   "source": [
    "#### Summarizing the Sample\n",
    "The marketing department at Live-it-LIVE reports that, during this time of year, about 10% of visitors to Live-it-LIVE.com make a purchase.\n",
    "\n",
    "The monthly report shows every visitor to the site and whether or not they made a purchase. The checkout page had a small bug this month, so the business department wants to know whether the purchase rate dipped below expectation. They’ve asked us to investigate this question.\n",
    "\n",
    "In order to run a hypothesis test to address this, we’ll first need to know two things from the data:\n",
    "\n",
    "The number of people who visited the website\n",
    "The number of people who made a purchase on the website\n",
    "Assuming each row of our dataset represents a unique site visitor, we can calculate the number of people who visited the website by finding the number of rows in the data frame. We can then find the number who made a purchase by using a conditional statement to add up the total number of rows where a purchase was made.\n",
    "\n",
    "For example, suppose that the dataset candy contains a column named chocolate with 'yes' recorded for every candy that has chocolate in it and 'no' otherwise. The following code calculates the sample size (the number of candies) and the number of those candies that contain chocolate:\n",
    "\n",
    "sample size (number of rows): \n",
    "`samp_size = len(candy)`\n",
    " \n",
    "number with chocolate: \n",
    "`total_with_chocolate = np.sum(candy.chocolate == 'yes')`"
   ]
  },
  {
   "cell_type": "code",
   "execution_count": 3,
   "metadata": {},
   "outputs": [
    {
     "name": "stdout",
     "output_type": "stream",
     "text": [
      "500\n"
     ]
    }
   ],
   "source": [
    "#calculate and print sample_size:\n",
    "sample_size = len(monthly_report)\n",
    "print(sample_size)"
   ]
  },
  {
   "cell_type": "code",
   "execution_count": 4,
   "metadata": {},
   "outputs": [
    {
     "name": "stdout",
     "output_type": "stream",
     "text": [
      "41\n"
     ]
    }
   ],
   "source": [
    "#calculate and print num_purchased:\n",
    "num_purchased = np.sum(monthly_report['purchase'] == 'y')\n",
    "print(num_purchased)"
   ]
  },
  {
   "cell_type": "code",
   "execution_count": null,
   "metadata": {},
   "outputs": [],
   "source": []
  }
 ],
 "metadata": {
  "kernelspec": {
   "display_name": "Python 3",
   "language": "python",
   "name": "python3"
  },
  "language_info": {
   "codemirror_mode": {
    "name": "ipython",
    "version": 3
   },
   "file_extension": ".py",
   "mimetype": "text/x-python",
   "name": "python",
   "nbconvert_exporter": "python",
   "pygments_lexer": "ipython3",
   "version": "3.8.5"
  }
 },
 "nbformat": 4,
 "nbformat_minor": 4
}
