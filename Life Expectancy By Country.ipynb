{
 "cells": [
  {
   "cell_type": "markdown",
   "metadata": {},
   "source": [
    "#### MINI PROJECT\n",
    "\n",
    "Over the course of the past few centuries, technological and medical advancements have helped increase the life expectancy of humans. However, as of now, the average life expectancy of humans varies depending on what country you live in.\n",
    "\n",
    "In this project, we will investigate a dataset containing information about the average life expectancy in 158 different countries. We will specifically look at how a country’s economic success might impact the life expectancy in that area."
   ]
  },
  {
   "cell_type": "code",
   "execution_count": 1,
   "metadata": {},
   "outputs": [],
   "source": [
    "#Importing necessary libraries\n",
    "import numpy as np\n",
    "import pandas as pd\n",
    "import matplotlib.pyplot as plt"
   ]
  },
  {
   "cell_type": "code",
   "execution_count": 2,
   "metadata": {},
   "outputs": [
    {
     "name": "stdout",
     "output_type": "stream",
     "text": [
      "       Country  Life Expectancy          GDP\n",
      "0  Afghanistan         58.19375   340.015425\n",
      "1      Albania         75.15625  2119.726679\n",
      "2      Algeria         73.61875  2847.853392\n"
     ]
    }
   ],
   "source": [
    "#Loading the data from a csv file into a dataframe \n",
    "data = pd.read_csv('../Datasets/country_data.csv')\n",
    "print(data.head(3))"
   ]
  },
  {
   "cell_type": "code",
   "execution_count": 3,
   "metadata": {},
   "outputs": [],
   "source": [
    "#Isolating the Life Expectancy Column and saving it to a variable called life_expectancy\n",
    "life_expectancy = data['Life Expectancy']"
   ]
  },
  {
   "cell_type": "code",
   "execution_count": 7,
   "metadata": {},
   "outputs": [
    {
     "name": "stdout",
     "output_type": "stream",
     "text": [
      "[62.325     72.525     75.4421875]\n"
     ]
    }
   ],
   "source": [
    "life_expectancy_quartiles = np.quantile(life_expectancy, [0.25, 0.5, 0.75])\n",
    "print(life_expectancy_quartiles)"
   ]
  },
  {
   "cell_type": "code",
   "execution_count": 9,
   "metadata": {},
   "outputs": [
    {
     "data": {
      "image/png": "[encoded data removed]",
      "text/plain": [
       "<Figure size 432x288 with 1 Axes>"
      ]
     },
     "metadata": {
      "needs_background": "light"
     },
     "output_type": "display_data"
    }
   ],
   "source": [
    "#Plotting a histogram of the life expectancy\n",
    "plt.hist(life_expectancy, edgecolor = 'black')\n",
    "for quartile in life_expectancy_quartiles:\n",
    "    plt.axvline(quartile, color = 'red')\n",
    "plt.xlabel('Life Expectancy')\n",
    "plt.ylabel('Count')\n",
    "plt.show()"
   ]
  },
  {
   "cell_type": "markdown",
   "metadata": {},
   "source": [
    "Let’s take a moment to think about the meaning of these quartiles. If your country has a life expectancy of 70 years, does that fall in the first, second, third, or final quarter of the data?\n",
    "\n",
    "70 is between the first and second quartile, so it falls in the second quarter of the data."
   ]
  },
  {
   "cell_type": "markdown",
   "metadata": {},
   "source": [
    "GDP is a mesaure of a country’s wealth. Let’s now use the GDP data to see if life expectancy is affected by this value.\n",
    "\n",
    "Let’s split the data into two groups based on GDP. If we find the median GDP, we can create two datasets for “low GDP countries” and “high GDP countries.\n",
    "\n",
    "To start, let’s isolate the GDP column and store it in a variable named gdp."
   ]
  },
  {
   "cell_type": "code",
   "execution_count": 10,
   "metadata": {},
   "outputs": [
    {
     "name": "stdout",
     "output_type": "stream",
     "text": [
      "2938.0781152500003\n"
     ]
    }
   ],
   "source": [
    "#Isolating the GDP column and storing it as GDP\n",
    "gdp = data['GDP']\n",
    "\n",
    "#Finding the median of the GDP\n",
    "median_gdp = np.quantile(gdp, 0.5)\n",
    "print(median_gdp)"
   ]
  },
  {
   "cell_type": "code",
   "execution_count": null,
   "metadata": {},
   "outputs": [],
   "source": []
  }
 ],
 "metadata": {
  "kernelspec": {
   "display_name": "Python 3",
   "language": "python",
   "name": "python3"
  },
  "language_info": {
   "codemirror_mode": {
    "name": "ipython",
    "version": 3
   },
   "file_extension": ".py",
   "mimetype": "text/x-python",
   "name": "python",
   "nbconvert_exporter": "python",
   "pygments_lexer": "ipython3",
   "version": "3.8.5"
  }
 },
 "nbformat": 4,
 "nbformat_minor": 4
}
