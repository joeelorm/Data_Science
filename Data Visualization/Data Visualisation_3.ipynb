{
 "cells": [
  {
   "cell_type": "markdown",
   "metadata": {},
   "source": [
    "Roller coasters are thrilling amusement park rides designed to make you squeal and scream! They take you up high, drop you to the ground quickly, and sometimes even spin you upside down before returning to a stop. Today you will be taking control back from the roller coasters and visualizing data covering international roller coaster rankings and roller coaster statistics.\n",
    "\n",
    "Roller coasters are often split into two main categories based on their construction material: wood or steel. Rankings for the best wood and steel roller coasters from the 2013 to 2018 Golden Ticket Awards are provided in 'Golden_Ticket_Award_Winners_Wood.csv' and 'Golden_Ticket_Award_Winners_Steel.csv', respectively. Load each csv into a DataFrame and inspect it to gain familiarity with the data."
   ]
  },
  {
   "cell_type": "code",
   "execution_count": 1,
   "metadata": {},
   "outputs": [],
   "source": [
    "# Import necessary libraries\n",
    "import numpy as np\n",
    "import pandas as pd\n",
    "import matplotlib.pyplot as plt"
   ]
  },
  {
   "cell_type": "code",
   "execution_count": 2,
   "metadata": {},
   "outputs": [],
   "source": [
    "# load rankings data\n",
    "winners_wood = pd.read_csv('/Users/elorm/Documents/Repos/Datasets/Golden_Ticket_Award_Winners_Wood.csv')\n",
    "\n",
    "# load rankings data\n",
    "winners_steel = pd.read_csv('/Users/elorm/Documents/Repos/Datasets/Golden_Ticket_Award_Winners_Steel.csv')"
   ]
  },
  {
   "cell_type": "code",
   "execution_count": 3,
   "metadata": {},
   "outputs": [
    {
     "name": "stdout",
     "output_type": "stream",
     "text": [
      "<class 'pandas.core.frame.DataFrame'>\n",
      "RangeIndex: 180 entries, 0 to 179\n",
      "Data columns (total 8 columns):\n",
      " #   Column        Non-Null Count  Dtype \n",
      "---  ------        --------------  ----- \n",
      " 0   Rank          180 non-null    int64 \n",
      " 1   Name          180 non-null    object\n",
      " 2   Park          180 non-null    object\n",
      " 3   Location      180 non-null    object\n",
      " 4   Supplier      179 non-null    object\n",
      " 5   Year Built    180 non-null    int64 \n",
      " 6   Points        180 non-null    int64 \n",
      " 7   Year of Rank  180 non-null    int64 \n",
      "dtypes: int64(4), object(4)\n",
      "memory usage: 11.4+ KB\n"
     ]
    }
   ],
   "source": [
    "winners_wood.info()"
   ]
  },
  {
   "cell_type": "code",
   "execution_count": 4,
   "metadata": {},
   "outputs": [
    {
     "name": "stdout",
     "output_type": "stream",
     "text": [
      "   Rank          Name                       Park        Location  \\\n",
      "0     1  Boulder Dash             Lake Compounce  Bristol, Conn.   \n",
      "1     2       El Toro  Six Flags Great Adventure   Jackson, N.J.   \n",
      "2     3       Phoenix  Knoebels Amusement Resort   Elysburg, Pa.   \n",
      "\n",
      "           Supplier  Year Built  Points  Year of Rank  \n",
      "0               CCI        2000    1333          2013  \n",
      "1           Intamin        2006    1302          2013  \n",
      "2  Dinn/PTC-Schmeck        1985    1088          2013  \n"
     ]
    }
   ],
   "source": [
    "print(winners_wood.head(3))"
   ]
  },
  {
   "cell_type": "code",
   "execution_count": 5,
   "metadata": {},
   "outputs": [
    {
     "data": {
      "text/html": [
       "<div>\n",
       "<style scoped>\n",
       "    .dataframe tbody tr th:only-of-type {\n",
       "        vertical-align: middle;\n",
       "    }\n",
       "\n",
       "    .dataframe tbody tr th {\n",
       "        vertical-align: top;\n",
       "    }\n",
       "\n",
       "    .dataframe thead th {\n",
       "        text-align: right;\n",
       "    }\n",
       "</style>\n",
       "<table border=\"1\" class=\"dataframe\">\n",
       "  <thead>\n",
       "    <tr style=\"text-align: right;\">\n",
       "      <th></th>\n",
       "      <th>Rank</th>\n",
       "      <th>Name</th>\n",
       "      <th>Park</th>\n",
       "      <th>Location</th>\n",
       "      <th>Supplier</th>\n",
       "      <th>Year Built</th>\n",
       "      <th>Points</th>\n",
       "      <th>Year of Rank</th>\n",
       "    </tr>\n",
       "  </thead>\n",
       "  <tbody>\n",
       "    <tr>\n",
       "      <th>0</th>\n",
       "      <td>1</td>\n",
       "      <td>Boulder Dash</td>\n",
       "      <td>Lake Compounce</td>\n",
       "      <td>Bristol, Conn.</td>\n",
       "      <td>CCI</td>\n",
       "      <td>2000</td>\n",
       "      <td>1333</td>\n",
       "      <td>2013</td>\n",
       "    </tr>\n",
       "    <tr>\n",
       "      <th>10</th>\n",
       "      <td>1</td>\n",
       "      <td>Boulder Dash</td>\n",
       "      <td>Lake Compounce</td>\n",
       "      <td>Bristol, Conn.</td>\n",
       "      <td>CCI</td>\n",
       "      <td>2000</td>\n",
       "      <td>1480</td>\n",
       "      <td>2014</td>\n",
       "    </tr>\n",
       "    <tr>\n",
       "      <th>20</th>\n",
       "      <td>1</td>\n",
       "      <td>Boulder Dash</td>\n",
       "      <td>Lake Compounce</td>\n",
       "      <td>Bristol, Conn.</td>\n",
       "      <td>CCI</td>\n",
       "      <td>2000</td>\n",
       "      <td>1625</td>\n",
       "      <td>2015</td>\n",
       "    </tr>\n",
       "    <tr>\n",
       "      <th>30</th>\n",
       "      <td>1</td>\n",
       "      <td>Boulder Dash</td>\n",
       "      <td>Lake Compounce</td>\n",
       "      <td>Bristol, Conn.</td>\n",
       "      <td>Custom Coasters</td>\n",
       "      <td>2000</td>\n",
       "      <td>1216</td>\n",
       "      <td>2016</td>\n",
       "    </tr>\n",
       "    <tr>\n",
       "      <th>82</th>\n",
       "      <td>3</td>\n",
       "      <td>Boulder Dash</td>\n",
       "      <td>Lake Compounce</td>\n",
       "      <td>Bristol, Conn.</td>\n",
       "      <td>Custom Coasters</td>\n",
       "      <td>2000</td>\n",
       "      <td>1171</td>\n",
       "      <td>2017</td>\n",
       "    </tr>\n",
       "    <tr>\n",
       "      <th>133</th>\n",
       "      <td>4</td>\n",
       "      <td>Boulder Dash</td>\n",
       "      <td>Lake Compounce</td>\n",
       "      <td>Bristol, Conn.</td>\n",
       "      <td>Custom Coasters</td>\n",
       "      <td>2000</td>\n",
       "      <td>982</td>\n",
       "      <td>2018</td>\n",
       "    </tr>\n",
       "  </tbody>\n",
       "</table>\n",
       "</div>"
      ],
      "text/plain": [
       "     Rank          Name            Park        Location         Supplier  \\\n",
       "0       1  Boulder Dash  Lake Compounce  Bristol, Conn.              CCI   \n",
       "10      1  Boulder Dash  Lake Compounce  Bristol, Conn.              CCI   \n",
       "20      1  Boulder Dash  Lake Compounce  Bristol, Conn.              CCI   \n",
       "30      1  Boulder Dash  Lake Compounce  Bristol, Conn.  Custom Coasters   \n",
       "82      3  Boulder Dash  Lake Compounce  Bristol, Conn.  Custom Coasters   \n",
       "133     4  Boulder Dash  Lake Compounce  Bristol, Conn.  Custom Coasters   \n",
       "\n",
       "     Year Built  Points  Year of Rank  \n",
       "0          2000    1333          2013  \n",
       "10         2000    1480          2014  \n",
       "20         2000    1625          2015  \n",
       "30         2000    1216          2016  \n",
       "82         2000    1171          2017  \n",
       "133        2000     982          2018  "
      ]
     },
     "execution_count": 5,
     "metadata": {},
     "output_type": "execute_result"
    }
   ],
   "source": [
    "winners_wood[winners_wood['Name'] == 'Boulder Dash']"
   ]
  },
  {
   "cell_type": "code",
   "execution_count": 6,
   "metadata": {},
   "outputs": [
    {
     "data": {
      "text/html": [
       "<div>\n",
       "<style scoped>\n",
       "    .dataframe tbody tr th:only-of-type {\n",
       "        vertical-align: middle;\n",
       "    }\n",
       "\n",
       "    .dataframe tbody tr th {\n",
       "        vertical-align: top;\n",
       "    }\n",
       "\n",
       "    .dataframe thead th {\n",
       "        text-align: right;\n",
       "    }\n",
       "</style>\n",
       "<table border=\"1\" class=\"dataframe\">\n",
       "  <thead>\n",
       "    <tr style=\"text-align: right;\">\n",
       "      <th></th>\n",
       "      <th>Rank</th>\n",
       "      <th>Name</th>\n",
       "      <th>Park</th>\n",
       "      <th>Location</th>\n",
       "      <th>Supplier</th>\n",
       "      <th>Year Built</th>\n",
       "      <th>Points</th>\n",
       "      <th>Year of Rank</th>\n",
       "    </tr>\n",
       "  </thead>\n",
       "  <tbody>\n",
       "    <tr>\n",
       "      <th>0</th>\n",
       "      <td>1</td>\n",
       "      <td>Boulder Dash</td>\n",
       "      <td>Lake Compounce</td>\n",
       "      <td>Bristol, Conn.</td>\n",
       "      <td>CCI</td>\n",
       "      <td>2000</td>\n",
       "      <td>1333</td>\n",
       "      <td>2013</td>\n",
       "    </tr>\n",
       "    <tr>\n",
       "      <th>10</th>\n",
       "      <td>1</td>\n",
       "      <td>Boulder Dash</td>\n",
       "      <td>Lake Compounce</td>\n",
       "      <td>Bristol, Conn.</td>\n",
       "      <td>CCI</td>\n",
       "      <td>2000</td>\n",
       "      <td>1480</td>\n",
       "      <td>2014</td>\n",
       "    </tr>\n",
       "    <tr>\n",
       "      <th>20</th>\n",
       "      <td>1</td>\n",
       "      <td>Boulder Dash</td>\n",
       "      <td>Lake Compounce</td>\n",
       "      <td>Bristol, Conn.</td>\n",
       "      <td>CCI</td>\n",
       "      <td>2000</td>\n",
       "      <td>1625</td>\n",
       "      <td>2015</td>\n",
       "    </tr>\n",
       "    <tr>\n",
       "      <th>30</th>\n",
       "      <td>1</td>\n",
       "      <td>Boulder Dash</td>\n",
       "      <td>Lake Compounce</td>\n",
       "      <td>Bristol, Conn.</td>\n",
       "      <td>Custom Coasters</td>\n",
       "      <td>2000</td>\n",
       "      <td>1216</td>\n",
       "      <td>2016</td>\n",
       "    </tr>\n",
       "    <tr>\n",
       "      <th>82</th>\n",
       "      <td>3</td>\n",
       "      <td>Boulder Dash</td>\n",
       "      <td>Lake Compounce</td>\n",
       "      <td>Bristol, Conn.</td>\n",
       "      <td>Custom Coasters</td>\n",
       "      <td>2000</td>\n",
       "      <td>1171</td>\n",
       "      <td>2017</td>\n",
       "    </tr>\n",
       "    <tr>\n",
       "      <th>133</th>\n",
       "      <td>4</td>\n",
       "      <td>Boulder Dash</td>\n",
       "      <td>Lake Compounce</td>\n",
       "      <td>Bristol, Conn.</td>\n",
       "      <td>Custom Coasters</td>\n",
       "      <td>2000</td>\n",
       "      <td>982</td>\n",
       "      <td>2018</td>\n",
       "    </tr>\n",
       "  </tbody>\n",
       "</table>\n",
       "</div>"
      ],
      "text/plain": [
       "     Rank          Name            Park        Location         Supplier  \\\n",
       "0       1  Boulder Dash  Lake Compounce  Bristol, Conn.              CCI   \n",
       "10      1  Boulder Dash  Lake Compounce  Bristol, Conn.              CCI   \n",
       "20      1  Boulder Dash  Lake Compounce  Bristol, Conn.              CCI   \n",
       "30      1  Boulder Dash  Lake Compounce  Bristol, Conn.  Custom Coasters   \n",
       "82      3  Boulder Dash  Lake Compounce  Bristol, Conn.  Custom Coasters   \n",
       "133     4  Boulder Dash  Lake Compounce  Bristol, Conn.  Custom Coasters   \n",
       "\n",
       "     Year Built  Points  Year of Rank  \n",
       "0          2000    1333          2013  \n",
       "10         2000    1480          2014  \n",
       "20         2000    1625          2015  \n",
       "30         2000    1216          2016  \n",
       "82         2000    1171          2017  \n",
       "133        2000     982          2018  "
      ]
     },
     "execution_count": 6,
     "metadata": {},
     "output_type": "execute_result"
    }
   ],
   "source": [
    "roller_coaster = winners_wood[(winners_wood['Name'] == 'Boulder Dash') & (winners_wood['Park'] == 'Lake Compounce')]\n",
    "roller_coaster"
   ]
  },
  {
   "cell_type": "code",
   "execution_count": 7,
   "metadata": {},
   "outputs": [],
   "source": [
    "# Create a function to plot rankings over time for 1 roller coaster\n",
    "def roller_coaster_ranking_plotter(name, parkname, df):\n",
    "    roller_coaster = df[(df['Name'] == name) & (df['Park'] == parkname)]\n",
    "    rank = roller_coaster['Rank']\n",
    "    times = roller_coaster['Year of Rank']\n",
    "    #Create the plots\n",
    "    plt.figure(figsize = (10, 5))\n",
    "    ax = plt.subplot()\n",
    "    plt.plot(times, rank, color = 'slateblue')\n",
    "    plt.ylabel('Rank')\n",
    "    plt.xlabel('Year')\n",
    "    plt.title('Ranking for {} Roller Coaster at {} park'.format(name, parkname))\n",
    "    plt.show()"
   ]
  },
  {
   "cell_type": "code",
   "execution_count": 8,
   "metadata": {},
   "outputs": [
    {
     "data": {
      "image/png": "[encoded data removed]",
      "text/plain": [
       "<Figure size 720x360 with 1 Axes>"
      ]
     },
     "metadata": {
      "needs_background": "light"
     },
     "output_type": "display_data"
    }
   ],
   "source": [
    "roller_coaster_ranking_plotter('Boulder Dash','Lake Compounce', winners_wood)"
   ]
  },
  {
   "cell_type": "code",
   "execution_count": 9,
   "metadata": {},
   "outputs": [
    {
     "data": {
      "text/html": [
       "<div>\n",
       "<style scoped>\n",
       "    .dataframe tbody tr th:only-of-type {\n",
       "        vertical-align: middle;\n",
       "    }\n",
       "\n",
       "    .dataframe tbody tr th {\n",
       "        vertical-align: top;\n",
       "    }\n",
       "\n",
       "    .dataframe thead th {\n",
       "        text-align: right;\n",
       "    }\n",
       "</style>\n",
       "<table border=\"1\" class=\"dataframe\">\n",
       "  <thead>\n",
       "    <tr style=\"text-align: right;\">\n",
       "      <th></th>\n",
       "      <th>Rank</th>\n",
       "      <th>Name</th>\n",
       "      <th>Park</th>\n",
       "      <th>Location</th>\n",
       "      <th>Supplier</th>\n",
       "      <th>Year Built</th>\n",
       "      <th>Points</th>\n",
       "      <th>Year of Rank</th>\n",
       "    </tr>\n",
       "  </thead>\n",
       "  <tbody>\n",
       "    <tr>\n",
       "      <th>1</th>\n",
       "      <td>2</td>\n",
       "      <td>El Toro</td>\n",
       "      <td>Six Flags Great Adventure</td>\n",
       "      <td>Jackson, N.J.</td>\n",
       "      <td>Intamin</td>\n",
       "      <td>2006</td>\n",
       "      <td>1302</td>\n",
       "      <td>2013</td>\n",
       "    </tr>\n",
       "    <tr>\n",
       "      <th>11</th>\n",
       "      <td>2</td>\n",
       "      <td>El Toro</td>\n",
       "      <td>Six Flags Great Adventure</td>\n",
       "      <td>Jackson, N.J.</td>\n",
       "      <td>Intamin</td>\n",
       "      <td>2006</td>\n",
       "      <td>1291</td>\n",
       "      <td>2014</td>\n",
       "    </tr>\n",
       "    <tr>\n",
       "      <th>21</th>\n",
       "      <td>2</td>\n",
       "      <td>El Toro</td>\n",
       "      <td>Six Flags Great Adventure</td>\n",
       "      <td>Jackson, N.J.</td>\n",
       "      <td>Intamin</td>\n",
       "      <td>2006</td>\n",
       "      <td>1464</td>\n",
       "      <td>2015</td>\n",
       "    </tr>\n",
       "    <tr>\n",
       "      <th>32</th>\n",
       "      <td>3</td>\n",
       "      <td>El Toro</td>\n",
       "      <td>Six Flags Great Adventure</td>\n",
       "      <td>Jackson, N.J.</td>\n",
       "      <td>Intamin</td>\n",
       "      <td>2006</td>\n",
       "      <td>1121</td>\n",
       "      <td>2016</td>\n",
       "    </tr>\n",
       "    <tr>\n",
       "      <th>55</th>\n",
       "      <td>25</td>\n",
       "      <td>El Toro</td>\n",
       "      <td>Freitzeitpark Plohn</td>\n",
       "      <td>Legendfeld, Germany</td>\n",
       "      <td>Great Coasters Int.</td>\n",
       "      <td>2009</td>\n",
       "      <td>166</td>\n",
       "      <td>2016</td>\n",
       "    </tr>\n",
       "    <tr>\n",
       "      <th>80</th>\n",
       "      <td>1</td>\n",
       "      <td>El Toro</td>\n",
       "      <td>Six Flags Great Adventure</td>\n",
       "      <td>Jackson, N.J.</td>\n",
       "      <td>Intamin</td>\n",
       "      <td>2009</td>\n",
       "      <td>1241</td>\n",
       "      <td>2017</td>\n",
       "    </tr>\n",
       "    <tr>\n",
       "      <th>120</th>\n",
       "      <td>41</td>\n",
       "      <td>El Toro</td>\n",
       "      <td>Freitzeitpark Plohn</td>\n",
       "      <td>Legendfeld, Germany</td>\n",
       "      <td>Great Coasters Int.</td>\n",
       "      <td>2006</td>\n",
       "      <td>92</td>\n",
       "      <td>2017</td>\n",
       "    </tr>\n",
       "    <tr>\n",
       "      <th>131</th>\n",
       "      <td>2</td>\n",
       "      <td>El Toro</td>\n",
       "      <td>Six Flags Great Adventure</td>\n",
       "      <td>Jackson, N.J.</td>\n",
       "      <td>Intamin</td>\n",
       "      <td>2006</td>\n",
       "      <td>1197</td>\n",
       "      <td>2018</td>\n",
       "    </tr>\n",
       "  </tbody>\n",
       "</table>\n",
       "</div>"
      ],
      "text/plain": [
       "     Rank     Name                       Park             Location  \\\n",
       "1       2  El Toro  Six Flags Great Adventure        Jackson, N.J.   \n",
       "11      2  El Toro  Six Flags Great Adventure        Jackson, N.J.   \n",
       "21      2  El Toro  Six Flags Great Adventure        Jackson, N.J.   \n",
       "32      3  El Toro  Six Flags Great Adventure        Jackson, N.J.   \n",
       "55     25  El Toro        Freitzeitpark Plohn  Legendfeld, Germany   \n",
       "80      1  El Toro  Six Flags Great Adventure        Jackson, N.J.   \n",
       "120    41  El Toro        Freitzeitpark Plohn  Legendfeld, Germany   \n",
       "131     2  El Toro  Six Flags Great Adventure        Jackson, N.J.   \n",
       "\n",
       "                Supplier  Year Built  Points  Year of Rank  \n",
       "1                Intamin        2006    1302          2013  \n",
       "11               Intamin        2006    1291          2014  \n",
       "21               Intamin        2006    1464          2015  \n",
       "32               Intamin        2006    1121          2016  \n",
       "55   Great Coasters Int.        2009     166          2016  \n",
       "80               Intamin        2009    1241          2017  \n",
       "120  Great Coasters Int.        2006      92          2017  \n",
       "131              Intamin        2006    1197          2018  "
      ]
     },
     "execution_count": 9,
     "metadata": {},
     "output_type": "execute_result"
    }
   ],
   "source": [
    "winners_wood[winners_wood['Name'] == 'El Toro']"
   ]
  },
  {
   "cell_type": "code",
   "execution_count": 10,
   "metadata": {},
   "outputs": [
    {
     "data": {
      "image/png": "[encoded data removed]",
      "text/plain": [
       "<Figure size 720x360 with 1 Axes>"
      ]
     },
     "metadata": {
      "needs_background": "light"
     },
     "output_type": "display_data"
    }
   ],
   "source": [
    "# Create a plot of El Toro ranking over time\n",
    "roller_coaster_ranking_plotter('El Toro', 'Six Flags Great Adventure', winners_wood)"
   ]
  },
  {
   "cell_type": "code",
   "execution_count": null,
   "metadata": {},
   "outputs": [],
   "source": []
  },
  {
   "cell_type": "code",
   "execution_count": 11,
   "metadata": {},
   "outputs": [],
   "source": [
    "#Write a function that will plot the ranking of two given roller coasters over time as lines.\n",
    "def roller_coaster_ranking_plotter_2(name_1, name_2, parkname_1, parkname_2, df):\n",
    "    roller_coaster_1 = df[(df['Name'] == name_1) & (df['Park'] == parkname_1)]\n",
    "    roller_coaster_2 = df[(df['Name'] == name_2) & (df['Park'] == parkname_2)]\n",
    "    \n",
    "    roller_coaster_1_rank = roller_coaster_1['Rank']\n",
    "    roller_coaster_1_times = roller_coaster_1['Year of Rank']\n",
    "    \n",
    "    roller_coaster_2_rank = roller_coaster_2['Rank']\n",
    "    roller_coaster_2_times = roller_coaster_2['Year of Rank']\n",
    "    \n",
    "    #Making the plot\n",
    "    plt.figure(figsize = (10, 5))\n",
    "    ax = plt.subplot()\n",
    "    plt.plot(roller_coaster_1_times, roller_coaster_1_rank, label = name_1, color = 'slateblue', linewidth = 2)\n",
    "    plt.plot(roller_coaster_2_times, roller_coaster_2_rank, label = name_2, color = 'pink', linewidth = 2)\n",
    "    plt.title('Ranking for {} at {} and {} at {} Parks'.format(name_1, parkname_1, name_2, parkname_2))\n",
    "    plt.legend()\n",
    "    plt.ylabel('Rank')\n",
    "    plt.xlabel('Year')"
   ]
  },
  {
   "cell_type": "code",
   "execution_count": 12,
   "metadata": {},
   "outputs": [
    {
     "data": {
      "image/png": "[encoded data removed]",
      "text/plain": [
       "<Figure size 720x360 with 1 Axes>"
      ]
     },
     "metadata": {
      "needs_background": "light"
     },
     "output_type": "display_data"
    }
   ],
   "source": [
    "roller_coaster_ranking_plotter_2('El Toro', 'Boulder Dash', 'Six Flags Great Adventure', 'Lake Compounce', winners_wood)"
   ]
  },
  {
   "cell_type": "code",
   "execution_count": 13,
   "metadata": {},
   "outputs": [
    {
     "data": {
      "text/html": [
       "<div>\n",
       "<style scoped>\n",
       "    .dataframe tbody tr th:only-of-type {\n",
       "        vertical-align: middle;\n",
       "    }\n",
       "\n",
       "    .dataframe tbody tr th {\n",
       "        vertical-align: top;\n",
       "    }\n",
       "\n",
       "    .dataframe thead th {\n",
       "        text-align: right;\n",
       "    }\n",
       "</style>\n",
       "<table border=\"1\" class=\"dataframe\">\n",
       "  <thead>\n",
       "    <tr style=\"text-align: right;\">\n",
       "      <th></th>\n",
       "      <th>Rank</th>\n",
       "      <th>Name</th>\n",
       "      <th>Park</th>\n",
       "      <th>Location</th>\n",
       "      <th>Supplier</th>\n",
       "      <th>Year Built</th>\n",
       "      <th>Points</th>\n",
       "      <th>Year of Rank</th>\n",
       "    </tr>\n",
       "  </thead>\n",
       "  <tbody>\n",
       "    <tr>\n",
       "      <th>0</th>\n",
       "      <td>1</td>\n",
       "      <td>Millennium Force</td>\n",
       "      <td>Cedar Point</td>\n",
       "      <td>Sandusky, Ohio</td>\n",
       "      <td>Intamin</td>\n",
       "      <td>2000</td>\n",
       "      <td>1204</td>\n",
       "      <td>2013</td>\n",
       "    </tr>\n",
       "    <tr>\n",
       "      <th>1</th>\n",
       "      <td>2</td>\n",
       "      <td>Bizarro</td>\n",
       "      <td>Six Flags New England</td>\n",
       "      <td>Agawam, Mass.</td>\n",
       "      <td>Intamin</td>\n",
       "      <td>2000</td>\n",
       "      <td>1011</td>\n",
       "      <td>2013</td>\n",
       "    </tr>\n",
       "    <tr>\n",
       "      <th>2</th>\n",
       "      <td>3</td>\n",
       "      <td>Expedition GeForce</td>\n",
       "      <td>Holiday Park</td>\n",
       "      <td>Hassloch, Germany</td>\n",
       "      <td>Intamin</td>\n",
       "      <td>2001</td>\n",
       "      <td>598</td>\n",
       "      <td>2013</td>\n",
       "    </tr>\n",
       "    <tr>\n",
       "      <th>3</th>\n",
       "      <td>4</td>\n",
       "      <td>Nitro</td>\n",
       "      <td>Six Flags Great Adventure</td>\n",
       "      <td>Jackson, N.J.</td>\n",
       "      <td>B&amp;M</td>\n",
       "      <td>2001</td>\n",
       "      <td>596</td>\n",
       "      <td>2013</td>\n",
       "    </tr>\n",
       "    <tr>\n",
       "      <th>4</th>\n",
       "      <td>5</td>\n",
       "      <td>Apollo’s Chariot</td>\n",
       "      <td>Busch Gardens Williamsburg</td>\n",
       "      <td>Williamsburg, Va.</td>\n",
       "      <td>B&amp;M</td>\n",
       "      <td>1999</td>\n",
       "      <td>542</td>\n",
       "      <td>2013</td>\n",
       "    </tr>\n",
       "  </tbody>\n",
       "</table>\n",
       "</div>"
      ],
      "text/plain": [
       "   Rank                Name                        Park           Location  \\\n",
       "0     1    Millennium Force                 Cedar Point     Sandusky, Ohio   \n",
       "1     2             Bizarro       Six Flags New England      Agawam, Mass.   \n",
       "2     3  Expedition GeForce                Holiday Park  Hassloch, Germany   \n",
       "3     4               Nitro   Six Flags Great Adventure      Jackson, N.J.   \n",
       "4     5    Apollo’s Chariot  Busch Gardens Williamsburg  Williamsburg, Va.   \n",
       "\n",
       "  Supplier  Year Built  Points  Year of Rank  \n",
       "0  Intamin        2000    1204          2013  \n",
       "1  Intamin        2000    1011          2013  \n",
       "2  Intamin        2001     598          2013  \n",
       "3      B&M        2001     596          2013  \n",
       "4      B&M        1999     542          2013  "
      ]
     },
     "execution_count": 13,
     "metadata": {},
     "output_type": "execute_result"
    }
   ],
   "source": [
    "winners_steel.head()"
   ]
  },
  {
   "cell_type": "code",
   "execution_count": 16,
   "metadata": {},
   "outputs": [],
   "source": [
    "\n",
    "# function to plot top n rankings over time\n",
    "def plot_top_n(rankings_df,n):\n",
    "    \n",
    "  top_n_rankings = rankings_df[rankings_df['Rank'] <= n]\n",
    "  fig, ax = plt.subplots(figsize=(10,10))\n",
    "  for coaster in set(top_n_rankings['Name']):\n",
    "    coaster_rankings = top_n_rankings[top_n_rankings['Name'] == coaster]\n",
    "    ax.plot(coaster_rankings['Year of Rank'],coaster_rankings['Rank'],label=coaster)\n",
    "  ax.set_yticks([i for i in range(1,6)])\n",
    "  ax.invert_yaxis()\n",
    "  plt.title(\"Top 10 Rankings\")\n",
    "  plt.xlabel('Year')\n",
    "  plt.ylabel('Ranking')\n",
    "  plt.legend(loc=4)\n",
    "  plt.show()"
   ]
  },
  {
   "cell_type": "code",
   "execution_count": 20,
   "metadata": {},
   "outputs": [
    {
     "data": {
      "image/png": "[encoded data removed]",
      "text/plain": [
       "<Figure size 720x720 with 1 Axes>"
      ]
     },
     "metadata": {
      "needs_background": "light"
     },
     "output_type": "display_data"
    }
   ],
   "source": [
    "plot_top_n(winners_steel, 7)"
   ]
  },
  {
   "cell_type": "code",
   "execution_count": 22,
   "metadata": {},
   "outputs": [
    {
     "name": "stdout",
     "output_type": "stream",
     "text": [
      "            name material_type seating_type  speed  height  length  \\\n",
      "0       Goudurix         Steel     Sit Down   75.0    37.0   950.0   \n",
      "1  Dream catcher         Steel    Suspended   45.0    25.0   600.0   \n",
      "2     Alucinakis         Steel     Sit Down   30.0     8.0   250.0   \n",
      "3       Anaconda        Wooden     Sit Down   85.0    35.0  1200.0   \n",
      "4         Azteka         Steel     Sit Down   55.0    17.0   500.0   \n",
      "\n",
      "   num_inversions     manufacturer            park            status  \n",
      "0             7.0           Vekoma    Parc Asterix  status.operating  \n",
      "1             0.0           Vekoma   Bobbejaanland  status.operating  \n",
      "2             0.0         Zamperla    Terra Mítica  status.operating  \n",
      "3             0.0  William J. Cobb  Walygator Parc  status.operating  \n",
      "4             0.0           Soquet          Le Pal  status.operating  \n"
     ]
    }
   ],
   "source": [
    "# load roller coaster data\n",
    "roller_coasters = pd.read_csv('/Users/elorm/Documents/Repos/Datasets/roller_coasters.csv')\n",
    "print(roller_coasters.head())"
   ]
  },
  {
   "cell_type": "code",
   "execution_count": 23,
   "metadata": {},
   "outputs": [
    {
     "name": "stdout",
     "output_type": "stream",
     "text": [
      "<class 'pandas.core.frame.DataFrame'>\n",
      "RangeIndex: 2802 entries, 0 to 2801\n",
      "Data columns (total 10 columns):\n",
      " #   Column          Non-Null Count  Dtype  \n",
      "---  ------          --------------  -----  \n",
      " 0   name            2799 non-null   object \n",
      " 1   material_type   2802 non-null   object \n",
      " 2   seating_type    2802 non-null   object \n",
      " 3   speed           1478 non-null   float64\n",
      " 4   height          1667 non-null   float64\n",
      " 5   length          1675 non-null   float64\n",
      " 6   num_inversions  2405 non-null   float64\n",
      " 7   manufacturer    2802 non-null   object \n",
      " 8   park            2802 non-null   object \n",
      " 9   status          2802 non-null   object \n",
      "dtypes: float64(4), object(6)\n",
      "memory usage: 219.0+ KB\n"
     ]
    }
   ],
   "source": [
    "roller_coasters.info()"
   ]
  },
  {
   "cell_type": "code",
   "execution_count": null,
   "metadata": {},
   "outputs": [],
   "source": []
  }
 ],
 "metadata": {
  "kernelspec": {
   "display_name": "Python 3",
   "language": "python",
   "name": "python3"
  },
  "language_info": {
   "codemirror_mode": {
    "name": "ipython",
    "version": 3
   },
   "file_extension": ".py",
   "mimetype": "text/x-python",
   "name": "python",
   "nbconvert_exporter": "python",
   "pygments_lexer": "ipython3",
   "version": "3.8.5"
  }
 },
 "nbformat": 4,
 "nbformat_minor": 2
}
