{
 "cells": [
  {
   "cell_type": "markdown",
   "metadata": {},
   "source": [
    "### Visualizing World Cup Data With Seaborn\n",
    "\n",
    "This project will be exploring data from the Fifa World Cup from 1930-2014 to analyze trends and discover insights about the world’s game, fútbol!\n",
    "\n",
    "This Fifa World Cup data is from Kaggle. Kaggle is a platform for data science competitions that hosts many datasets online.\n",
    "\n",
    "Using Seaborn to create a series of plots that explore aggregates and distribution across the goals scored in World Cup games."
   ]
  },
  {
   "cell_type": "code",
   "execution_count": 1,
   "metadata": {},
   "outputs": [],
   "source": [
    "from matplotlib import pyplot as plt\n",
    "import pandas as pd\n",
    "import seaborn as sns"
   ]
  },
  {
   "cell_type": "code",
   "execution_count": 2,
   "metadata": {},
   "outputs": [
    {
     "name": "stdout",
     "output_type": "stream",
     "text": [
      "   Year              Datetime    Stage         Stadium         City  \\\n",
      "0  1930  13 Jul 1930 - 15:00   Group 1         Pocitos  Montevideo    \n",
      "1  1930  13 Jul 1930 - 15:00   Group 4  Parque Central  Montevideo    \n",
      "2  1930  14 Jul 1930 - 12:45   Group 2  Parque Central  Montevideo    \n",
      "3  1930  14 Jul 1930 - 14:50   Group 3         Pocitos  Montevideo    \n",
      "4  1930  15 Jul 1930 - 16:00   Group 1  Parque Central  Montevideo    \n",
      "\n",
      "  Home Team Name  Home Team Goals  Away Team Goals Away Team Name  \\\n",
      "0         France                4                1         Mexico   \n",
      "1            USA                3                0        Belgium   \n",
      "2     Yugoslavia                2                1         Brazil   \n",
      "3        Romania                3                1           Peru   \n",
      "4      Argentina                1                0         France   \n",
      "\n",
      "  Win conditions  Attendance  Half-time Home Goals  Half-time Away Goals  \\\n",
      "0                     4444.0                     3                     0   \n",
      "1                    18346.0                     2                     0   \n",
      "2                    24059.0                     2                     0   \n",
      "3                     2549.0                     1                     0   \n",
      "4                    23409.0                     0                     0   \n",
      "\n",
      "                  Referee               Assistant 1  \\\n",
      "0  LOMBARDI Domingo (URU)     CRISTOPHE Henry (BEL)   \n",
      "1       MACIAS Jose (ARG)  MATEUCCI Francisco (URU)   \n",
      "2     TEJADA Anibal (URU)   VALLARINO Ricardo (URU)   \n",
      "3   WARNKEN Alberto (CHI)       LANGENUS Jean (BEL)   \n",
      "4     REGO Gilberto (BRA)      SAUCEDO Ulises (BOL)   \n",
      "\n",
      "                  Assistant 2  RoundID  MatchID Home Team Initials  \\\n",
      "0         REGO Gilberto (BRA)      201     1096                FRA   \n",
      "1       WARNKEN Alberto (CHI)      201     1090                USA   \n",
      "2         BALWAY Thomas (FRA)      201     1093                YUG   \n",
      "3    MATEUCCI Francisco (URU)      201     1098                ROU   \n",
      "4  RADULESCU Constantin (ROU)      201     1085                ARG   \n",
      "\n",
      "  Away Team Initials  \n",
      "0                MEX  \n",
      "1                BEL  \n",
      "2                BRA  \n",
      "3                PER  \n",
      "4                FRA  \n"
     ]
    }
   ],
   "source": [
    "df = pd.read_csv('/Users/elorm/Documents/Repos/Datasets/WorldCupMatches.csv')\n",
    "print(df.head())"
   ]
  },
  {
   "cell_type": "code",
   "execution_count": 3,
   "metadata": {},
   "outputs": [
    {
     "name": "stdout",
     "output_type": "stream",
     "text": [
      "   Year              Datetime    Stage         Stadium         City  \\\n",
      "0  1930  13 Jul 1930 - 15:00   Group 1         Pocitos  Montevideo    \n",
      "1  1930  13 Jul 1930 - 15:00   Group 4  Parque Central  Montevideo    \n",
      "2  1930  14 Jul 1930 - 12:45   Group 2  Parque Central  Montevideo    \n",
      "3  1930  14 Jul 1930 - 14:50   Group 3         Pocitos  Montevideo    \n",
      "4  1930  15 Jul 1930 - 16:00   Group 1  Parque Central  Montevideo    \n",
      "\n",
      "  Home Team Name  Home Team Goals  Away Team Goals Away Team Name  \\\n",
      "0         France                4                1         Mexico   \n",
      "1            USA                3                0        Belgium   \n",
      "2     Yugoslavia                2                1         Brazil   \n",
      "3        Romania                3                1           Peru   \n",
      "4      Argentina                1                0         France   \n",
      "\n",
      "  Win conditions  ...  Half-time Home Goals  Half-time Away Goals  \\\n",
      "0                 ...                     3                     0   \n",
      "1                 ...                     2                     0   \n",
      "2                 ...                     2                     0   \n",
      "3                 ...                     1                     0   \n",
      "4                 ...                     0                     0   \n",
      "\n",
      "                  Referee               Assistant 1  \\\n",
      "0  LOMBARDI Domingo (URU)     CRISTOPHE Henry (BEL)   \n",
      "1       MACIAS Jose (ARG)  MATEUCCI Francisco (URU)   \n",
      "2     TEJADA Anibal (URU)   VALLARINO Ricardo (URU)   \n",
      "3   WARNKEN Alberto (CHI)       LANGENUS Jean (BEL)   \n",
      "4     REGO Gilberto (BRA)      SAUCEDO Ulises (BOL)   \n",
      "\n",
      "                  Assistant 2 RoundID  MatchID  Home Team Initials  \\\n",
      "0         REGO Gilberto (BRA)     201     1096                 FRA   \n",
      "1       WARNKEN Alberto (CHI)     201     1090                 USA   \n",
      "2         BALWAY Thomas (FRA)     201     1093                 YUG   \n",
      "3    MATEUCCI Francisco (URU)     201     1098                 ROU   \n",
      "4  RADULESCU Constantin (ROU)     201     1085                 ARG   \n",
      "\n",
      "  Away Team Initials Total Goals  \n",
      "0                MEX           5  \n",
      "1                BEL           3  \n",
      "2                BRA           3  \n",
      "3                PER           4  \n",
      "4                FRA           1  \n",
      "\n",
      "[5 rows x 21 columns]\n"
     ]
    }
   ],
   "source": [
    "#Creating \n",
    "df['Total Goals'] = df['Home Team Goals'] + df['Away Team Goals']\n",
    "\n",
    "print(df.head())"
   ]
  },
  {
   "cell_type": "code",
   "execution_count": null,
   "metadata": {},
   "outputs": [],
   "source": []
  }
 ],
 "metadata": {
  "kernelspec": {
   "display_name": "Python 3",
   "language": "python",
   "name": "python3"
  },
  "language_info": {
   "codemirror_mode": {
    "name": "ipython",
    "version": 3
   },
   "file_extension": ".py",
   "mimetype": "text/x-python",
   "name": "python",
   "nbconvert_exporter": "python",
   "pygments_lexer": "ipython3",
   "version": "3.8.5"
  }
 },
 "nbformat": 4,
 "nbformat_minor": 4
}
