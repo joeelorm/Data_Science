{
 "cells": [
  {
   "cell_type": "code",
   "execution_count": 1,
   "metadata": {},
   "outputs": [],
   "source": [
    "import pandas as pd \n",
    "import matplotlib.pyplot as plt\n",
    "import seaborn as sns"
   ]
  },
  {
   "cell_type": "code",
   "execution_count": 2,
   "metadata": {},
   "outputs": [
    {
     "name": "stdout",
     "output_type": "stream",
     "text": [
      "         id  rated    created_at  last_move_at  turns victory_status winner  \\\n",
      "0  TZJHLljE  False  1.504210e+12  1.504210e+12     13      outoftime  white   \n",
      "1  l1NXvwaE   True  1.504130e+12  1.504130e+12     16         resign  black   \n",
      "2  mIICvQHh   True  1.504130e+12  1.504130e+12     61           mate  white   \n",
      "3  kWKvrqYL   True  1.504110e+12  1.504110e+12     61           mate  white   \n",
      "4  9tXo1AUZ   True  1.504030e+12  1.504030e+12     95           mate  white   \n",
      "\n",
      "  increment_code       white_id  white_rating      black_id  black_rating  \\\n",
      "0           15+2       bourgris          1500          a-00          1191   \n",
      "1           5+10           a-00          1322     skinnerua          1261   \n",
      "2           5+10         ischia          1496          a-00          1500   \n",
      "3           20+0  daniamurashov          1439  adivanov2009          1454   \n",
      "4           30+3      nik221107          1523  adivanov2009          1469   \n",
      "\n",
      "                                               moves opening_eco  \\\n",
      "0  d4 d5 c4 c6 cxd5 e6 dxe6 fxe6 Nf3 Bb4+ Nc3 Ba5...         D10   \n",
      "1  d4 Nc6 e4 e5 f4 f6 dxe5 fxe5 fxe5 Nxe5 Qd4 Nc6...         B00   \n",
      "2  e4 e5 d3 d6 Be3 c6 Be2 b5 Nd2 a5 a4 c5 axb5 Nc...         C20   \n",
      "3  d4 d5 Nf3 Bf5 Nc3 Nf6 Bf4 Ng4 e3 Nc6 Be2 Qd7 O...         D02   \n",
      "4  e4 e5 Nf3 d6 d4 Nc6 d5 Nb4 a3 Na6 Nc3 Be7 b4 N...         C41   \n",
      "\n",
      "                             opening_name  opening_ply  \n",
      "0        Slav Defense: Exchange Variation            5  \n",
      "1  Nimzowitsch Defense: Kennedy Variation            4  \n",
      "2   King's Pawn Game: Leonardis Variation            3  \n",
      "3  Queen's Pawn Game: Zukertort Variation            3  \n",
      "4                        Philidor Defense            5  \n"
     ]
    },
    {
     "name": "stderr",
     "output_type": "stream",
     "text": [
      "/Users/elorm/anaconda3/lib/python3.8/site-packages/seaborn/_decorators.py:36: FutureWarning: Pass the following variable as a keyword arg: x. From version 0.12, the only valid positional argument will be `data`, and passing other arguments without an explicit keyword will result in an error or misinterpretation.\n",
      "  warnings.warn(\n"
     ]
    },
    {
     "data": {
      "image/png": "[encoded data removed]",
      "text/plain": [
       "<Figure size 432x288 with 1 Axes>"
      ]
     },
     "metadata": {
      "needs_background": "light"
     },
     "output_type": "display_data"
    }
   ],
   "source": [
    "df = pd.read_csv('../Datasets/games.csv')\n",
    "print(df.head())\n",
    "\n",
    "sns.countplot(df['victory_status'])\n",
    "plt.show()"
   ]
  },
  {
   "cell_type": "code",
   "execution_count": null,
   "metadata": {},
   "outputs": [],
   "source": []
  },
  {
   "cell_type": "code",
   "execution_count": 4,
   "metadata": {},
   "outputs": [
    {
     "data": {
      "text/html": [
       "<div>\n",
       "<style scoped>\n",
       "    .dataframe tbody tr th:only-of-type {\n",
       "        vertical-align: middle;\n",
       "    }\n",
       "\n",
       "    .dataframe tbody tr th {\n",
       "        vertical-align: top;\n",
       "    }\n",
       "\n",
       "    .dataframe thead th {\n",
       "        text-align: right;\n",
       "    }\n",
       "</style>\n",
       "<table border=\"1\" class=\"dataframe\">\n",
       "  <thead>\n",
       "    <tr style=\"text-align: right;\">\n",
       "      <th></th>\n",
       "      <th>School ID</th>\n",
       "      <th>Name of School</th>\n",
       "      <th>Street Address</th>\n",
       "      <th>City</th>\n",
       "      <th>State</th>\n",
       "      <th>ZIP Code</th>\n",
       "      <th>Phone Number</th>\n",
       "      <th>Website</th>\n",
       "      <th>Blue Ribbon Award</th>\n",
       "      <th>CPS Performance Policy Level</th>\n",
       "      <th>...</th>\n",
       "      <th>Y Coordinate</th>\n",
       "      <th>Longitude</th>\n",
       "      <th>Latitude</th>\n",
       "      <th>Location</th>\n",
       "      <th>Community Areas</th>\n",
       "      <th>Zip Codes</th>\n",
       "      <th>Boundaries - ZIP Codes</th>\n",
       "      <th>Census Tracts</th>\n",
       "      <th>Wards</th>\n",
       "      <th>:@computed_region_awaf_s7ux</th>\n",
       "    </tr>\n",
       "  </thead>\n",
       "  <tbody>\n",
       "    <tr>\n",
       "      <th>0</th>\n",
       "      <td>400048</td>\n",
       "      <td>LEARN Charter ES - Excel</td>\n",
       "      <td>2401 W Congress Pkwy</td>\n",
       "      <td>Chicago</td>\n",
       "      <td>IL</td>\n",
       "      <td>60612</td>\n",
       "      <td>(312) 243-7001</td>\n",
       "      <td>http://www.learncharter.org</td>\n",
       "      <td>NaN</td>\n",
       "      <td>LEVEL 2</td>\n",
       "      <td>...</td>\n",
       "      <td>1897662.506</td>\n",
       "      <td>41.874886</td>\n",
       "      <td>-87.686311</td>\n",
       "      <td>{'latitude': '-87.68631142', 'longitude': '41....</td>\n",
       "      <td>NaN</td>\n",
       "      <td>NaN</td>\n",
       "      <td>NaN</td>\n",
       "      <td>NaN</td>\n",
       "      <td>NaN</td>\n",
       "      <td>NaN</td>\n",
       "    </tr>\n",
       "    <tr>\n",
       "      <th>1</th>\n",
       "      <td>609871</td>\n",
       "      <td>Barbara Vick Early Childhood &amp; Family Center</td>\n",
       "      <td>2554 W 113th St</td>\n",
       "      <td>Chicago</td>\n",
       "      <td>IL</td>\n",
       "      <td>60655</td>\n",
       "      <td>(773) 535-2671</td>\n",
       "      <td>http://www.barbaravick.cps.k12.il.us</td>\n",
       "      <td>NaN</td>\n",
       "      <td>NaN</td>\n",
       "      <td>...</td>\n",
       "      <td>1829643.669</td>\n",
       "      <td>41.688218</td>\n",
       "      <td>-87.685663</td>\n",
       "      <td>{'latitude': '-87.6856634', 'longitude': '41.6...</td>\n",
       "      <td>NaN</td>\n",
       "      <td>NaN</td>\n",
       "      <td>NaN</td>\n",
       "      <td>NaN</td>\n",
       "      <td>NaN</td>\n",
       "      <td>NaN</td>\n",
       "    </tr>\n",
       "    <tr>\n",
       "      <th>2</th>\n",
       "      <td>610083</td>\n",
       "      <td>Daniel C Beard Elementary School</td>\n",
       "      <td>6445 W Strong St</td>\n",
       "      <td>Chicago</td>\n",
       "      <td>IL</td>\n",
       "      <td>60656</td>\n",
       "      <td>(773) 534-1228</td>\n",
       "      <td>http://www.cps.edu</td>\n",
       "      <td>NaN</td>\n",
       "      <td>NaN</td>\n",
       "      <td>...</td>\n",
       "      <td>1932162.514</td>\n",
       "      <td>41.970097</td>\n",
       "      <td>-87.789637</td>\n",
       "      <td>{'latitude': '-87.78963691', 'longitude': '41....</td>\n",
       "      <td>NaN</td>\n",
       "      <td>NaN</td>\n",
       "      <td>NaN</td>\n",
       "      <td>NaN</td>\n",
       "      <td>NaN</td>\n",
       "      <td>NaN</td>\n",
       "    </tr>\n",
       "  </tbody>\n",
       "</table>\n",
       "<p>3 rows × 80 columns</p>\n",
       "</div>"
      ],
      "text/plain": [
       "   School ID                                Name of School  \\\n",
       "0     400048                      LEARN Charter ES - Excel   \n",
       "1     609871  Barbara Vick Early Childhood & Family Center   \n",
       "2     610083              Daniel C Beard Elementary School   \n",
       "\n",
       "         Street Address     City State  ZIP Code    Phone Number  \\\n",
       "0  2401 W Congress Pkwy  Chicago    IL     60612  (312) 243-7001   \n",
       "1       2554 W 113th St  Chicago    IL     60655  (773) 535-2671   \n",
       "2      6445 W Strong St  Chicago    IL     60656  (773) 534-1228   \n",
       "\n",
       "                                Website  Blue Ribbon Award  \\\n",
       "0           http://www.learncharter.org                NaN   \n",
       "1  http://www.barbaravick.cps.k12.il.us                NaN   \n",
       "2                    http://www.cps.edu                NaN   \n",
       "\n",
       "  CPS Performance Policy Level  ... Y Coordinate  Longitude   Latitude  \\\n",
       "0                      LEVEL 2  ...  1897662.506  41.874886 -87.686311   \n",
       "1                          NaN  ...  1829643.669  41.688218 -87.685663   \n",
       "2                          NaN  ...  1932162.514  41.970097 -87.789637   \n",
       "\n",
       "                                            Location  Community Areas  \\\n",
       "0  {'latitude': '-87.68631142', 'longitude': '41....              NaN   \n",
       "1  {'latitude': '-87.6856634', 'longitude': '41.6...              NaN   \n",
       "2  {'latitude': '-87.78963691', 'longitude': '41....              NaN   \n",
       "\n",
       "  Zip Codes Boundaries - ZIP Codes Census Tracts Wards  \\\n",
       "0       NaN                    NaN           NaN   NaN   \n",
       "1       NaN                    NaN           NaN   NaN   \n",
       "2       NaN                    NaN           NaN   NaN   \n",
       "\n",
       "  :@computed_region_awaf_s7ux  \n",
       "0                         NaN  \n",
       "1                         NaN  \n",
       "2                         NaN  \n",
       "\n",
       "[3 rows x 80 columns]"
      ]
     },
     "execution_count": 4,
     "metadata": {},
     "output_type": "execute_result"
    }
   ],
   "source": [
    "school_data = pd.read_csv('../Datasets/school_data.csv')\n",
    "school_data.head(3)"
   ]
  },
  {
   "cell_type": "markdown",
   "metadata": {},
   "source": [
    "We are going to look at a column called Supportive Environment which documents how various schools in the area rate in terms of supportiveness with the following values:\n",
    "\n",
    "- NOT ENOUGH DATA\n",
    "- VERY WEAK\n",
    "- WEAK\n",
    "- NEUTRAL\n",
    "- STRONG\n",
    "- VERY STRONG\n",
    "\n",
    "This column is an ordinal one"
   ]
  },
  {
   "cell_type": "code",
   "execution_count": 6,
   "metadata": {},
   "outputs": [
    {
     "name": "stderr",
     "output_type": "stream",
     "text": [
      "/Users/elorm/anaconda3/lib/python3.8/site-packages/seaborn/_decorators.py:36: FutureWarning: Pass the following variable as a keyword arg: x. From version 0.12, the only valid positional argument will be `data`, and passing other arguments without an explicit keyword will result in an error or misinterpretation.\n",
      "  warnings.warn(\n"
     ]
    },
    {
     "data": {
      "image/png": "[encoded data removed]",
      "text/plain": [
       "<Figure size 432x288 with 1 Axes>"
      ]
     },
     "metadata": {
      "needs_background": "light"
     },
     "output_type": "display_data"
    }
   ],
   "source": [
    "value_order = [\"NOT ENOUGH DATA\", \"VERY WEAK\", \"WEAK\", \"NEUTRAL\", \"STRONG\", \"VERY STRONG\"]\n",
    "\n",
    "# plot using .countplot() method here\n",
    "sns.countplot(school_data['Supportive Environment'], order = value_order)\n",
    "# plt.xticks(rotation=30)\n",
    "plt.xticks(rotation = 90)\n",
    "\n",
    "# show your plot here\n",
    "plt.show()"
   ]
  },
  {
   "cell_type": "code",
   "execution_count": null,
   "metadata": {},
   "outputs": [],
   "source": []
  }
 ],
 "metadata": {
  "kernelspec": {
   "display_name": "Python 3",
   "language": "python",
   "name": "python3"
  },
  "language_info": {
   "codemirror_mode": {
    "name": "ipython",
    "version": 3
   },
   "file_extension": ".py",
   "mimetype": "text/x-python",
   "name": "python",
   "nbconvert_exporter": "python",
   "pygments_lexer": "ipython3",
   "version": "3.8.5"
  }
 },
 "nbformat": 4,
 "nbformat_minor": 4
}
