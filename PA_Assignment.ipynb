{
 "cells": [
  {
   "cell_type": "code",
   "execution_count": 1,
   "metadata": {},
   "outputs": [],
   "source": [
    "import pandas as pd\n",
    "import numpy as np\n",
    "import matplotlib.pyplot as plt\n",
    "import seaborn as sns"
   ]
  },
  {
   "cell_type": "code",
   "execution_count": 2,
   "metadata": {},
   "outputs": [
    {
     "name": "stdout",
     "output_type": "stream",
     "text": [
      "  foreignworker               status  \\\n",
      "0           yes             < 0 Euro   \n",
      "1           yes           < 200 Euro   \n",
      "2           yes  no checking account   \n",
      "3           yes             < 0 Euro   \n",
      "4           yes             < 0 Euro   \n",
      "\n",
      "                              credithistory              purpose  \\\n",
      "0                         critical account/     radio/television   \n",
      "1  existing credits paid back duly till now     radio/television   \n",
      "2                         critical account/            education   \n",
      "3  existing credits paid back duly till now  furniture/equipment   \n",
      "4           delay in paying off in the past            car (new)   \n",
      "\n",
      "                       savings     employmentsince otherdebtors  \\\n",
      "0  unknown/ no savings account       .. >= 7 years         none   \n",
      "1               ... < 100 Euro  1 <= ... < 4 years         none   \n",
      "2               ... < 100 Euro  4 <= ... < 7 years         none   \n",
      "3               ... < 100 Euro  4 <= ... < 7 years    guarantor   \n",
      "4               ... < 100 Euro  1 <= ... < 4 years         none   \n",
      "\n",
      "                                            property otherinstallments  \\\n",
      "0                                        real estate              none   \n",
      "1                                        real estate              none   \n",
      "2                                        real estate              none   \n",
      "3  building society savings agreement/ life insur...              none   \n",
      "4                              unknown / no property              none   \n",
      "\n",
      "    housing  ... duration creditamount  installmentrate  residencesince  age  \\\n",
      "0       own  ...        6         1169                4               4   67   \n",
      "1       own  ...       48         5951                2               2   22   \n",
      "2       own  ...       12         2096                2               3   49   \n",
      "3  for free  ...       42         7882                2               4   45   \n",
      "4  for free  ...       24         4870                3               4   53   \n",
      "\n",
      "   numberofexsistingcredits  numberofliablepeople  gender  creditworthy  \\\n",
      "0                         2                     1    male        Worthy   \n",
      "1                         1                     1  female    Not Worthy   \n",
      "2                         1                     2    male        Worthy   \n",
      "3                         1                     2    male        Worthy   \n",
      "4                         2                     2    male    Not Worthy   \n",
      "\n",
      "  creditamout_per_month  \n",
      "0            194.833333  \n",
      "1            123.979167  \n",
      "2            174.666667  \n",
      "3            187.666667  \n",
      "4            202.916667  \n",
      "\n",
      "[5 rows x 22 columns]\n"
     ]
    }
   ],
   "source": [
    "data = pd.read_excel('../Datasets/predictive_analytics_data.xlsx')\n",
    "print(data.head())"
   ]
  },
  {
   "cell_type": "code",
   "execution_count": 3,
   "metadata": {},
   "outputs": [
    {
     "name": "stdout",
     "output_type": "stream",
     "text": [
      "<class 'pandas.core.frame.DataFrame'>\n",
      "RangeIndex: 988 entries, 0 to 987\n",
      "Data columns (total 22 columns):\n",
      " #   Column                    Non-Null Count  Dtype  \n",
      "---  ------                    --------------  -----  \n",
      " 0   foreignworker             988 non-null    object \n",
      " 1   status                    988 non-null    object \n",
      " 2   credithistory             988 non-null    object \n",
      " 3   purpose                   988 non-null    object \n",
      " 4   savings                   988 non-null    object \n",
      " 5   employmentsince           988 non-null    object \n",
      " 6   otherdebtors              988 non-null    object \n",
      " 7   property                  988 non-null    object \n",
      " 8   otherinstallments         988 non-null    object \n",
      " 9   housing                   988 non-null    object \n",
      " 10  job                       988 non-null    object \n",
      " 11  phone                     988 non-null    object \n",
      " 12  duration                  988 non-null    int64  \n",
      " 13  creditamount              988 non-null    int64  \n",
      " 14  installmentrate           988 non-null    int64  \n",
      " 15  residencesince            988 non-null    int64  \n",
      " 16  age                       988 non-null    int64  \n",
      " 17  numberofexsistingcredits  988 non-null    int64  \n",
      " 18  numberofliablepeople      988 non-null    int64  \n",
      " 19  gender                    988 non-null    object \n",
      " 20  creditworthy              988 non-null    object \n",
      " 21  creditamout_per_month     988 non-null    float64\n",
      "dtypes: float64(1), int64(7), object(14)\n",
      "memory usage: 169.9+ KB\n"
     ]
    }
   ],
   "source": [
    "data.info()"
   ]
  },
  {
   "cell_type": "code",
   "execution_count": 5,
   "metadata": {},
   "outputs": [
    {
     "data": {
      "text/plain": [
       "array(['yes', 'no', 'Unknown'], dtype=object)"
      ]
     },
     "execution_count": 5,
     "metadata": {},
     "output_type": "execute_result"
    }
   ],
   "source": [
    "data['foreignworker'].unique()"
   ]
  },
  {
   "cell_type": "code",
   "execution_count": 6,
   "metadata": {},
   "outputs": [
    {
     "data": {
      "text/plain": [
       "array(['Worthy', 'Not Worthy'], dtype=object)"
      ]
     },
     "execution_count": 6,
     "metadata": {},
     "output_type": "execute_result"
    }
   ],
   "source": [
    "data['creditworthy'].unique()"
   ]
  },
  {
   "cell_type": "code",
   "execution_count": 7,
   "metadata": {},
   "outputs": [
    {
     "name": "stdout",
     "output_type": "stream",
     "text": [
      "creditworthy  Not Worthy  Worthy\n",
      "gender                          \n",
      "female               107     198\n",
      "male                 190     493\n"
     ]
    }
   ],
   "source": [
    "Xtab = pd.crosstab(data['gender'], data['creditworthy'])\n",
    "print(Xtab)"
   ]
  },
  {
   "cell_type": "code",
   "execution_count": 9,
   "metadata": {},
   "outputs": [
    {
     "name": "stdout",
     "output_type": "stream",
     "text": [
      "0.026073325142675467\n"
     ]
    }
   ],
   "source": [
    "from scipy.stats import chi2_contingency\n",
    "chi2, pval, dof, expected = chi2_contingency(Xtab)\n",
    "print(pval)"
   ]
  },
  {
   "cell_type": "code",
   "execution_count": 10,
   "metadata": {},
   "outputs": [
    {
     "data": {
      "text/plain": [
       "0      67\n",
       "1      22\n",
       "2      49\n",
       "3      45\n",
       "4      53\n",
       "       ..\n",
       "983    31\n",
       "984    40\n",
       "985    38\n",
       "986    23\n",
       "987    27\n",
       "Name: age, Length: 988, dtype: int64"
      ]
     },
     "execution_count": 10,
     "metadata": {},
     "output_type": "execute_result"
    }
   ],
   "source": [
    "data['age']"
   ]
  },
  {
   "cell_type": "code",
   "execution_count": 11,
   "metadata": {},
   "outputs": [],
   "source": [
    "from scipy.stats import ttest_ind"
   ]
  },
  {
   "cell_type": "code",
   "execution_count": 12,
   "metadata": {},
   "outputs": [],
   "source": [
    "worthy_age = data[data['creditworthy'] == 'Worthy']['age']\n",
    "unworthy_age = data[data['creditworthy'] == 'Not Worthy']['age']"
   ]
  },
  {
   "cell_type": "code",
   "execution_count": 13,
   "metadata": {},
   "outputs": [
    {
     "data": {
      "text/plain": [
       "0      67\n",
       "2      49\n",
       "3      45\n",
       "5      35\n",
       "6      53\n",
       "       ..\n",
       "982    50\n",
       "983    31\n",
       "984    40\n",
       "985    38\n",
       "987    27\n",
       "Name: age, Length: 691, dtype: int64"
      ]
     },
     "execution_count": 13,
     "metadata": {},
     "output_type": "execute_result"
    }
   ],
   "source": [
    "worthy_age"
   ]
  },
  {
   "cell_type": "code",
   "execution_count": 14,
   "metadata": {},
   "outputs": [
    {
     "data": {
      "text/plain": [
       "1      22\n",
       "4      53\n",
       "9      28\n",
       "10     24\n",
       "12     60\n",
       "       ..\n",
       "967    25\n",
       "968    49\n",
       "969    33\n",
       "971    26\n",
       "986    23\n",
       "Name: age, Length: 297, dtype: int64"
      ]
     },
     "execution_count": 14,
     "metadata": {},
     "output_type": "execute_result"
    }
   ],
   "source": [
    "unworthy_age"
   ]
  },
  {
   "cell_type": "code",
   "execution_count": 15,
   "metadata": {},
   "outputs": [
    {
     "data": {
      "text/plain": [
       "36.159189580318376"
      ]
     },
     "execution_count": 15,
     "metadata": {},
     "output_type": "execute_result"
    }
   ],
   "source": [
    "np.mean(worthy_age)"
   ]
  },
  {
   "cell_type": "code",
   "execution_count": 16,
   "metadata": {},
   "outputs": [
    {
     "data": {
      "text/plain": [
       "33.83838383838384"
      ]
     },
     "execution_count": 16,
     "metadata": {},
     "output_type": "execute_result"
    }
   ],
   "source": [
    "np.mean(unworthy_age)"
   ]
  },
  {
   "cell_type": "code",
   "execution_count": 18,
   "metadata": {},
   "outputs": [
    {
     "name": "stdout",
     "output_type": "stream",
     "text": [
      "0.0030366686079082426\n"
     ]
    }
   ],
   "source": [
    "tstat, pval = ttest_ind(worthy_age, unworthy_age)\n",
    "print(pval)"
   ]
  },
  {
   "cell_type": "code",
   "execution_count": 20,
   "metadata": {},
   "outputs": [
    {
     "data": {
      "image/png": "[encoded data removed]",
      "text/plain": [
       "<Figure size 432x288 with 1 Axes>"
      ]
     },
     "metadata": {
      "needs_background": "light"
     },
     "output_type": "display_data"
    }
   ],
   "source": [
    "sns.boxplot(data = data, x = 'creditworthy', y = 'age')\n",
    "plt.xlabel('Credit Worthiness')\n",
    "plt.ylabel('Age')\n",
    "plt.show()"
   ]
  },
  {
   "cell_type": "code",
   "execution_count": 22,
   "metadata": {},
   "outputs": [
    {
     "data": {
      "text/plain": [
       "array(['< 0 Euro', '< 200 Euro', 'no checking account', '>= 200 Euro'],\n",
       "      dtype=object)"
      ]
     },
     "execution_count": 22,
     "metadata": {},
     "output_type": "execute_result"
    }
   ],
   "source": [
    "data['status'].unique()"
   ]
  },
  {
   "cell_type": "code",
   "execution_count": 23,
   "metadata": {},
   "outputs": [
    {
     "data": {
      "image/png": "[encoded data removed]",
      "text/plain": [
       "<Figure size 432x288 with 1 Axes>"
      ]
     },
     "metadata": {
      "needs_background": "light"
     },
     "output_type": "display_data"
    }
   ],
   "source": [
    "plt.hist(worthy_age, color = 'red', label = 'Age Worthy', alpha = 0.5)\n",
    "plt.hist(unworthy_age, color = 'blue', label = 'Age Unworthy', alpha = 0.5)\n",
    "plt.legend()\n",
    "plt.show()"
   ]
  },
  {
   "cell_type": "code",
   "execution_count": 24,
   "metadata": {},
   "outputs": [
    {
     "data": {
      "text/plain": [
       "array(['skilled employee / official', 'unskilled - resident',\n",
       "       'management/ self-employed/ highly qualified employ',\n",
       "       'unemployed/ unskilled - non-resident'], dtype=object)"
      ]
     },
     "execution_count": 24,
     "metadata": {},
     "output_type": "execute_result"
    }
   ],
   "source": [
    "data['job'].unique()"
   ]
  },
  {
   "cell_type": "code",
   "execution_count": null,
   "metadata": {},
   "outputs": [],
   "source": []
  }
 ],
 "metadata": {
  "kernelspec": {
   "display_name": "Python 3",
   "language": "python",
   "name": "python3"
  },
  "language_info": {
   "codemirror_mode": {
    "name": "ipython",
    "version": 3
   },
   "file_extension": ".py",
   "mimetype": "text/x-python",
   "name": "python",
   "nbconvert_exporter": "python",
   "pygments_lexer": "ipython3",
   "version": "3.8.5"
  }
 },
 "nbformat": 4,
 "nbformat_minor": 4
}
