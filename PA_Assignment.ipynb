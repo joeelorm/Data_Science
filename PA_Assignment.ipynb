{
 "cells": [
  {
   "cell_type": "code",
   "execution_count": 1,
   "metadata": {},
   "outputs": [],
   "source": [
    "import pandas as pd\n",
    "import numpy as np\n",
    "import matplotlib.pyplot as plt\n",
    "import seaborn as sns"
   ]
  },
  {
   "cell_type": "code",
   "execution_count": 8,
   "metadata": {},
   "outputs": [
    {
     "name": "stdout",
     "output_type": "stream",
     "text": [
      "  foreignworker               status  \\\n",
      "0           yes             < 0 Euro   \n",
      "1           yes           < 200 Euro   \n",
      "2           yes  no checking account   \n",
      "3           yes             < 0 Euro   \n",
      "4           yes             < 0 Euro   \n",
      "\n",
      "                              credithistory              purpose  \\\n",
      "0                         critical account/     radio/television   \n",
      "1  existing credits paid back duly till now     radio/television   \n",
      "2                         critical account/            education   \n",
      "3  existing credits paid back duly till now  furniture/equipment   \n",
      "4           delay in paying off in the past            car (new)   \n",
      "\n",
      "                       savings     employmentsince otherdebtors  \\\n",
      "0  unknown/ no savings account       .. >= 7 years         none   \n",
      "1               ... < 100 Euro  1 <= ... < 4 years         none   \n",
      "2               ... < 100 Euro  4 <= ... < 7 years         none   \n",
      "3               ... < 100 Euro  4 <= ... < 7 years    guarantor   \n",
      "4               ... < 100 Euro  1 <= ... < 4 years         none   \n",
      "\n",
      "                                            property otherinstallments  \\\n",
      "0                                        real estate              none   \n",
      "1                                        real estate              none   \n",
      "2                                        real estate              none   \n",
      "3  building society savings agreement/ life insur...              none   \n",
      "4                              unknown / no property              none   \n",
      "\n",
      "    housing  ... duration creditamount  installmentrate  residencesince  age  \\\n",
      "0       own  ...        6         1169                4               4   67   \n",
      "1       own  ...       48         5951                2               2   22   \n",
      "2       own  ...       12         2096                2               3   49   \n",
      "3  for free  ...       42         7882                2               4   45   \n",
      "4  for free  ...       24         4870                3               4   53   \n",
      "\n",
      "   numberofexsistingcredits  numberofliablepeople  gender  creditworthy  \\\n",
      "0                         2                     1    male        Worthy   \n",
      "1                         1                     1  female    Not Worthy   \n",
      "2                         1                     2    male        Worthy   \n",
      "3                         1                     2    male        Worthy   \n",
      "4                         2                     2    male    Not Worthy   \n",
      "\n",
      "  creditamout_per_month  \n",
      "0            194.833333  \n",
      "1            123.979167  \n",
      "2            174.666667  \n",
      "3            187.666667  \n",
      "4            202.916667  \n",
      "\n",
      "[5 rows x 22 columns]\n"
     ]
    }
   ],
   "source": [
    "data = pd.read_excel('../Datasets/predictive_analytics_data.xlsx')\n",
    "print(data.head())"
   ]
  },
  {
   "cell_type": "code",
   "execution_count": null,
   "metadata": {},
   "outputs": [],
   "source": []
  }
 ],
 "metadata": {
  "kernelspec": {
   "display_name": "Python 3",
   "language": "python",
   "name": "python3"
  },
  "language_info": {
   "codemirror_mode": {
    "name": "ipython",
    "version": 3
   },
   "file_extension": ".py",
   "mimetype": "text/x-python",
   "name": "python",
   "nbconvert_exporter": "python",
   "pygments_lexer": "ipython3",
   "version": "3.8.5"
  }
 },
 "nbformat": 4,
 "nbformat_minor": 4
}
