{
 "cells": [
  {
   "cell_type": "code",
   "execution_count": 1,
   "metadata": {},
   "outputs": [],
   "source": [
    "#Importing Libraries\n",
    "import pandas as pd\n",
    "import numpy as np\n",
    "import matplotlib.pyplot as plt\n",
    "import seaborn as sns\n",
    "#from scipy.stats import ttest_ind"
   ]
  },
  {
   "cell_type": "code",
   "execution_count": 2,
   "metadata": {},
   "outputs": [
    {
     "name": "stdout",
     "output_type": "stream",
     "text": [
      "  foreignworker               status  \\\n",
      "0           yes             < 0 Euro   \n",
      "1           yes           < 200 Euro   \n",
      "2           yes  no checking account   \n",
      "3           yes             < 0 Euro   \n",
      "4           yes             < 0 Euro   \n",
      "\n",
      "                              credithistory              purpose  \\\n",
      "0                         critical account/     radio/television   \n",
      "1  existing credits paid back duly till now     radio/television   \n",
      "2                         critical account/            education   \n",
      "3  existing credits paid back duly till now  furniture/equipment   \n",
      "4           delay in paying off in the past            car (new)   \n",
      "\n",
      "                       savings     employmentsince otherdebtors  \\\n",
      "0  unknown/ no savings account       .. >= 7 years         none   \n",
      "1               ... < 100 Euro  1 <= ... < 4 years         none   \n",
      "2               ... < 100 Euro  4 <= ... < 7 years         none   \n",
      "3               ... < 100 Euro  4 <= ... < 7 years    guarantor   \n",
      "4               ... < 100 Euro  1 <= ... < 4 years         none   \n",
      "\n",
      "                                            property otherinstallments  \\\n",
      "0                                        real estate              none   \n",
      "1                                        real estate              none   \n",
      "2                                        real estate              none   \n",
      "3  building society savings agreement/ life insur...              none   \n",
      "4                              unknown / no property              none   \n",
      "\n",
      "    housing  ... duration creditamount  installmentrate  residencesince  age  \\\n",
      "0       own  ...        6         1169                4               4   67   \n",
      "1       own  ...       48         5951                2               2   22   \n",
      "2       own  ...       12         2096                2               3   49   \n",
      "3  for free  ...       42         7882                2               4   45   \n",
      "4  for free  ...       24         4870                3               4   53   \n",
      "\n",
      "   numberofexsistingcredits  numberofliablepeople  gender  creditworthy  \\\n",
      "0                         2                     1    male        Worthy   \n",
      "1                         1                     1  female    Not Worthy   \n",
      "2                         1                     2    male        Worthy   \n",
      "3                         1                     2    male        Worthy   \n",
      "4                         2                     2    male    Not Worthy   \n",
      "\n",
      "  creditamout_per_month  \n",
      "0            194.833333  \n",
      "1            123.979167  \n",
      "2            174.666667  \n",
      "3            187.666667  \n",
      "4            202.916667  \n",
      "\n",
      "[5 rows x 22 columns]\n"
     ]
    }
   ],
   "source": [
    "data = pd.read_excel('/Users/elorm/Documents/Repos/Datasets/data.xlsx')\n",
    "print(data.head())"
   ]
  },
  {
   "cell_type": "code",
   "execution_count": 3,
   "metadata": {},
   "outputs": [
    {
     "data": {
      "text/plain": [
       "0      yes, registered under the customers name\n",
       "1                                          none\n",
       "2                                          none\n",
       "3                                          none\n",
       "4                                          none\n",
       "                         ...                   \n",
       "983                                        none\n",
       "984    yes, registered under the customers name\n",
       "985                                        none\n",
       "986    yes, registered under the customers name\n",
       "987                                        none\n",
       "Name: phone, Length: 988, dtype: object"
      ]
     },
     "execution_count": 3,
     "metadata": {},
     "output_type": "execute_result"
    }
   ],
   "source": [
    "data['phone']"
   ]
  },
  {
   "cell_type": "code",
   "execution_count": 4,
   "metadata": {},
   "outputs": [
    {
     "name": "stdout",
     "output_type": "stream",
     "text": [
      "<class 'pandas.core.frame.DataFrame'>\n",
      "RangeIndex: 988 entries, 0 to 987\n",
      "Data columns (total 22 columns):\n",
      " #   Column                    Non-Null Count  Dtype  \n",
      "---  ------                    --------------  -----  \n",
      " 0   foreignworker             988 non-null    object \n",
      " 1   status                    988 non-null    object \n",
      " 2   credithistory             988 non-null    object \n",
      " 3   purpose                   988 non-null    object \n",
      " 4   savings                   988 non-null    object \n",
      " 5   employmentsince           988 non-null    object \n",
      " 6   otherdebtors              988 non-null    object \n",
      " 7   property                  988 non-null    object \n",
      " 8   otherinstallments         988 non-null    object \n",
      " 9   housing                   988 non-null    object \n",
      " 10  job                       988 non-null    object \n",
      " 11  phone                     988 non-null    object \n",
      " 12  duration                  988 non-null    int64  \n",
      " 13  creditamount              988 non-null    int64  \n",
      " 14  installmentrate           988 non-null    int64  \n",
      " 15  residencesince            988 non-null    int64  \n",
      " 16  age                       988 non-null    int64  \n",
      " 17  numberofexsistingcredits  988 non-null    int64  \n",
      " 18  numberofliablepeople      988 non-null    int64  \n",
      " 19  gender                    988 non-null    object \n",
      " 20  creditworthy              988 non-null    object \n",
      " 21  creditamout_per_month     988 non-null    float64\n",
      "dtypes: float64(1), int64(7), object(14)\n",
      "memory usage: 169.9+ KB\n"
     ]
    }
   ],
   "source": [
    "data.info()"
   ]
  },
  {
   "cell_type": "markdown",
   "metadata": {},
   "source": [
    "### Exploratory Data Analysis\n",
    "#### Applicant Ages"
   ]
  },
  {
   "cell_type": "code",
   "execution_count": 5,
   "metadata": {},
   "outputs": [],
   "source": [
    "ages = data['age']"
   ]
  },
  {
   "cell_type": "code",
   "execution_count": 6,
   "metadata": {},
   "outputs": [
    {
     "name": "stdout",
     "output_type": "stream",
     "text": [
      "The the average age of loan applicants is: 35 years\n",
      "The the minimum age of loan applicants is: 19 years\n",
      "The the maximum age of loan applicants is: 75 years\n",
      "The the median age of loan applicants is: 33.0 years\n"
     ]
    }
   ],
   "source": [
    "mean_age = np.mean(ages)\n",
    "min_age = np.min(ages)\n",
    "max_age = np.max(ages)\n",
    "median_age = np.median(ages)\n",
    "\n",
    "print('The the average age of loan applicants is: ' + str(round(mean_age)) + ' years')\n",
    "print('The the minimum age of loan applicants is: ' + str(min_age) + ' years')\n",
    "print('The the maximum age of loan applicants is: ' + str(max_age) + ' years')\n",
    "print('The the median age of loan applicants is: ' + str(median_age) + ' years')"
   ]
  },
  {
   "cell_type": "code",
   "execution_count": 7,
   "metadata": {},
   "outputs": [
    {
     "data": {
      "image/png": "[encoded data removed]",
      "text/plain": [
       "<Figure size 360x576 with 1 Axes>"
      ]
     },
     "metadata": {
      "needs_background": "light"
     },
     "output_type": "display_data"
    }
   ],
   "source": [
    "#Boxplots to find outliers\n",
    "plt.figure(figsize = (5, 8))\n",
    "sns.boxplot(y = ages)\n",
    "plt.title('Boxplot')\n",
    "plt.show()"
   ]
  },
  {
   "cell_type": "code",
   "execution_count": 8,
   "metadata": {},
   "outputs": [
    {
     "data": {
      "image/png": "[encoded data removed]",
      "text/plain": [
       "<Figure size 864x576 with 1 Axes>"
      ]
     },
     "metadata": {
      "needs_background": "light"
     },
     "output_type": "display_data"
    }
   ],
   "source": [
    "#Finding upper limit\n",
    "from scipy.stats import iqr\n",
    "interquartile_range = iqr(ages)\n",
    "third_quartile = np.quantile(ages, 0.75)\n",
    "upper_extreme = third_quartile + (1.5 * interquartile_range)\n",
    "\n",
    "\n",
    "#Plotting the histogram\n",
    "bins = round(np.sqrt(len(ages)))\n",
    "plt.figure(figsize = (12, 8))\n",
    "sns.histplot(ages)\n",
    "plt.title('Distribution of Ages')\n",
    "plt.axvline(mean_age, linestyle = 'dotted', color = 'red', label = 'mean age')\n",
    "plt.axvline(min_age, linestyle = 'dashed', color = 'red', label = 'min age')\n",
    "plt.axvline(max_age, linestyle = 'dashed', color = 'yellow', label = 'max age')\n",
    "plt.axvline(median_age, linestyle = 'dashed', color = 'black', label = 'median age')\n",
    "plt.axvline(upper_extreme, linestyle = 'dashed', color = 'green', label = 'min age')\n",
    "plt.legend()\n",
    "plt.show()"
   ]
  },
  {
   "cell_type": "code",
   "execution_count": 9,
   "metadata": {},
   "outputs": [
    {
     "data": {
      "text/plain": [
       "Index(['foreignworker', 'status', 'credithistory', 'purpose', 'savings',\n",
       "       'employmentsince', 'otherdebtors', 'property', 'otherinstallments',\n",
       "       'housing', 'job', 'phone', 'duration', 'creditamount',\n",
       "       'installmentrate', 'residencesince', 'age', 'numberofexsistingcredits',\n",
       "       'numberofliablepeople', 'gender', 'creditworthy',\n",
       "       'creditamout_per_month'],\n",
       "      dtype='object')"
      ]
     },
     "execution_count": 9,
     "metadata": {},
     "output_type": "execute_result"
    }
   ],
   "source": [
    "data.columns"
   ]
  },
  {
   "cell_type": "code",
   "execution_count": 10,
   "metadata": {},
   "outputs": [
    {
     "data": {
      "text/html": [
       "<div>\n",
       "<style scoped>\n",
       "    .dataframe tbody tr th:only-of-type {\n",
       "        vertical-align: middle;\n",
       "    }\n",
       "\n",
       "    .dataframe tbody tr th {\n",
       "        vertical-align: top;\n",
       "    }\n",
       "\n",
       "    .dataframe thead th {\n",
       "        text-align: right;\n",
       "    }\n",
       "</style>\n",
       "<table border=\"1\" class=\"dataframe\">\n",
       "  <thead>\n",
       "    <tr style=\"text-align: right;\">\n",
       "      <th></th>\n",
       "      <th>foreignworker</th>\n",
       "      <th>status</th>\n",
       "      <th>credithistory</th>\n",
       "      <th>purpose</th>\n",
       "      <th>savings</th>\n",
       "      <th>employmentsince</th>\n",
       "      <th>otherdebtors</th>\n",
       "      <th>property</th>\n",
       "      <th>otherinstallments</th>\n",
       "      <th>housing</th>\n",
       "      <th>...</th>\n",
       "      <th>creditamount</th>\n",
       "      <th>installmentrate</th>\n",
       "      <th>residencesince</th>\n",
       "      <th>age</th>\n",
       "      <th>numberofexsistingcredits</th>\n",
       "      <th>numberofliablepeople</th>\n",
       "      <th>gender</th>\n",
       "      <th>creditworthy</th>\n",
       "      <th>creditamout_per_month</th>\n",
       "      <th>agegroup</th>\n",
       "    </tr>\n",
       "  </thead>\n",
       "  <tbody>\n",
       "    <tr>\n",
       "      <th>0</th>\n",
       "      <td>yes</td>\n",
       "      <td>&lt; 0 Euro</td>\n",
       "      <td>critical account/</td>\n",
       "      <td>radio/television</td>\n",
       "      <td>unknown/ no savings account</td>\n",
       "      <td>.. &gt;= 7 years</td>\n",
       "      <td>none</td>\n",
       "      <td>real estate</td>\n",
       "      <td>none</td>\n",
       "      <td>own</td>\n",
       "      <td>...</td>\n",
       "      <td>1169</td>\n",
       "      <td>4</td>\n",
       "      <td>4</td>\n",
       "      <td>67</td>\n",
       "      <td>2</td>\n",
       "      <td>1</td>\n",
       "      <td>male</td>\n",
       "      <td>Worthy</td>\n",
       "      <td>194.833333</td>\n",
       "      <td>Old Age</td>\n",
       "    </tr>\n",
       "  </tbody>\n",
       "</table>\n",
       "<p>1 rows × 23 columns</p>\n",
       "</div>"
      ],
      "text/plain": [
       "  foreignworker    status      credithistory           purpose  \\\n",
       "0           yes  < 0 Euro  critical account/  radio/television   \n",
       "\n",
       "                       savings employmentsince otherdebtors     property  \\\n",
       "0  unknown/ no savings account   .. >= 7 years         none  real estate   \n",
       "\n",
       "  otherinstallments housing  ... creditamount installmentrate  residencesince  \\\n",
       "0              none     own  ...         1169               4               4   \n",
       "\n",
       "   age  numberofexsistingcredits  numberofliablepeople  gender  creditworthy  \\\n",
       "0   67                         2                     1    male        Worthy   \n",
       "\n",
       "   creditamout_per_month agegroup  \n",
       "0             194.833333  Old Age  \n",
       "\n",
       "[1 rows x 23 columns]"
      ]
     },
     "execution_count": 10,
     "metadata": {},
     "output_type": "execute_result"
    }
   ],
   "source": [
    "#Making groups of applicants using their ages\n",
    "labels = ['Young', 'Middle Age', 'Old Age', 'Very Old']\n",
    "bins = [18, 40, 60, 70, 80]\n",
    "\n",
    "data['agegroup'] = pd.cut(data['age'], bins = bins, labels = labels)\n",
    "data.head(1)"
   ]
  },
  {
   "cell_type": "code",
   "execution_count": 11,
   "metadata": {},
   "outputs": [
    {
     "data": {
      "image/png": "[encoded data removed]",
      "text/plain": [
       "<Figure size 432x288 with 1 Axes>"
      ]
     },
     "metadata": {
      "needs_background": "light"
     },
     "output_type": "display_data"
    }
   ],
   "source": [
    "#Counts in age group\n",
    "sns.countplot(x = 'agegroup', data = data)\n",
    "plt.show()"
   ]
  },
  {
   "cell_type": "code",
   "execution_count": 12,
   "metadata": {},
   "outputs": [
    {
     "data": {
      "image/png": "[encoded data removed]",
      "text/plain": [
       "<Figure size 432x288 with 1 Axes>"
      ]
     },
     "metadata": {
      "needs_background": "light"
     },
     "output_type": "display_data"
    }
   ],
   "source": [
    "sns.countplot(x = 'agegroup', hue = 'creditworthy', data = data)\n",
    "plt.show()"
   ]
  },
  {
   "cell_type": "markdown",
   "metadata": {},
   "source": [
    "#### Applicant Gender"
   ]
  },
  {
   "cell_type": "code",
   "execution_count": 13,
   "metadata": {},
   "outputs": [
    {
     "name": "stdout",
     "output_type": "stream",
     "text": [
      "male      683\n",
      "female    305\n",
      "Name: gender, dtype: int64\n"
     ]
    }
   ],
   "source": [
    "#Number of males and females in the data\n",
    "num_male_female = data['gender'].value_counts()\n",
    "print(num_male_female)"
   ]
  },
  {
   "cell_type": "code",
   "execution_count": 14,
   "metadata": {},
   "outputs": [
    {
     "name": "stdout",
     "output_type": "stream",
     "text": [
      "male      0.691296\n",
      "female    0.308704\n",
      "Name: gender, dtype: float64\n"
     ]
    }
   ],
   "source": [
    "perc_male_female = data['gender'].value_counts(normalize = True)\n",
    "print(perc_male_female)"
   ]
  },
  {
   "cell_type": "code",
   "execution_count": 15,
   "metadata": {},
   "outputs": [
    {
     "data": {
      "image/png": "[encoded data removed]",
      "text/plain": [
       "<Figure size 432x288 with 1 Axes>"
      ]
     },
     "metadata": {
      "needs_background": "light"
     },
     "output_type": "display_data"
    }
   ],
   "source": [
    "#Plotting the numbers\n",
    "sns.countplot(x = 'gender', data = data)\n",
    "plt.title('Number of males and female applicants')\n",
    "plt.show()"
   ]
  },
  {
   "cell_type": "code",
   "execution_count": 16,
   "metadata": {},
   "outputs": [
    {
     "name": "stdout",
     "output_type": "stream",
     "text": [
      "creditworthy  Not Worthy  Worthy\n",
      "gender                          \n",
      "female               107     198\n",
      "male                 190     493\n"
     ]
    }
   ],
   "source": [
    "#Number of males and females based on worthiness\n",
    "male_female_worthiness = pd.crosstab(data['gender'], data['creditworthy'])\n",
    "print(male_female_worthiness)"
   ]
  },
  {
   "cell_type": "code",
   "execution_count": 17,
   "metadata": {},
   "outputs": [
    {
     "data": {
      "image/png": "[encoded data removed]",
      "text/plain": [
       "<Figure size 432x288 with 1 Axes>"
      ]
     },
     "metadata": {
      "needs_background": "light"
     },
     "output_type": "display_data"
    }
   ],
   "source": [
    "#Plotting the worthiness among males and females\n",
    "sns.countplot(x = data['gender'], hue = data['creditworthy'])\n",
    "plt.title('worthiness among males and females')\n",
    "plt.show()"
   ]
  },
  {
   "cell_type": "code",
   "execution_count": 18,
   "metadata": {},
   "outputs": [
    {
     "data": {
      "image/png": "[encoded data removed]",
      "text/plain": [
       "<Figure size 432x288 with 1 Axes>"
      ]
     },
     "metadata": {
      "needs_background": "light"
     },
     "output_type": "display_data"
    }
   ],
   "source": [
    "#Number of worthy and unworthy applicants\n",
    "sns.countplot(x = data['creditworthy'])\n",
    "plt.show()"
   ]
  },
  {
   "cell_type": "code",
   "execution_count": 19,
   "metadata": {},
   "outputs": [
    {
     "data": {
      "text/plain": [
       "Index(['foreignworker', 'status', 'credithistory', 'purpose', 'savings',\n",
       "       'employmentsince', 'otherdebtors', 'property', 'otherinstallments',\n",
       "       'housing', 'job', 'phone', 'duration', 'creditamount',\n",
       "       'installmentrate', 'residencesince', 'age', 'numberofexsistingcredits',\n",
       "       'numberofliablepeople', 'gender', 'creditworthy',\n",
       "       'creditamout_per_month', 'agegroup'],\n",
       "      dtype='object')"
      ]
     },
     "execution_count": 19,
     "metadata": {},
     "output_type": "execute_result"
    }
   ],
   "source": [
    "data.columns"
   ]
  },
  {
   "cell_type": "markdown",
   "metadata": {},
   "source": [
    "#### Application Purpose"
   ]
  },
  {
   "cell_type": "code",
   "execution_count": 20,
   "metadata": {},
   "outputs": [
    {
     "data": {
      "text/plain": [
       "array(['radio/television', 'education', 'furniture/equipment',\n",
       "       'car (new)', 'car (used)', 'business', 'domestic appliances',\n",
       "       'repairs', 'others', 'retraining'], dtype=object)"
      ]
     },
     "execution_count": 20,
     "metadata": {},
     "output_type": "execute_result"
    }
   ],
   "source": [
    "data['purpose'].unique()"
   ]
  },
  {
   "cell_type": "code",
   "execution_count": 21,
   "metadata": {},
   "outputs": [
    {
     "data": {
      "text/plain": [
       "10"
      ]
     },
     "execution_count": 21,
     "metadata": {},
     "output_type": "execute_result"
    }
   ],
   "source": [
    "data['purpose'].nunique()"
   ]
  },
  {
   "cell_type": "code",
   "execution_count": 22,
   "metadata": {},
   "outputs": [
    {
     "name": "stdout",
     "output_type": "stream",
     "text": [
      "radio/television       278\n",
      "car (new)              230\n",
      "furniture/equipment    180\n",
      "car (used)             101\n",
      "business                94\n",
      "education               50\n",
      "repairs                 22\n",
      "domestic appliances     12\n",
      "others                  12\n",
      "retraining               9\n",
      "Name: purpose, dtype: int64\n"
     ]
    }
   ],
   "source": [
    "purposes = data.purpose.value_counts()\n",
    "print(purposes)"
   ]
  },
  {
   "cell_type": "code",
   "execution_count": 23,
   "metadata": {},
   "outputs": [
    {
     "data": {
      "image/png": "[encoded data removed]",
      "text/plain": [
       "<Figure size 432x288 with 1 Axes>"
      ]
     },
     "metadata": {
      "needs_background": "light"
     },
     "output_type": "display_data"
    }
   ],
   "source": [
    "sns.countplot(y = 'purpose', data = data, order = data['purpose'].value_counts().index)\n",
    "plt.show()"
   ]
  },
  {
   "cell_type": "markdown",
   "metadata": {},
   "source": [
    "#### Most important features\n"
   ]
  },
  {
   "cell_type": "code",
   "execution_count": 24,
   "metadata": {},
   "outputs": [
    {
     "data": {
      "text/html": [
       "<div>\n",
       "<style scoped>\n",
       "    .dataframe tbody tr th:only-of-type {\n",
       "        vertical-align: middle;\n",
       "    }\n",
       "\n",
       "    .dataframe tbody tr th {\n",
       "        vertical-align: top;\n",
       "    }\n",
       "\n",
       "    .dataframe thead th {\n",
       "        text-align: right;\n",
       "    }\n",
       "</style>\n",
       "<table border=\"1\" class=\"dataframe\">\n",
       "  <thead>\n",
       "    <tr style=\"text-align: right;\">\n",
       "      <th></th>\n",
       "      <th>foreignworker</th>\n",
       "      <th>status</th>\n",
       "      <th>credithistory</th>\n",
       "      <th>purpose</th>\n",
       "      <th>savings</th>\n",
       "      <th>employmentsince</th>\n",
       "      <th>otherdebtors</th>\n",
       "      <th>property</th>\n",
       "      <th>otherinstallments</th>\n",
       "      <th>housing</th>\n",
       "      <th>...</th>\n",
       "      <th>creditamount</th>\n",
       "      <th>installmentrate</th>\n",
       "      <th>residencesince</th>\n",
       "      <th>age</th>\n",
       "      <th>numberofexsistingcredits</th>\n",
       "      <th>numberofliablepeople</th>\n",
       "      <th>gender</th>\n",
       "      <th>creditworthy</th>\n",
       "      <th>creditamout_per_month</th>\n",
       "      <th>agegroup</th>\n",
       "    </tr>\n",
       "  </thead>\n",
       "  <tbody>\n",
       "    <tr>\n",
       "      <th>0</th>\n",
       "      <td>yes</td>\n",
       "      <td>&lt; 0 Euro</td>\n",
       "      <td>critical account/</td>\n",
       "      <td>radio/television</td>\n",
       "      <td>unknown/ no savings account</td>\n",
       "      <td>.. &gt;= 7 years</td>\n",
       "      <td>none</td>\n",
       "      <td>real estate</td>\n",
       "      <td>none</td>\n",
       "      <td>own</td>\n",
       "      <td>...</td>\n",
       "      <td>1169</td>\n",
       "      <td>4</td>\n",
       "      <td>4</td>\n",
       "      <td>67</td>\n",
       "      <td>2</td>\n",
       "      <td>1</td>\n",
       "      <td>male</td>\n",
       "      <td>Worthy</td>\n",
       "      <td>194.833333</td>\n",
       "      <td>Old Age</td>\n",
       "    </tr>\n",
       "    <tr>\n",
       "      <th>1</th>\n",
       "      <td>yes</td>\n",
       "      <td>&lt; 200 Euro</td>\n",
       "      <td>existing credits paid back duly till now</td>\n",
       "      <td>radio/television</td>\n",
       "      <td>... &lt; 100 Euro</td>\n",
       "      <td>1 &lt;= ... &lt; 4 years</td>\n",
       "      <td>none</td>\n",
       "      <td>real estate</td>\n",
       "      <td>none</td>\n",
       "      <td>own</td>\n",
       "      <td>...</td>\n",
       "      <td>5951</td>\n",
       "      <td>2</td>\n",
       "      <td>2</td>\n",
       "      <td>22</td>\n",
       "      <td>1</td>\n",
       "      <td>1</td>\n",
       "      <td>female</td>\n",
       "      <td>Not Worthy</td>\n",
       "      <td>123.979167</td>\n",
       "      <td>Young</td>\n",
       "    </tr>\n",
       "    <tr>\n",
       "      <th>2</th>\n",
       "      <td>yes</td>\n",
       "      <td>no checking account</td>\n",
       "      <td>critical account/</td>\n",
       "      <td>education</td>\n",
       "      <td>... &lt; 100 Euro</td>\n",
       "      <td>4 &lt;= ... &lt; 7 years</td>\n",
       "      <td>none</td>\n",
       "      <td>real estate</td>\n",
       "      <td>none</td>\n",
       "      <td>own</td>\n",
       "      <td>...</td>\n",
       "      <td>2096</td>\n",
       "      <td>2</td>\n",
       "      <td>3</td>\n",
       "      <td>49</td>\n",
       "      <td>1</td>\n",
       "      <td>2</td>\n",
       "      <td>male</td>\n",
       "      <td>Worthy</td>\n",
       "      <td>174.666667</td>\n",
       "      <td>Middle Age</td>\n",
       "    </tr>\n",
       "    <tr>\n",
       "      <th>3</th>\n",
       "      <td>yes</td>\n",
       "      <td>&lt; 0 Euro</td>\n",
       "      <td>existing credits paid back duly till now</td>\n",
       "      <td>furniture/equipment</td>\n",
       "      <td>... &lt; 100 Euro</td>\n",
       "      <td>4 &lt;= ... &lt; 7 years</td>\n",
       "      <td>guarantor</td>\n",
       "      <td>building society savings agreement/ life insur...</td>\n",
       "      <td>none</td>\n",
       "      <td>for free</td>\n",
       "      <td>...</td>\n",
       "      <td>7882</td>\n",
       "      <td>2</td>\n",
       "      <td>4</td>\n",
       "      <td>45</td>\n",
       "      <td>1</td>\n",
       "      <td>2</td>\n",
       "      <td>male</td>\n",
       "      <td>Worthy</td>\n",
       "      <td>187.666667</td>\n",
       "      <td>Middle Age</td>\n",
       "    </tr>\n",
       "    <tr>\n",
       "      <th>4</th>\n",
       "      <td>yes</td>\n",
       "      <td>&lt; 0 Euro</td>\n",
       "      <td>delay in paying off in the past</td>\n",
       "      <td>car (new)</td>\n",
       "      <td>... &lt; 100 Euro</td>\n",
       "      <td>1 &lt;= ... &lt; 4 years</td>\n",
       "      <td>none</td>\n",
       "      <td>unknown / no property</td>\n",
       "      <td>none</td>\n",
       "      <td>for free</td>\n",
       "      <td>...</td>\n",
       "      <td>4870</td>\n",
       "      <td>3</td>\n",
       "      <td>4</td>\n",
       "      <td>53</td>\n",
       "      <td>2</td>\n",
       "      <td>2</td>\n",
       "      <td>male</td>\n",
       "      <td>Not Worthy</td>\n",
       "      <td>202.916667</td>\n",
       "      <td>Middle Age</td>\n",
       "    </tr>\n",
       "  </tbody>\n",
       "</table>\n",
       "<p>5 rows × 23 columns</p>\n",
       "</div>"
      ],
      "text/plain": [
       "  foreignworker               status  \\\n",
       "0           yes             < 0 Euro   \n",
       "1           yes           < 200 Euro   \n",
       "2           yes  no checking account   \n",
       "3           yes             < 0 Euro   \n",
       "4           yes             < 0 Euro   \n",
       "\n",
       "                              credithistory              purpose  \\\n",
       "0                         critical account/     radio/television   \n",
       "1  existing credits paid back duly till now     radio/television   \n",
       "2                         critical account/            education   \n",
       "3  existing credits paid back duly till now  furniture/equipment   \n",
       "4           delay in paying off in the past            car (new)   \n",
       "\n",
       "                       savings     employmentsince otherdebtors  \\\n",
       "0  unknown/ no savings account       .. >= 7 years         none   \n",
       "1               ... < 100 Euro  1 <= ... < 4 years         none   \n",
       "2               ... < 100 Euro  4 <= ... < 7 years         none   \n",
       "3               ... < 100 Euro  4 <= ... < 7 years    guarantor   \n",
       "4               ... < 100 Euro  1 <= ... < 4 years         none   \n",
       "\n",
       "                                            property otherinstallments  \\\n",
       "0                                        real estate              none   \n",
       "1                                        real estate              none   \n",
       "2                                        real estate              none   \n",
       "3  building society savings agreement/ life insur...              none   \n",
       "4                              unknown / no property              none   \n",
       "\n",
       "    housing  ... creditamount installmentrate  residencesince  age  \\\n",
       "0       own  ...         1169               4               4   67   \n",
       "1       own  ...         5951               2               2   22   \n",
       "2       own  ...         2096               2               3   49   \n",
       "3  for free  ...         7882               2               4   45   \n",
       "4  for free  ...         4870               3               4   53   \n",
       "\n",
       "   numberofexsistingcredits  numberofliablepeople  gender  creditworthy  \\\n",
       "0                         2                     1    male        Worthy   \n",
       "1                         1                     1  female    Not Worthy   \n",
       "2                         1                     2    male        Worthy   \n",
       "3                         1                     2    male        Worthy   \n",
       "4                         2                     2    male    Not Worthy   \n",
       "\n",
       "   creditamout_per_month    agegroup  \n",
       "0             194.833333     Old Age  \n",
       "1             123.979167       Young  \n",
       "2             174.666667  Middle Age  \n",
       "3             187.666667  Middle Age  \n",
       "4             202.916667  Middle Age  \n",
       "\n",
       "[5 rows x 23 columns]"
      ]
     },
     "execution_count": 24,
     "metadata": {},
     "output_type": "execute_result"
    }
   ],
   "source": [
    "data.head()"
   ]
  },
  {
   "cell_type": "code",
   "execution_count": 25,
   "metadata": {},
   "outputs": [
    {
     "name": "stdout",
     "output_type": "stream",
     "text": [
      "<class 'pandas.core.frame.DataFrame'>\n",
      "RangeIndex: 988 entries, 0 to 987\n",
      "Data columns (total 23 columns):\n",
      " #   Column                    Non-Null Count  Dtype   \n",
      "---  ------                    --------------  -----   \n",
      " 0   foreignworker             988 non-null    object  \n",
      " 1   status                    988 non-null    object  \n",
      " 2   credithistory             988 non-null    object  \n",
      " 3   purpose                   988 non-null    object  \n",
      " 4   savings                   988 non-null    object  \n",
      " 5   employmentsince           988 non-null    object  \n",
      " 6   otherdebtors              988 non-null    object  \n",
      " 7   property                  988 non-null    object  \n",
      " 8   otherinstallments         988 non-null    object  \n",
      " 9   housing                   988 non-null    object  \n",
      " 10  job                       988 non-null    object  \n",
      " 11  phone                     988 non-null    object  \n",
      " 12  duration                  988 non-null    int64   \n",
      " 13  creditamount              988 non-null    int64   \n",
      " 14  installmentrate           988 non-null    int64   \n",
      " 15  residencesince            988 non-null    int64   \n",
      " 16  age                       988 non-null    int64   \n",
      " 17  numberofexsistingcredits  988 non-null    int64   \n",
      " 18  numberofliablepeople      988 non-null    int64   \n",
      " 19  gender                    988 non-null    object  \n",
      " 20  creditworthy              988 non-null    object  \n",
      " 21  creditamout_per_month     988 non-null    float64 \n",
      " 22  agegroup                  988 non-null    category\n",
      "dtypes: category(1), float64(1), int64(7), object(14)\n",
      "memory usage: 171.1+ KB\n"
     ]
    }
   ],
   "source": [
    "data.info()"
   ]
  },
  {
   "cell_type": "code",
   "execution_count": 26,
   "metadata": {},
   "outputs": [
    {
     "name": "stdout",
     "output_type": "stream",
     "text": [
      "['foreignworker', 'status', 'credithistory', 'purpose', 'savings', 'employmentsince', 'otherdebtors', 'property', 'otherinstallments', 'housing', 'job', 'phone', 'gender', 'creditworthy']\n"
     ]
    }
   ],
   "source": [
    "categorical_columns = []\n",
    "for column in data:\n",
    "    if data[column].dtype == 'object':\n",
    "        categorical_columns.append(column)\n",
    "print(categorical_columns)"
   ]
  },
  {
   "cell_type": "code",
   "execution_count": 27,
   "metadata": {},
   "outputs": [],
   "source": [
    "for item in categorical_columns:\n",
    "    data[item] = pd.Categorical(data[item])"
   ]
  },
  {
   "cell_type": "code",
   "execution_count": 28,
   "metadata": {},
   "outputs": [
    {
     "name": "stdout",
     "output_type": "stream",
     "text": [
      "<class 'pandas.core.frame.DataFrame'>\n",
      "RangeIndex: 988 entries, 0 to 987\n",
      "Data columns (total 23 columns):\n",
      " #   Column                    Non-Null Count  Dtype   \n",
      "---  ------                    --------------  -----   \n",
      " 0   foreignworker             988 non-null    category\n",
      " 1   status                    988 non-null    category\n",
      " 2   credithistory             988 non-null    category\n",
      " 3   purpose                   988 non-null    category\n",
      " 4   savings                   988 non-null    category\n",
      " 5   employmentsince           988 non-null    category\n",
      " 6   otherdebtors              988 non-null    category\n",
      " 7   property                  988 non-null    category\n",
      " 8   otherinstallments         988 non-null    category\n",
      " 9   housing                   988 non-null    category\n",
      " 10  job                       988 non-null    category\n",
      " 11  phone                     988 non-null    category\n",
      " 12  duration                  988 non-null    int64   \n",
      " 13  creditamount              988 non-null    int64   \n",
      " 14  installmentrate           988 non-null    int64   \n",
      " 15  residencesince            988 non-null    int64   \n",
      " 16  age                       988 non-null    int64   \n",
      " 17  numberofexsistingcredits  988 non-null    int64   \n",
      " 18  numberofliablepeople      988 non-null    int64   \n",
      " 19  gender                    988 non-null    category\n",
      " 20  creditworthy              988 non-null    category\n",
      " 21  creditamout_per_month     988 non-null    float64 \n",
      " 22  agegroup                  988 non-null    category\n",
      "dtypes: category(15), float64(1), int64(7)\n",
      "memory usage: 78.8 KB\n"
     ]
    }
   ],
   "source": [
    "data.info()"
   ]
  },
  {
   "cell_type": "code",
   "execution_count": 29,
   "metadata": {},
   "outputs": [],
   "source": [
    "for item in categorical_columns:\n",
    "    data[item] = data[item].cat.codes"
   ]
  },
  {
   "cell_type": "code",
   "execution_count": 30,
   "metadata": {},
   "outputs": [
    {
     "data": {
      "text/html": [
       "<div>\n",
       "<style scoped>\n",
       "    .dataframe tbody tr th:only-of-type {\n",
       "        vertical-align: middle;\n",
       "    }\n",
       "\n",
       "    .dataframe tbody tr th {\n",
       "        vertical-align: top;\n",
       "    }\n",
       "\n",
       "    .dataframe thead th {\n",
       "        text-align: right;\n",
       "    }\n",
       "</style>\n",
       "<table border=\"1\" class=\"dataframe\">\n",
       "  <thead>\n",
       "    <tr style=\"text-align: right;\">\n",
       "      <th></th>\n",
       "      <th>foreignworker</th>\n",
       "      <th>status</th>\n",
       "      <th>credithistory</th>\n",
       "      <th>purpose</th>\n",
       "      <th>savings</th>\n",
       "      <th>employmentsince</th>\n",
       "      <th>otherdebtors</th>\n",
       "      <th>property</th>\n",
       "      <th>otherinstallments</th>\n",
       "      <th>housing</th>\n",
       "      <th>...</th>\n",
       "      <th>creditamount</th>\n",
       "      <th>installmentrate</th>\n",
       "      <th>residencesince</th>\n",
       "      <th>age</th>\n",
       "      <th>numberofexsistingcredits</th>\n",
       "      <th>numberofliablepeople</th>\n",
       "      <th>gender</th>\n",
       "      <th>creditworthy</th>\n",
       "      <th>creditamout_per_month</th>\n",
       "      <th>agegroup</th>\n",
       "    </tr>\n",
       "  </thead>\n",
       "  <tbody>\n",
       "    <tr>\n",
       "      <th>0</th>\n",
       "      <td>2</td>\n",
       "      <td>0</td>\n",
       "      <td>2</td>\n",
       "      <td>7</td>\n",
       "      <td>4</td>\n",
       "      <td>0</td>\n",
       "      <td>2</td>\n",
       "      <td>2</td>\n",
       "      <td>1</td>\n",
       "      <td>1</td>\n",
       "      <td>...</td>\n",
       "      <td>1169</td>\n",
       "      <td>4</td>\n",
       "      <td>4</td>\n",
       "      <td>67</td>\n",
       "      <td>2</td>\n",
       "      <td>1</td>\n",
       "      <td>1</td>\n",
       "      <td>1</td>\n",
       "      <td>194.833333</td>\n",
       "      <td>Old Age</td>\n",
       "    </tr>\n",
       "    <tr>\n",
       "      <th>1</th>\n",
       "      <td>2</td>\n",
       "      <td>1</td>\n",
       "      <td>4</td>\n",
       "      <td>7</td>\n",
       "      <td>1</td>\n",
       "      <td>2</td>\n",
       "      <td>2</td>\n",
       "      <td>2</td>\n",
       "      <td>1</td>\n",
       "      <td>1</td>\n",
       "      <td>...</td>\n",
       "      <td>5951</td>\n",
       "      <td>2</td>\n",
       "      <td>2</td>\n",
       "      <td>22</td>\n",
       "      <td>1</td>\n",
       "      <td>1</td>\n",
       "      <td>0</td>\n",
       "      <td>0</td>\n",
       "      <td>123.979167</td>\n",
       "      <td>Young</td>\n",
       "    </tr>\n",
       "    <tr>\n",
       "      <th>2</th>\n",
       "      <td>2</td>\n",
       "      <td>3</td>\n",
       "      <td>2</td>\n",
       "      <td>4</td>\n",
       "      <td>1</td>\n",
       "      <td>3</td>\n",
       "      <td>2</td>\n",
       "      <td>2</td>\n",
       "      <td>1</td>\n",
       "      <td>1</td>\n",
       "      <td>...</td>\n",
       "      <td>2096</td>\n",
       "      <td>2</td>\n",
       "      <td>3</td>\n",
       "      <td>49</td>\n",
       "      <td>1</td>\n",
       "      <td>2</td>\n",
       "      <td>1</td>\n",
       "      <td>1</td>\n",
       "      <td>174.666667</td>\n",
       "      <td>Middle Age</td>\n",
       "    </tr>\n",
       "    <tr>\n",
       "      <th>3</th>\n",
       "      <td>2</td>\n",
       "      <td>0</td>\n",
       "      <td>4</td>\n",
       "      <td>5</td>\n",
       "      <td>1</td>\n",
       "      <td>3</td>\n",
       "      <td>1</td>\n",
       "      <td>0</td>\n",
       "      <td>1</td>\n",
       "      <td>0</td>\n",
       "      <td>...</td>\n",
       "      <td>7882</td>\n",
       "      <td>2</td>\n",
       "      <td>4</td>\n",
       "      <td>45</td>\n",
       "      <td>1</td>\n",
       "      <td>2</td>\n",
       "      <td>1</td>\n",
       "      <td>1</td>\n",
       "      <td>187.666667</td>\n",
       "      <td>Middle Age</td>\n",
       "    </tr>\n",
       "    <tr>\n",
       "      <th>4</th>\n",
       "      <td>2</td>\n",
       "      <td>0</td>\n",
       "      <td>3</td>\n",
       "      <td>1</td>\n",
       "      <td>1</td>\n",
       "      <td>2</td>\n",
       "      <td>2</td>\n",
       "      <td>3</td>\n",
       "      <td>1</td>\n",
       "      <td>0</td>\n",
       "      <td>...</td>\n",
       "      <td>4870</td>\n",
       "      <td>3</td>\n",
       "      <td>4</td>\n",
       "      <td>53</td>\n",
       "      <td>2</td>\n",
       "      <td>2</td>\n",
       "      <td>1</td>\n",
       "      <td>0</td>\n",
       "      <td>202.916667</td>\n",
       "      <td>Middle Age</td>\n",
       "    </tr>\n",
       "  </tbody>\n",
       "</table>\n",
       "<p>5 rows × 23 columns</p>\n",
       "</div>"
      ],
      "text/plain": [
       "   foreignworker  status  credithistory  purpose  savings  employmentsince  \\\n",
       "0              2       0              2        7        4                0   \n",
       "1              2       1              4        7        1                2   \n",
       "2              2       3              2        4        1                3   \n",
       "3              2       0              4        5        1                3   \n",
       "4              2       0              3        1        1                2   \n",
       "\n",
       "   otherdebtors  property  otherinstallments  housing  ...  creditamount  \\\n",
       "0             2         2                  1        1  ...          1169   \n",
       "1             2         2                  1        1  ...          5951   \n",
       "2             2         2                  1        1  ...          2096   \n",
       "3             1         0                  1        0  ...          7882   \n",
       "4             2         3                  1        0  ...          4870   \n",
       "\n",
       "   installmentrate  residencesince  age  numberofexsistingcredits  \\\n",
       "0                4               4   67                         2   \n",
       "1                2               2   22                         1   \n",
       "2                2               3   49                         1   \n",
       "3                2               4   45                         1   \n",
       "4                3               4   53                         2   \n",
       "\n",
       "   numberofliablepeople  gender  creditworthy  creditamout_per_month  \\\n",
       "0                     1       1             1             194.833333   \n",
       "1                     1       0             0             123.979167   \n",
       "2                     2       1             1             174.666667   \n",
       "3                     2       1             1             187.666667   \n",
       "4                     2       1             0             202.916667   \n",
       "\n",
       "     agegroup  \n",
       "0     Old Age  \n",
       "1       Young  \n",
       "2  Middle Age  \n",
       "3  Middle Age  \n",
       "4  Middle Age  \n",
       "\n",
       "[5 rows x 23 columns]"
      ]
     },
     "execution_count": 30,
     "metadata": {},
     "output_type": "execute_result"
    }
   ],
   "source": [
    "data.head()"
   ]
  },
  {
   "cell_type": "code",
   "execution_count": 31,
   "metadata": {},
   "outputs": [
    {
     "data": {
      "text/plain": [
       "['Old Age', 'Young', 'Middle Age', 'Very Old']\n",
       "Categories (4, object): ['Young' < 'Middle Age' < 'Old Age' < 'Very Old']"
      ]
     },
     "execution_count": 31,
     "metadata": {},
     "output_type": "execute_result"
    }
   ],
   "source": [
    "data['agegroup'].unique()"
   ]
  },
  {
   "cell_type": "code",
   "execution_count": 32,
   "metadata": {},
   "outputs": [],
   "source": [
    "data['agegroup'] = pd.Categorical(data['agegroup'])\n",
    "data['agegroup'] = data['agegroup'].cat.codes"
   ]
  },
  {
   "cell_type": "code",
   "execution_count": 33,
   "metadata": {},
   "outputs": [
    {
     "data": {
      "text/plain": [
       "array([2, 0, 1, 3], dtype=int8)"
      ]
     },
     "execution_count": 33,
     "metadata": {},
     "output_type": "execute_result"
    }
   ],
   "source": [
    "data['agegroup'].unique()"
   ]
  },
  {
   "cell_type": "code",
   "execution_count": 34,
   "metadata": {},
   "outputs": [],
   "source": [
    "from sklearn.linear_model import LogisticRegression\n",
    "from sklearn.preprocessing import scale"
   ]
  },
  {
   "cell_type": "code",
   "execution_count": 35,
   "metadata": {},
   "outputs": [],
   "source": [
    "model = LogisticRegression()\n",
    "y = data['creditworthy']"
   ]
  },
  {
   "cell_type": "code",
   "execution_count": 36,
   "metadata": {},
   "outputs": [],
   "source": [
    "X = data.drop('creditworthy', axis = 1)"
   ]
  },
  {
   "cell_type": "code",
   "execution_count": 37,
   "metadata": {},
   "outputs": [],
   "source": [
    "#Scaling data\n",
    "X_scaled = scale(X)"
   ]
  },
  {
   "cell_type": "code",
   "execution_count": 38,
   "metadata": {},
   "outputs": [
    {
     "data": {
      "text/plain": [
       "LogisticRegression()"
      ]
     },
     "execution_count": 38,
     "metadata": {},
     "output_type": "execute_result"
    }
   ],
   "source": [
    "#Model training\n",
    "model.fit(X_scaled, y)"
   ]
  },
  {
   "cell_type": "code",
   "execution_count": 39,
   "metadata": {},
   "outputs": [],
   "source": [
    "importance = model.coef_[0]"
   ]
  },
  {
   "cell_type": "code",
   "execution_count": 40,
   "metadata": {
    "scrolled": false
   },
   "outputs": [
    {
     "data": {
      "text/plain": [
       "22"
      ]
     },
     "execution_count": 40,
     "metadata": {},
     "output_type": "execute_result"
    }
   ],
   "source": [
    "len(importance)"
   ]
  },
  {
   "cell_type": "code",
   "execution_count": null,
   "metadata": {},
   "outputs": [],
   "source": []
  },
  {
   "cell_type": "code",
   "execution_count": 41,
   "metadata": {},
   "outputs": [
    {
     "data": {
      "image/png": "[encoded data removed]",
      "text/plain": [
       "<Figure size 864x576 with 1 Axes>"
      ]
     },
     "metadata": {
      "needs_background": "light"
     },
     "output_type": "display_data"
    }
   ],
   "source": [
    "feat_importance = pd.Series(importance, index = X.columns)\n",
    "plt.figure(figsize = (12, 8))\n",
    "feat_importance.plot(kind = 'barh')\n",
    "plt.show()"
   ]
  },
  {
   "cell_type": "code",
   "execution_count": 42,
   "metadata": {},
   "outputs": [
    {
     "data": {
      "text/plain": [
       "foreignworker              -0.188208\n",
       "status                      0.807015\n",
       "credithistory               0.081965\n",
       "purpose                     0.202196\n",
       "savings                     0.256064\n",
       "employmentsince             0.076509\n",
       "otherdebtors               -0.020587\n",
       "property                   -0.082133\n",
       "otherinstallments           0.126339\n",
       "housing                    -0.084135\n",
       "job                         0.012200\n",
       "phone                       0.155503\n",
       "duration                   -0.472502\n",
       "creditamount               -0.107842\n",
       "installmentrate            -0.327835\n",
       "residencesince              0.047926\n",
       "age                         0.330165\n",
       "numberofexsistingcredits    0.055117\n",
       "numberofliablepeople       -0.040881\n",
       "gender                      0.212012\n",
       "creditamout_per_month      -0.213735\n",
       "agegroup                   -0.146402\n",
       "dtype: float64"
      ]
     },
     "execution_count": 42,
     "metadata": {},
     "output_type": "execute_result"
    }
   ],
   "source": [
    "feat_importance"
   ]
  },
  {
   "cell_type": "code",
   "execution_count": 43,
   "metadata": {},
   "outputs": [],
   "source": [
    "from sklearn.model_selection import train_test_split"
   ]
  },
  {
   "cell_type": "code",
   "execution_count": 44,
   "metadata": {},
   "outputs": [],
   "source": [
    "X_train, X_test, y_train, y_test = train_test_split(X_scaled, y, test_size = 0.30, random_state = 3)"
   ]
  },
  {
   "cell_type": "code",
   "execution_count": 45,
   "metadata": {},
   "outputs": [
    {
     "data": {
      "text/plain": [
       "LogisticRegression()"
      ]
     },
     "execution_count": 45,
     "metadata": {},
     "output_type": "execute_result"
    }
   ],
   "source": [
    "model.fit(X_train, y_train)"
   ]
  },
  {
   "cell_type": "code",
   "execution_count": 46,
   "metadata": {},
   "outputs": [],
   "source": [
    "predict = model.predict(X_test)"
   ]
  },
  {
   "cell_type": "code",
   "execution_count": 47,
   "metadata": {},
   "outputs": [
    {
     "name": "stdout",
     "output_type": "stream",
     "text": [
      "[[ 34  55]\n",
      " [ 25 183]]\n",
      "              precision    recall  f1-score   support\n",
      "\n",
      "           0       0.58      0.38      0.46        89\n",
      "           1       0.77      0.88      0.82       208\n",
      "\n",
      "    accuracy                           0.73       297\n",
      "   macro avg       0.67      0.63      0.64       297\n",
      "weighted avg       0.71      0.73      0.71       297\n",
      "\n"
     ]
    }
   ],
   "source": [
    "from sklearn.metrics import confusion_matrix, classification_report\n",
    "print(confusion_matrix(y_test, predict))\n",
    "print(classification_report(y_test, predict))"
   ]
  },
  {
   "cell_type": "code",
   "execution_count": 48,
   "metadata": {},
   "outputs": [
    {
     "data": {
      "text/plain": [
       "0      1\n",
       "1      0\n",
       "2      0\n",
       "3      0\n",
       "4      0\n",
       "      ..\n",
       "983    0\n",
       "984    1\n",
       "985    0\n",
       "986    1\n",
       "987    0\n",
       "Name: phone, Length: 988, dtype: int8"
      ]
     },
     "execution_count": 48,
     "metadata": {},
     "output_type": "execute_result"
    }
   ],
   "source": [
    "data['phone']"
   ]
  },
  {
   "cell_type": "code",
   "execution_count": null,
   "metadata": {},
   "outputs": [],
   "source": []
  }
 ],
 "metadata": {
  "kernelspec": {
   "display_name": "Python 3",
   "language": "python",
   "name": "python3"
  },
  "language_info": {
   "codemirror_mode": {
    "name": "ipython",
    "version": 3
   },
   "file_extension": ".py",
   "mimetype": "text/x-python",
   "name": "python",
   "nbconvert_exporter": "python",
   "pygments_lexer": "ipython3",
   "version": "3.8.5"
  }
 },
 "nbformat": 4,
 "nbformat_minor": 4
}
