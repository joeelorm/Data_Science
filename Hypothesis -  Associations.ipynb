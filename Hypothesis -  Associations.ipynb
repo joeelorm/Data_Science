{
 "cells": [
  {
   "cell_type": "markdown",
   "metadata": {},
   "source": [
    "- Two Sample T-Tests (for an association between a quantitative variable and a binary categorical variable)\n",
    "- ANOVA and Tukey Tests (for an association between a quantitative variable and a non-binary categorical variable)\n",
    "- Chi-Square Tests (for an association between two categorical variables)"
   ]
  },
  {
   "cell_type": "markdown",
   "metadata": {},
   "source": [
    "Two-Sample T-Test\n",
    "Suppose that a company is considering a new color-scheme for their website. They think that visitors will spend more time on the site if it is brightly colored. To test this theory, the company shows the old and new versions of the website to 50 site visitors, each — and finds that, on average, visitors spent 2 minutes longer on the new version compared to the old. Will this be true of future visitors as well? Or could this have happened by random chance among the 100 people in this sample?\n",
    "\n",
    "One way of testing this is with a 2-sample t-test. The null hypothesis for this test is that average length of a visit does not differ based on the color of the website. In other words, if we could observe all site visitors in two alternate universes (one where they see each version of the site), the average visiting times in these universes would be equal.\n",
    "\n",
    "We can use SciPy’s ttest_ind() function to perform a 2-sample t-test. It takes the values for each group as inputs and returns the t-statistic and a p-value.\n",
    "\n",
    "`from scipy.stats import ttest_ind`\n",
    "\n",
    "`tstat, pval = ttest_ind(times_version1, times_version2)`"
   ]
  },
  {
   "cell_type": "code",
   "execution_count": null,
   "metadata": {},
   "outputs": [],
   "source": []
  },
  {
   "cell_type": "markdown",
   "metadata": {},
   "source": [
    "The company randomly sampled 100 site visitors. They showed the old version of their website to half of their sample and the new version to the other half. The amount of time (in minutes) that each visitor spent on the website was recorded.\n",
    "\n"
   ]
  },
  {
   "cell_type": "code",
   "execution_count": 1,
   "metadata": {},
   "outputs": [],
   "source": [
    "import pandas as pd\n",
    "import matplotlib.pyplot as plt\n",
    "from scipy.stats import ttest_ind"
   ]
  },
  {
   "cell_type": "code",
   "execution_count": 2,
   "metadata": {},
   "outputs": [
    {
     "data": {
      "text/html": [
       "<div>\n",
       "<style scoped>\n",
       "    .dataframe tbody tr th:only-of-type {\n",
       "        vertical-align: middle;\n",
       "    }\n",
       "\n",
       "    .dataframe tbody tr th {\n",
       "        vertical-align: top;\n",
       "    }\n",
       "\n",
       "    .dataframe thead th {\n",
       "        text-align: right;\n",
       "    }\n",
       "</style>\n",
       "<table border=\"1\" class=\"dataframe\">\n",
       "  <thead>\n",
       "    <tr style=\"text-align: right;\">\n",
       "      <th></th>\n",
       "      <th>time_minutes</th>\n",
       "      <th>version</th>\n",
       "    </tr>\n",
       "  </thead>\n",
       "  <tbody>\n",
       "    <tr>\n",
       "      <th>0</th>\n",
       "      <td>11.92</td>\n",
       "      <td>new</td>\n",
       "    </tr>\n",
       "    <tr>\n",
       "      <th>1</th>\n",
       "      <td>12.90</td>\n",
       "      <td>old</td>\n",
       "    </tr>\n",
       "    <tr>\n",
       "      <th>2</th>\n",
       "      <td>13.76</td>\n",
       "      <td>old</td>\n",
       "    </tr>\n",
       "    <tr>\n",
       "      <th>3</th>\n",
       "      <td>15.68</td>\n",
       "      <td>old</td>\n",
       "    </tr>\n",
       "    <tr>\n",
       "      <th>4</th>\n",
       "      <td>16.28</td>\n",
       "      <td>old</td>\n",
       "    </tr>\n",
       "  </tbody>\n",
       "</table>\n",
       "</div>"
      ],
      "text/plain": [
       "   time_minutes version\n",
       "0         11.92     new\n",
       "1         12.90     old\n",
       "2         13.76     old\n",
       "3         15.68     old\n",
       "4         16.28     old"
      ]
     },
     "execution_count": 2,
     "metadata": {},
     "output_type": "execute_result"
    }
   ],
   "source": [
    "data = pd.read_csv('../Datasets/version_time.csv')\n",
    "data.head()"
   ]
  },
  {
   "cell_type": "code",
   "execution_count": 3,
   "metadata": {},
   "outputs": [],
   "source": [
    "new = data[data['version'] == 'new']['time_minutes']\n",
    "old = data[data['version'] == 'old']['time_minutes']"
   ]
  },
  {
   "cell_type": "code",
   "execution_count": 4,
   "metadata": {},
   "outputs": [
    {
     "data": {
      "text/plain": [
       "0     11.92\n",
       "6     16.93\n",
       "7     17.20\n",
       "13    19.52\n",
       "14    19.65\n",
       "19    20.91\n",
       "22    21.18\n",
       "23    21.38\n",
       "25    21.64\n",
       "26    21.70\n",
       "31    22.06\n",
       "32    22.22\n",
       "34    22.31\n",
       "37    23.13\n",
       "40    23.49\n",
       "41    23.54\n",
       "43    23.63\n",
       "46    23.92\n",
       "52    25.00\n",
       "56    25.51\n",
       "57    25.73\n",
       "58    25.95\n",
       "60    26.38\n",
       "62    27.23\n",
       "63    27.25\n",
       "64    27.26\n",
       "65    27.69\n",
       "66    27.75\n",
       "69    28.39\n",
       "70    28.69\n",
       "72    28.92\n",
       "75    29.57\n",
       "76    29.72\n",
       "77    29.88\n",
       "78    29.90\n",
       "81    30.73\n",
       "82    30.76\n",
       "83    31.00\n",
       "84    31.57\n",
       "85    31.74\n",
       "86    32.04\n",
       "87    32.10\n",
       "88    32.34\n",
       "90    33.17\n",
       "91    33.46\n",
       "94    33.94\n",
       "96    35.35\n",
       "97    35.37\n",
       "98    36.19\n",
       "99    37.29\n",
       "Name: time_minutes, dtype: float64"
      ]
     },
     "execution_count": 4,
     "metadata": {},
     "output_type": "execute_result"
    }
   ],
   "source": [
    "new"
   ]
  },
  {
   "cell_type": "code",
   "execution_count": null,
   "metadata": {},
   "outputs": [],
   "source": []
  }
 ],
 "metadata": {
  "kernelspec": {
   "display_name": "Python 3",
   "language": "python",
   "name": "python3"
  },
  "language_info": {
   "codemirror_mode": {
    "name": "ipython",
    "version": 3
   },
   "file_extension": ".py",
   "mimetype": "text/x-python",
   "name": "python",
   "nbconvert_exporter": "python",
   "pygments_lexer": "ipython3",
   "version": "3.8.5"
  }
 },
 "nbformat": 4,
 "nbformat_minor": 4
}
