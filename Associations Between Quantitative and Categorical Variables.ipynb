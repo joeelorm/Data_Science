{
 "cells": [
  {
   "cell_type": "markdown",
   "metadata": {},
   "source": [
    "#### Associations Between Quantitative and Categorical Variables"
   ]
  },
  {
   "cell_type": "markdown",
   "metadata": {},
   "source": [
    "Examining the relationship between variables can give us key insight into our data. In this lesson, we will cover ways of assessing the association between a quantitative variable and a categorical variable.\n",
    "we’ll explore a dataset that contains the following information about students at two portuguese schools:\n",
    "\n",
    "- school: the school each student attends, Gabriel Periera ('GP') or Mousinho da Silveria ('MS')\n",
    "- address: the location of the student’s home ('U' for urban and 'R' for rural)\n",
    "- absences: the number of times the student was absent during the school year\n",
    "- Mjob: the student’s mother’s job industry\n",
    "- Fjob: the student’s father’s job industry\n",
    "- G3: the student’s score on a math assessment, ranging from 0 to 20\n",
    "\n",
    "Suppose we want to know: Is a student’s score (G3) associated with their school (school)? If so, then knowing what school a student attends gives us information about what their score is likely to be. For example, maybe students at one of the schools consistently score higher than students at the other school.\n",
    "\n",
    "To start answering this question, it is useful to save scores from each school in two separate lists:\n",
    "\n",
    "`scores_GP = students.G3[students.school == 'GP']`\n",
    "\n",
    "`scores_MS = students.G3[students.school == 'MS']`"
   ]
  },
  {
   "cell_type": "code",
   "execution_count": null,
   "metadata": {},
   "outputs": [],
   "source": []
  }
 ],
 "metadata": {
  "kernelspec": {
   "display_name": "Python 3",
   "language": "python",
   "name": "python3"
  },
  "language_info": {
   "codemirror_mode": {
    "name": "ipython",
    "version": 3
   },
   "file_extension": ".py",
   "mimetype": "text/x-python",
   "name": "python",
   "nbconvert_exporter": "python",
   "pygments_lexer": "ipython3",
   "version": "3.8.5"
  }
 },
 "nbformat": 4,
 "nbformat_minor": 4
}
