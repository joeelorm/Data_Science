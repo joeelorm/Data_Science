{
 "cells": [
  {
   "cell_type": "markdown",
   "metadata": {},
   "source": [
    "#### Associations Between Quantitative and Categorical Variables"
   ]
  },
  {
   "cell_type": "markdown",
   "metadata": {},
   "source": [
    "Examining the relationship between variables can give us key insight into our data. In this lesson, we will cover ways of assessing the association between a quantitative variable and a categorical variable.\n",
    "we’ll explore a dataset that contains the following information about students at two portuguese schools:\n",
    "\n",
    "- school: the school each student attends, Gabriel Periera ('GP') or Mousinho da Silveria ('MS')\n",
    "- address: the location of the student’s home ('U' for urban and 'R' for rural)\n",
    "- absences: the number of times the student was absent during the school year\n",
    "- Mjob: the student’s mother’s job industry\n",
    "- Fjob: the student’s father’s job industry\n",
    "- G3: the student’s score on a math assessment, ranging from 0 to 20\n",
    "\n",
    "Suppose we want to know: Is a student’s score (G3) associated with their school (school)? If so, then knowing what school a student attends gives us information about what their score is likely to be. For example, maybe students at one of the schools consistently score higher than students at the other school.\n",
    "\n",
    "To start answering this question, it is useful to save scores from each school in two separate lists:\n",
    "\n",
    "`scores_GP = students.G3[students.school == 'GP']`\n",
    "\n",
    "`scores_MS = students.G3[students.school == 'MS']`"
   ]
  },
  {
   "cell_type": "code",
   "execution_count": 1,
   "metadata": {},
   "outputs": [],
   "source": [
    "import numpy as np\n",
    "import pandas as pd\n",
    "import matplotlib.pyplot as plt \n",
    "import seaborn as sns"
   ]
  },
  {
   "cell_type": "code",
   "execution_count": 2,
   "metadata": {},
   "outputs": [
    {
     "data": {
      "text/html": [
       "<div>\n",
       "<style scoped>\n",
       "    .dataframe tbody tr th:only-of-type {\n",
       "        vertical-align: middle;\n",
       "    }\n",
       "\n",
       "    .dataframe tbody tr th {\n",
       "        vertical-align: top;\n",
       "    }\n",
       "\n",
       "    .dataframe thead th {\n",
       "        text-align: right;\n",
       "    }\n",
       "</style>\n",
       "<table border=\"1\" class=\"dataframe\">\n",
       "  <thead>\n",
       "    <tr style=\"text-align: right;\">\n",
       "      <th></th>\n",
       "      <th>school</th>\n",
       "      <th>address</th>\n",
       "      <th>absences</th>\n",
       "      <th>Mjob</th>\n",
       "      <th>Fjob</th>\n",
       "      <th>G3</th>\n",
       "    </tr>\n",
       "  </thead>\n",
       "  <tbody>\n",
       "    <tr>\n",
       "      <th>0</th>\n",
       "      <td>GP</td>\n",
       "      <td>U</td>\n",
       "      <td>6</td>\n",
       "      <td>at_home</td>\n",
       "      <td>teacher</td>\n",
       "      <td>6</td>\n",
       "    </tr>\n",
       "    <tr>\n",
       "      <th>1</th>\n",
       "      <td>GP</td>\n",
       "      <td>U</td>\n",
       "      <td>4</td>\n",
       "      <td>at_home</td>\n",
       "      <td>other</td>\n",
       "      <td>6</td>\n",
       "    </tr>\n",
       "    <tr>\n",
       "      <th>2</th>\n",
       "      <td>GP</td>\n",
       "      <td>U</td>\n",
       "      <td>10</td>\n",
       "      <td>at_home</td>\n",
       "      <td>other</td>\n",
       "      <td>10</td>\n",
       "    </tr>\n",
       "  </tbody>\n",
       "</table>\n",
       "</div>"
      ],
      "text/plain": [
       "  school address  absences     Mjob     Fjob  G3\n",
       "0     GP       U         6  at_home  teacher   6\n",
       "1     GP       U         4  at_home    other   6\n",
       "2     GP       U        10  at_home    other  10"
      ]
     },
     "execution_count": 2,
     "metadata": {},
     "output_type": "execute_result"
    }
   ],
   "source": [
    "students = pd.read_csv('../Datasets/students.csv')\n",
    "students.head(3)"
   ]
  },
  {
   "cell_type": "markdown",
   "metadata": {},
   "source": [
    "Suppose that we want to know whether there is an association between student math scores (G3) and the student’s address (urban or rural). Separate out G3 scores into two separate lists: one for students who live in an urban location ('U') and one for students who live in a rural location ('R')"
   ]
  },
  {
   "cell_type": "code",
   "execution_count": 3,
   "metadata": {},
   "outputs": [],
   "source": [
    "#separate out scores for students who live in urban and rural locations:\n",
    "scores_urban = students[students['address'] == 'U']['G3']\n",
    "scores_rural = students[students['address'] == 'R']['G3']"
   ]
  },
  {
   "cell_type": "code",
   "execution_count": null,
   "metadata": {},
   "outputs": [],
   "source": []
  },
  {
   "cell_type": "markdown",
   "metadata": {},
   "source": [
    "Highly associated variables tend to have a large mean or median difference. "
   ]
  },
  {
   "cell_type": "code",
   "execution_count": 4,
   "metadata": {},
   "outputs": [
    {
     "name": "stdout",
     "output_type": "stream",
     "text": [
      "Mean score - students w/ urban address:\n",
      "10.674267100977199\n",
      "Mean score - students w/ rural address:\n",
      "9.511363636363637\n",
      "Mean difference:\n",
      "1.1629034646135619\n",
      "Median score - students w/ urban address:\n",
      "11.0\n",
      "Median score - students w/ rural address:\n",
      "10.0\n",
      "Median difference:\n",
      "1.0\n"
     ]
    }
   ],
   "source": [
    "#calculate means for each group:\n",
    "scores_urban_mean = np.mean(scores_urban)\n",
    "scores_rural_mean = np.mean(scores_rural)\n",
    "\n",
    "#print mean scores:\n",
    "print('Mean score - students w/ urban address:')\n",
    "print(scores_urban_mean)\n",
    "print('Mean score - students w/ rural address:')\n",
    "print(scores_rural_mean)\n",
    "\n",
    "#calculate mean difference:\n",
    "mean_diff = scores_urban_mean - scores_rural_mean\n",
    "\n",
    "#print mean difference\n",
    "print('Mean difference:')\n",
    "print(mean_diff)\n",
    "\n",
    "#calculate medians for each group:\n",
    "scores_urban_median = np.median(scores_urban)\n",
    "scores_rural_median = np.median(scores_rural)\n",
    "\n",
    "#print median scores\n",
    "print('Median score - students w/ urban address:')\n",
    "print(scores_urban_median)\n",
    "print('Median score - students w/ rural address:')\n",
    "print(scores_rural_median)\n",
    "\n",
    "#calculate median difference\n",
    "median_diff = scores_urban_median - scores_rural_median\n",
    "\n",
    "#print median difference\n",
    "print('Median difference:')\n",
    "print(median_diff)\n"
   ]
  },
  {
   "cell_type": "markdown",
   "metadata": {},
   "source": [
    "One way to get a better sense of spread is by looking at a visual representation of the data. Side-by-side box plots are useful in visualizing mean and median differences because they allow us to visually estimate the variation in the data. This can help us determine if mean or median differences are “large” or “small”."
   ]
  },
  {
   "cell_type": "code",
   "execution_count": 6,
   "metadata": {},
   "outputs": [
    {
     "data": {
      "image/png": "[encoded data removed]",
      "text/plain": [
       "<Figure size 432x288 with 1 Axes>"
      ]
     },
     "metadata": {
      "needs_background": "light"
     },
     "output_type": "display_data"
    }
   ],
   "source": [
    "#create the boxplot here:\n",
    "sns.boxplot(data = students, x = 'address', y = 'G3')\n",
    "plt.show()"
   ]
  },
  {
   "cell_type": "markdown",
   "metadata": {},
   "source": [
    "#### Inspecting Overlapping Histograms\n",
    "Another way to explore the relationship between a quantitative and categorical variable in more detail is by inspecting overlapping histograms. In the code below, setting alpha = .5 ensures that the histograms are see-through enough that we can see both of them at once. We have also used normed=True make sure that the y-axis is a density rather than a frequency (note: the newest version of matplotlib renamed this parameter density instead of normed):"
   ]
  },
  {
   "cell_type": "code",
   "execution_count": 14,
   "metadata": {},
   "outputs": [
    {
     "data": {
      "image/png": "[encoded data removed]",
      "text/plain": [
       "<Figure size 432x288 with 1 Axes>"
      ]
     },
     "metadata": {
      "needs_background": "light"
     },
     "output_type": "display_data"
    }
   ],
   "source": [
    "scores_GP = students[students['school'] == 'GP']['G3']\n",
    "scores_MS = students[students['school'] == 'MS']['G3']\n",
    "\n",
    "plt.hist(scores_GP , color=\"blue\", label=\"GP\", density = True, alpha=0.5)\n",
    "plt.hist(scores_MS , color=\"red\", label=\"MS\", density = True, alpha=0.5)\n",
    "plt.legend()\n",
    "plt.show()"
   ]
  },
  {
   "cell_type": "markdown",
   "metadata": {},
   "source": [
    "By inspecting this histogram, we can clearly see that the entire distribution of scores at GP (not just the mean or median) appears slightly shifted to the right (higher) compared to the scores at MS. However, there is also still a lot of overlap between the scores, suggesting that the association is relatively weak."
   ]
  },
  {
   "cell_type": "code",
   "execution_count": 8,
   "metadata": {},
   "outputs": [
    {
     "data": {
      "image/png": "[encoded data removed]",
      "text/plain": [
       "<Figure size 432x288 with 1 Axes>"
      ]
     },
     "metadata": {
      "needs_background": "light"
     },
     "output_type": "display_data"
    }
   ],
   "source": [
    "#create the overlapping histograms here:\n",
    "plt.hist(scores_urban, alpha = 0.5, density = True, color = 'red', label = 'Urban Scores')\n",
    "plt.hist(scores_rural, alpha = 0.5, density = True, color = 'blue', label = 'Rural Scores')\n",
    "plt.legend()\n",
    "plt.show()"
   ]
  },
  {
   "cell_type": "markdown",
   "metadata": {},
   "source": [
    "#### Exploring Non-Binary Categorical Variables\n",
    "\n",
    "In each of the previous exercises, we assessed whether there was an association between a quantitative variable (math scores) and a BINARY categorical variable (school). The categorical variable is considered binary because there are only two available options, either MS or GP. However, sometimes we are interested in an association between a quantitative variable and non-binary categorical variable. Non-binary categorical variables have more than two categories.\n",
    "\n",
    "When looking at an association between a quantitative variable and a non-binary categorical variable, we must examine all pair-wise differences. For example, suppose we want to know whether or not an association exists between math scores (G3) and (Mjob), a categorical variable representing the mother’s job. This variable has five possible categories: `at_home`, `health`, `services`, `teacher`, or `other`. There are actually 10 different comparisons that we can make. For example, we can compare scores for students whose mothers work at_home or in `health; at_home or other; at home or `services; etc.. The easiest way to quickly visualize these comparisons is with side-by-side box plots:"
   ]
  },
  {
   "cell_type": "code",
   "execution_count": 10,
   "metadata": {},
   "outputs": [
    {
     "data": {
      "image/png": "[encoded data removed]",
      "text/plain": [
       "<Figure size 432x288 with 1 Axes>"
      ]
     },
     "metadata": {
      "needs_background": "light"
     },
     "output_type": "display_data"
    }
   ],
   "source": [
    "sns.boxplot(data = students, x = 'Mjob', y = 'G3')\n",
    "plt.show()"
   ]
  },
  {
   "cell_type": "markdown",
   "metadata": {},
   "source": [
    "Visually, we need to compare each box to every other box. While most of these boxes overlap with each other, there are some pairs for which there are some apparent differences. For example, scores appear to be higher among students with mothers working in health than among students with mothers working at home or in an “other” job. If there are ANY pairwise differences, we can say that the variables are associated; however, it is more useful to specifically report which groups are different."
   ]
  },
  {
   "cell_type": "code",
   "execution_count": null,
   "metadata": {},
   "outputs": [],
   "source": []
  },
  {
   "cell_type": "code",
   "execution_count": 11,
   "metadata": {},
   "outputs": [
    {
     "data": {
      "image/png": "[encoded data removed]",
      "text/plain": [
       "<Figure size 432x288 with 1 Axes>"
      ]
     },
     "metadata": {
      "needs_background": "light"
     },
     "output_type": "display_data"
    }
   ],
   "source": [
    "sns.boxplot(data = students, y = 'G3', x = 'Fjob')\n",
    "plt.show()\n"
   ]
  },
  {
   "cell_type": "markdown",
   "metadata": {},
   "source": [
    "#### Associations in the titanic data"
   ]
  },
  {
   "cell_type": "code",
   "execution_count": 18,
   "metadata": {},
   "outputs": [
    {
     "name": "stdout",
     "output_type": "stream",
     "text": [
      "Average fare paid by survivors is 37.80299847560977\n",
      "Average fare paid by non-survivors is 19.7208009208103\n",
      "Difference in means: 18.082197554799468\n"
     ]
    }
   ],
   "source": [
    "titanic = pd.read_csv('../Datasets/titanic.csv')\n",
    "#Mean fare paid by survivors\n",
    "fare_survivors = titanic[titanic['Survived'] == 1]['Fare']\n",
    "mean_fare_survivors = np.mean(fare_survivors)\n",
    "print('Average fare paid by survivors is {}'.format(mean_fare_survivors))\n",
    "\n",
    "#Mean fare paid by nonsurvivors\n",
    "fare_dead_victims = titanic[titanic['Survived'] == 0]['Fare']\n",
    "mean_fare_dead_victims = np.mean(fare_dead_victims)\n",
    "print('Average fare paid by non-survivors is {}'.format(mean_fare_dead_victims))\n",
    "\n",
    "\n",
    "diff_means = mean_fare_survivors - mean_fare_dead_victims\n",
    "print('Difference in means: {}'.format(diff_means))"
   ]
  },
  {
   "cell_type": "code",
   "execution_count": 20,
   "metadata": {},
   "outputs": [
    {
     "data": {
      "image/png": "[encoded data removed]",
      "text/plain": [
       "<Figure size 432x288 with 1 Axes>"
      ]
     },
     "metadata": {
      "needs_background": "light"
     },
     "output_type": "display_data"
    }
   ],
   "source": [
    "sns.boxplot(data = titanic, x = 'Survived', y = 'Fare')\n",
    "plt.show()"
   ]
  },
  {
   "cell_type": "code",
   "execution_count": 21,
   "metadata": {},
   "outputs": [
    {
     "data": {
      "image/png": "[encoded data removed]",
      "text/plain": [
       "<Figure size 432x288 with 1 Axes>"
      ]
     },
     "metadata": {
      "needs_background": "light"
     },
     "output_type": "display_data"
    }
   ],
   "source": [
    "#Overlapping Histograms\n",
    "plt.hist(fare_survivors, alpha = 0.5, density = True, color = 'red', label = 'Survivors Fare')\n",
    "plt.hist(fare_dead_victims, alpha = 0.5, density = True, color = 'green', label = 'Non-survivors Fare' )\n",
    "plt.legend()\n",
    "plt.show()"
   ]
  },
  {
   "cell_type": "code",
   "execution_count": null,
   "metadata": {},
   "outputs": [],
   "source": []
  },
  {
   "cell_type": "code",
   "execution_count": null,
   "metadata": {},
   "outputs": [],
   "source": []
  },
  {
   "cell_type": "markdown",
   "metadata": {},
   "source": [
    "#### Associations Two Quantitative Variables\n",
    "When associations exist between variables, it means that information about the value of one variable gives us information about the value of the other variable.\n",
    "We'll examine some data about Texas housing rentals on Craigslist — an online classifieds site. The data dictionary is as follows:\n",
    "\n",
    "- `price`: monthly rental price in U.S.D.\n",
    "- `type`: type of housing (eg., 'apartment', 'house', 'condo', etc.)\n",
    "- `sqfeet`: housing area, in square feet\n",
    "- `beds`: number of beds\n",
    "- `baths`: number of baths\n",
    "- `lat`: latitude\n",
    "- `long`: longitude\n",
    "\n",
    "Except for type, all of these variables are quantitative. Which pairs of variables do you think might be associated? For example, does knowing something about price give you any information about square footage?"
   ]
  },
  {
   "cell_type": "code",
   "execution_count": 24,
   "metadata": {},
   "outputs": [
    {
     "name": "stdout",
     "output_type": "stream",
     "text": [
      "   price       type  sqfeet  beds  baths      lat      long\n",
      "0    615  apartment     364     0    1.0  35.1653 -101.8840\n",
      "1   1346  apartment     816     1    1.0  32.9865  -96.6860\n",
      "2    900  apartment     500     1    1.0  30.2355  -97.7292\n",
      "3    650  apartment     700     1    1.0  26.1923  -98.2657\n",
      "4   1330  apartment    1040     2    2.0  30.6380  -96.2940\n",
      "5    915  apartment     620     1    1.0  29.8754  -97.9404\n",
      "6   1600      house    1578     3    2.0  32.6412  -97.1058\n",
      "7    349  apartment     275     0    1.0  33.5865 -101.8610\n",
      "8    695      house     650     1    1.0  31.5525  -97.1604\n",
      "9    889  apartment     650     1    1.5  29.8754  -97.9404\n"
     ]
    }
   ],
   "source": [
    "housing = pd.read_csv('../Datasets/housing.csv')\n",
    "\n",
    "#print the first 10 rows of data:\n",
    "print(housing.head(10))"
   ]
  },
  {
   "cell_type": "markdown",
   "metadata": {},
   "source": [
    "#### Scatter Plots\n",
    "One of the best ways to quickly visualize the relationship between quantitative variables is to plot them against each other in a scatter plot. This makes it easy to look for patterns or trends in the data. Let’s start by plotting the area of a rental against it’s monthly price to see if we can spot any patterns."
   ]
  },
  {
   "cell_type": "code",
   "execution_count": 25,
   "metadata": {},
   "outputs": [
    {
     "data": {
      "image/png": "[encoded data removed]",
      "text/plain": [
       "<Figure size 432x288 with 1 Axes>"
      ]
     },
     "metadata": {
      "needs_background": "light"
     },
     "output_type": "display_data"
    }
   ],
   "source": [
    "plt.scatter(x = housing.price, y = housing.sqfeet)\n",
    "plt.xlabel('Rental Price (USD)')\n",
    "plt.ylabel('Area (Square Feet)')\n",
    "plt.show()"
   ]
  },
  {
   "cell_type": "markdown",
   "metadata": {},
   "source": [
    "While there’s a lot of variation in the data, it seems like more expensive housing tends to come with slightly more space. This suggests an association between these two variables."
   ]
  },
  {
   "cell_type": "code",
   "execution_count": 26,
   "metadata": {},
   "outputs": [
    {
     "data": {
      "image/png": "[encoded data removed]",
      "text/plain": [
       "<Figure size 432x288 with 1 Axes>"
      ]
     },
     "metadata": {
      "needs_background": "light"
     },
     "output_type": "display_data"
    }
   ],
   "source": [
    "plt.scatter(x = housing['beds'], y = housing['sqfeet'])\n",
    "plt.xlabel('Number of beds')\n",
    "plt.ylabel('Number of sqfeet')\n",
    "plt.show()"
   ]
  },
  {
   "cell_type": "code",
   "execution_count": null,
   "metadata": {},
   "outputs": [],
   "source": []
  }
 ],
 "metadata": {
  "kernelspec": {
   "display_name": "Python 3",
   "language": "python",
   "name": "python3"
  },
  "language_info": {
   "codemirror_mode": {
    "name": "ipython",
    "version": 3
   },
   "file_extension": ".py",
   "mimetype": "text/x-python",
   "name": "python",
   "nbconvert_exporter": "python",
   "pygments_lexer": "ipython3",
   "version": "3.8.5"
  }
 },
 "nbformat": 4,
 "nbformat_minor": 4
}
