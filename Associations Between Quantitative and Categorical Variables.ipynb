{
 "cells": [
  {
   "cell_type": "markdown",
   "metadata": {},
   "source": [
    "#### Associations Between Quantitative and Categorical Variables"
   ]
  },
  {
   "cell_type": "markdown",
   "metadata": {},
   "source": [
    "Examining the relationship between variables can give us key insight into our data. In this lesson, we will cover ways of assessing the association between a quantitative variable and a categorical variable.\n",
    "we’ll explore a dataset that contains the following information about students at two portuguese schools:\n",
    "\n",
    "- school: the school each student attends, Gabriel Periera ('GP') or Mousinho da Silveria ('MS')\n",
    "- address: the location of the student’s home ('U' for urban and 'R' for rural)\n",
    "- absences: the number of times the student was absent during the school year\n",
    "- Mjob: the student’s mother’s job industry\n",
    "- Fjob: the student’s father’s job industry\n",
    "- G3: the student’s score on a math assessment, ranging from 0 to 20\n",
    "\n",
    "Suppose we want to know: Is a student’s score (G3) associated with their school (school)? If so, then knowing what school a student attends gives us information about what their score is likely to be. For example, maybe students at one of the schools consistently score higher than students at the other school.\n",
    "\n",
    "To start answering this question, it is useful to save scores from each school in two separate lists:\n",
    "\n",
    "`scores_GP = students.G3[students.school == 'GP']`\n",
    "\n",
    "`scores_MS = students.G3[students.school == 'MS']`"
   ]
  },
  {
   "cell_type": "code",
   "execution_count": 1,
   "metadata": {},
   "outputs": [],
   "source": [
    "import numpy as np\n",
    "import pandas as pd"
   ]
  },
  {
   "cell_type": "code",
   "execution_count": 3,
   "metadata": {},
   "outputs": [
    {
     "data": {
      "text/html": [
       "<div>\n",
       "<style scoped>\n",
       "    .dataframe tbody tr th:only-of-type {\n",
       "        vertical-align: middle;\n",
       "    }\n",
       "\n",
       "    .dataframe tbody tr th {\n",
       "        vertical-align: top;\n",
       "    }\n",
       "\n",
       "    .dataframe thead th {\n",
       "        text-align: right;\n",
       "    }\n",
       "</style>\n",
       "<table border=\"1\" class=\"dataframe\">\n",
       "  <thead>\n",
       "    <tr style=\"text-align: right;\">\n",
       "      <th></th>\n",
       "      <th>school</th>\n",
       "      <th>address</th>\n",
       "      <th>absences</th>\n",
       "      <th>Mjob</th>\n",
       "      <th>Fjob</th>\n",
       "      <th>G3</th>\n",
       "    </tr>\n",
       "  </thead>\n",
       "  <tbody>\n",
       "    <tr>\n",
       "      <th>0</th>\n",
       "      <td>GP</td>\n",
       "      <td>U</td>\n",
       "      <td>6</td>\n",
       "      <td>at_home</td>\n",
       "      <td>teacher</td>\n",
       "      <td>6</td>\n",
       "    </tr>\n",
       "    <tr>\n",
       "      <th>1</th>\n",
       "      <td>GP</td>\n",
       "      <td>U</td>\n",
       "      <td>4</td>\n",
       "      <td>at_home</td>\n",
       "      <td>other</td>\n",
       "      <td>6</td>\n",
       "    </tr>\n",
       "    <tr>\n",
       "      <th>2</th>\n",
       "      <td>GP</td>\n",
       "      <td>U</td>\n",
       "      <td>10</td>\n",
       "      <td>at_home</td>\n",
       "      <td>other</td>\n",
       "      <td>10</td>\n",
       "    </tr>\n",
       "  </tbody>\n",
       "</table>\n",
       "</div>"
      ],
      "text/plain": [
       "  school address  absences     Mjob     Fjob  G3\n",
       "0     GP       U         6  at_home  teacher   6\n",
       "1     GP       U         4  at_home    other   6\n",
       "2     GP       U        10  at_home    other  10"
      ]
     },
     "execution_count": 3,
     "metadata": {},
     "output_type": "execute_result"
    }
   ],
   "source": [
    "students = pd.read_csv('../Datasets/students.csv')\n",
    "students.head(3)"
   ]
  },
  {
   "cell_type": "markdown",
   "metadata": {},
   "source": [
    "Suppose that we want to know whether there is an association between student math scores (G3) and the student’s address (urban or rural). Separate out G3 scores into two separate lists: one for students who live in an urban location ('U') and one for students who live in a rural location ('R')"
   ]
  },
  {
   "cell_type": "code",
   "execution_count": 13,
   "metadata": {},
   "outputs": [],
   "source": [
    "#separate out scores for students who live in urban and rural locations:\n",
    "scores_urban = students[students['address'] == 'U']['G3']\n",
    "scores_rural = students[students['address'] == 'R']['G3']"
   ]
  },
  {
   "cell_type": "code",
   "execution_count": null,
   "metadata": {},
   "outputs": [],
   "source": []
  },
  {
   "cell_type": "markdown",
   "metadata": {},
   "source": [
    "Highly associated variables tend to have a large mean or median difference. "
   ]
  },
  {
   "cell_type": "code",
   "execution_count": 15,
   "metadata": {},
   "outputs": [
    {
     "name": "stdout",
     "output_type": "stream",
     "text": [
      "Mean score - students w/ urban address:\n",
      "10.674267100977199\n",
      "Mean score - students w/ rural address:\n",
      "9.511363636363637\n",
      "Mean difference:\n",
      "1.1629034646135619\n",
      "Median score - students w/ urban address:\n",
      "11.0\n",
      "Median score - students w/ rural address:\n",
      "10.0\n",
      "Median difference:\n",
      "1.0\n"
     ]
    }
   ],
   "source": [
    "#calculate means for each group:\n",
    "scores_urban_mean = np.mean(scores_urban)\n",
    "scores_rural_mean = np.mean(scores_rural)\n",
    "\n",
    "#print mean scores:\n",
    "print('Mean score - students w/ urban address:')\n",
    "print(scores_urban_mean)\n",
    "print('Mean score - students w/ rural address:')\n",
    "print(scores_rural_mean)\n",
    "\n",
    "#calculate mean difference:\n",
    "mean_diff = scores_urban_mean - scores_rural_mean\n",
    "\n",
    "#print mean difference\n",
    "print('Mean difference:')\n",
    "print(mean_diff)\n",
    "\n",
    "#calculate medians for each group:\n",
    "scores_urban_median = np.median(scores_urban)\n",
    "scores_rural_median = np.median(scores_rural)\n",
    "\n",
    "#print median scores\n",
    "print('Median score - students w/ urban address:')\n",
    "print(scores_urban_median)\n",
    "print('Median score - students w/ rural address:')\n",
    "print(scores_rural_median)\n",
    "\n",
    "#calculate median difference\n",
    "median_diff = scores_urban_median - scores_rural_median\n",
    "\n",
    "#print median difference\n",
    "print('Median difference:')\n",
    "print(median_diff)\n"
   ]
  },
  {
   "cell_type": "code",
   "execution_count": null,
   "metadata": {},
   "outputs": [],
   "source": []
  }
 ],
 "metadata": {
  "kernelspec": {
   "display_name": "Python 3",
   "language": "python",
   "name": "python3"
  },
  "language_info": {
   "codemirror_mode": {
    "name": "ipython",
    "version": 3
   },
   "file_extension": ".py",
   "mimetype": "text/x-python",
   "name": "python",
   "nbconvert_exporter": "python",
   "pygments_lexer": "ipython3",
   "version": "3.8.5"
  }
 },
 "nbformat": 4,
 "nbformat_minor": 4
}
