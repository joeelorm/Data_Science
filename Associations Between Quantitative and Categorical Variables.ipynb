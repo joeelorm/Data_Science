{
 "cells": [
  {
   "cell_type": "markdown",
   "metadata": {},
   "source": [
    "#### Associations Between Quantitative and Categorical Variables"
   ]
  },
  {
   "cell_type": "markdown",
   "metadata": {},
   "source": [
    "Examining the relationship between variables can give us key insight into our data. In this lesson, we will cover ways of assessing the association between a quantitative variable and a categorical variable.\n",
    "we’ll explore a dataset that contains the following information about students at two portuguese schools:\n",
    "\n",
    "- school: the school each student attends, Gabriel Periera ('GP') or Mousinho da Silveria ('MS')\n",
    "- address: the location of the student’s home ('U' for urban and 'R' for rural)\n",
    "- absences: the number of times the student was absent during the school year\n",
    "- Mjob: the student’s mother’s job industry\n",
    "- Fjob: the student’s father’s job industry\n",
    "- G3: the student’s score on a math assessment, ranging from 0 to 20\n",
    "\n",
    "Suppose we want to know: Is a student’s score (G3) associated with their school (school)? If so, then knowing what school a student attends gives us information about what their score is likely to be. For example, maybe students at one of the schools consistently score higher than students at the other school.\n",
    "\n",
    "To start answering this question, it is useful to save scores from each school in two separate lists:\n",
    "\n",
    "`scores_GP = students.G3[students.school == 'GP']`\n",
    "\n",
    "`scores_MS = students.G3[students.school == 'MS']`"
   ]
  },
  {
   "cell_type": "code",
   "execution_count": 1,
   "metadata": {},
   "outputs": [],
   "source": [
    "import numpy as np\n",
    "import pandas as pd\n",
    "import matplotlib.pyplot as plt \n",
    "import seaborn as sns"
   ]
  },
  {
   "cell_type": "code",
   "execution_count": 2,
   "metadata": {},
   "outputs": [
    {
     "data": {
      "text/html": [
       "<div>\n",
       "<style scoped>\n",
       "    .dataframe tbody tr th:only-of-type {\n",
       "        vertical-align: middle;\n",
       "    }\n",
       "\n",
       "    .dataframe tbody tr th {\n",
       "        vertical-align: top;\n",
       "    }\n",
       "\n",
       "    .dataframe thead th {\n",
       "        text-align: right;\n",
       "    }\n",
       "</style>\n",
       "<table border=\"1\" class=\"dataframe\">\n",
       "  <thead>\n",
       "    <tr style=\"text-align: right;\">\n",
       "      <th></th>\n",
       "      <th>school</th>\n",
       "      <th>address</th>\n",
       "      <th>absences</th>\n",
       "      <th>Mjob</th>\n",
       "      <th>Fjob</th>\n",
       "      <th>G3</th>\n",
       "    </tr>\n",
       "  </thead>\n",
       "  <tbody>\n",
       "    <tr>\n",
       "      <th>0</th>\n",
       "      <td>GP</td>\n",
       "      <td>U</td>\n",
       "      <td>6</td>\n",
       "      <td>at_home</td>\n",
       "      <td>teacher</td>\n",
       "      <td>6</td>\n",
       "    </tr>\n",
       "    <tr>\n",
       "      <th>1</th>\n",
       "      <td>GP</td>\n",
       "      <td>U</td>\n",
       "      <td>4</td>\n",
       "      <td>at_home</td>\n",
       "      <td>other</td>\n",
       "      <td>6</td>\n",
       "    </tr>\n",
       "    <tr>\n",
       "      <th>2</th>\n",
       "      <td>GP</td>\n",
       "      <td>U</td>\n",
       "      <td>10</td>\n",
       "      <td>at_home</td>\n",
       "      <td>other</td>\n",
       "      <td>10</td>\n",
       "    </tr>\n",
       "  </tbody>\n",
       "</table>\n",
       "</div>"
      ],
      "text/plain": [
       "  school address  absences     Mjob     Fjob  G3\n",
       "0     GP       U         6  at_home  teacher   6\n",
       "1     GP       U         4  at_home    other   6\n",
       "2     GP       U        10  at_home    other  10"
      ]
     },
     "execution_count": 2,
     "metadata": {},
     "output_type": "execute_result"
    }
   ],
   "source": [
    "students = pd.read_csv('../Datasets/students.csv')\n",
    "students.head(3)"
   ]
  },
  {
   "cell_type": "markdown",
   "metadata": {},
   "source": [
    "Suppose that we want to know whether there is an association between student math scores (G3) and the student’s address (urban or rural). Separate out G3 scores into two separate lists: one for students who live in an urban location ('U') and one for students who live in a rural location ('R')"
   ]
  },
  {
   "cell_type": "code",
   "execution_count": 3,
   "metadata": {},
   "outputs": [],
   "source": [
    "#separate out scores for students who live in urban and rural locations:\n",
    "scores_urban = students[students['address'] == 'U']['G3']\n",
    "scores_rural = students[students['address'] == 'R']['G3']"
   ]
  },
  {
   "cell_type": "code",
   "execution_count": null,
   "metadata": {},
   "outputs": [],
   "source": []
  },
  {
   "cell_type": "markdown",
   "metadata": {},
   "source": [
    "Highly associated variables tend to have a large mean or median difference. "
   ]
  },
  {
   "cell_type": "code",
   "execution_count": 4,
   "metadata": {},
   "outputs": [
    {
     "name": "stdout",
     "output_type": "stream",
     "text": [
      "Mean score - students w/ urban address:\n",
      "10.674267100977199\n",
      "Mean score - students w/ rural address:\n",
      "9.511363636363637\n",
      "Mean difference:\n",
      "1.1629034646135619\n",
      "Median score - students w/ urban address:\n",
      "11.0\n",
      "Median score - students w/ rural address:\n",
      "10.0\n",
      "Median difference:\n",
      "1.0\n"
     ]
    }
   ],
   "source": [
    "#calculate means for each group:\n",
    "scores_urban_mean = np.mean(scores_urban)\n",
    "scores_rural_mean = np.mean(scores_rural)\n",
    "\n",
    "#print mean scores:\n",
    "print('Mean score - students w/ urban address:')\n",
    "print(scores_urban_mean)\n",
    "print('Mean score - students w/ rural address:')\n",
    "print(scores_rural_mean)\n",
    "\n",
    "#calculate mean difference:\n",
    "mean_diff = scores_urban_mean - scores_rural_mean\n",
    "\n",
    "#print mean difference\n",
    "print('Mean difference:')\n",
    "print(mean_diff)\n",
    "\n",
    "#calculate medians for each group:\n",
    "scores_urban_median = np.median(scores_urban)\n",
    "scores_rural_median = np.median(scores_rural)\n",
    "\n",
    "#print median scores\n",
    "print('Median score - students w/ urban address:')\n",
    "print(scores_urban_median)\n",
    "print('Median score - students w/ rural address:')\n",
    "print(scores_rural_median)\n",
    "\n",
    "#calculate median difference\n",
    "median_diff = scores_urban_median - scores_rural_median\n",
    "\n",
    "#print median difference\n",
    "print('Median difference:')\n",
    "print(median_diff)\n"
   ]
  },
  {
   "cell_type": "markdown",
   "metadata": {},
   "source": [
    "One way to get a better sense of spread is by looking at a visual representation of the data. Side-by-side box plots are useful in visualizing mean and median differences because they allow us to visually estimate the variation in the data. This can help us determine if mean or median differences are “large” or “small”."
   ]
  },
  {
   "cell_type": "code",
   "execution_count": 5,
   "metadata": {},
   "outputs": [
    {
     "data": {
      "image/png": "[encoded data removed]",
      "text/plain": [
       "<Figure size 432x288 with 1 Axes>"
      ]
     },
     "metadata": {
      "needs_background": "light"
     },
     "output_type": "display_data"
    }
   ],
   "source": [
    "#create the boxplot here:\n",
    "sns.boxplot(data = students, x = 'address', y = 'G3')\n",
    "plt.show()"
   ]
  },
  {
   "cell_type": "markdown",
   "metadata": {},
   "source": [
    "#### Inspecting Overlapping Histograms\n",
    "Another way to explore the relationship between a quantitative and categorical variable in more detail is by inspecting overlapping histograms. In the code below, setting alpha = .5 ensures that the histograms are see-through enough that we can see both of them at once. We have also used normed=True make sure that the y-axis is a density rather than a frequency (note: the newest version of matplotlib renamed this parameter density instead of normed):"
   ]
  },
  {
   "cell_type": "code",
   "execution_count": 6,
   "metadata": {},
   "outputs": [
    {
     "data": {
      "image/png": "[encoded data removed]",
      "text/plain": [
       "<Figure size 432x288 with 1 Axes>"
      ]
     },
     "metadata": {
      "needs_background": "light"
     },
     "output_type": "display_data"
    }
   ],
   "source": [
    "scores_GP = students[students['school'] == 'GP']['G3']\n",
    "scores_MS = students[students['school'] == 'MS']['G3']\n",
    "\n",
    "plt.hist(scores_GP , color=\"blue\", label=\"GP\", density = True, alpha=0.5)\n",
    "plt.hist(scores_MS , color=\"red\", label=\"MS\", density = True, alpha=0.5)\n",
    "plt.legend()\n",
    "plt.show()"
   ]
  },
  {
   "cell_type": "markdown",
   "metadata": {},
   "source": [
    "By inspecting this histogram, we can clearly see that the entire distribution of scores at GP (not just the mean or median) appears slightly shifted to the right (higher) compared to the scores at MS. However, there is also still a lot of overlap between the scores, suggesting that the association is relatively weak."
   ]
  },
  {
   "cell_type": "code",
   "execution_count": 7,
   "metadata": {},
   "outputs": [
    {
     "data": {
      "image/png": "[encoded data removed]",
      "text/plain": [
       "<Figure size 432x288 with 1 Axes>"
      ]
     },
     "metadata": {
      "needs_background": "light"
     },
     "output_type": "display_data"
    }
   ],
   "source": [
    "#create the overlapping histograms here:\n",
    "plt.hist(scores_urban, alpha = 0.5, density = True, color = 'red', label = 'Urban Scores')\n",
    "plt.hist(scores_rural, alpha = 0.5, density = True, color = 'blue', label = 'Rural Scores')\n",
    "plt.legend()\n",
    "plt.show()"
   ]
  },
  {
   "cell_type": "markdown",
   "metadata": {},
   "source": [
    "#### Exploring Non-Binary Categorical Variables\n",
    "\n",
    "In each of the previous exercises, we assessed whether there was an association between a quantitative variable (math scores) and a BINARY categorical variable (school). The categorical variable is considered binary because there are only two available options, either MS or GP. However, sometimes we are interested in an association between a quantitative variable and non-binary categorical variable. Non-binary categorical variables have more than two categories.\n",
    "\n",
    "When looking at an association between a quantitative variable and a non-binary categorical variable, we must examine all pair-wise differences. For example, suppose we want to know whether or not an association exists between math scores (G3) and (Mjob), a categorical variable representing the mother’s job. This variable has five possible categories: `at_home`, `health`, `services`, `teacher`, or `other`. There are actually 10 different comparisons that we can make. For example, we can compare scores for students whose mothers work at_home or in `health; at_home or other; at home or `services; etc.. The easiest way to quickly visualize these comparisons is with side-by-side box plots:"
   ]
  },
  {
   "cell_type": "code",
   "execution_count": 8,
   "metadata": {},
   "outputs": [
    {
     "data": {
      "image/png": "[encoded data removed]",
      "text/plain": [
       "<Figure size 432x288 with 1 Axes>"
      ]
     },
     "metadata": {
      "needs_background": "light"
     },
     "output_type": "display_data"
    }
   ],
   "source": [
    "sns.boxplot(data = students, x = 'Mjob', y = 'G3')\n",
    "plt.show()"
   ]
  },
  {
   "cell_type": "markdown",
   "metadata": {},
   "source": [
    "Visually, we need to compare each box to every other box. While most of these boxes overlap with each other, there are some pairs for which there are some apparent differences. For example, scores appear to be higher among students with mothers working in health than among students with mothers working at home or in an “other” job. If there are ANY pairwise differences, we can say that the variables are associated; however, it is more useful to specifically report which groups are different."
   ]
  },
  {
   "cell_type": "code",
   "execution_count": null,
   "metadata": {},
   "outputs": [],
   "source": []
  },
  {
   "cell_type": "code",
   "execution_count": 9,
   "metadata": {},
   "outputs": [
    {
     "data": {
      "image/png": "[encoded data removed]",
      "text/plain": [
       "<Figure size 432x288 with 1 Axes>"
      ]
     },
     "metadata": {
      "needs_background": "light"
     },
     "output_type": "display_data"
    }
   ],
   "source": [
    "sns.boxplot(data = students, y = 'G3', x = 'Fjob')\n",
    "plt.show()\n"
   ]
  },
  {
   "cell_type": "markdown",
   "metadata": {},
   "source": [
    "#### Associations in the titanic data"
   ]
  },
  {
   "cell_type": "code",
   "execution_count": 10,
   "metadata": {},
   "outputs": [
    {
     "name": "stdout",
     "output_type": "stream",
     "text": [
      "Average fare paid by survivors is 37.80299847560977\n",
      "Average fare paid by non-survivors is 19.7208009208103\n",
      "Difference in means: 18.082197554799468\n"
     ]
    }
   ],
   "source": [
    "titanic = pd.read_csv('../Datasets/titanic.csv')\n",
    "#Mean fare paid by survivors\n",
    "fare_survivors = titanic[titanic['Survived'] == 1]['Fare']\n",
    "mean_fare_survivors = np.mean(fare_survivors)\n",
    "print('Average fare paid by survivors is {}'.format(mean_fare_survivors))\n",
    "\n",
    "#Mean fare paid by nonsurvivors\n",
    "fare_dead_victims = titanic[titanic['Survived'] == 0]['Fare']\n",
    "mean_fare_dead_victims = np.mean(fare_dead_victims)\n",
    "print('Average fare paid by non-survivors is {}'.format(mean_fare_dead_victims))\n",
    "\n",
    "\n",
    "diff_means = mean_fare_survivors - mean_fare_dead_victims\n",
    "print('Difference in means: {}'.format(diff_means))"
   ]
  },
  {
   "cell_type": "code",
   "execution_count": 11,
   "metadata": {},
   "outputs": [
    {
     "data": {
      "image/png": "[encoded data removed]",
      "text/plain": [
       "<Figure size 432x288 with 1 Axes>"
      ]
     },
     "metadata": {
      "needs_background": "light"
     },
     "output_type": "display_data"
    }
   ],
   "source": [
    "sns.boxplot(data = titanic, x = 'Survived', y = 'Fare')\n",
    "plt.show()"
   ]
  },
  {
   "cell_type": "code",
   "execution_count": 12,
   "metadata": {},
   "outputs": [
    {
     "data": {
      "image/png": "[encoded data removed]",
      "text/plain": [
       "<Figure size 432x288 with 1 Axes>"
      ]
     },
     "metadata": {
      "needs_background": "light"
     },
     "output_type": "display_data"
    }
   ],
   "source": [
    "#Overlapping Histograms\n",
    "plt.hist(fare_survivors, alpha = 0.5, density = True, color = 'red', label = 'Survivors Fare')\n",
    "plt.hist(fare_dead_victims, alpha = 0.5, density = True, color = 'green', label = 'Non-survivors Fare' )\n",
    "plt.legend()\n",
    "plt.show()"
   ]
  },
  {
   "cell_type": "code",
   "execution_count": null,
   "metadata": {},
   "outputs": [],
   "source": []
  },
  {
   "cell_type": "code",
   "execution_count": null,
   "metadata": {},
   "outputs": [],
   "source": []
  },
  {
   "cell_type": "markdown",
   "metadata": {},
   "source": [
    "#### Associations Two Quantitative Variables\n",
    "When associations exist between variables, it means that information about the value of one variable gives us information about the value of the other variable.\n",
    "We'll examine some data about Texas housing rentals on Craigslist — an online classifieds site. The data dictionary is as follows:\n",
    "\n",
    "- `price`: monthly rental price in U.S.D.\n",
    "- `type`: type of housing (eg., 'apartment', 'house', 'condo', etc.)\n",
    "- `sqfeet`: housing area, in square feet\n",
    "- `beds`: number of beds\n",
    "- `baths`: number of baths\n",
    "- `lat`: latitude\n",
    "- `long`: longitude\n",
    "\n",
    "Except for type, all of these variables are quantitative. Which pairs of variables do you think might be associated? For example, does knowing something about price give you any information about square footage?"
   ]
  },
  {
   "cell_type": "code",
   "execution_count": 13,
   "metadata": {},
   "outputs": [
    {
     "name": "stdout",
     "output_type": "stream",
     "text": [
      "   price       type  sqfeet  beds  baths      lat      long\n",
      "0    615  apartment     364     0    1.0  35.1653 -101.8840\n",
      "1   1346  apartment     816     1    1.0  32.9865  -96.6860\n",
      "2    900  apartment     500     1    1.0  30.2355  -97.7292\n",
      "3    650  apartment     700     1    1.0  26.1923  -98.2657\n",
      "4   1330  apartment    1040     2    2.0  30.6380  -96.2940\n",
      "5    915  apartment     620     1    1.0  29.8754  -97.9404\n",
      "6   1600      house    1578     3    2.0  32.6412  -97.1058\n",
      "7    349  apartment     275     0    1.0  33.5865 -101.8610\n",
      "8    695      house     650     1    1.0  31.5525  -97.1604\n",
      "9    889  apartment     650     1    1.5  29.8754  -97.9404\n"
     ]
    }
   ],
   "source": [
    "housing = pd.read_csv('../Datasets/housing.csv')\n",
    "\n",
    "#print the first 10 rows of data:\n",
    "print(housing.head(10))"
   ]
  },
  {
   "cell_type": "markdown",
   "metadata": {},
   "source": [
    "#### Scatter Plots\n",
    "One of the best ways to quickly visualize the relationship between quantitative variables is to plot them against each other in a scatter plot. This makes it easy to look for patterns or trends in the data. Let’s start by plotting the area of a rental against it’s monthly price to see if we can spot any patterns."
   ]
  },
  {
   "cell_type": "code",
   "execution_count": 14,
   "metadata": {},
   "outputs": [
    {
     "data": {
      "image/png": "[encoded data removed]",
      "text/plain": [
       "<Figure size 432x288 with 1 Axes>"
      ]
     },
     "metadata": {
      "needs_background": "light"
     },
     "output_type": "display_data"
    }
   ],
   "source": [
    "plt.scatter(x = housing.price, y = housing.sqfeet)\n",
    "plt.xlabel('Rental Price (USD)')\n",
    "plt.ylabel('Area (Square Feet)')\n",
    "plt.show()"
   ]
  },
  {
   "cell_type": "markdown",
   "metadata": {},
   "source": [
    "While there’s a lot of variation in the data, it seems like more expensive housing tends to come with slightly more space. This suggests an association between these two variables."
   ]
  },
  {
   "cell_type": "code",
   "execution_count": 15,
   "metadata": {},
   "outputs": [
    {
     "data": {
      "image/png": "[encoded data removed]",
      "text/plain": [
       "<Figure size 432x288 with 1 Axes>"
      ]
     },
     "metadata": {
      "needs_background": "light"
     },
     "output_type": "display_data"
    }
   ],
   "source": [
    "plt.scatter(x = housing['beds'], y = housing['sqfeet'])\n",
    "plt.xlabel('Number of beds')\n",
    "plt.ylabel('Number of sqfeet')\n",
    "plt.show()"
   ]
  },
  {
   "cell_type": "code",
   "execution_count": 16,
   "metadata": {},
   "outputs": [
    {
     "name": "stdout",
     "output_type": "stream",
     "text": [
      "[[1.10668978e+05 2.28223306e+02]\n",
      " [2.28223306e+02 7.24471949e-01]]\n",
      "228.2233061940595\n"
     ]
    }
   ],
   "source": [
    "# calculate and print covariance matrix:\n",
    "cov_mat_sqfeet_beds = np.cov(housing['sqfeet'], housing['beds'])\n",
    "print(cov_mat_sqfeet_beds)\n",
    "\n",
    "# store the covariance as cov_sqfeet_beds\n",
    "cov_sqfeet_beds = cov_mat_sqfeet_beds[0][1]\n",
    "print(cov_sqfeet_beds)"
   ]
  },
  {
   "cell_type": "markdown",
   "metadata": {},
   "source": [
    "#### Correlation\n",
    "Like covariance, Pearson Correlation (often referred to simply as “correlation”) is a scaled form of covariance. It also measures the strength of a linear relationship, but ranges from -1 to +1, making it more interpretable.\n",
    "\n",
    "Highly associated variables with a positive linear relationship will have a correlation close to 1. Highly associated variables with a negative linear relationship will have a correlation close to -1. Variables that do not have a linear association (or a linear association with a slope of zero) will have correlations close to 0."
   ]
  },
  {
   "cell_type": "code",
   "execution_count": 17,
   "metadata": {},
   "outputs": [
    {
     "name": "stdout",
     "output_type": "stream",
     "text": [
      "0.8060022524416222\n"
     ]
    }
   ],
   "source": [
    "from scipy.stats import pearsonr\n",
    "# calculate corr_sqfeet_beds and print it out:\n",
    "corr_sqfeet_beds, p = pearsonr(housing.sqfeet, housing.beds)\n",
    "print(corr_sqfeet_beds)"
   ]
  },
  {
   "cell_type": "markdown",
   "metadata": {},
   "source": [
    "Generally, a correlation larger than about .3 indicates a linear association. A correlation greater than about .6 suggestions a strong linear association."
   ]
  },
  {
   "cell_type": "code",
   "execution_count": 18,
   "metadata": {},
   "outputs": [
    {
     "data": {
      "image/png": "[encoded data removed]",
      "text/plain": [
       "<Figure size 432x288 with 1 Axes>"
      ]
     },
     "metadata": {
      "needs_background": "light"
     },
     "output_type": "display_data"
    }
   ],
   "source": [
    "# create the scatter plot here:\n",
    "plt.scatter(data = housing, x = 'beds', y = 'sqfeet')\n",
    "plt.xlabel('Number of Beds')\n",
    "plt.ylabel('Square Feet')\n",
    "plt.show()"
   ]
  },
  {
   "cell_type": "markdown",
   "metadata": {},
   "source": [
    "It’s important to note that there are some limitations to using correlation or covariance as a way of assessing whether there is an association between two variables. Because correlation and covariance both measure the strength of linear relationships with non-zero slopes, but not other kinds of relationships, correlation can be misleading."
   ]
  },
  {
   "cell_type": "code",
   "execution_count": 19,
   "metadata": {},
   "outputs": [
    {
     "data": {
      "image/png": "[encoded data removed]",
      "text/plain": [
       "<Figure size 432x288 with 1 Axes>"
      ]
     },
     "metadata": {
      "needs_background": "light"
     },
     "output_type": "display_data"
    },
    {
     "name": "stdout",
     "output_type": "stream",
     "text": [
      "0.2814978189049413\n"
     ]
    }
   ],
   "source": [
    "sleep = pd.read_csv('../Datasets/sleep_performance.csv')\n",
    "\n",
    "# create your scatter plot here:\n",
    "plt.scatter(sleep['hours_sleep'], sleep['performance'])\n",
    "plt.xlabel('Sleep Hours')\n",
    "plt.ylabel('Performance')\n",
    "plt.show()\n",
    "\n",
    "# calculate the correlation for `hours_sleep` and `performance`:\n",
    "corr_sleep_performance, p = pearsonr(sleep['hours_sleep'], sleep['performance'])\n",
    "print(corr_sleep_performance)"
   ]
  },
  {
   "cell_type": "markdown",
   "metadata": {},
   "source": [
    "The correlation is only 0.28 (a relatively small correlation), even though the variables seem to be clearly associated (there is a very clear pattern in the scatter plot)."
   ]
  },
  {
   "cell_type": "code",
   "execution_count": 20,
   "metadata": {},
   "outputs": [
    {
     "name": "stdout",
     "output_type": "stream",
     "text": [
      "  species  bill_length_mm  bill_depth_mm  flipper_length_mm  body_mass_g  \\\n",
      "0  Adelie            39.1           18.7              181.0       3750.0   \n",
      "1  Adelie            39.5           17.4              186.0       3800.0   \n",
      "2  Adelie            40.3           18.0              195.0       3250.0   \n",
      "\n",
      "      sex  \n",
      "0    male  \n",
      "1  female  \n",
      "2  female  \n"
     ]
    },
    {
     "data": {
      "image/png": "[encoded data removed]",
      "text/plain": [
       "<Figure size 432x288 with 1 Axes>"
      ]
     },
     "metadata": {
      "needs_background": "light"
     },
     "output_type": "display_data"
    },
    {
     "name": "stdout",
     "output_type": "stream",
     "text": [
      "Covariance: 9852.191649480805\n",
      "Correlation: 0.8729788985653613\n"
     ]
    }
   ],
   "source": [
    "penguins = pd.read_csv('../Datasets/penguins.csv')\n",
    "print(penguins.head(3))\n",
    "\n",
    "flipper_length = penguins['flipper_length_mm']\n",
    "body_mass = penguins['body_mass_g']\n",
    "plt.scatter(flipper_length, body_mass)\n",
    "plt.xlabel('Flipper Length')\n",
    "plt.ylabel('Body Mass')\n",
    "plt.show()\n",
    "\n",
    "cov_flipper_body = np.cov(flipper_length, body_mass)\n",
    "#print(cov_flipper_body)\n",
    "print('Covariance:', cov_flipper_body[0][1])\n",
    "\n",
    "corr_flipper_body, p = pearsonr(flipper_length, body_mass)\n",
    "print('Correlation:', corr_flipper_body)"
   ]
  },
  {
   "cell_type": "code",
   "execution_count": null,
   "metadata": {},
   "outputs": [],
   "source": []
  },
  {
   "cell_type": "markdown",
   "metadata": {},
   "source": [
    "#### Associations between 2 categorical variables\n",
    "As an example, we’ll explore a sample of data from the Narcissistic Personality Inventory (NPI-40), a personality test with 40 questions about personal preferences and self-view. There are two possible responses to each question. The sample we’ll be working with contains responses to the following:\n",
    "\n",
    "- influence: yes = I have a natural talent for influencing people; no = I am not good at influencing people.\n",
    "- blend_in: yes = I prefer to blend in with the crowd; no = I like to be the center of attention.\n",
    "- special: yes = I think I am a special person; no = I am no better or worse than most people.\n",
    "- leader: yes = I see myself as a good leader; no = I am not sure if I would make a good leader.\n",
    "- authority: yes = I like to have authority over other people; no = I don’t mind following orders.\n",
    "\n",
    "As you might guess, responses to some of these questions are associated. For example, if we know whether someone views themself as a good leader, we may also find that they’re more likely to like having authority. I"
   ]
  },
  {
   "cell_type": "code",
   "execution_count": 21,
   "metadata": {},
   "outputs": [
    {
     "name": "stdout",
     "output_type": "stream",
     "text": [
      "  influence blend_in special leader authority\n",
      "0        no      yes     yes    yes       yes\n",
      "1        no      yes      no     no        no\n",
      "2       yes       no     yes    yes       yes\n",
      "3       yes       no      no    yes       yes\n",
      "4       yes      yes      no    yes        no\n"
     ]
    }
   ],
   "source": [
    "npi = pd.read_csv('../Datasets/npi_sample.csv')\n",
    "print(npi.head())"
   ]
  },
  {
   "cell_type": "markdown",
   "metadata": {},
   "source": [
    "##### Contingency Tables: Frequencies\n",
    "Contingency tables, also known as two-way tables or cross-tabulations, are useful for summarizing two variables at the same time. For example, suppose we are interested in understanding whether there is an association between influence (whether a person thinks they have a talent for influencing people) and leader (whether they see themself as a leader). We can use the crosstab function from pandas to create a contingency table:"
   ]
  },
  {
   "cell_type": "code",
   "execution_count": 22,
   "metadata": {},
   "outputs": [
    {
     "name": "stdout",
     "output_type": "stream",
     "text": [
      "leader       no   yes\n",
      "influence            \n",
      "no         3015  1293\n",
      "yes        2360  4429\n"
     ]
    }
   ],
   "source": [
    "influence_leader_freq = pd.crosstab(npi.influence, npi.leader)\n",
    "print(influence_leader_freq)"
   ]
  },
  {
   "cell_type": "markdown",
   "metadata": {},
   "source": [
    "This table tells us the number of people who gave each possible combination of responses to these two questions. For example, 2360 people said that they do not see themselves as a leader but have a talent for influencing people.\n",
    "\n",
    "To assess whether there is an association between these two variables, we need to ask whether information about one variable gives us information about the other. In this example, we see that among people who don’t see themselves as a leader (the first column), a larger number (3015) don’t think they have a talent for influencing people. Meanwhile, among people who do see themselves as a leader (the second column), a larger number (4429) do think they have a talent for influencing people.\n",
    "\n",
    "So, if we know how someone responded to the leadership question, we have some information about how they are likely to respond to the influence question. This suggests that the variables are associated."
   ]
  },
  {
   "cell_type": "code",
   "execution_count": 23,
   "metadata": {},
   "outputs": [
    {
     "name": "stdout",
     "output_type": "stream",
     "text": [
      "authority    no   yes\n",
      "special              \n",
      "no         4069  1905\n",
      "yes        2229  2894\n"
     ]
    }
   ],
   "source": [
    "special_authority_freq = pd.crosstab(npi.special, npi.authority)\n",
    "print(special_authority_freq)"
   ]
  },
  {
   "cell_type": "markdown",
   "metadata": {},
   "source": [
    "sometimes it’s helpful to convert those frequencies to proportions. We can accomplish this simply by dividing the all the frequencies in a contingency table by the total number of observations (the sum of the frequencies):"
   ]
  },
  {
   "cell_type": "code",
   "execution_count": 24,
   "metadata": {},
   "outputs": [
    {
     "name": "stdout",
     "output_type": "stream",
     "text": [
      "leader           no       yes\n",
      "influence                    \n",
      "no         0.271695  0.116518\n",
      "yes        0.212670  0.399117\n"
     ]
    }
   ],
   "source": [
    "influence_leader_freq = pd.crosstab(npi.influence, npi.leader)\n",
    "influence_leader_prop = influence_leader_freq/len(npi)\n",
    "print(influence_leader_prop)"
   ]
  },
  {
   "cell_type": "markdown",
   "metadata": {},
   "source": [
    "The resulting contingency table makes it slightly easier to compare the proportion of people in each category. For example, we see that the two largest proportions in the table (.399 and .271) are in the yes/yes and no/no cells of the table. We can also see that almost 40% of the surveyed population (by far the largest proportion) both see themselves as leaders and think they have a talent for influencing people."
   ]
  },
  {
   "cell_type": "markdown",
   "metadata": {},
   "source": [
    "##### Marginal Proportions"
   ]
  },
  {
   "cell_type": "code",
   "execution_count": 25,
   "metadata": {},
   "outputs": [
    {
     "name": "stdout",
     "output_type": "stream",
     "text": [
      "authority\n",
      "no     0.567541\n",
      "yes    0.432459\n",
      "dtype: float64\n",
      "special\n",
      "no     0.538344\n",
      "yes    0.461656\n",
      "dtype: float64\n"
     ]
    }
   ],
   "source": [
    "# save the table of proportions as special_authority_prop:\n",
    "special_authority_prop = special_authority_freq/len(npi)\n",
    "\n",
    "# calculate and print authority_marginals\n",
    "authority_marginals = special_authority_prop.sum(axis = 0)\n",
    "print(authority_marginals)\n",
    "\n",
    "# calculate and print special_marginals\n",
    "special_marginals = special_authority_prop.sum(axis  = 1)\n",
    "print(special_marginals)"
   ]
  },
  {
   "cell_type": "markdown",
   "metadata": {},
   "source": [
    "##### Expected Contingency tables\n",
    "In order to understand whether these questions are associated, we can use the marginal proportions to create a contingency table of expected proportions if there were no association between these variables. To calculate these expected proportions, we need to multiply the marginal proportions for each combination of categories."
   ]
  },
  {
   "cell_type": "code",
   "execution_count": 28,
   "metadata": {},
   "outputs": [
    {
     "name": "stdout",
     "output_type": "stream",
     "text": [
      "observed contingency table:\n",
      "authority    no   yes\n",
      "special              \n",
      "no         4069  1905\n",
      "yes        2229  2894\n",
      "expected contingency table (no association):\n",
      " [[3390. 2584.]\n",
      " [2908. 2215.]]\n"
     ]
    }
   ],
   "source": [
    "from scipy.stats import chi2_contingency\n",
    "special_authority_freq = pd.crosstab(npi.special, npi.authority)\n",
    "print(\"observed contingency table:\")\n",
    "print(special_authority_freq)\n",
    "\n",
    "# calculate the expected contingency table if there's no association and save it as expected\n",
    "chi2, pval, dof, expected = chi2_contingency(special_authority_freq)\n",
    "\n",
    "# print out the expected frequency table\n",
    "print(\"expected contingency table (no association):\\n\", np.round(expected))"
   ]
  },
  {
   "cell_type": "markdown",
   "metadata": {},
   "source": [
    "The more that the expected and observed tables differ, the more sure we can be that the variables are associated. In this example, we see some pretty big differences (eg., 4069 in the observed table compared to 3390 in the expected table). This provides additional evidence that these variables are associated."
   ]
  },
  {
   "cell_type": "markdown",
   "metadata": {},
   "source": [
    "##### The Chi-Square Statistic\n",
    "In the previous cells, we calculated a contingency table of expected frequencies if there were no association between the leader and influence questions. We then compared this to the observed contingency table. Because the tables looked somewhat different, we concluded that responses to these questions are probably associated.\n",
    "\n",
    "While we can inspect these tables visually, many data scientists use the Chi-Square statistic to summarize how different these two tables are. To calculate the Chi Square statistic, we simply find the squared difference between each value in the observed table and its’ corresponding value in the expected table; then add up those numbers:\n",
    "$ChiSquare=sum((observed−expected)^2)$"
   ]
  },
  {
   "cell_type": "code",
   "execution_count": 29,
   "metadata": {},
   "outputs": [
    {
     "name": "stdout",
     "output_type": "stream",
     "text": [
      "1307.8836807573769\n"
     ]
    }
   ],
   "source": [
    "from scipy.stats import chi2_contingency\n",
    "chi2, pval, dof, expected = chi2_contingency(influence_leader_freq)\n",
    "print(chi2)"
   ]
  },
  {
   "cell_type": "markdown",
   "metadata": {},
   "source": [
    "The interpretation of the Chi-Square statistic is dependent on the size of the contingency table. For a 2x2 table (like the one we’ve been investigating), a Chi-Square statistic larger than around 4 would strongly suggest an association between the variables. In this example, our Chi-Square statistic is much larger than that — 1307.88! This adds to our evidence that the variables are highly associated."
   ]
  },
  {
   "cell_type": "code",
   "execution_count": 30,
   "metadata": {},
   "outputs": [
    {
     "name": "stdout",
     "output_type": "stream",
     "text": [
      "679.1219526170606\n"
     ]
    }
   ],
   "source": [
    "special_authority_freq = pd.crosstab(npi.special, npi.authority)\n",
    "\n",
    "# calculate the chi squared statistic and save it as chi2, then print it:\n",
    "chi2, pval, dof, expected = chi2_contingency(special_authority_freq)\n",
    "chi2 = chi2\n",
    "print(chi2)"
   ]
  },
  {
   "cell_type": "code",
   "execution_count": null,
   "metadata": {},
   "outputs": [],
   "source": []
  },
  {
   "cell_type": "code",
   "execution_count": 31,
   "metadata": {},
   "outputs": [
    {
     "name": "stdout",
     "output_type": "stream",
     "text": [
      "authority    no   yes\n",
      "blend_in             \n",
      "no         1308  2091\n",
      "yes        4990  2708\n"
     ]
    }
   ],
   "source": [
    "#Frequency table for authority and blend_in\n",
    "blend_in_authority = pd.crosstab(npi['blend_in'], npi['authority'])\n",
    "print(blend_in_authority)"
   ]
  },
  {
   "cell_type": "code",
   "execution_count": 32,
   "metadata": {},
   "outputs": [
    {
     "name": "stdout",
     "output_type": "stream",
     "text": [
      "authority        no       yes\n",
      "blend_in                     \n",
      "no         0.117870  0.188429\n",
      "yes        0.449671  0.244030\n"
     ]
    }
   ],
   "source": [
    "#Proportions\n",
    "blend_in_authority_prop = blend_in_authority/len(npi)\n",
    "print(blend_in_authority_prop)"
   ]
  },
  {
   "cell_type": "code",
   "execution_count": 34,
   "metadata": {},
   "outputs": [
    {
     "name": "stdout",
     "output_type": "stream",
     "text": [
      "blend_in\n",
      "no     0.306299\n",
      "yes    0.693701\n",
      "dtype: float64\n",
      "\n",
      "authority\n",
      "no     0.567541\n",
      "yes    0.432459\n",
      "dtype: float64\n"
     ]
    }
   ],
   "source": [
    "#Marginal Proportions\n",
    "blend_in_marginals = blend_in_authority_prop.sum(axis = 1)\n",
    "print(blend_in_marginals)\n",
    "print('')\n",
    "authority_marginals = blend_in_authority_prop.sum(axis = 0)\n",
    "print(authority_marginals)"
   ]
  },
  {
   "cell_type": "code",
   "execution_count": 35,
   "metadata": {},
   "outputs": [
    {
     "name": "stdout",
     "output_type": "stream",
     "text": [
      "[[1929.0711003 1469.9288997]\n",
      " [4368.9288997 3329.0711003]]\n"
     ]
    }
   ],
   "source": [
    "#Expected contingency table\n",
    "chi2, pval, dof, expected = chi2_contingency(blend_in_authority)\n",
    "print(expected)"
   ]
  },
  {
   "cell_type": "code",
   "execution_count": null,
   "metadata": {},
   "outputs": [],
   "source": []
  }
 ],
 "metadata": {
  "kernelspec": {
   "display_name": "Python 3",
   "language": "python",
   "name": "python3"
  },
  "language_info": {
   "codemirror_mode": {
    "name": "ipython",
    "version": 3
   },
   "file_extension": ".py",
   "mimetype": "text/x-python",
   "name": "python",
   "nbconvert_exporter": "python",
   "pygments_lexer": "ipython3",
   "version": "3.8.5"
  }
 },
 "nbformat": 4,
 "nbformat_minor": 4
}
