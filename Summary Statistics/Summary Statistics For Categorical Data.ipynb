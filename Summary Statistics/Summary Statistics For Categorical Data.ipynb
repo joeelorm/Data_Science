{
 "cells": [
  {
   "cell_type": "markdown",
   "metadata": {},
   "source": [
    "#### Introduction to Categorical Data\n",
    "When exploring data, we’re often interested in summarizing a large amount of information with a single number or visualization.\n",
    "\n",
    "Depending on what we’re trying to understand from our data, we may need to rely on different statistics. For quantitative data, we can summarize central tendency using mean, median or mode and we can summarize spread using standard deviation, variance, or percentiles. However, when working with categorical data, we may not be able to use all the same summary statistics.\n",
    "\n",
    "For example, here are the first five rows and some selected columns of a dataset from the 1994 U.S. census:"
   ]
  },
  {
   "cell_type": "code",
   "execution_count": 1,
   "metadata": {},
   "outputs": [],
   "source": [
    "import pandas as pd\n",
    "import numpy as np"
   ]
  },
  {
   "cell_type": "code",
   "execution_count": 2,
   "metadata": {},
   "outputs": [
    {
     "name": "stdout",
     "output_type": "stream",
     "text": [
      "   age     education marital_status   race\n",
      "0   90       HS-grad        Widowed  White\n",
      "1   82       HS-grad        Widowed  White\n",
      "2   66  Some-college        Widowed  Black\n",
      "3   54       7th-8th       Divorced  White\n",
      "4   41  Some-college      Separated  White\n"
     ]
    }
   ],
   "source": [
    "#Manually Creating the dataframe used in the example\n",
    "ages = [90, 82, 66, 54, 41]\n",
    "educations = ['HS-grad', 'HS-grad', 'Some-college', '7th-8th', 'Some-college']\n",
    "marital_statuses = ['Widowed', 'Widowed', 'Widowed', 'Divorced', 'Separated']\n",
    "races = ['White', 'White', 'Black', 'White', 'White']\n",
    "\n",
    "\n",
    "data = {'age': ages, \n",
    "        'education': educations, \n",
    "        'marital_status': marital_statuses, \n",
    "        'race': races }\n",
    "\n",
    "data_df = pd.DataFrame(data)\n",
    "\n",
    "print(data_df)"
   ]
  },
  {
   "cell_type": "markdown",
   "metadata": {},
   "source": [
    "Age is a quantitative variable, so we can calculate the average (or mean) age. However, for a variable like marital.status, we can’t calculate something like \"average marital status\" because the possible values of marital status are categories rather than numbers (e.g. \"Married\", \"Widowed\", \"Seperated\", etc.). "
   ]
  },
  {
   "cell_type": "code",
   "execution_count": 3,
   "metadata": {},
   "outputs": [
    {
     "name": "stdout",
     "output_type": "stream",
     "text": [
      "   tree_id  trunk_diam status health   spc_common       neighborhood\n",
      "0   199250           8  Alive   Good   crab apple     Lincoln Square\n",
      "1   136891          17  Alive   Good  honeylocust  East Harlem North\n",
      "2   200218           3  Alive   Good       ginkgo          Chinatown\n"
     ]
    }
   ],
   "source": [
    "nyc_trees = pd.read_csv('../Datasets/nyc_tree_census.csv')\n",
    "print(nyc_trees.head(3))"
   ]
  },
  {
   "cell_type": "code",
   "execution_count": 4,
   "metadata": {},
   "outputs": [
    {
     "name": "stdout",
     "output_type": "stream",
     "text": [
      "<class 'pandas.core.frame.DataFrame'>\n",
      "RangeIndex: 50000 entries, 0 to 49999\n",
      "Data columns (total 6 columns):\n",
      " #   Column        Non-Null Count  Dtype \n",
      "---  ------        --------------  ----- \n",
      " 0   tree_id       50000 non-null  int64 \n",
      " 1   trunk_diam    50000 non-null  int64 \n",
      " 2   status        50000 non-null  object\n",
      " 3   health        47695 non-null  object\n",
      " 4   spc_common    47695 non-null  object\n",
      " 5   neighborhood  50000 non-null  object\n",
      "dtypes: int64(2), object(4)\n",
      "memory usage: 2.3+ MB\n"
     ]
    }
   ],
   "source": [
    "nyc_trees.info()"
   ]
  },
  {
   "cell_type": "code",
   "execution_count": null,
   "metadata": {},
   "outputs": [],
   "source": []
  },
  {
   "cell_type": "markdown",
   "metadata": {},
   "source": [
    "#### Nominal Categories\n",
    "Depending on the data, some of the summary statistics we use for quantitative data can still be meaningful for categorical data. Let’s first consider a nominal categorical variable. A nominal categorical variable is a categorical variable with no intrinsic ordering to the categories. Examples from the census dataset introduced in the previous exercise include `marital.status` and `race`.\n",
    "\n",
    "Because these variables’ categories have no ordering or numeric equivalents, it’s impossible to calculate a mean or median. It would also be impossible to describe spread with statistics like variance, standard deviation, a range, IQR, or percentiles, because these statistics all rely on being able to order the data in some way. However, it is still possible to calculate the mode, the most common value in the dataset.\n",
    "\n",
    "We can do this in Python using the `.value_counts()` function. The `.value_counts()` function calculates the count of each value in a column and returns the result as a series. By default, `.value_counts()` orders categories in descending order by frequency, thus the top row in the output will be the mode.\n",
    "\n"
   ]
  },
  {
   "cell_type": "code",
   "execution_count": 5,
   "metadata": {},
   "outputs": [
    {
     "name": "stdout",
     "output_type": "stream",
     "text": [
      "Annadale-Huguenot-Prince's Bay-Eltingville    950\n",
      "Great Kills                                   761\n",
      "East New York                                 702\n",
      "Bayside-Bayside Hills                         665\n",
      "Rossville-Woodrow                             633\n",
      "                                             ... \n",
      "39                                              1\n",
      "BX33                                            1\n",
      "MN50                                            1\n",
      "82                                              1\n",
      "87                                              1\n",
      "Name: neighborhood, Length: 442, dtype: int64 \n",
      "\n",
      "Greenest neighborhood is Annadale-Huguenot-Prince's Bay-Eltingville\n"
     ]
    }
   ],
   "source": [
    "# Get tree counts by neighborhood\n",
    "tree_counts = nyc_trees['neighborhood'].value_counts()\n",
    "print(tree_counts, '\\n')\n",
    "\n",
    "# Get neighborhoods with most trees\n",
    "greenest_neighborhood = tree_counts.index[0]\n",
    "print('Greenest neighborhood is {}'.format(greenest_neighborhood))"
   ]
  },
  {
   "cell_type": "code",
   "execution_count": 6,
   "metadata": {},
   "outputs": [
    {
     "name": "stdout",
     "output_type": "stream",
     "text": [
      "['Good' 'Poor' 'Fair' nan]\n"
     ]
    }
   ],
   "source": [
    "#Finding the unique health statuses of the trees\n",
    "tree_health_statuses = nyc_trees['health'].unique()\n",
    "print(tree_health_statuses)"
   ]
  },
  {
   "cell_type": "code",
   "execution_count": 7,
   "metadata": {},
   "outputs": [],
   "source": [
    "#Converting the health statuses to categories and ordering like poor < fair < good\n",
    "health_categories = ['Poor', 'Fair', 'Good']\n",
    "nyc_trees['health'] = pd.Categorical(nyc_trees['health'], health_categories, ordered = True)"
   ]
  },
  {
   "cell_type": "code",
   "execution_count": 8,
   "metadata": {},
   "outputs": [
    {
     "name": "stdout",
     "output_type": "stream",
     "text": [
      "Good\n"
     ]
    }
   ],
   "source": [
    "#Finding the median health status\n",
    "median_index = np.median(nyc_trees['health'].cat.codes)\n",
    "median_health_status = health_categories[int(median_index)]\n",
    "print(median_health_status)"
   ]
  },
  {
   "cell_type": "code",
   "execution_count": 9,
   "metadata": {},
   "outputs": [],
   "source": [
    "nyc_trees2 = pd.read_csv('../Datasets/nyc_tree_census2.csv')"
   ]
  },
  {
   "cell_type": "markdown",
   "metadata": {},
   "source": [
    "This dataset contains two variables related to trunk size. The first variable, trunk_diam contains the diameter of the trunk (in inches) for each tree. The variable tree_diam_category, on the other hand, categorizes each tree based on the size of the trunk. The categories are: 'Small (0-3in)', 'Medium (3-10in)', 'Medium-Large (10-18in)', 'Large (18-24in)','Very large (>24in)'. You’ll notice that these categories are not evenly spaced with respect to diameter."
   ]
  },
  {
   "cell_type": "code",
   "execution_count": 10,
   "metadata": {},
   "outputs": [],
   "source": [
    "nyc_trees2.tree_diam_category = pd.Categorical(nyc_trees2.tree_diam_category, ['Small (0-3in)', \n",
    "                                                                             'Medium (3-10in)', \n",
    "                                                                             'Medium-Large (10-18in)', \n",
    "                                                                             'Large (18-24in)',\n",
    "                                                                             'Very large (>24in)'], ordered=True)\n"
   ]
  },
  {
   "cell_type": "code",
   "execution_count": 11,
   "metadata": {},
   "outputs": [
    {
     "name": "stdout",
     "output_type": "stream",
     "text": [
      "11.27048\n",
      "1.97282\n"
     ]
    }
   ],
   "source": [
    "# Get Mean Diam of diameter variable, `trunk_diam`\n",
    "mean_diam = np.mean(nyc_trees2['trunk_diam'])\n",
    "print(mean_diam)\n",
    "\n",
    "# Get Mean Category of `tree_diam_category`\n",
    "mean_diam_cat = np.mean(nyc_trees2['tree_diam_category'].cat.codes)\n",
    "print(mean_diam_cat)"
   ]
  },
  {
   "cell_type": "code",
   "execution_count": 12,
   "metadata": {},
   "outputs": [],
   "source": [
    "size_labels_ordered = ['Small (0-3in)', 'Medium (3-10in)', \n",
    "                       'Medium-Large (10-18in)', 'Large (18-24in)','Very large (>24in)']\n",
    "\n",
    "nyc_trees2.tree_diam_category = pd.Categorical(nyc_trees2.tree_diam_category, size_labels_ordered, ordered=True)\n"
   ]
  },
  {
   "cell_type": "code",
   "execution_count": 13,
   "metadata": {},
   "outputs": [
    {
     "name": "stdout",
     "output_type": "stream",
     "text": [
      "Medium (3-10in)\n"
     ]
    }
   ],
   "source": [
    "# Calculate 25th Percentile Category\n",
    "p25_ind = np.percentile(nyc_trees2['tree_diam_category'].cat.codes, 25)\n",
    "p25_tree_diam_category = size_labels_ordered[int(p25_ind)]\n",
    "print(p25_tree_diam_category)"
   ]
  },
  {
   "cell_type": "code",
   "execution_count": 14,
   "metadata": {},
   "outputs": [
    {
     "name": "stdout",
     "output_type": "stream",
     "text": [
      "Large (18-24in)\n"
     ]
    }
   ],
   "source": [
    "# Calculate 75th Percentile Category\n",
    "\n",
    "p75_ind = np.percentile(nyc_trees2['tree_diam_category'].cat.codes, 75)\n",
    "p75_tree_diam_category = size_labels_ordered[int(p75_ind)]\n",
    "print(p75_tree_diam_category)"
   ]
  },
  {
   "cell_type": "code",
   "execution_count": 15,
   "metadata": {},
   "outputs": [
    {
     "name": "stdout",
     "output_type": "stream",
     "text": [
      "Alive    0.9539\n",
      "Stump    0.0267\n",
      "Dead     0.0194\n",
      "Name: status, dtype: float64\n"
     ]
    }
   ],
   "source": [
    "#returning proportions of tree statuses\n",
    "tree_status_proportions = nyc_trees2['status'].value_counts(normalize = True)\n",
    "print(tree_status_proportions)"
   ]
  },
  {
   "cell_type": "code",
   "execution_count": 16,
   "metadata": {},
   "outputs": [
    {
     "name": "stdout",
     "output_type": "stream",
     "text": [
      "Good    0.810986\n",
      "Fair    0.146871\n",
      "Poor    0.042143\n",
      "Name: health, dtype: float64 \n",
      "\n",
      "Good    0.7736\n",
      "Fair    0.1401\n",
      "NaN     0.0461\n",
      "Poor    0.0402\n",
      "Name: health, dtype: float64\n"
     ]
    }
   ],
   "source": [
    "health_proportions = nyc_trees2['health'].value_counts(normalize = True)\n",
    "print(health_proportions, '\\n')\n",
    "\n",
    "\n",
    "health_proportions_2 = nyc_trees2['health'].value_counts(dropna = False, normalize = True)\n",
    "print(health_proportions_2)\n"
   ]
  },
  {
   "cell_type": "code",
   "execution_count": null,
   "metadata": {},
   "outputs": [],
   "source": []
  },
  {
   "cell_type": "code",
   "execution_count": 17,
   "metadata": {},
   "outputs": [
    {
     "name": "stdout",
     "output_type": "stream",
     "text": [
      "47695\n",
      "0.9539\n"
     ]
    }
   ],
   "source": [
    "living_frequency = np.sum(nyc_trees['status'] == 'Alive')\n",
    "living_proportion = np.mean(nyc_trees['status'] == 'Alive').mean()\n",
    "print(living_frequency)\n",
    "print(living_proportion)"
   ]
  },
  {
   "cell_type": "markdown",
   "metadata": {},
   "source": [
    "- For nominal categorical variables, there is no ordering to the categories. Because of this, we’re limited to using the mode to describe central tendency and there is no way to summarize the spread.\n",
    "\n",
    "- For ordinal categorical variables, there is an implied ordering to the categories. In Python, we can use pd.Categorical() to transform a variable to a categorical type. The Categorical type allows us to access a numeric value for each category by using .cat.codes. From there, we may perform operations on this variable as if it were a regular, numeric variable.\n",
    "\n",
    "- However, when calculating statistics for an ordinal categorical variable we should be mindful that some numeric statistics rely on the assumption of equal spacing between categories.\n",
    "\n",
    "- For ordinal categorical variables, median and mode can be used to summarize the central tendency, and the IQR (or any difference between percentiles) can be used to summarize the spread.\n",
    "\n",
    "- Certain summary statistics (e.g. frequencies and proportions), can be used for all categorical variables. You can create true/false columns and np.sum() and np.mean() to quickly summarize what proportion of your data meets certain criteria."
   ]
  },
  {
   "cell_type": "code",
   "execution_count": 18,
   "metadata": {},
   "outputs": [
    {
     "name": "stdout",
     "output_type": "stream",
     "text": [
      "   EventID                      EventType           StartDateTime  \\\n",
      "0   446168                Shooting Permit  10/19/2018 02:00:00 PM   \n",
      "1   186438                Shooting Permit  10/30/2014 07:00:00 AM   \n",
      "2   445255                Shooting Permit  10/20/2018 07:00:00 AM   \n",
      "3   128794  Theater Load in and Load Outs  11/16/2013 12:01:00 AM   \n",
      "4    43547                Shooting Permit  01/10/2012 07:00:00 AM   \n",
      "\n",
      "              EndDateTime    Borough           Category  SubCategoryName  \n",
      "0  10/20/2018 02:00:00 AM  Manhattan               Film          Feature  \n",
      "1  10/31/2014 02:00:00 AM     Queens         Television  Episodic series  \n",
      "2  10/20/2018 06:00:00 PM   Brooklyn  Still Photography   Not Applicable  \n",
      "3  11/17/2013 06:00:00 AM  Manhattan            Theater          Theater  \n",
      "4  01/10/2012 07:00:00 PM   Brooklyn         Television  Episodic series   \n",
      "\n",
      "['Shooting Permit' 'Theater Load in and Load Outs'\n",
      " 'DCAS Prep/Shoot/Wrap Permit' 'Rigging Permit']\n"
     ]
    }
   ],
   "source": [
    "# Read CSV\n",
    "film_permits = pd.read_csv('../Datasets/film_permits.csv')\n",
    "print(film_permits.head(), '\\n')\n",
    "print(film_permits['EventType'].unique())"
   ]
  },
  {
   "cell_type": "code",
   "execution_count": 19,
   "metadata": {},
   "outputs": [
    {
     "name": "stdout",
     "output_type": "stream",
     "text": [
      "['Film' 'Television' 'Still Photography' 'Theater' 'WEB' 'Commercial'\n",
      " 'Student' 'Documentary' 'Music Video']\n"
     ]
    }
   ],
   "source": [
    "print(film_permits['Category'].unique())"
   ]
  },
  {
   "cell_type": "code",
   "execution_count": 20,
   "metadata": {},
   "outputs": [
    {
     "name": "stdout",
     "output_type": "stream",
     "text": [
      "<class 'pandas.core.frame.DataFrame'>\n",
      "RangeIndex: 9999 entries, 0 to 9998\n",
      "Data columns (total 7 columns):\n",
      " #   Column           Non-Null Count  Dtype \n",
      "---  ------           --------------  ----- \n",
      " 0   EventID          9999 non-null   int64 \n",
      " 1   EventType        9999 non-null   object\n",
      " 2   StartDateTime    9999 non-null   object\n",
      " 3   EndDateTime      9999 non-null   object\n",
      " 4   Borough          9999 non-null   object\n",
      " 5   Category         9999 non-null   object\n",
      " 6   SubCategoryName  9999 non-null   object\n",
      "dtypes: int64(1), object(6)\n",
      "memory usage: 546.9+ KB\n"
     ]
    }
   ],
   "source": [
    "film_permits.info()"
   ]
  },
  {
   "cell_type": "code",
   "execution_count": null,
   "metadata": {},
   "outputs": [],
   "source": []
  },
  {
   "cell_type": "code",
   "execution_count": 21,
   "metadata": {},
   "outputs": [],
   "source": [
    "# Nominal Vars\n",
    "nominalvars = ['EventType', 'Borough', 'Category', 'SubCategoryName']"
   ]
  },
  {
   "cell_type": "code",
   "execution_count": 22,
   "metadata": {},
   "outputs": [
    {
     "name": "stdout",
     "output_type": "stream",
     "text": [
      "Manhattan        149\n",
      "Brooklyn          89\n",
      "Queens            21\n",
      "Bronx             10\n",
      "Staten Island      2\n",
      "Name: Borough, dtype: int64\n"
     ]
    }
   ],
   "source": [
    "# Ordinal Vars - We might consider an Id like 'EventID' an ordinal variable in some situations\n",
    "\n",
    "# Borough with the most permits for pilot episodes\n",
    "print(film_permits[film_permits.SubCategoryName == 'Pilot'].Borough.value_counts())"
   ]
  },
  {
   "cell_type": "code",
   "execution_count": 23,
   "metadata": {},
   "outputs": [
    {
     "name": "stdout",
     "output_type": "stream",
     "text": [
      "Manhattan        149\n",
      "Brooklyn          89\n",
      "Queens            21\n",
      "Bronx             10\n",
      "Staten Island      2\n",
      "Name: Borough, dtype: int64\n"
     ]
    }
   ],
   "source": [
    "# Borough with the most permits for pilot episodes\n",
    "print(film_permits[film_permits.SubCategoryName == 'Pilot'].Borough.value_counts())"
   ]
  },
  {
   "cell_type": "code",
   "execution_count": 24,
   "metadata": {},
   "outputs": [
    {
     "name": "stdout",
     "output_type": "stream",
     "text": [
      "Television           5271\n",
      "Film                 1765\n",
      "Theater               966\n",
      "Commercial            878\n",
      "Still Photography     658\n",
      "WEB                   313\n",
      "Student                72\n",
      "Documentary            48\n",
      "Music Video            28\n",
      "Name: Category, dtype: int64\n"
     ]
    }
   ],
   "source": [
    "# Summarize the Top Categories\n",
    "print(film_permits.Category.value_counts())"
   ]
  },
  {
   "cell_type": "code",
   "execution_count": 25,
   "metadata": {},
   "outputs": [
    {
     "name": "stdout",
     "output_type": "stream",
     "text": [
      "Episodic series            2916\n",
      "Feature                    1382\n",
      "Not Applicable             1381\n",
      "Cable-episodic             1033\n",
      "Theater                     966\n",
      "Commercial                  686\n",
      "Pilot                       271\n",
      "News                        202\n",
      "Cable-other                 126\n",
      "Reality                     124\n",
      "Morning Show                121\n",
      "Short                       120\n",
      "Promo                       112\n",
      "Made for TV/mini-series      90\n",
      "Variety                      76\n",
      "Student Film                 65\n",
      "Special/Awards Show          59\n",
      "Cable-daily                  55\n",
      "Industrial/Corporate         54\n",
      "Talk Show                    48\n",
      "PSA                          27\n",
      "Game show                    25\n",
      "Signed Artist                15\n",
      "Children                     12\n",
      "Syndication/First Run        11\n",
      "Independent Artist            9\n",
      "Magazine Show                 8\n",
      "Daytime soap                  5\n",
      "Name: SubCategoryName, dtype: int64\n"
     ]
    }
   ],
   "source": [
    "# Summarize the Top Subcategories\n",
    "print(film_permits.SubCategoryName.value_counts())"
   ]
  },
  {
   "cell_type": "code",
   "execution_count": null,
   "metadata": {},
   "outputs": [],
   "source": [
    "\n",
    "\n",
    "\n",
    "\n"
   ]
  },
  {
   "cell_type": "code",
   "execution_count": null,
   "metadata": {},
   "outputs": [],
   "source": []
  }
 ],
 "metadata": {
  "kernelspec": {
   "display_name": "Python 3",
   "language": "python",
   "name": "python3"
  },
  "language_info": {
   "codemirror_mode": {
    "name": "ipython",
    "version": 3
   },
   "file_extension": ".py",
   "mimetype": "text/x-python",
   "name": "python",
   "nbconvert_exporter": "python",
   "pygments_lexer": "ipython3",
   "version": "3.8.5"
  }
 },
 "nbformat": 4,
 "nbformat_minor": 4
}
