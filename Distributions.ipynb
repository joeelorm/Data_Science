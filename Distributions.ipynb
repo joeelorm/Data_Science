{
 "cells": [
  {
   "cell_type": "markdown",
   "metadata": {},
   "source": [
    "### HISTOGRAMS\n",
    "Statistics is often thought of as a way to find certainty through data. The strength of statistics is more often used to communicate that certainty does not really exist. It provides tools to communicate how uncertain we are about a problem. There is no better tool to visualize the uncertainty and chaos than a histogram. A histogram displays the distribution of your underlying data.\n",
    "\n",
    "Histograms reveal through numbers, interpretable trends in your data. They don't provide a `yes` or `no` answer, but are often used as a starting point for discussion and informing an answer to your data.\n",
    "\n",
    "\n",
    "#### Summarizing your data\n",
    "The purpose of a histogram is to summarize data that you can use to inform a decision or explain a distribution.While a histogram is one of the most useful tools for communicating trends, people often use the average of a dataset to make broad claims about its underlying trends.While the average value of data may be useful to interpret where the data is centered, it can also be misleading."
   ]
  },
  {
   "cell_type": "code",
   "execution_count": 1,
   "metadata": {},
   "outputs": [],
   "source": [
    "# Import packages\n",
    "import numpy as np\n",
    "import pandas as pd"
   ]
  },
  {
   "cell_type": "code",
   "execution_count": 2,
   "metadata": {},
   "outputs": [],
   "source": [
    "# Read in transactions data\n",
    "transactions = pd.read_csv('../Datasets/transactions.csv')\n",
    "transactions = transactions.drop([\"Unnamed: 0\"], axis = 1)"
   ]
  },
  {
   "cell_type": "code",
   "execution_count": 3,
   "metadata": {},
   "outputs": [],
   "source": [
    "# Save transaction times to a separate numpy array\n",
    "times = transactions[\"Transaction Time\"].values\n",
    "cost = transactions[\"Cost\"].values"
   ]
  },
  {
   "cell_type": "code",
   "execution_count": 4,
   "metadata": {},
   "outputs": [
    {
     "name": "stdout",
     "output_type": "stream",
     "text": [
      "     Transaction Time        Cost\n",
      "0            7.939419   98.422021\n",
      "1            4.314811   87.329861\n",
      "2            6.394080  112.334882\n",
      "3            7.031504   87.570689\n",
      "4            5.840730   97.321191\n",
      "..                ...         ...\n",
      "995         18.728278   34.802198\n",
      "996         18.183858   36.349422\n",
      "997         16.803236   59.230032\n",
      "998         19.680992   23.748946\n",
      "999         23.369355   57.442948\n",
      "\n",
      "[1000 rows x 2 columns]\n",
      "Average time for a transaction is 14.943439668312365\n"
     ]
    }
   ],
   "source": [
    "# Print transactions below\n",
    "print(transactions)\n",
    "\n",
    "# Print the average times below\n",
    "print('Average time for a transaction is {}'.format(np.average(times)))"
   ]
  },
  {
   "cell_type": "markdown",
   "metadata": {},
   "source": [
    "The Transaction Time column contains numbers between 0 and <24. The number 0 is 12:00am. You can think of <24 as just before midnight the next day, or 11:59pm.\n",
    "\n",
    "#### Range\n",
    "Histograms are helpful for understanding how your data is distributed. While the average time  a customer may arrive at the grocery store is 3 pm, the manager knows 3 pm is not their busiest times of the day. It's important to understand the extremes of your data: the minimum and maximum values in your dataset. With the minimum and maximum, you can calculate the range. The range of your data is the difference between the maximum and minimum values in your dataset."
   ]
  },
  {
   "cell_type": "code",
   "execution_count": 5,
   "metadata": {},
   "outputs": [],
   "source": [
    "# Find the minimum time, maximum time, and range\n",
    "min_time = np.amin(times) \n",
    "max_time = np.amax(times) \n",
    "range_time = max_time - min_time "
   ]
  },
  {
   "cell_type": "code",
   "execution_count": 6,
   "metadata": {},
   "outputs": [
    {
     "name": "stdout",
     "output_type": "stream",
     "text": [
      "Earliest Time: 0.02661518360957871\n",
      "Latest Time: 23.675374635328755\n",
      "Time Range: 23.648759451719176\n"
     ]
    }
   ],
   "source": [
    "# Printing the values\n",
    "print(\"Earliest Time: \" + str(min_time))\n",
    "print(\"Latest Time: \" + str(max_time))\n",
    "print(\"Time Range: \" + str(range_time))"
   ]
  },
  {
   "cell_type": "markdown",
   "metadata": {},
   "source": [
    "#### Bins and Count \n",
    "In the previous cells, we found that the earliest transaction time is close to 0, and the latest transaction is close to 24, making your range nearly 24 hours.\n",
    "\n",
    "Now, we have the information we need to start building our histogram. The two key features of a histogram are bins and counts.\n",
    "\n",
    "#### Bins\n",
    "A bin is a sub-range of values that falls within the range of a dataset. In the grocery store example, a valid bin may be from 0 hours to 6 hours. This bin includes all times from just after midnight (0) until 6 am (6).\n",
    "\n",
    "Additionally, all bins in a histogram must be the same width.\n",
    "\n",
    "If the range of values in our dataset is from 0 to 24, and the first bin in our grocery store example is from 0 to 6, can we figure out the minimums and maximums of the other bins?\n",
    "\n",
    "The grocery store bins are:\n",
    "\n",
    "- 0 to 6 hours\n",
    "- 6 to 12 hours\n",
    "- 12 to 18 hours\n",
    "- 18 to 24 hours"
   ]
  },
  {
   "cell_type": "code",
   "execution_count": 7,
   "metadata": {},
   "outputs": [
    {
     "name": "stdout",
     "output_type": "stream",
     "text": [
      "Bins: 3\n",
      "Bin Width: 3.0\n"
     ]
    }
   ],
   "source": [
    "# Array of days old bread\n",
    "days_old_bread = np.array([0, 8, 7, 8, 0, 2, 3, 5, 6, 2])\n",
    "\n",
    "# Set the minimum and maximums of the array below\n",
    "min_days_old = np.amin(days_old_bread)\n",
    "max_days_old = np.amax(days_old_bread)\n",
    "\n",
    "\n",
    "# Set the number of bins to 3\n",
    "bins = 3\n",
    "\n",
    "# Calculate the bin range\n",
    "try:\n",
    "    bin_range = (max_days_old - min_days_old + 1) / bins\n",
    "    print(\"Bins: \" + str(bins))\n",
    "    print(\"Bin Width: \" + str(bin_range))\n",
    "# Printing the values\n",
    "except:\n",
    "    print(\"You have not set the min, max, or bins values yet.\")"
   ]
  },
  {
   "cell_type": "markdown",
   "metadata": {},
   "source": [
    "A count is the number of values that fall within a bin’s range. For example, if 100 customers arrive at your grocery store between midnight (0) and 6 am (6), your count for that bin is equal to 100.\n",
    "\n",
    "`exercise_ages = np.array([20, 27, 45, 69, 34, 52, 42, 22, 34, 26])`\n",
    "\n",
    "Question: What is our range?\n",
    "\n",
    "- Answer: Between 20 and 69\n",
    "\n",
    "Question: How many bins do we need?\n",
    "\n",
    "- Answer: The bins are 20s, 30s, 40s, 50s, and 60s, so we need five bins, each covering ten years.\n",
    "\n",
    "\n"
   ]
  },
  {
   "cell_type": "markdown",
   "metadata": {},
   "source": [
    "The store manager checks the age of all loaves on the shelves every three days, with the freshest loaves displayed on the most obvious shelf, and the oldest loaves being thrown out.\n",
    "\n",
    "Because of this pattern, the store manager wants to know the number of loaves in each of three different bins.\n",
    "\n",
    "Count the number of loaves that have values of 0, 1, or 2, and save it to `days_old_012`"
   ]
  },
  {
   "cell_type": "code",
   "execution_count": 8,
   "metadata": {},
   "outputs": [
    {
     "name": "stdout",
     "output_type": "stream",
     "text": [
      "Between 0 and 2 days: 4\n",
      "Between 3 and 5 days: 2\n",
      "Between 6 and 8 days: 4\n"
     ]
    }
   ],
   "source": [
    "# Count the values in each bin \n",
    "days_old_012 = 4\n",
    "days_old_345 = 2\n",
    "days_old_678 = 4\n",
    "\n",
    "# Printing the values\n",
    "print(\"Between 0 and 2 days: \" + str(days_old_012))\n",
    "print(\"Between 3 and 5 days: \" + str(days_old_345))\n",
    "print(\"Between 6 and 8 days: \" + str(days_old_678))"
   ]
  },
  {
   "cell_type": "markdown",
   "metadata": {},
   "source": [
    "#### Histograms\n",
    "While counting the number of values in a bin is straightforward, it is also time-consuming. How long do you think it would take you to count the number of values in each bin for:\n",
    "\n",
    " - an exercise class of 50 people?\n",
    " - a grocery store with 300 loaves of bread?\n",
    "Most of the data you will analyze with histograms includes far more than ten values.\n",
    "\n",
    "For these situations, we can use the `numpy.histogram()` function. In the example below, we use this function to find the counts for a twenty-person exercise class.\n",
    "\n",
    "`exercise_ages = np.array([22, 27, 45, 62, 34, 52, 42, 22, 34, 26, 24, 65, 34, 25, 45, 23, 45, 33, 52, 55])`\n",
    "`np.histogram(exercise_ages, range = (20, 70), bins = 5)`\n",
    "\n",
    " - exercise_ages is the input array\n",
    " - range = (20, 70) — is the range of values we expect in our array. Range includes everything from 20, up until but      not including 70.\n",
    " - bins = 5 is the number of bins. Python will automatically calculate equally-sized bins based on the range and          number of bins.\n",
    " \n",
    "Below, you can see the output of the numpy.histogram() function:\n",
    "`(array([7, 4, 4, 3, 2]), array([20., 30., 40., 50., 60., 70.]))`\n",
    "The first array, array([7, 4, 4, 3, 2]), is the counts for each bin. The second array, array([20., 30., 40., 50., 60., 70.]), includes the minimum and maximum values for each bin:\n",
    "\n",
    " - Bin 1: 20 to <30\n",
    " - Bin 2: 30 to <40\n",
    " - Bin 3: 40 to <50\n",
    " - Bin 4: 50 to <60\n",
    " - Bin 5: 60 to <70\n"
   ]
  },
  {
   "cell_type": "code",
   "execution_count": 9,
   "metadata": {},
   "outputs": [
    {
     "name": "stdout",
     "output_type": "stream",
     "text": [
      "(array([101, 231, 213, 455]), array([ 0.,  6., 12., 18., 24.]))\n"
     ]
    }
   ],
   "source": [
    "# Use numpy.histogram() below\n",
    "times_hist = np.histogram(times, range = (0, 24), bins = 4)\n",
    "\n",
    "print(times_hist)"
   ]
  },
  {
   "cell_type": "markdown",
   "metadata": {},
   "source": [
    "It should be seen that the store is the busiest between the hours of 18 and 24. This is between 6pm and midnight."
   ]
  },
  {
   "cell_type": "markdown",
   "metadata": {},
   "source": [
    "#### Plotting a Histogram"
   ]
  },
  {
   "cell_type": "code",
   "execution_count": 11,
   "metadata": {},
   "outputs": [
    {
     "data": {
      "image/png": "[encoded data removed]",
      "text/plain": [
       "<Figure size 432x288 with 1 Axes>"
      ]
     },
     "metadata": {
      "needs_background": "light"
     },
     "output_type": "display_data"
    }
   ],
   "source": [
    "from matplotlib import pyplot as plt\n",
    "\n",
    "# Use plt.hist() below\n",
    "plt.hist(times, range = (0, 24), bins = 4, edgecolor = 'black')\n",
    "plt.xlabel('Hours (1 hour increments)')\n",
    "plt.ylabel('Counts')\n",
    "plt.show()"
   ]
  },
  {
   "cell_type": "markdown",
   "metadata": {},
   "source": [
    "#### Finding your Best Bin Size\n",
    "This histogram is helpful for our store manager. The last six hours of the day are the busiest — from 6 pm until midnight. Does this mean the manager should staff their grocery store with the most employees between 6 pm and midnight?\n",
    "\n",
    "To the manager, this doesn’t make much sense. The manager knows the store is busy when many people get off work, but the rush certainly doesn’t continue later than 9 pm.\n",
    "\n",
    "The issue with this histogram is that we have too few bins. When plotting a histogram, it’s essential to select bins that fully capture the trends in the underlying data. Often, this will require some guessing and checking. There isn’t much of a science to selecting bin size.\n",
    "\n",
    "How many bins do you think makes sense for this example? I would try 24 because there are 24 hours in a day.\n",
    "\n"
   ]
  },
  {
   "cell_type": "code",
   "execution_count": 12,
   "metadata": {},
   "outputs": [
    {
     "data": {
      "image/png": "[encoded data removed]",
      "text/plain": [
       "<Figure size 432x288 with 1 Axes>"
      ]
     },
     "metadata": {
      "needs_background": "light"
     },
     "output_type": "display_data"
    }
   ],
   "source": [
    "# Use plt.hist() below\n",
    "plt.hist(times, range = (0, 24), bins = 24, edgecolor = 'black')\n",
    "plt.xlabel('Hours (1 hour increments)')\n",
    "plt.ylabel('Counts')\n",
    "plt.show()"
   ]
  },
  {
   "cell_type": "markdown",
   "metadata": {},
   "source": [
    "Now, the store manager wants a histogram of transaction costs. Try plotting a histogram for the cost variable."
   ]
  },
  {
   "cell_type": "code",
   "execution_count": 15,
   "metadata": {},
   "outputs": [
    {
     "name": "stdout",
     "output_type": "stream",
     "text": [
      "Min cost is 0.006311511239784906 and max cost is 161.40774660806855\n"
     ]
    }
   ],
   "source": [
    "bins = int(np.sqrt(len(cost)))\n",
    "min_cost = np.amin(cost)\n",
    "max_cost = np.amax(cost)\n",
    "print('Min cost is {} and max cost is {}'.format(min_cost, max_cost))"
   ]
  },
  {
   "cell_type": "code",
   "execution_count": 18,
   "metadata": {},
   "outputs": [
    {
     "data": {
      "image/png": "[encoded data removed]",
      "text/plain": [
       "<Figure size 432x288 with 1 Axes>"
      ]
     },
     "metadata": {
      "needs_background": "light"
     },
     "output_type": "display_data"
    }
   ],
   "source": [
    "# Use plt.hist() below\n",
    "plt.hist(cost, range = (0, 165), bins = bins, edgecolor = 'black')\n",
    "plt.xlabel('Costs')\n",
    "plt.ylabel('Counts')\n",
    "plt.show()"
   ]
  },
  {
   "cell_type": "code",
   "execution_count": null,
   "metadata": {},
   "outputs": [],
   "source": []
  }
 ],
 "metadata": {
  "kernelspec": {
   "display_name": "Python 3",
   "language": "python",
   "name": "python3"
  },
  "language_info": {
   "codemirror_mode": {
    "name": "ipython",
    "version": 3
   },
   "file_extension": ".py",
   "mimetype": "text/x-python",
   "name": "python",
   "nbconvert_exporter": "python",
   "pygments_lexer": "ipython3",
   "version": "3.8.5"
  }
 },
 "nbformat": 4,
 "nbformat_minor": 4
}
