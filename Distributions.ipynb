{
 "cells": [
  {
   "cell_type": "markdown",
   "metadata": {},
   "source": [
    "### HISTOGRAMS\n",
    "Statistics is often thought of as a way to find certainty through data. The strength of statistics is more often used to communicate that certainty does not really exist. It provides tools to communicate how uncertain we are about a problem. There is no better tool to visualize the uncertainty and chaos than a histogram. A histogram displays the distribution of your underlying data.\n",
    "\n",
    "Histograms reveal through numbers, interpretable trends in your data. They don't provide a `yes` or `no` answer, but are often used as a starting point for discussion and informing an answer to your data.\n",
    "\n",
    "\n",
    "#### Summarizing your data\n",
    "The purpose of a histogram is to summarize data that you can use to inform a decision or explain a distribution.While a histogram is one of the most useful tools for communicating trends, people often use the average of a dataset to make broad claims about its underlying trends.While the average value of data may be useful to interpret where the data is centered, it can also be misleading."
   ]
  },
  {
   "cell_type": "code",
   "execution_count": 2,
   "metadata": {},
   "outputs": [],
   "source": [
    "# Import packages\n",
    "import numpy as np\n",
    "import pandas as pd"
   ]
  },
  {
   "cell_type": "code",
   "execution_count": 5,
   "metadata": {},
   "outputs": [],
   "source": [
    "# Read in transactions data\n",
    "transactions = pd.read_csv('../Datasets/transactions.csv')\n",
    "transactions = transactions.drop([\"Unnamed: 0\"], axis = 1)"
   ]
  },
  {
   "cell_type": "code",
   "execution_count": 7,
   "metadata": {},
   "outputs": [],
   "source": [
    "# Save transaction times to a separate numpy array\n",
    "times = transactions[\"Transaction Time\"].values\n",
    "cost = transactions[\"Cost\"].values"
   ]
  },
  {
   "cell_type": "code",
   "execution_count": 9,
   "metadata": {},
   "outputs": [
    {
     "name": "stdout",
     "output_type": "stream",
     "text": [
      "     Transaction Time        Cost\n",
      "0            7.939419   98.422021\n",
      "1            4.314811   87.329861\n",
      "2            6.394080  112.334882\n",
      "3            7.031504   87.570689\n",
      "4            5.840730   97.321191\n",
      "..                ...         ...\n",
      "995         18.728278   34.802198\n",
      "996         18.183858   36.349422\n",
      "997         16.803236   59.230032\n",
      "998         19.680992   23.748946\n",
      "999         23.369355   57.442948\n",
      "\n",
      "[1000 rows x 2 columns]\n",
      "Average time for a transaction is 14.943439668312365\n"
     ]
    }
   ],
   "source": [
    "# Print transactions below\n",
    "print(transactions)\n",
    "\n",
    "# Print the average times below\n",
    "print('Average time for a transaction is {}'.format(np.average(times)))"
   ]
  },
  {
   "cell_type": "code",
   "execution_count": null,
   "metadata": {},
   "outputs": [],
   "source": []
  }
 ],
 "metadata": {
  "kernelspec": {
   "display_name": "Python 3",
   "language": "python",
   "name": "python3"
  },
  "language_info": {
   "codemirror_mode": {
    "name": "ipython",
    "version": 3
   },
   "file_extension": ".py",
   "mimetype": "text/x-python",
   "name": "python",
   "nbconvert_exporter": "python",
   "pygments_lexer": "ipython3",
   "version": "3.8.5"
  }
 },
 "nbformat": 4,
 "nbformat_minor": 4
}
