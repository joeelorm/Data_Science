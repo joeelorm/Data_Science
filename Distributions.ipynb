{
 "cells": [
  {
   "cell_type": "markdown",
   "metadata": {},
   "source": [
    "### HISTOGRAMS\n",
    "Statistics is often thought of as a way to find certainty through data. The strength of statistics is more often used to communicate that certainty does not really exist. It provides tools to communicate how uncertain we are about a problem. There is no better tool to visualize the uncertainty and chaos than a histogram. A histogram displays the distribution of your underlying data.\n",
    "\n",
    "Histograms reveal through numbers, interpretable trends in your data. They don't provide a `yes` or `no` answer, but are often used as a starting point for discussion and informing an answer to your data.\n",
    "\n",
    "\n",
    "#### Summarizing your data\n",
    "The purpose of a histogram is to summarize data that you can use to inform a decision or explain a distribution.While a histogram is one of the most useful tools for communicating trends, people often use the average of a dataset to make broad claims about its underlying trends.While the average value of data may be useful to interpret where the data is centered, it can also be misleading."
   ]
  },
  {
   "cell_type": "code",
   "execution_count": 1,
   "metadata": {},
   "outputs": [],
   "source": [
    "# Import packages\n",
    "import numpy as np\n",
    "import pandas as pd"
   ]
  },
  {
   "cell_type": "code",
   "execution_count": 2,
   "metadata": {},
   "outputs": [],
   "source": [
    "# Read in transactions data\n",
    "transactions = pd.read_csv('../Datasets/transactions.csv')\n",
    "transactions = transactions.drop([\"Unnamed: 0\"], axis = 1)"
   ]
  },
  {
   "cell_type": "code",
   "execution_count": 3,
   "metadata": {},
   "outputs": [],
   "source": [
    "# Save transaction times to a separate numpy array\n",
    "times = transactions[\"Transaction Time\"].values\n",
    "cost = transactions[\"Cost\"].values"
   ]
  },
  {
   "cell_type": "code",
   "execution_count": 4,
   "metadata": {},
   "outputs": [
    {
     "name": "stdout",
     "output_type": "stream",
     "text": [
      "     Transaction Time        Cost\n",
      "0            7.939419   98.422021\n",
      "1            4.314811   87.329861\n",
      "2            6.394080  112.334882\n",
      "3            7.031504   87.570689\n",
      "4            5.840730   97.321191\n",
      "..                ...         ...\n",
      "995         18.728278   34.802198\n",
      "996         18.183858   36.349422\n",
      "997         16.803236   59.230032\n",
      "998         19.680992   23.748946\n",
      "999         23.369355   57.442948\n",
      "\n",
      "[1000 rows x 2 columns]\n",
      "Average time for a transaction is 14.943439668312365\n"
     ]
    }
   ],
   "source": [
    "# Print transactions below\n",
    "print(transactions)\n",
    "\n",
    "# Print the average times below\n",
    "print('Average time for a transaction is {}'.format(np.average(times)))"
   ]
  },
  {
   "cell_type": "markdown",
   "metadata": {},
   "source": [
    "The Transaction Time column contains numbers between 0 and <24. The number 0 is 12:00am. You can think of <24 as just before midnight the next day, or 11:59pm.\n",
    "\n",
    "#### Range\n",
    "Histograms are helpful for understanding how your data is distributed. While the average time  a customer may arrive at the grocery store is 3 pm, the manager knows 3 pm is not their busiest times of the day. It's important to understand the extremes of your data: the minimum and maximum values in your dataset. With the minimum and maximum, you can calculate the range. The range of your data is the difference between the maximum and minimum values in your dataset."
   ]
  },
  {
   "cell_type": "code",
   "execution_count": 5,
   "metadata": {},
   "outputs": [],
   "source": [
    "# Find the minimum time, maximum time, and range\n",
    "min_time = np.amin(times) \n",
    "max_time = np.amax(times) \n",
    "range_time = max_time - min_time "
   ]
  },
  {
   "cell_type": "code",
   "execution_count": 6,
   "metadata": {},
   "outputs": [
    {
     "name": "stdout",
     "output_type": "stream",
     "text": [
      "Earliest Time: 0.02661518360957871\n",
      "Latest Time: 23.675374635328755\n",
      "Time Range: 23.648759451719176\n"
     ]
    }
   ],
   "source": [
    "# Printing the values\n",
    "print(\"Earliest Time: \" + str(min_time))\n",
    "print(\"Latest Time: \" + str(max_time))\n",
    "print(\"Time Range: \" + str(range_time))"
   ]
  },
  {
   "cell_type": "markdown",
   "metadata": {},
   "source": [
    "#### Bins and Count \n",
    "In the previous cells, we found that the earliest transaction time is close to 0, and the latest transaction is close to 24, making your range nearly 24 hours.\n",
    "\n",
    "Now, we have the information we need to start building our histogram. The two key features of a histogram are bins and counts.\n",
    "\n",
    "#### Bins\n",
    "A bin is a sub-range of values that falls within the range of a dataset. In the grocery store example, a valid bin may be from 0 hours to 6 hours. This bin includes all times from just after midnight (0) until 6 am (6).\n",
    "\n",
    "Additionally, all bins in a histogram must be the same width.\n",
    "\n",
    "If the range of values in our dataset is from 0 to 24, and the first bin in our grocery store example is from 0 to 6, can we figure out the minimums and maximums of the other bins?\n",
    "\n",
    "The grocery store bins are:\n",
    "\n",
    "- 0 to 6 hours\n",
    "- 6 to 12 hours\n",
    "- 12 to 18 hours\n",
    "- 18 to 24 hours"
   ]
  },
  {
   "cell_type": "code",
   "execution_count": 7,
   "metadata": {},
   "outputs": [
    {
     "name": "stdout",
     "output_type": "stream",
     "text": [
      "Bins: 3\n",
      "Bin Width: 3.0\n"
     ]
    }
   ],
   "source": [
    "# Array of days old bread\n",
    "days_old_bread = np.array([0, 8, 7, 8, 0, 2, 3, 5, 6, 2])\n",
    "\n",
    "# Set the minimum and maximums of the array below\n",
    "min_days_old = np.amin(days_old_bread)\n",
    "max_days_old = np.amax(days_old_bread)\n",
    "\n",
    "\n",
    "# Set the number of bins to 3\n",
    "bins = 3\n",
    "\n",
    "# Calculate the bin range\n",
    "try:\n",
    "    bin_range = (max_days_old - min_days_old + 1) / bins\n",
    "    print(\"Bins: \" + str(bins))\n",
    "    print(\"Bin Width: \" + str(bin_range))\n",
    "# Printing the values\n",
    "except:\n",
    "    print(\"You have not set the min, max, or bins values yet.\")"
   ]
  },
  {
   "cell_type": "markdown",
   "metadata": {},
   "source": [
    "A count is the number of values that fall within a bin’s range. For example, if 100 customers arrive at your grocery store between midnight (0) and 6 am (6), your count for that bin is equal to 100.\n",
    "\n",
    "`exercise_ages = np.array([20, 27, 45, 69, 34, 52, 42, 22, 34, 26])`\n",
    "\n",
    "Question: What is our range?\n",
    "\n",
    "- Answer: Between 20 and 69\n",
    "\n",
    "Question: How many bins do we need?\n",
    "\n",
    "- Answer: The bins are 20s, 30s, 40s, 50s, and 60s, so we need five bins, each covering ten years.\n",
    "\n",
    "\n"
   ]
  },
  {
   "cell_type": "markdown",
   "metadata": {},
   "source": [
    "The store manager checks the age of all loaves on the shelves every three days, with the freshest loaves displayed on the most obvious shelf, and the oldest loaves being thrown out.\n",
    "\n",
    "Because of this pattern, the store manager wants to know the number of loaves in each of three different bins.\n",
    "\n",
    "Count the number of loaves that have values of 0, 1, or 2, and save it to `days_old_012`"
   ]
  },
  {
   "cell_type": "code",
   "execution_count": 8,
   "metadata": {},
   "outputs": [
    {
     "name": "stdout",
     "output_type": "stream",
     "text": [
      "Between 0 and 2 days: 4\n",
      "Between 3 and 5 days: 2\n",
      "Between 6 and 8 days: 4\n"
     ]
    }
   ],
   "source": [
    "# Count the values in each bin \n",
    "days_old_012 = 4\n",
    "days_old_345 = 2\n",
    "days_old_678 = 4\n",
    "\n",
    "# Printing the values\n",
    "print(\"Between 0 and 2 days: \" + str(days_old_012))\n",
    "print(\"Between 3 and 5 days: \" + str(days_old_345))\n",
    "print(\"Between 6 and 8 days: \" + str(days_old_678))"
   ]
  },
  {
   "cell_type": "markdown",
   "metadata": {},
   "source": [
    "#### Histograms\n",
    "While counting the number of values in a bin is straightforward, it is also time-consuming. How long do you think it would take you to count the number of values in each bin for:\n",
    "\n",
    " - an exercise class of 50 people?\n",
    " - a grocery store with 300 loaves of bread?\n",
    "Most of the data you will analyze with histograms includes far more than ten values.\n",
    "\n",
    "For these situations, we can use the `numpy.histogram()` function. In the example below, we use this function to find the counts for a twenty-person exercise class.\n",
    "\n",
    "`exercise_ages = np.array([22, 27, 45, 62, 34, 52, 42, 22, 34, 26, 24, 65, 34, 25, 45, 23, 45, 33, 52, 55])`\n",
    "`np.histogram(exercise_ages, range = (20, 70), bins = 5)`\n",
    "\n",
    " - exercise_ages is the input array\n",
    " - range = (20, 70) — is the range of values we expect in our array. Range includes everything from 20, up until but      not including 70.\n",
    " - bins = 5 is the number of bins. Python will automatically calculate equally-sized bins based on the range and          number of bins.\n",
    " \n",
    "Below, you can see the output of the numpy.histogram() function:\n",
    "`(array([7, 4, 4, 3, 2]), array([20., 30., 40., 50., 60., 70.]))`\n",
    "The first array, array([7, 4, 4, 3, 2]), is the counts for each bin. The second array, array([20., 30., 40., 50., 60., 70.]), includes the minimum and maximum values for each bin:\n",
    "\n",
    " - Bin 1: 20 to <30\n",
    " - Bin 2: 30 to <40\n",
    " - Bin 3: 40 to <50\n",
    " - Bin 4: 50 to <60\n",
    " - Bin 5: 60 to <70\n"
   ]
  },
  {
   "cell_type": "code",
   "execution_count": 9,
   "metadata": {},
   "outputs": [
    {
     "name": "stdout",
     "output_type": "stream",
     "text": [
      "(array([101, 231, 213, 455]), array([ 0.,  6., 12., 18., 24.]))\n"
     ]
    }
   ],
   "source": [
    "# Use numpy.histogram() below\n",
    "times_hist = np.histogram(times, range = (0, 24), bins = 4)\n",
    "\n",
    "print(times_hist)"
   ]
  },
  {
   "cell_type": "markdown",
   "metadata": {},
   "source": [
    "It should be seen that the store is the busiest between the hours of 18 and 24. This is between 6pm and midnight."
   ]
  },
  {
   "cell_type": "markdown",
   "metadata": {},
   "source": [
    "#### Plotting a Histogram"
   ]
  },
  {
   "cell_type": "code",
   "execution_count": 10,
   "metadata": {},
   "outputs": [
    {
     "data": {
      "image/png": "[encoded data removed]",
      "text/plain": [
       "<Figure size 432x288 with 1 Axes>"
      ]
     },
     "metadata": {
      "needs_background": "light"
     },
     "output_type": "display_data"
    }
   ],
   "source": [
    "from matplotlib import pyplot as plt\n",
    "\n",
    "# Use plt.hist() below\n",
    "plt.hist(times, range = (0, 24), bins = 4, edgecolor = 'black')\n",
    "plt.xlabel('Hours (1 hour increments)')\n",
    "plt.ylabel('Counts')\n",
    "plt.show()"
   ]
  },
  {
   "cell_type": "markdown",
   "metadata": {},
   "source": [
    "#### Finding your Best Bin Size\n",
    "This histogram is helpful for our store manager. The last six hours of the day are the busiest — from 6 pm until midnight. Does this mean the manager should staff their grocery store with the most employees between 6 pm and midnight?\n",
    "\n",
    "To the manager, this doesn’t make much sense. The manager knows the store is busy when many people get off work, but the rush certainly doesn’t continue later than 9 pm.\n",
    "\n",
    "The issue with this histogram is that we have too few bins. When plotting a histogram, it’s essential to select bins that fully capture the trends in the underlying data. Often, this will require some guessing and checking. There isn’t much of a science to selecting bin size.\n",
    "\n",
    "How many bins do you think makes sense for this example? I would try 24 because there are 24 hours in a day.\n",
    "\n"
   ]
  },
  {
   "cell_type": "code",
   "execution_count": 11,
   "metadata": {},
   "outputs": [
    {
     "data": {
      "image/png": "[encoded data removed]",
      "text/plain": [
       "<Figure size 432x288 with 1 Axes>"
      ]
     },
     "metadata": {
      "needs_background": "light"
     },
     "output_type": "display_data"
    }
   ],
   "source": [
    "# Use plt.hist() below\n",
    "plt.hist(times, range = (0, 24), bins = 24, edgecolor = 'black')\n",
    "plt.xlabel('Hours (1 hour increments)')\n",
    "plt.ylabel('Counts')\n",
    "plt.show()"
   ]
  },
  {
   "cell_type": "markdown",
   "metadata": {},
   "source": [
    "Now, the store manager wants a histogram of transaction costs. Try plotting a histogram for the cost variable."
   ]
  },
  {
   "cell_type": "code",
   "execution_count": 12,
   "metadata": {},
   "outputs": [
    {
     "name": "stdout",
     "output_type": "stream",
     "text": [
      "Min cost is 0.006311511239784906 and max cost is 161.40774660806855\n"
     ]
    }
   ],
   "source": [
    "bins = int(np.sqrt(len(cost)))\n",
    "min_cost = np.amin(cost)\n",
    "max_cost = np.amax(cost)\n",
    "print('Min cost is {} and max cost is {}'.format(min_cost, max_cost))"
   ]
  },
  {
   "cell_type": "code",
   "execution_count": 13,
   "metadata": {},
   "outputs": [
    {
     "data": {
      "image/png": "[encoded data removed]",
      "text/plain": [
       "<Figure size 432x288 with 1 Axes>"
      ]
     },
     "metadata": {
      "needs_background": "light"
     },
     "output_type": "display_data"
    }
   ],
   "source": [
    "# Use plt.hist() below\n",
    "plt.hist(cost, range = (0, 165), bins = bins, edgecolor = 'black')\n",
    "plt.xlabel('Costs')\n",
    "plt.ylabel('Counts')\n",
    "plt.show()"
   ]
  },
  {
   "cell_type": "code",
   "execution_count": null,
   "metadata": {},
   "outputs": [],
   "source": []
  },
  {
   "cell_type": "markdown",
   "metadata": {},
   "source": [
    "#### Mini Project\n",
    "\n",
    "Traveling to Acadia\n",
    "Imagine you work at a travel agency and want to inform your customers of the best time to visit one of your favorite vacation locations, Acadia, Maine. In this project, you will use flower bloom data, and flight information to recommend the best time of year for someone to make a trip to Maine.\n",
    "\n",
    "\n",
    "`in_bloom` is a NumPy array containing 900 numbers. Each number is a day of the year, which represents the average start date of a flower blooming.\n",
    "`flights` is a NumPy array with 11,000 numbers. Each number is a day of the year, which represents a flight from your hometown to airports near Acadia, Maine.\n",
    "Your goal is to create two histograms, each displaying the frequency of an occurrence each day of the year (either flights or flower blooms).\n",
    "\n",
    "You will use the `in_bloom` variable to find a count of the number of flowers that start blooming each day of the year.\n",
    "\n",
    "You will use the flights `variable` to find a count of the number of flights that occur each day of the year."
   ]
  },
  {
   "cell_type": "code",
   "execution_count": 14,
   "metadata": {},
   "outputs": [],
   "source": [
    "# load in data\n",
    "in_bloom = np.loadtxt(open(\"../Datasets/in-bloom.csv\"), delimiter=\",\")\n",
    "flights = np.loadtxt(open(\"../Datasets/flights.csv\"), delimiter=\",\")"
   ]
  },
  {
   "cell_type": "code",
   "execution_count": 15,
   "metadata": {},
   "outputs": [
    {
     "data": {
      "image/png": "[encoded data removed]",
      "text/plain": [
       "<Figure size 576x396 with 2 Axes>"
      ]
     },
     "metadata": {},
     "output_type": "display_data"
    }
   ],
   "source": [
    "# Plot the histograms\n",
    "plt.style.use('seaborn')\n",
    "plt.figure(1)\n",
    "plt.subplot(211)\n",
    "plt.hist(flights, range = (0, 365), bins = 365)\n",
    "plt.title('Frequency of flights in a year')\n",
    "plt.xlabel('Day of the year')\n",
    "plt.ylabel('Flight Count')\n",
    "\n",
    "plt.subplot(212)\n",
    "plt.hist(in_bloom, range = (0, 365), bins = 365)\n",
    "plt.title('Number of flowers that bloom all year long')\n",
    "plt.xlabel('Day of the Year')\n",
    "plt.ylabel('Bloom Count')\n",
    "plt.tight_layout()\n",
    "\n",
    "plt.show()"
   ]
  },
  {
   "cell_type": "markdown",
   "metadata": {},
   "source": [
    "Based on these histograms, I would propose they go between days 250 and 300, which is the Fall. The flight’s histogram shows fewer flights between these days, while the flowers histogram indicates there should be a number of flowers in bloom during this time."
   ]
  },
  {
   "cell_type": "code",
   "execution_count": null,
   "metadata": {},
   "outputs": [],
   "source": []
  },
  {
   "cell_type": "code",
   "execution_count": 16,
   "metadata": {},
   "outputs": [
    {
     "data": {
      "text/html": [
       "<div>\n",
       "<style scoped>\n",
       "    .dataframe tbody tr th:only-of-type {\n",
       "        vertical-align: middle;\n",
       "    }\n",
       "\n",
       "    .dataframe tbody tr th {\n",
       "        vertical-align: top;\n",
       "    }\n",
       "\n",
       "    .dataframe thead th {\n",
       "        text-align: right;\n",
       "    }\n",
       "</style>\n",
       "<table border=\"1\" class=\"dataframe\">\n",
       "  <thead>\n",
       "    <tr style=\"text-align: right;\">\n",
       "      <th></th>\n",
       "      <th>Unnamed: 0</th>\n",
       "      <th>DRG Definition</th>\n",
       "      <th>Provider Id</th>\n",
       "      <th>Provider Name</th>\n",
       "      <th>Provider Street Address</th>\n",
       "      <th>Provider City</th>\n",
       "      <th>Provider State</th>\n",
       "      <th>Provider Zip Code</th>\n",
       "      <th>Hospital Referral Region Description</th>\n",
       "      <th>Total Discharges</th>\n",
       "      <th>Average Covered Charges</th>\n",
       "      <th>Average Total Payments</th>\n",
       "      <th>Average Medicare Payments</th>\n",
       "    </tr>\n",
       "  </thead>\n",
       "  <tbody>\n",
       "    <tr>\n",
       "      <th>0</th>\n",
       "      <td>80531</td>\n",
       "      <td>313 - CHEST PAIN</td>\n",
       "      <td>220108</td>\n",
       "      <td>MILTON HOSPITAL INC</td>\n",
       "      <td>199 REEDSDALE ROAD</td>\n",
       "      <td>MILTON</td>\n",
       "      <td>MA</td>\n",
       "      <td>2186</td>\n",
       "      <td>MA - Boston</td>\n",
       "      <td>43</td>\n",
       "      <td>6760.53</td>\n",
       "      <td>3547.00</td>\n",
       "      <td>2633.04</td>\n",
       "    </tr>\n",
       "    <tr>\n",
       "      <th>1</th>\n",
       "      <td>82205</td>\n",
       "      <td>313 - CHEST PAIN</td>\n",
       "      <td>10001</td>\n",
       "      <td>SOUTHEAST ALABAMA MEDICAL CENTER</td>\n",
       "      <td>1108 ROSS CLARK CIRCLE</td>\n",
       "      <td>DOTHAN</td>\n",
       "      <td>AL</td>\n",
       "      <td>36301</td>\n",
       "      <td>AL - Dothan</td>\n",
       "      <td>36</td>\n",
       "      <td>19540.55</td>\n",
       "      <td>3428.58</td>\n",
       "      <td>2093.38</td>\n",
       "    </tr>\n",
       "    <tr>\n",
       "      <th>2</th>\n",
       "      <td>82206</td>\n",
       "      <td>313 - CHEST PAIN</td>\n",
       "      <td>10006</td>\n",
       "      <td>ELIZA COFFEE MEMORIAL HOSPITAL</td>\n",
       "      <td>205 MARENGO STREET</td>\n",
       "      <td>FLORENCE</td>\n",
       "      <td>AL</td>\n",
       "      <td>35631</td>\n",
       "      <td>AL - Birmingham</td>\n",
       "      <td>13</td>\n",
       "      <td>20241.84</td>\n",
       "      <td>3849.76</td>\n",
       "      <td>1704.53</td>\n",
       "    </tr>\n",
       "    <tr>\n",
       "      <th>3</th>\n",
       "      <td>82207</td>\n",
       "      <td>313 - CHEST PAIN</td>\n",
       "      <td>10007</td>\n",
       "      <td>MIZELL MEMORIAL HOSPITAL</td>\n",
       "      <td>702 N MAIN ST</td>\n",
       "      <td>OPP</td>\n",
       "      <td>AL</td>\n",
       "      <td>36467</td>\n",
       "      <td>AL - Dothan</td>\n",
       "      <td>34</td>\n",
       "      <td>6417.20</td>\n",
       "      <td>2808.08</td>\n",
       "      <td>1872.38</td>\n",
       "    </tr>\n",
       "    <tr>\n",
       "      <th>4</th>\n",
       "      <td>82208</td>\n",
       "      <td>313 - CHEST PAIN</td>\n",
       "      <td>10011</td>\n",
       "      <td>ST VINCENT'S EAST</td>\n",
       "      <td>50 MEDICAL PARK EAST DRIVE</td>\n",
       "      <td>BIRMINGHAM</td>\n",
       "      <td>AL</td>\n",
       "      <td>35235</td>\n",
       "      <td>AL - Birmingham</td>\n",
       "      <td>33</td>\n",
       "      <td>13311.78</td>\n",
       "      <td>2997.00</td>\n",
       "      <td>2113.84</td>\n",
       "    </tr>\n",
       "  </tbody>\n",
       "</table>\n",
       "</div>"
      ],
      "text/plain": [
       "   Unnamed: 0    DRG Definition  Provider Id  \\\n",
       "0       80531  313 - CHEST PAIN       220108   \n",
       "1       82205  313 - CHEST PAIN        10001   \n",
       "2       82206  313 - CHEST PAIN        10006   \n",
       "3       82207  313 - CHEST PAIN        10007   \n",
       "4       82208  313 - CHEST PAIN        10011   \n",
       "\n",
       "                      Provider Name     Provider Street Address Provider City  \\\n",
       "0               MILTON HOSPITAL INC          199 REEDSDALE ROAD        MILTON   \n",
       "1  SOUTHEAST ALABAMA MEDICAL CENTER      1108 ROSS CLARK CIRCLE        DOTHAN   \n",
       "2    ELIZA COFFEE MEMORIAL HOSPITAL          205 MARENGO STREET      FLORENCE   \n",
       "3          MIZELL MEMORIAL HOSPITAL               702 N MAIN ST           OPP   \n",
       "4                 ST VINCENT'S EAST  50 MEDICAL PARK EAST DRIVE    BIRMINGHAM   \n",
       "\n",
       "  Provider State  Provider Zip Code Hospital Referral Region Description  \\\n",
       "0             MA               2186                          MA - Boston   \n",
       "1             AL              36301                          AL - Dothan   \n",
       "2             AL              35631                      AL - Birmingham   \n",
       "3             AL              36467                          AL - Dothan   \n",
       "4             AL              35235                      AL - Birmingham   \n",
       "\n",
       "    Total Discharges    Average Covered Charges    Average Total Payments   \\\n",
       "0                  43                    6760.53                   3547.00   \n",
       "1                  36                   19540.55                   3428.58   \n",
       "2                  13                   20241.84                   3849.76   \n",
       "3                  34                    6417.20                   2808.08   \n",
       "4                  33                   13311.78                   2997.00   \n",
       "\n",
       "   Average Medicare Payments  \n",
       "0                    2633.04  \n",
       "1                    2093.38  \n",
       "2                    1704.53  \n",
       "3                    1872.38  \n",
       "4                    2113.84  "
      ]
     },
     "execution_count": 16,
     "metadata": {},
     "output_type": "execute_result"
    }
   ],
   "source": [
    "cp_data = pd.read_csv('../Datasets/cp1.csv')\n",
    "cp_data.head()"
   ]
  },
  {
   "cell_type": "code",
   "execution_count": 17,
   "metadata": {},
   "outputs": [
    {
     "name": "stdout",
     "output_type": "stream",
     "text": [
      "Average cost is $16948 median cost is $14660\n"
     ]
    }
   ],
   "source": [
    "mean = cp_data[' Average Covered Charges '].mean()\n",
    "median = cp_data[' Average Covered Charges '].median()\n",
    "print('Average cost is ${:.0f} median cost is ${:.0f}'.format(mean, median))"
   ]
  },
  {
   "cell_type": "code",
   "execution_count": 18,
   "metadata": {},
   "outputs": [
    {
     "data": {
      "image/png": "[encoded data removed]",
      "text/plain": [
       "<Figure size 576x396 with 1 Axes>"
      ]
     },
     "metadata": {},
     "output_type": "display_data"
    }
   ],
   "source": [
    "plt.hist(cp_data[' Average Covered Charges '], bins=20, edgecolor='black')\n",
    "\n",
    "plt.title(\"Distribution of Chest Pain Treatment Cost by Hospital\", fontsize = 16)\n",
    "plt.axvline(mean, color = 'red', label = 'mean')\n",
    "plt.axvline(median, color = 'yellow', label = 'median')\n",
    "plt.legend()\n",
    "plt.xlabel(\"Cost ($)\", fontsize = 16)\n",
    "plt.ylabel(\"Count\", fontsize = 16)\n",
    "\n",
    "plt.show()"
   ]
  },
  {
   "cell_type": "code",
   "execution_count": 19,
   "metadata": {},
   "outputs": [],
   "source": [
    "minimum_cost = cp_data[' Average Covered Charges '].min()\n",
    "maximum_cost = cp_data[' Average Covered Charges '].max()\n",
    "range_of_cost = maximum_cost - minimum_cost"
   ]
  },
  {
   "cell_type": "code",
   "execution_count": 20,
   "metadata": {},
   "outputs": [
    {
     "data": {
      "text/plain": [
       "78623.6"
      ]
     },
     "execution_count": 20,
     "metadata": {},
     "output_type": "execute_result"
    }
   ],
   "source": [
    "range_of_cost"
   ]
  },
  {
   "cell_type": "markdown",
   "metadata": {},
   "source": [
    "This histogram displays the distribution of chest pain cost for over 2,000 hospitals across the United States. The average and median costs are `$ 16,948 and $ 14,660, respectively. Given that the data is unimodal, with one local maximum and a right skew, the fact that the average is greater than the median, matches our expectation.\n",
    "\n",
    "The range of costs is very large, $ 78,623, with the smallest cost equal to $2,459 and the largest cost equal to $ 81,083. There is one hospital, Bayonne Hospital Center, that charges far more than the rest at $ 81,083."
   ]
  },
  {
   "cell_type": "code",
   "execution_count": null,
   "metadata": {},
   "outputs": [],
   "source": []
  }
 ],
 "metadata": {
  "kernelspec": {
   "display_name": "Python 3",
   "language": "python",
   "name": "python3"
  },
  "language_info": {
   "codemirror_mode": {
    "name": "ipython",
    "version": 3
   },
   "file_extension": ".py",
   "mimetype": "text/x-python",
   "name": "python",
   "nbconvert_exporter": "python",
   "pygments_lexer": "ipython3",
   "version": "3.8.5"
  }
 },
 "nbformat": 4,
 "nbformat_minor": 4
}
