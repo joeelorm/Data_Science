{
 "cells": [
  {
   "cell_type": "markdown",
   "metadata": {},
   "source": [
    "##### One-Sample t-tests in Scipy"
   ]
  },
  {
   "cell_type": "markdown",
   "metadata": {},
   "source": [
    "One-sample t-tests are used for comparing a sample average to a hypothetical population average. For example, a one-sample t-test might be used to address questions such as:\n",
    "\n",
    "- Is the average amount of time that visitors spend on a website different from 5 minutes?\n",
    "- Is the average amount of money that customers spend on a purchase more than 10 USD?\n",
    "\n",
    "As an example, let’s imagine the fictional business BuyPie, which sends ingredients for pies to your household so that you can make them from scratch. Suppose that a product manager wants online BuyPie orders to cost around 1000 Rupees on average. In the past day, 50 people made an online purchase and the average payment per order was less than 1000 Rupees. Are people really spending less than 1000 Rupees on average? Or is this the result of chance and a small sample size?"
   ]
  },
  {
   "cell_type": "code",
   "execution_count": 1,
   "metadata": {},
   "outputs": [
    {
     "name": "stdout",
     "output_type": "stream",
     "text": [
      "[ 978. 1080.  999.  855. 1105.  961.  899. 1061.  880. 1455.  505.  936.\n",
      " 1024.  982.  840.  930.  829.  504.  955. 1380. 1361. 1130.  946.  973.\n",
      " 1076. 1131.  810.  734. 1275.  867.  962.  865.  709. 1216.  735.  768.\n",
      "  757. 1060.  715.  839.  999. 1259. 1194. 1082. 1129. 1255.  931. 1236.\n",
      "  921.  907.]\n",
      "Mean: 980.0\n"
     ]
    }
   ],
   "source": [
    "from scipy.stats import ttest_1samp\n",
    "import numpy as np\n",
    "\n",
    "\n",
    "prices = np.genfromtxt('../Datasets/prices.csv')\n",
    "\n",
    "# print prices:\n",
    "print(prices)\n",
    "\n",
    "# calculate prices_mean and print it out:\n",
    "prices_mean = np.mean(prices)\n",
    "print('Mean:', prices_mean)"
   ]
  },
  {
   "cell_type": "markdown",
   "metadata": {},
   "source": [
    "######  Implementing a One-Sample T-Test\n",
    "In the cell above, we inspected a sample of 50 purchase prices at BuyPie and saw that the average was 980 Rupees. Suppose that we want to run a one-sample t-test with the following null and alternative hypotheses:\n",
    "\n",
    "- Null: The average cost of a BuyPie order is 1000 Rupees\n",
    "- Alternative: The average cost of a BuyPie order is not 1000 Rupees.\n",
    "\n",
    "SciPy has a function called `ttest_1samp()`, which performs a one-sample t-test for you. `ttest_1samp()` requires two inputs, a sample distribution (eg. the list of the 50 observed purchase prices) and a mean to test against (eg. 1000):\n",
    "\n",
    "`tstat, pval = ttest_1samp(sample_distribution, expected_mean)`"
   ]
  },
  {
   "cell_type": "code",
   "execution_count": 2,
   "metadata": {},
   "outputs": [
    {
     "name": "stdout",
     "output_type": "stream",
     "text": [
      "mean of prices: 980.0\n",
      "0.4920744804182786\n"
     ]
    }
   ],
   "source": [
    "prices_mean = np.mean(prices)\n",
    "print(\"mean of prices: \" + str(prices_mean))\n",
    "\n",
    "# use ttest_1samp to calculate pval\n",
    "tstat, pval = ttest_1samp(prices, 1000)\n",
    "# print pval\n",
    "print(pval)"
   ]
  },
  {
   "cell_type": "markdown",
   "metadata": {},
   "source": [
    "P-values are probabilities, so they should be between 0 and 1. This p-value is the probability of observing an average purchase price less than 980 OR more than 1020 among a sample of 50 purchases"
   ]
  }
 ],
 "metadata": {
  "kernelspec": {
   "display_name": "Python 3",
   "language": "python",
   "name": "python3"
  },
  "language_info": {
   "codemirror_mode": {
    "name": "ipython",
    "version": 3
   },
   "file_extension": ".py",
   "mimetype": "text/x-python",
   "name": "python",
   "nbconvert_exporter": "python",
   "pygments_lexer": "ipython3",
   "version": "3.8.5"
  }
 },
 "nbformat": 4,
 "nbformat_minor": 4
}
