{
 "cells": [
  {
   "cell_type": "code",
   "execution_count": 2,
   "metadata": {},
   "outputs": [
    {
     "name": "stdout",
     "output_type": "stream",
     "text": [
      "The cosine distance between the word embeddings for 'summer' and 'winter' is: 0.17535877227783203\n",
      "\n",
      "The cosine distance between the word embeddings for 'mustard' and 'amazing' is: 0.86961929500103\n",
      "\n",
      "'summer' in vector form: [ 2.2349806   0.8079707   0.21781838 -0.35347158 -0.78897387 -0.15229335\n",
      " -0.6599631  -1.1501733  -0.6317586  -0.60188967 -0.2699031  -0.18838899\n",
      "  0.23459744  0.19314128 -0.9712764   1.7286258   1.0771445   0.31576243\n",
      "  0.09932581 -0.14817576 -1.0772666   0.16627058 -1.1539043   0.317598\n",
      " -0.3073226   1.3197716   0.11547683  0.5586594  -0.14835468  0.43687636\n",
      " -1.0059618  -1.1478353  -0.8482001  -0.15796779  2.0702343   0.23776647\n",
      " -0.6368297   0.45361084 -0.1145464   0.9037998  -0.28959405 -2.1755178\n",
      " -0.5587417   1.6375697  -0.11525008 -1.659495   -0.41472083  1.577293\n",
      "  0.5394987   0.64897037  0.3134725   0.19526012 -0.95614684  1.125077\n",
      "  1.4268602  -0.46034926  0.7639349  -0.06090449  0.6061317  -0.22489063\n",
      " -1.048538    0.88103324 -0.01518364 -0.86464506 -1.1535565   1.04968\n",
      "  0.02077487  0.56585646 -0.5762145   0.00453335  0.4767784  -0.32082874\n",
      "  0.5395874  -0.48293182  0.06562239 -0.1859845  -0.3864349  -0.11424986\n",
      " -0.49688584  0.41527873  0.59635246 -0.31953353 -0.6704052   0.03415819\n",
      " -0.25603405 -0.69665873 -0.47897255  0.21956314 -0.98654324 -0.04952998\n",
      "  0.12996513  1.0735011  -1.0835476  -0.35423732  0.27347484 -0.05510321]\n",
      "'mustard' in vector form: [ 0.9914371   0.94390196  0.75831014 -0.45606887 -0.7429746  -0.4258899\n",
      " -0.2547098  -1.1565531  -0.52189994  0.07540613  0.12102482  0.20737888\n",
      "  0.5795114   0.28560725 -0.59830105  0.9693496   1.6121645  -0.16214004\n",
      "  0.07276984  0.05731159  0.14416945 -0.14406928 -0.8761932   0.4860919\n",
      " -0.34807602  0.7207715   0.63546014  0.33879778 -0.17175642  1.1615899\n",
      " -0.87946063 -1.4449136  -0.79436404 -1.0545664   0.91360307  0.4714067\n",
      " -0.9708381   0.5817584   0.54338735  1.4558576  -0.26083046 -0.89176327\n",
      " -0.37104604  1.8274628   0.02399937 -0.90962267 -0.1881417   1.5014274\n",
      "  0.14570835 -0.76730335 -0.03537844  1.0242128  -0.5029658   1.3262789\n",
      "  1.0511141  -0.56329393 -0.17104971 -0.4344834   1.1263654  -0.27704385\n",
      " -0.7693763  -0.46386173 -0.37444463 -1.0448654  -0.30082062  0.47570592\n",
      " -0.17027082 -0.46333414 -0.64563096  0.8853337   0.47389644 -1.0956769\n",
      "  1.2084414  -0.3788113  -0.5113473   0.01447245 -1.4084406   0.44734055\n",
      "  0.09841925 -0.11189465  0.05858713 -0.657879    0.12009141 -0.3635716\n",
      " -0.7286521   0.16225326 -0.29684117 -0.25383246 -0.194478   -0.27551633\n",
      " -0.5912343   0.9944239  -0.6667072  -0.106457   -0.62373614 -0.5311342 ]\n",
      "'amazing' in vector form: [-0.18402103 -1.0615823   0.39228657  0.34151787  0.21978685  0.38845134\n",
      " -0.36072946 -1.4311249  -0.51890576  0.5613698  -0.07101741 -0.4166656\n",
      " -0.4078925  -0.9477235   0.56543183  1.8961017  -1.1339324  -0.63370454\n",
      " -0.46323824  0.17438711  1.7927394  -0.62543666  0.02518458  0.98123527\n",
      " -0.5447109  -0.5540329  -0.01147208 -1.288177    0.18489945  1.1800852\n",
      " -1.1944604  -0.8555783  -0.48886093  0.02271024 -0.41516712  0.71836853\n",
      " -0.5128296   0.29222283  1.3817966  -0.08230378 -0.2959966   0.19361101\n",
      "  0.03839308  0.60634106 -0.8004911  -0.9752876   1.6772367   0.8328051\n",
      "  0.7127137   1.2180096   0.08638819  0.00538433  0.0100722  -0.15392375\n",
      "  0.9564372   0.16381054  0.4995404   0.44950634  0.09125772 -0.6187991\n",
      " -0.04236758  0.29514667 -0.23209491  1.8714725   0.54833126 -0.75950736\n",
      " -0.23429692  0.3035785   0.09844145 -0.24422117 -0.15615061 -0.03131689\n",
      "  0.16918147 -1.4332069   0.5843289   0.13493657 -0.2614828   0.02790675\n",
      "  0.50849867  0.28702903 -0.97912633 -0.12119037  0.5606882  -0.21903005\n",
      "  0.1773362  -0.853214   -1.2690272  -0.62162703 -1.1319214  -0.8917231\n",
      " -0.8913151   0.50688535  1.7525897  -0.7407801   0.5669339  -0.79686314]\n"
     ]
    }
   ],
   "source": [
    "import spacy\n",
    "from scipy.spatial.distance import cosine\n",
    "\n",
    "# load model\n",
    "nlp = spacy.load('en_core_web_sm')\n",
    "\n",
    "# define vectors\n",
    "summer_vec = nlp(\"summer\").vector\n",
    "winter_vec = nlp(\"winter\").vector\n",
    "\n",
    "# compare similarity\n",
    "print(f\"The cosine distance between the word embeddings for 'summer' and 'winter' is: {cosine(summer_vec, winter_vec)}\\n\")\n",
    "\n",
    "# define vectors\n",
    "mustard_vec = nlp(\"mustard\").vector\n",
    "amazing_vec = nlp(\"amazing\").vector\n",
    "\n",
    "# compare similarity\n",
    "print(f\"The cosine distance between the word embeddings for 'mustard' and 'amazing' is: {cosine(mustard_vec, amazing_vec)}\\n\")\n",
    "\n",
    "# display word embeddings\n",
    "print(f\"'summer' in vector form: {summer_vec}\")\n",
    "# print(f\"'winter' in vector form: {winter_vec}\")\n",
    "print(f\"'mustard' in vector form: {mustard_vec}\")\n",
    "print(f\"'amazing' in vector form: {amazing_vec}\")"
   ]
  },
  {
   "cell_type": "markdown",
   "metadata": {},
   "source": [
    "#### Vectors"
   ]
  },
  {
   "cell_type": "code",
   "execution_count": 3,
   "metadata": {},
   "outputs": [
    {
     "data": {
      "image/png": "[encoded data removed]",
      "text/plain": [
       "<Figure size 432x288 with 1 Axes>"
      ]
     },
     "metadata": {
      "needs_background": "light"
     },
     "output_type": "display_data"
    }
   ],
   "source": [
    "import numpy as np\n",
    "import matplotlib.pyplot as plt\n",
    "\n",
    "# define score vectors\n",
    "scores_xavier = np.array([88, 92])\n",
    "scores_niko = np.array([94, 87])\n",
    "scores_alena = np.array([90, 48])\n",
    "\n",
    "\n",
    "# plot vectors\n",
    "try:\n",
    "  plt.arrow(0, 0, scores_xavier[0], scores_xavier[1], width=1, color='blue')\n",
    "except:\n",
    "  pass\n",
    "try:\n",
    "  plt.arrow(0, 0, scores_niko[0], scores_niko[1], width=1, color='orange')\n",
    "except:\n",
    "  pass\n",
    "try:\n",
    "  plt.arrow(0, 0, scores_alena[0], scores_alena[1], width=1, color='purple')\n",
    "except:\n",
    "  pass\n",
    "plt.axis([0, 100, 0, 100])\n",
    "plt.show()"
   ]
  },
  {
   "cell_type": "code",
   "execution_count": 4,
   "metadata": {},
   "outputs": [
    {
     "name": "stdout",
     "output_type": "stream",
     "text": [
      "[-0.6769121  -0.97193426  0.00337809  0.45171657 -0.80674124  1.0820041\n",
      " -0.8566955  -0.7951242  -0.9616926  -0.7448958  -0.45632464 -0.10709136\n",
      " -0.42367163 -1.5482599   0.21619794  1.0167575  -0.8909384  -0.74806327\n",
      " -0.21357062 -0.37492472  1.4700675   0.5762452   1.4799919   0.84903264\n",
      " -0.12860703 -0.25950247 -0.67024213 -1.1563398   0.21067615  0.02365585\n",
      " -0.6631465  -0.06168896 -1.1107571  -0.9861031   0.8187487   0.8379325\n",
      " -1.2532412  -0.48847508  0.68619305  0.34850115 -0.21862967  0.582604\n",
      " -0.5977849   0.80434775  0.58099395 -1.2734411   1.7216072   0.27962118\n",
      "  0.2851324   1.8645936   0.5897017  -0.30321437 -1.2534319  -0.27962542\n",
      " -0.3280759   0.5574931   0.5171343   0.83274233  0.31265622 -0.92069566\n",
      " -0.01317436  0.33436376 -0.11343636  1.1214446   1.1541426  -0.47245675\n",
      "  0.63153446 -0.66364384 -0.2317028  -0.55299926 -0.5027249   0.02434693\n",
      " -0.598518    0.19018905  1.6598508   0.32400295  0.04811083  0.18108338\n",
      "  1.0603981  -0.16930619 -1.2603637  -0.12806836  0.3401208   0.0482851\n",
      "  0.12915334  0.15891492 -1.323979   -0.6420028   1.0195487  -0.8408829\n",
      " -1.7175912   0.19496596  1.8514407  -0.99455225  0.44271278 -0.5487367 ]\n",
      "[ 0.11681247 -0.54754335  0.28716433 -0.18158588  0.14608379  0.8702149\n",
      " -0.5078635  -1.2305288  -0.8139635  -0.10878477 -0.1951049  -0.03901386\n",
      " -1.116366   -1.2411561   0.18706024  1.8623383  -0.9410552  -0.60902315\n",
      " -0.25096774 -0.08667594  1.740806   -0.68337464  0.18305713  0.6189777\n",
      "  0.09700787 -0.05557664 -0.6393305  -1.2481927  -0.750767    1.3070524\n",
      " -0.7184733  -0.02547303 -1.2475283  -0.8837661  -0.17329177  1.1837918\n",
      " -0.24075234 -0.2851162   1.2840004   0.14995544 -0.07124725  0.5030617\n",
      " -0.2069478   1.4589653  -0.11944845 -1.6171931   1.43682     0.5203558\n",
      "  0.9806249   0.54211533  0.33401185 -0.01410227 -0.9798633  -0.15630484\n",
      " -0.3329535   1.0823328   0.29471803  0.46374652  0.68174714 -0.44743568\n",
      "  0.38854718 -0.5466791  -0.11188646  1.1027268   0.5908994  -0.8953944\n",
      " -0.09386712 -0.39205915  0.4437037  -0.27629122  0.30979535 -0.49475032\n",
      " -0.7237363  -0.6967641   0.7165309   0.6759378  -0.26628363  0.3634821\n",
      "  0.9148065  -0.03561079 -1.1641136   0.1927073   0.73875594 -0.6106616\n",
      " -0.253743    1.3936222  -0.9688255  -0.3845187  -0.5115615  -1.0347984\n",
      " -1.2408563   0.18975993  2.1519916  -1.2240237   0.6278484  -1.0625566 ]\n",
      "[-0.7133554  -0.78102934  0.06540382 -0.23170784  0.41851684  1.2298241\n",
      " -1.2566072  -0.65416396 -0.53818434  0.05780965 -0.5683543  -0.27780956\n",
      " -0.35577124 -1.2589834   0.11648068  1.9255122  -0.30015373 -0.64998484\n",
      " -0.45516622 -0.22483586  2.0812364   0.58045816  0.32569495  0.6300962\n",
      " -0.737455   -0.53782403 -1.0353291  -1.6658552   0.00503653  2.3406913\n",
      " -0.25622064 -0.09490319 -0.953452   -1.2969816  -0.2316877   0.65183777\n",
      " -0.40528703 -0.14067784  0.63272643  0.00832351 -0.6139158   0.8843919\n",
      "  0.03165855  0.39373016 -0.2776335  -0.6501783   1.7245244   1.3535483\n",
      "  0.15440755  2.0188847   0.13985889 -0.19835539 -1.0974247  -0.5954479\n",
      "  0.5521966   0.13575241  0.9854942   0.8539581  -0.14055984 -0.8251851\n",
      " -0.00423393  0.32381326 -0.74083865  1.3513834   0.7833155  -1.3373451\n",
      " -0.1440742   0.03430974  0.22040594  0.09163524  0.3705748   0.55436146\n",
      " -0.7125115  -1.0500094   1.1736283   0.32797122 -0.6635647  -0.41382834\n",
      "  1.0799025  -0.02038376 -1.1914797  -0.20622046  1.2759806  -0.42803606\n",
      " -0.12556103  0.56090015 -1.0225775  -0.4150979  -0.56075    -1.2973201\n",
      " -2.0093803   0.6152436   2.5980434  -0.00740203  0.53654695 -0.5399583 ]\n",
      "96\n"
     ]
    }
   ],
   "source": [
    "import spacy\n",
    "\n",
    "# load word embedding model\n",
    "nlp = spacy.load('en_core_web_sm')\n",
    "\n",
    "# define word embedding vectors\n",
    "happy_vec = nlp('happy').vector\n",
    "sad_vec = nlp('sad').vector\n",
    "angry_vec = nlp('angry').vector\n",
    "\n",
    "print(happy_vec)\n",
    "print(sad_vec)\n",
    "print(angry_vec)\n",
    "\n",
    "\n",
    "\n",
    "\n",
    "# find vector length here\n",
    "vector_length = len(happy_vec)\n",
    "print(vector_length)"
   ]
  },
  {
   "cell_type": "code",
   "execution_count": null,
   "metadata": {},
   "outputs": [],
   "source": []
  },
  {
   "cell_type": "markdown",
   "metadata": {},
   "source": [
    "#### Distance"
   ]
  },
  {
   "cell_type": "code",
   "execution_count": 5,
   "metadata": {},
   "outputs": [],
   "source": [
    "from scipy.spatial.distance import cityblock, euclidean, cosine\n",
    "\n",
    "\n",
    "# load word embedding model\n",
    "nlp = spacy.load('en_core_web_sm')\n",
    "\n",
    "# define word embedding vectors\n",
    "happy_vec = nlp('happy').vector\n",
    "sad_vec = nlp('sad').vector\n",
    "angry_vec = nlp('angry').vector"
   ]
  },
  {
   "cell_type": "code",
   "execution_count": 6,
   "metadata": {},
   "outputs": [
    {
     "name": "stdout",
     "output_type": "stream",
     "text": [
      "40.68123\n",
      "40.16841\n"
     ]
    }
   ],
   "source": [
    "# calculate Manhattan distance\n",
    "man_happy_sad = cityblock(happy_vec, sad_vec)\n",
    "man_sad_angry = cityblock(sad_vec, angry_vec)\n",
    "print(man_happy_sad)\n",
    "print(man_sad_angry)"
   ]
  },
  {
   "cell_type": "code",
   "execution_count": 7,
   "metadata": {},
   "outputs": [
    {
     "name": "stdout",
     "output_type": "stream",
     "text": [
      "5.373395919799805\n",
      "5.2055864334106445\n"
     ]
    }
   ],
   "source": [
    "# calculate Euclidean distance\n",
    "euc_happy_sad = euclidean(happy_vec, sad_vec)\n",
    "euc_sad_angry = euclidean(sad_vec, angry_vec)\n",
    "print(euc_happy_sad)\n",
    "print(euc_sad_angry)"
   ]
  },
  {
   "cell_type": "code",
   "execution_count": 8,
   "metadata": {},
   "outputs": [
    {
     "name": "stdout",
     "output_type": "stream",
     "text": [
      "0.23584699630737305\n",
      "0.19618088006973267\n"
     ]
    }
   ],
   "source": [
    "# calculate cosine distance\n",
    "cos_happy_sad = cosine(happy_vec, sad_vec)\n",
    "cos_sad_angry = cosine(sad_vec, angry_vec)\n",
    "print(cos_happy_sad)\n",
    "print(cos_sad_angry)\n"
   ]
  },
  {
   "cell_type": "code",
   "execution_count": null,
   "metadata": {},
   "outputs": [],
   "source": []
  },
  {
   "cell_type": "code",
   "execution_count": null,
   "metadata": {},
   "outputs": [],
   "source": []
  },
  {
   "cell_type": "markdown",
   "metadata": {},
   "source": [
    "#### gensim"
   ]
  },
  {
   "cell_type": "code",
   "execution_count": 13,
   "metadata": {},
   "outputs": [
    {
     "name": "stdout",
     "output_type": "stream",
     "text": [
      "['tragedy', 'romeo', 'juliet', 'william', 'shakespeare', 'contents', 'prologue.', 'act', 'scene', 'i.', 'public', 'place.', 'scene', 'ii.', 'street.', 'scene', 'iii.', 'room', 'capulet’s', 'house.']\n",
      "[('romeo.', 0.9969708323478699), ('good', 0.9966548681259155), ('juliet.', 0.9965584874153137), ('thou', 0.9963880777359009), ('nurse.', 0.9962818622589111), ('shall', 0.9961342811584473), ('like', 0.9960909485816956), ('thy', 0.9959562420845032), ('love', 0.9958600997924805), ('benvolio.', 0.9958415031433105), ('would', 0.9958189129829407), ('mercutio.', 0.9957923889160156), ('make', 0.9957923293113708), ('romeo,', 0.9956952929496765), ('may', 0.9956520199775696), ('come', 0.9954913258552551), ('o,', 0.9954451322555542), ('’tis', 0.9952890872955322), ('tell', 0.9952310919761658), ('yet', 0.9951685667037964)]\n"
     ]
    },
    {
     "ename": "AttributeError",
     "evalue": "'Word2Vec' object has no attribute 'doesnt_match'",
     "output_type": "error",
     "traceback": [
      "\u001b[0;31m---------------------------------------------------------------------------\u001b[0m",
      "\u001b[0;31mAttributeError\u001b[0m                            Traceback (most recent call last)",
      "\u001b[0;32m<ipython-input-13-ba66208cc579>\u001b[0m in \u001b[0;36m<module>\u001b[0;34m\u001b[0m\n\u001b[1;32m     26\u001b[0m \u001b[0;34m\u001b[0m\u001b[0m\n\u001b[1;32m     27\u001b[0m \u001b[0;31m# one is not like the others\u001b[0m\u001b[0;34m\u001b[0m\u001b[0;34m\u001b[0m\u001b[0;34m\u001b[0m\u001b[0m\n\u001b[0;32m---> 28\u001b[0;31m \u001b[0mnot_star_crossed_lover\u001b[0m \u001b[0;34m=\u001b[0m \u001b[0mmodel\u001b[0m\u001b[0;34m.\u001b[0m\u001b[0mdoesnt_match\u001b[0m\u001b[0;34m(\u001b[0m\u001b[0;34m[\u001b[0m\u001b[0;34m'romeo'\u001b[0m\u001b[0;34m,\u001b[0m \u001b[0;34m'juliet'\u001b[0m\u001b[0;34m,\u001b[0m \u001b[0;34m'mercutio'\u001b[0m\u001b[0;34m]\u001b[0m\u001b[0;34m)\u001b[0m\u001b[0;34m\u001b[0m\u001b[0;34m\u001b[0m\u001b[0m\n\u001b[0m\u001b[1;32m     29\u001b[0m \u001b[0mprint\u001b[0m\u001b[0;34m(\u001b[0m\u001b[0mnot_star_crossed_lover\u001b[0m\u001b[0;34m)\u001b[0m\u001b[0;34m\u001b[0m\u001b[0;34m\u001b[0m\u001b[0m\n",
      "\u001b[0;31mAttributeError\u001b[0m: 'Word2Vec' object has no attribute 'doesnt_match'"
     ]
    }
   ],
   "source": [
    "import gensim\n",
    "from nltk.corpus import stopwords\n",
    "from romeo_juliet import romeo_and_juliet\n",
    "\n",
    "# load stop words\n",
    "stop_words = stopwords.words('english')\n",
    "\n",
    "# preprocess text\n",
    "romeo_and_juliet_processed = [[word for word in romeo_and_juliet.lower().split() if word not in stop_words]]\n",
    "\n",
    "# view inner list of romeo_and_juliet_processed\n",
    "print(romeo_and_juliet_processed[0][:20])\n",
    "\n",
    "# train word embeddings model\n",
    "model = gensim.models.Word2Vec(romeo_and_juliet_processed, vector_size = 100, window = 5, min_count = 1, workers = 2, sg = 1)\n",
    "\n",
    "# view vocabulary\n",
    "vocabulary = list(model.wv.index_to_key)\n",
    "\n",
    "\n",
    "\n",
    "# similar to romeo\n",
    "similar_to_romeo = model.wv.most_similar('romeo', topn = 20)\n",
    "print(similar_to_romeo)\n",
    "\n",
    "\n",
    "# one is not like the others\n",
    "not_star_crossed_lover = model.doesnt_match(['romeo', 'juliet', 'mercutio'])\n",
    "print(not_star_crossed_lover)"
   ]
  },
  {
   "cell_type": "code",
   "execution_count": null,
   "metadata": {},
   "outputs": [],
   "source": []
  }
 ],
 "metadata": {
  "kernelspec": {
   "display_name": "Python 3",
   "language": "python",
   "name": "python3"
  },
  "language_info": {
   "codemirror_mode": {
    "name": "ipython",
    "version": 3
   },
   "file_extension": ".py",
   "mimetype": "text/x-python",
   "name": "python",
   "nbconvert_exporter": "python",
   "pygments_lexer": "ipython3",
   "version": "3.8.5"
  }
 },
 "nbformat": 4,
 "nbformat_minor": 4
}
